{
 "cells": [
  {
   "cell_type": "code",
   "execution_count": null,
   "metadata": {
    "vscode": {
     "languageId": "r"
    }
   },
   "outputs": [],
   "source": [
    "if (!require(\"BiocManager\", quietly = TRUE))\n",
    "  install.packages(\"BiocManager\")\n",
    "BiocManager::install"
   ]
  },
  {
   "cell_type": "code",
   "execution_count": null,
   "metadata": {
    "vscode": {
     "languageId": "r"
    }
   },
   "outputs": [],
   "source": [
    "BiocManager::install(\"biomaRt\")\n",
    "library(biomaRt)"
   ]
  },
  {
   "cell_type": "code",
   "execution_count": null,
   "metadata": {
    "vscode": {
     "languageId": "r"
    }
   },
   "outputs": [],
   "source": [
    "library(BiocManager)\n",
    "BiocManager::install('GOstats')\n",
    "BiocManager::install(\"clusterProfiler\")\n",
    "BiocManager::install(\"org.Hs.eg.db\")\n",
    "BiocManager::install(\"enrichplot\")\n",
    "#BiocManager::install(\"Rtools\")"
   ]
  },
  {
   "cell_type": "code",
   "execution_count": 1,
   "metadata": {
    "vscode": {
     "languageId": "r"
    }
   },
   "outputs": [
    {
     "name": "stderr",
     "output_type": "stream",
     "text": [
      "Loading required package: AnnotationDbi\n",
      "\n",
      "Loading required package: stats4\n",
      "\n",
      "Loading required package: BiocGenerics\n",
      "\n",
      "\n",
      "Attaching package: 'BiocGenerics'\n",
      "\n",
      "\n",
      "The following objects are masked from 'package:stats':\n",
      "\n",
      "    IQR, mad, sd, var, xtabs\n",
      "\n",
      "\n",
      "The following objects are masked from 'package:base':\n",
      "\n",
      "    anyDuplicated, aperm, append, as.data.frame, basename, cbind,\n",
      "    colnames, dirname, do.call, duplicated, eval, evalq, Filter, Find,\n",
      "    get, grep, grepl, intersect, is.unsorted, lapply, Map, mapply,\n",
      "    match, mget, order, paste, pmax, pmax.int, pmin, pmin.int,\n",
      "    Position, rank, rbind, Reduce, rownames, sapply, setdiff, sort,\n",
      "    table, tapply, union, unique, unsplit, which.max, which.min\n",
      "\n",
      "\n",
      "Loading required package: Biobase\n",
      "\n",
      "Welcome to Bioconductor\n",
      "\n",
      "    Vignettes contain introductory material; view with\n",
      "    'browseVignettes()'. To cite Bioconductor, see\n",
      "    'citation(\"Biobase\")', and for packages 'citation(\"pkgname\")'.\n",
      "\n",
      "\n",
      "Loading required package: IRanges\n",
      "\n",
      "Loading required package: S4Vectors\n",
      "\n",
      "\n",
      "Attaching package: 'S4Vectors'\n",
      "\n",
      "\n",
      "The following object is masked from 'package:utils':\n",
      "\n",
      "    findMatches\n",
      "\n",
      "\n",
      "The following objects are masked from 'package:base':\n",
      "\n",
      "    expand.grid, I, unname\n",
      "\n",
      "\n",
      "\n",
      "Attaching package: 'IRanges'\n",
      "\n",
      "\n",
      "The following object is masked from 'package:grDevices':\n",
      "\n",
      "    windows\n",
      "\n",
      "\n",
      "\n",
      "\n",
      "Warning message:\n",
      "\"package 'clusterProfiler' was built under R version 4.3.3\"\n",
      "\n",
      "\n",
      "clusterProfiler v4.10.1  For help: https://yulab-smu.top/biomedical-knowledge-mining-book/\n",
      "\n",
      "If you use clusterProfiler in published research, please cite:\n",
      "T Wu, E Hu, S Xu, M Chen, P Guo, Z Dai, T Feng, L Zhou, W Tang, L Zhan, X Fu, S Liu, X Bo, and G Yu. clusterProfiler 4.0: A universal enrichment tool for interpreting omics data. The Innovation. 2021, 2(3):100141\n",
      "\n",
      "\n",
      "Attaching package: 'clusterProfiler'\n",
      "\n",
      "\n",
      "The following object is masked from 'package:AnnotationDbi':\n",
      "\n",
      "    select\n",
      "\n",
      "\n",
      "The following object is masked from 'package:IRanges':\n",
      "\n",
      "    slice\n",
      "\n",
      "\n",
      "The following object is masked from 'package:S4Vectors':\n",
      "\n",
      "    rename\n",
      "\n",
      "\n",
      "The following object is masked from 'package:biomaRt':\n",
      "\n",
      "    select\n",
      "\n",
      "\n",
      "The following object is masked from 'package:stats':\n",
      "\n",
      "    filter\n",
      "\n",
      "\n",
      "'select()' returned 1:1 mapping between keys and columns\n",
      "\n"
     ]
    },
    {
     "data": {
      "text/html": [
       "<style>\n",
       ".list-inline {list-style: none; margin:0; padding: 0}\n",
       ".list-inline>li {display: inline-block}\n",
       ".list-inline>li:not(:last-child)::after {content: \"\\00b7\"; padding: 0 .5ex}\n",
       "</style>\n",
       "<ol class=list-inline><li>'220'</li><li>'3576'</li><li>'1958'</li><li>'6559'</li></ol>\n"
      ],
      "text/latex": [
       "\\begin{enumerate*}\n",
       "\\item '220'\n",
       "\\item '3576'\n",
       "\\item '1958'\n",
       "\\item '6559'\n",
       "\\end{enumerate*}\n"
      ],
      "text/markdown": [
       "1. '220'\n",
       "2. '3576'\n",
       "3. '1958'\n",
       "4. '6559'\n",
       "\n",
       "\n"
      ],
      "text/plain": [
       "[1] \"220\"  \"3576\" \"1958\" \"6559\""
      ]
     },
     "metadata": {},
     "output_type": "display_data"
    }
   ],
   "source": [
    "library(biomaRt)\n",
    "library(org.Hs.eg.db)\n",
    "library(clusterProfiler)\n",
    "# Leer el archivo CSV\n",
    "data <- read.csv(\"deSeqRes_filtrado_Lactobacillus_acidophilus_KLDS1.0901.csv\")\n",
    "# Filtrar los genes significativos\n",
    "genes_significativos <- subset(data, padj < 0.05)\n",
    "# Extraer la lista de genes significativos\n",
    "lista_genes <- genes_significativos$gene_name\n",
    "# Verificar si los genes son números (posiblemente IDs de Entrez)\n",
    "if (all(grepl(\"^\\\\d+$\", lista_genes))) {\n",
    "    genes_ids <- lista_genes\n",
    "} else {\n",
    "    # Convertir los nombres de genes a IDs de Entrez si son símbolos\n",
    "    genes_ids <- bitr(lista_genes, fromType = \"SYMBOL\", toType = \"ENTREZID\", OrgDb = org.Hs.eg.db)$ENTREZID\n",
    "}\n",
    "genes_ids"
   ]
  },
  {
   "cell_type": "code",
   "execution_count": 2,
   "metadata": {
    "vscode": {
     "languageId": "r"
    }
   },
   "outputs": [],
   "source": [
    "\n",
    "# Convertir los IDs de Entrez a nombres de genes si son IDs de Entrez\n",
    "if (all(grepl(\"^\\\\d+$\", genes_ids))) {\n",
    "    # Crear una conexión a la base de datos de biomart\n",
    "    mart <- useMart(biomart = \"ensembl\", dataset = \"hsapiens_gene_ensembl\")\n",
    "    \n",
    "    # Obtener los nombres de los genes correspondientes a los IDs de Entrez\n",
    "    gene_info <- getBM(attributes = c(\"entrezgene_id\", \"external_gene_name\"), \n",
    "                       filters = \"entrezgene_id\", \n",
    "                       values = genes_ids, \n",
    "                       mart = mart)\n",
    "    \n",
    "    # Reemplazar los IDs de Entrez por los nombres de los genes convertidos\n",
    "    genes_names <- gene_info$external_gene_name\n",
    "}\n",
    "\n"
   ]
  },
  {
   "cell_type": "code",
   "execution_count": 3,
   "metadata": {
    "vscode": {
     "languageId": "r"
    }
   },
   "outputs": [
    {
     "data": {
      "text/html": [
       "<style>\n",
       ".list-inline {list-style: none; margin:0; padding: 0}\n",
       ".list-inline>li {display: inline-block}\n",
       ".list-inline>li:not(:last-child)::after {content: \"\\00b7\"; padding: 0 .5ex}\n",
       "</style>\n",
       "<ol class=list-inline><li>'EGR1'</li><li>'ALDH1A3'</li><li>'CXCL8'</li><li>'SLC12A3'</li></ol>\n"
      ],
      "text/latex": [
       "\\begin{enumerate*}\n",
       "\\item 'EGR1'\n",
       "\\item 'ALDH1A3'\n",
       "\\item 'CXCL8'\n",
       "\\item 'SLC12A3'\n",
       "\\end{enumerate*}\n"
      ],
      "text/markdown": [
       "1. 'EGR1'\n",
       "2. 'ALDH1A3'\n",
       "3. 'CXCL8'\n",
       "4. 'SLC12A3'\n",
       "\n",
       "\n"
      ],
      "text/plain": [
       "[1] \"EGR1\"    \"ALDH1A3\" \"CXCL8\"   \"SLC12A3\""
      ]
     },
     "metadata": {},
     "output_type": "display_data"
    }
   ],
   "source": [
    "genes_names"
   ]
  },
  {
   "cell_type": "code",
   "execution_count": 4,
   "metadata": {
    "vscode": {
     "languageId": "r"
    }
   },
   "outputs": [],
   "source": [
    "# Conectarse a la base de datos UniProt usando el conjunto de datos 'hsapiens_gene_ensembl'\n",
    "ensembl <- useMart(\"ensembl\", dataset = \"hsapiens_gene_ensembl\")"
   ]
  },
  {
   "cell_type": "code",
   "execution_count": 5,
   "metadata": {
    "vscode": {
     "languageId": "r"
    }
   },
   "outputs": [],
   "source": [
    "# Obtener la información de las proteínas correspondientes a los nombres de los genes\n",
    "info_proteinas <- getBM(attributes = c(\"ensembl_gene_id\", \"external_gene_name\", \"uniprotswissprot\", \"description\"),\n",
    "                        filters = \"external_gene_name\",\n",
    "                        values = genes_names,\n",
    "                        mart = mart)"
   ]
  },
  {
   "cell_type": "code",
   "execution_count": 6,
   "metadata": {
    "vscode": {
     "languageId": "r"
    }
   },
   "outputs": [
    {
     "data": {
      "text/html": [
       "<table class=\"dataframe\">\n",
       "<caption>A data.frame: 4 × 4</caption>\n",
       "<thead>\n",
       "\t<tr><th></th><th scope=col>ensembl_gene_id</th><th scope=col>external_gene_name</th><th scope=col>uniprotswissprot</th><th scope=col>description</th></tr>\n",
       "\t<tr><th></th><th scope=col>&lt;chr&gt;</th><th scope=col>&lt;chr&gt;</th><th scope=col>&lt;chr&gt;</th><th scope=col>&lt;chr&gt;</th></tr>\n",
       "</thead>\n",
       "<tbody>\n",
       "\t<tr><th scope=row>2</th><td>ENSG00000184254</td><td>ALDH1A3</td><td>P47895</td><td>aldehyde dehydrogenase 1 family member A3 [Source:HGNC Symbol;Acc:HGNC:409]</td></tr>\n",
       "\t<tr><th scope=row>3</th><td>ENSG00000070915</td><td>SLC12A3</td><td>P55017</td><td>solute carrier family 12 member 3 [Source:HGNC Symbol;Acc:HGNC:10912]      </td></tr>\n",
       "\t<tr><th scope=row>6</th><td>ENSG00000169429</td><td>CXCL8  </td><td>P10145</td><td>C-X-C motif chemokine ligand 8 [Source:HGNC Symbol;Acc:HGNC:6025]          </td></tr>\n",
       "\t<tr><th scope=row>7</th><td>ENSG00000120738</td><td>EGR1   </td><td>P18146</td><td>early growth response 1 [Source:HGNC Symbol;Acc:HGNC:3238]                 </td></tr>\n",
       "</tbody>\n",
       "</table>\n"
      ],
      "text/latex": [
       "A data.frame: 4 × 4\n",
       "\\begin{tabular}{r|llll}\n",
       "  & ensembl\\_gene\\_id & external\\_gene\\_name & uniprotswissprot & description\\\\\n",
       "  & <chr> & <chr> & <chr> & <chr>\\\\\n",
       "\\hline\n",
       "\t2 & ENSG00000184254 & ALDH1A3 & P47895 & aldehyde dehydrogenase 1 family member A3 {[}Source:HGNC Symbol;Acc:HGNC:409{]}\\\\\n",
       "\t3 & ENSG00000070915 & SLC12A3 & P55017 & solute carrier family 12 member 3 {[}Source:HGNC Symbol;Acc:HGNC:10912{]}      \\\\\n",
       "\t6 & ENSG00000169429 & CXCL8   & P10145 & C-X-C motif chemokine ligand 8 {[}Source:HGNC Symbol;Acc:HGNC:6025{]}          \\\\\n",
       "\t7 & ENSG00000120738 & EGR1    & P18146 & early growth response 1 {[}Source:HGNC Symbol;Acc:HGNC:3238{]}                 \\\\\n",
       "\\end{tabular}\n"
      ],
      "text/markdown": [
       "\n",
       "A data.frame: 4 × 4\n",
       "\n",
       "| <!--/--> | ensembl_gene_id &lt;chr&gt; | external_gene_name &lt;chr&gt; | uniprotswissprot &lt;chr&gt; | description &lt;chr&gt; |\n",
       "|---|---|---|---|---|\n",
       "| 2 | ENSG00000184254 | ALDH1A3 | P47895 | aldehyde dehydrogenase 1 family member A3 [Source:HGNC Symbol;Acc:HGNC:409] |\n",
       "| 3 | ENSG00000070915 | SLC12A3 | P55017 | solute carrier family 12 member 3 [Source:HGNC Symbol;Acc:HGNC:10912]       |\n",
       "| 6 | ENSG00000169429 | CXCL8   | P10145 | C-X-C motif chemokine ligand 8 [Source:HGNC Symbol;Acc:HGNC:6025]           |\n",
       "| 7 | ENSG00000120738 | EGR1    | P18146 | early growth response 1 [Source:HGNC Symbol;Acc:HGNC:3238]                  |\n",
       "\n"
      ],
      "text/plain": [
       "  ensembl_gene_id external_gene_name uniprotswissprot\n",
       "2 ENSG00000184254 ALDH1A3            P47895          \n",
       "3 ENSG00000070915 SLC12A3            P55017          \n",
       "6 ENSG00000169429 CXCL8              P10145          \n",
       "7 ENSG00000120738 EGR1               P18146          \n",
       "  description                                                                \n",
       "2 aldehyde dehydrogenase 1 family member A3 [Source:HGNC Symbol;Acc:HGNC:409]\n",
       "3 solute carrier family 12 member 3 [Source:HGNC Symbol;Acc:HGNC:10912]      \n",
       "6 C-X-C motif chemokine ligand 8 [Source:HGNC Symbol;Acc:HGNC:6025]          \n",
       "7 early growth response 1 [Source:HGNC Symbol;Acc:HGNC:3238]                 "
      ]
     },
     "metadata": {},
     "output_type": "display_data"
    }
   ],
   "source": [
    "# Filtrar para obtener solo los genes que codifican proteínas\n",
    "genes_codifican_proteinas <- info_proteinas[info_proteinas$uniprotswissprot != \"\", ]\n",
    "\n",
    "# Mostrar los resultados\n",
    "genes_codifican_proteinas"
   ]
  },
  {
   "cell_type": "code",
   "execution_count": 7,
   "metadata": {
    "vscode": {
     "languageId": "r"
    }
   },
   "outputs": [
    {
     "name": "stdout",
     "output_type": "stream",
     "text": [
      "Genes encontrados:\n"
     ]
    },
    {
     "name": "stdout",
     "output_type": "stream",
     "text": [
      "[1] \"EGR1\"    \"ALDH1A3\" \"CXCL8\"   \"SLC12A3\"\n",
      "Genes no encontrados:\n",
      "character(0)\n"
     ]
    }
   ],
   "source": [
    "# Lista de genes que codifican proteínas\n",
    "genes_codifican_proteinas <- unique(genes_codifican_proteinas$external_gene_name)\n",
    "\n",
    "# Verificar la presencia de cada gen en genes_codifican_proteinas\n",
    "genes_presentes <- genes_names %in% genes_codifican_proteinas\n",
    "\n",
    "# Mostrar los genes que están en genes_codifican_proteinas\n",
    "genes_encontrados <- genes_names[genes_presentes]\n",
    "cat(\"Genes encontrados:\\n\")\n",
    "print(genes_encontrados)\n",
    "\n",
    "# Mostrar los genes que no están en genes_codifican_proteinas\n",
    "genes_no_encontrados <- genes_names[!genes_presentes]\n",
    "cat(\"Genes no encontrados:\\n\")\n",
    "print(genes_no_encontrados)"
   ]
  },
  {
   "cell_type": "code",
   "execution_count": 8,
   "metadata": {
    "vscode": {
     "languageId": "r"
    }
   },
   "outputs": [
    {
     "name": "stdout",
     "output_type": "stream",
     "text": [
      "Nombres de las proteínas correspondientes a los genes encontrados:\n",
      "[1] \"P47895\" \"P55017\" \"P10145\" \"P18146\"\n"
     ]
    }
   ],
   "source": [
    "# Obtener los nombres de las proteínas correspondientes a los genes encontrados\n",
    "proteinas <- getBM(\n",
    "  attributes = c(\"external_gene_name\", \"uniprotswissprot\"),\n",
    "  filters = \"external_gene_name\",\n",
    "  values = genes_encontrados,\n",
    "  mart = ensembl\n",
    ")\n",
    "\n",
    "# Filtrar las filas donde el campo uniprotswissprot no esté vacío\n",
    "proteinas_filtradas <- proteinas[proteinas$uniprotswissprot != \"\", ]\n",
    "\n",
    "# Mostrar los nombres de las proteínas\n",
    "cat(\"Nombres de las proteínas correspondientes a los genes encontrados:\\n\")\n",
    "print(proteinas_filtradas$uniprotswissprot)"
   ]
  },
  {
   "cell_type": "code",
   "execution_count": 19,
   "metadata": {
    "vscode": {
     "languageId": "r"
    }
   },
   "outputs": [
    {
     "data": {
      "text/html": [
       "<style>\n",
       ".list-inline {list-style: none; margin:0; padding: 0}\n",
       ".list-inline>li {display: inline-block}\n",
       ".list-inline>li:not(:last-child)::after {content: \"\\00b7\"; padding: 0 .5ex}\n",
       "</style>\n",
       "<ol class=list-inline><li>'P47895'</li><li>'P55017'</li><li>'P10145'</li><li>'P18146'</li></ol>\n"
      ],
      "text/latex": [
       "\\begin{enumerate*}\n",
       "\\item 'P47895'\n",
       "\\item 'P55017'\n",
       "\\item 'P10145'\n",
       "\\item 'P18146'\n",
       "\\end{enumerate*}\n"
      ],
      "text/markdown": [
       "1. 'P47895'\n",
       "2. 'P55017'\n",
       "3. 'P10145'\n",
       "4. 'P18146'\n",
       "\n",
       "\n"
      ],
      "text/plain": [
       "[1] \"P47895\" \"P55017\" \"P10145\" \"P18146\""
      ]
     },
     "metadata": {},
     "output_type": "display_data"
    }
   ],
   "source": [
    "# Filtrar las filas donde el campo uniprotswissprot no esté vacío\n",
    "proteinas_filtradas <- proteinas[proteinas$uniprotswissprot != \"\", ]\n",
    "\n",
    "# Obtener solo la columna de nombres de proteínas\n",
    "lista_proteinas <- proteinas_filtradas$uniprotswissprot\n",
    "\n",
    "\n",
    "# Guardar la lista de proteínas en una variable\n",
    "lista_proteinas"
   ]
  },
  {
   "cell_type": "code",
   "execution_count": 16,
   "metadata": {
    "vscode": {
     "languageId": "r"
    }
   },
   "outputs": [],
   "source": [
    "# Asegúrate de que lista_proteinas sea un vector\n",
    "lista_proteinas_2 <- as.character(lista_proteinas)\n",
    "\n",
    "# Guardar la lista de proteínas en un archivo CSV sin la columna X y sin comillas\n",
    "writeLines(lista_proteinas_2, \"lista_proteinas_Lactobacillus_acidophilus_KLDS1.0901.csv\")"
   ]
  },
  {
   "cell_type": "code",
   "execution_count": 17,
   "metadata": {
    "vscode": {
     "languageId": "r"
    }
   },
   "outputs": [],
   "source": [
    "# Cargar el archivo CSV de nuevo en R\n",
    "lista_proteinas_cargado <- read.csv(\"lista_proteinas_Lactobacillus_acidophilus_KLDS1.0901.csv\", header = FALSE)\n",
    "\n",
    "# Renombrar la columna si es necesario\n",
    "colnames(lista_proteinas_cargado) <- \"uniprotswissprot\""
   ]
  },
  {
   "cell_type": "code",
   "execution_count": 18,
   "metadata": {
    "vscode": {
     "languageId": "r"
    }
   },
   "outputs": [
    {
     "data": {
      "text/html": [
       "<table class=\"dataframe\">\n",
       "<caption>A data.frame: 4 × 1</caption>\n",
       "<thead>\n",
       "\t<tr><th scope=col>uniprotswissprot</th></tr>\n",
       "\t<tr><th scope=col>&lt;chr&gt;</th></tr>\n",
       "</thead>\n",
       "<tbody>\n",
       "\t<tr><td>P47895</td></tr>\n",
       "\t<tr><td>P55017</td></tr>\n",
       "\t<tr><td>P10145</td></tr>\n",
       "\t<tr><td>P18146</td></tr>\n",
       "</tbody>\n",
       "</table>\n"
      ],
      "text/latex": [
       "A data.frame: 4 × 1\n",
       "\\begin{tabular}{l}\n",
       " uniprotswissprot\\\\\n",
       " <chr>\\\\\n",
       "\\hline\n",
       "\t P47895\\\\\n",
       "\t P55017\\\\\n",
       "\t P10145\\\\\n",
       "\t P18146\\\\\n",
       "\\end{tabular}\n"
      ],
      "text/markdown": [
       "\n",
       "A data.frame: 4 × 1\n",
       "\n",
       "| uniprotswissprot &lt;chr&gt; |\n",
       "|---|\n",
       "| P47895 |\n",
       "| P55017 |\n",
       "| P10145 |\n",
       "| P18146 |\n",
       "\n"
      ],
      "text/plain": [
       "  uniprotswissprot\n",
       "1 P47895          \n",
       "2 P55017          \n",
       "3 P10145          \n",
       "4 P18146          "
      ]
     },
     "metadata": {},
     "output_type": "display_data"
    }
   ],
   "source": [
    "lista_proteinas_cargado"
   ]
  }
 ],
 "metadata": {
  "kernelspec": {
   "display_name": "R",
   "language": "R",
   "name": "ir"
  },
  "language_info": {
   "codemirror_mode": "r",
   "file_extension": ".r",
   "mimetype": "text/x-r-source",
   "name": "R",
   "pygments_lexer": "r",
   "version": "4.3.2"
  }
 },
 "nbformat": 4,
 "nbformat_minor": 2
}

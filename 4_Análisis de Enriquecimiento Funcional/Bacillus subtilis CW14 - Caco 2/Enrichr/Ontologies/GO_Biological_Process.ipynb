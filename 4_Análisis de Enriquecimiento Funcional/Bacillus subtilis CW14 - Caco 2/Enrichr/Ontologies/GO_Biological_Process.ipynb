{
 "cells": [
  {
   "cell_type": "code",
   "execution_count": 1,
   "metadata": {},
   "outputs": [
    {
     "name": "stdout",
     "output_type": "stream",
     "text": [
      "     Genes                                               Term  \\\n",
      "7     CCL4  Inflammatory Response (GO:0006954), Cytokine-M...   \n",
      "12    CSF2  Cytokine-Mediated Signaling Pathway (GO:001922...   \n",
      "13    CSF3  Cytokine-Mediated Signaling Pathway (GO:001922...   \n",
      "21   CXCL8  Inflammatory Response (GO:0006954), Cytokine-M...   \n",
      "16  CXCL10  Inflammatory Response (GO:0006954), Cytokine-M...   \n",
      "\n",
      "                                     Adjusted P-value  Log2FoldChange  \\\n",
      "7   1.4828593548150188e-14, 3.3637027029829514e-14...        5.236074   \n",
      "12  3.3637027029829514e-14, 1.166229904623436e-07,...        5.025177   \n",
      "13  3.3637027029829514e-14, 1.970694749704463e-06,...        4.950078   \n",
      "21  1.4828593548150188e-14, 3.3637027029829514e-14...        4.646226   \n",
      "16  1.4828593548150188e-14, 3.3637027029829514e-14...        4.340264   \n",
      "\n",
      "    FoldChange   Regulation  \n",
      "7    37.689059  UpRegulated  \n",
      "12   32.563351  UpRegulated  \n",
      "13   30.911623  UpRegulated  \n",
      "21   25.041102  UpRegulated  \n",
      "16   20.255812  UpRegulated  \n"
     ]
    }
   ],
   "source": [
    "import pandas as pd\n",
    "\n",
    "# Cargar el archivo CSV con los datos filtrados y con Fold Change\n",
    "file_path_fc = 'deSeqRes_filtrado_bacillus_subtilis_CW14_with_FC.csv'\n",
    "data_with_fc = pd.read_csv(file_path_fc)\n",
    "\n",
    "# Renombrar las columnas\n",
    "data_with_fc = data_with_fc.rename(columns={\n",
    "    'GeneSymbol': 'Genes',\n",
    "    'DirectionalFoldChange': 'FoldChange'\n",
    "})\n",
    "\n",
    "# Crear una nueva columna 'Regulation' basada en el signo de 'FoldChange'\n",
    "data_with_fc['Regulation'] = data_with_fc['FoldChange'].apply(lambda x: 'UpRegulated' if x > 0 else 'DownRegulated')\n",
    "\n",
    "# Tomar el valor absoluto de 'FoldChange'\n",
    "data_with_fc['FoldChange'] = data_with_fc['FoldChange'].abs()\n",
    "\n",
    "# Cargar el archivo CSV con los términos GO\n",
    "file_path_go = r'C:/Users/3060/OneDrive/Documentos/Tesis de Grado/Protocolo/4_Análisis de Enriquecimiento Funcional/Bacillus subtilis CW14 - Caco 2/Enrichr/Ontologies/GO_Biological_Process_2023_table.txt'\n",
    "df = pd.read_csv(file_path_go, sep='\\t')\n",
    "\n",
    "# Eliminar las columnas especificadas\n",
    "columns_to_drop = [\"Overlap\", \"P-value\", \"Old P-value\", \"Old Adjusted P-value\", \"Odds Ratio\", \"Combined Score\"]\n",
    "df = df.drop(columns=columns_to_drop)\n",
    "\n",
    "# Filtrar los registros con \"Adjusted P-value\" <= 0.05\n",
    "df_filtered = df[df[\"Adjusted P-value\"] <= 0.05]\n",
    "\n",
    "# Expandir la columna \"Genes\" para que cada gen tenga su propia fila\n",
    "df_expanded = df_filtered.assign(Genes=df_filtered['Genes'].str.split(';')).explode('Genes')\n",
    "\n",
    "# Agrupar los términos asociados a cada gen en una lista\n",
    "df_grouped = df_expanded.groupby('Genes').agg({\n",
    "    'Term': lambda x: list(x),\n",
    "    'Adjusted P-value': lambda x: list(x)  # Mantener todos los valores de \"Adjusted P-value\" para cada gen\n",
    "}).reset_index()\n",
    "\n",
    "# Combinar df_grouped con data_with_fc\n",
    "df_combined = pd.merge(df_grouped, data_with_fc, on='Genes', how='left')\n",
    "\n",
    "# Ordenar los registros por el valor de \"FoldChange\" del más alto al más bajo\n",
    "df_combined_sorted = df_combined.sort_values(by='FoldChange', ascending=False)\n",
    "\n",
    "# Convertir las columnas 'Term' y 'Adjusted P-value' a strings con los elementos de la lista separados por comas\n",
    "df_combined_sorted['Term'] = df_combined_sorted['Term'].apply(lambda x: ', '.join(x))\n",
    "df_combined_sorted['Adjusted P-value'] = df_combined_sorted['Adjusted P-value'].apply(lambda x: ', '.join(map(str, x)))\n",
    "\n",
    "# Mostrar las primeras filas del dataframe combinado y ordenado\n",
    "print(df_combined_sorted.head())\n",
    "\n",
    "# Guardar el DataFrame combinado y ordenado en un nuevo archivo CSV\n",
    "df_combined_sorted.to_csv('deSeqRes_combined_with_GO_Biological_Process_terms_sorted.csv', index=False)\n",
    "\n",
    "# Guardar el DataFrame combinado y ordenado en un archivo Excel\n",
    "df_combined_sorted.to_excel('deSeqRes_combined_with_GO_Biological_Process_terms_sorted.xlsx', index=False)"
   ]
  }
 ],
 "metadata": {
  "kernelspec": {
   "display_name": "Tesis_de_grado_Maestria",
   "language": "python",
   "name": "python3"
  },
  "language_info": {
   "codemirror_mode": {
    "name": "ipython",
    "version": 3
   },
   "file_extension": ".py",
   "mimetype": "text/x-python",
   "name": "python",
   "nbconvert_exporter": "python",
   "pygments_lexer": "ipython3",
   "version": "3.10.13"
  }
 },
 "nbformat": 4,
 "nbformat_minor": 2
}

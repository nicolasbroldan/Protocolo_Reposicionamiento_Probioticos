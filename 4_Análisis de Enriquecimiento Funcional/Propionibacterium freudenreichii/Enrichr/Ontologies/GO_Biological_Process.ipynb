{
 "cells": [
  {
   "cell_type": "code",
   "execution_count": 3,
   "metadata": {},
   "outputs": [
    {
     "name": "stdout",
     "output_type": "stream",
     "text": [
      "     Genes                                               Term  \\\n",
      "10  CDKN1A  Regulation Of Cyclin-Dependent Protein Kinase ...   \n",
      "12  CDKN2B  Regulation Of Cyclin-Dependent Protein Kinase ...   \n",
      "1    BRSK2  Mitotic Cell Cycle Phase Transition (GO:004477...   \n",
      "11  CDKN1C  Regulation Of Cyclin-Dependent Protein Kinase ...   \n",
      "15     NES  Mitotic Cell Cycle Phase Transition (GO:004477...   \n",
      "\n",
      "                                     Adjusted P-value  Log2FoldChange  \\\n",
      "10  0.0001516703557587678, 0.0035377614195434, 0.0...        4.205535   \n",
      "12  0.0001516703557587678, 0.0035377614195434, 0.0...        2.841668   \n",
      "1              0.0360141282060231, 0.0496462183350143        2.637889   \n",
      "11          0.0001516703557587678, 0.0235614479185477        2.437113   \n",
      "15             0.0360141282060231, 0.0496462183350143        2.020522   \n",
      "\n",
      "    FoldChange   Regulation  \n",
      "10   18.449818  UpRegulated  \n",
      "12    7.168482  UpRegulated  \n",
      "1     6.224201  UpRegulated  \n",
      "11    5.415570  UpRegulated  \n",
      "15    4.057305  UpRegulated  \n"
     ]
    }
   ],
   "source": [
    "import pandas as pd\n",
    "\n",
    "# Cargar el archivo CSV con los datos filtrados y con Fold Change\n",
    "file_path_fc = 'deSeqRes_filtrado_Propionibacterium freudenreichii_with_FC.csv'\n",
    "data_with_fc = pd.read_csv(file_path_fc)\n",
    "\n",
    "# Renombrar las columnas\n",
    "data_with_fc = data_with_fc.rename(columns={\n",
    "    'GeneSymbol': 'Genes',\n",
    "    'DirectionalFoldChange': 'FoldChange'\n",
    "})\n",
    "\n",
    "# Crear una nueva columna 'Regulation' basada en el signo de 'FoldChange'\n",
    "data_with_fc['Regulation'] = data_with_fc['FoldChange'].apply(lambda x: 'UpRegulated' if x > 0 else 'DownRegulated')\n",
    "\n",
    "# Tomar el valor absoluto de 'FoldChange'\n",
    "data_with_fc['FoldChange'] = data_with_fc['FoldChange'].abs()\n",
    "\n",
    "# Cargar el archivo CSV con los términos GO\n",
    "file_path_go = r'C:\\\\Users\\\\3060\\\\OneDrive\\\\Documentos\\\\Tesis de Grado\\\\Protocolo\\\\4_Análisis de Enriquecimiento Funcional\\\\Propionibacterium freudenreichii\\\\Enrichr\\\\Ontologies\\\\GO_Biological_Process_2023_table.txt'\n",
    "df = pd.read_csv(file_path_go, sep='\\t')\n",
    "\n",
    "# Eliminar las columnas especificadas\n",
    "columns_to_drop = [\"Overlap\", \"P-value\", \"Old P-value\", \"Old Adjusted P-value\", \"Odds Ratio\", \"Combined Score\"]\n",
    "df = df.drop(columns=columns_to_drop)\n",
    "\n",
    "# Filtrar los registros con \"Adjusted P-value\" <= 0.05\n",
    "df_filtered = df[df[\"Adjusted P-value\"] <= 0.05]\n",
    "\n",
    "# Expandir la columna \"Genes\" para que cada gen tenga su propia fila\n",
    "df_expanded = df_filtered.assign(Genes=df_filtered['Genes'].str.split(';')).explode('Genes')\n",
    "\n",
    "# Agrupar los términos asociados a cada gen en una lista\n",
    "df_grouped = df_expanded.groupby('Genes').agg({\n",
    "    'Term': lambda x: list(x),\n",
    "    'Adjusted P-value': lambda x: list(x)  # Mantener todos los valores de \"Adjusted P-value\" para cada gen\n",
    "}).reset_index()\n",
    "\n",
    "# Combinar df_grouped con data_with_fc\n",
    "df_combined = pd.merge(df_grouped, data_with_fc, on='Genes', how='left')\n",
    "\n",
    "# Ordenar los registros por el valor de \"FoldChange\" del más alto al más bajo\n",
    "df_combined_sorted = df_combined.sort_values(by='FoldChange', ascending=False)\n",
    "\n",
    "# Convertir las columnas 'Term' y 'Adjusted P-value' a strings con los elementos de la lista separados por comas\n",
    "df_combined_sorted['Term'] = df_combined_sorted['Term'].apply(lambda x: ', '.join(x))\n",
    "df_combined_sorted['Adjusted P-value'] = df_combined_sorted['Adjusted P-value'].apply(lambda x: ', '.join(map(str, x)))\n",
    "\n",
    "# Mostrar las primeras filas del dataframe combinado y ordenado\n",
    "print(df_combined_sorted.head())\n",
    "\n",
    "# Guardar el DataFrame combinado y ordenado en un nuevo archivo CSV\n",
    "df_combined_sorted.to_csv('deSeqRes_combined_with_GO_Biological_Process_terms_sorted.csv', index=False)\n",
    "\n",
    "# Guardar el DataFrame combinado y ordenado en un archivo Excel\n",
    "df_combined_sorted.to_excel('deSeqRes_combined_with_GO_Biological_Process_terms_sorted.xlsx', index=False)"
   ]
  }
 ],
 "metadata": {
  "kernelspec": {
   "display_name": "Tesis_de_grado_Maestria",
   "language": "python",
   "name": "python3"
  },
  "language_info": {
   "codemirror_mode": {
    "name": "ipython",
    "version": 3
   },
   "file_extension": ".py",
   "mimetype": "text/x-python",
   "name": "python",
   "nbconvert_exporter": "python",
   "pygments_lexer": "ipython3",
   "version": "3.10.13"
  }
 },
 "nbformat": 4,
 "nbformat_minor": 2
}

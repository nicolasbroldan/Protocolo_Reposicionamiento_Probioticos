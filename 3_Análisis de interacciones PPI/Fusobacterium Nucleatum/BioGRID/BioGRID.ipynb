{
 "cells": [
  {
   "cell_type": "code",
   "execution_count": 3,
   "metadata": {
    "vscode": {
     "languageId": "r"
    }
   },
   "outputs": [
    {
     "data": {
      "text/html": [
       "<style>\n",
       ".list-inline {list-style: none; margin:0; padding: 0}\n",
       ".list-inline>li {display: inline-block}\n",
       ".list-inline>li:not(:last-child)::after {content: \"\\00b7\"; padding: 0 .5ex}\n",
       "</style>\n",
       "<ol class=list-inline><li>3398</li><li>1490</li><li>23193</li><li>140766</li><li>4092</li><li>5099</li><li>7057</li><li>84836</li><li>389136</li><li>4804</li><li>5142</li><li>399959</li><li>9498</li><li>57613</li><li>8848</li><li>4929</li><li>51421</li><li>221</li><li>3860</li><li>7171</li><li>9957</li><li>22927</li><li>760</li><li>131583</li><li>100287569</li><li>631</li><li>56993</li><li>63967</li><li>55789</li><li>57552</li><li>79991</li><li>10769</li><li>22836</li><li>157570</li><li>730755</li><li>105375503</li><li>27113</li><li>374946</li><li>106635533</li><li>126731</li><li>4277</li><li>51384</li><li>9221</li><li>114794</li><li>27074</li><li>219790</li><li>80854</li><li>2736</li><li>6623</li><li>25984</li><li>840</li><li>26472</li><li>7077</li><li>285362</li><li>286467</li><li>6272</li><li>221710</li><li>9965</li><li>4254</li><li>100532742</li><li>57402</li><li>79801</li><li>649446</li><li>4199</li><li>3909</li><li>3783</li><li>6653</li><li>80315</li><li>117854</li><li>5155</li><li>3977</li><li>28962</li><li>3014</li><li>50515</li><li>51200</li><li>1244</li><li>4603</li><li>57405</li><li>3673</li><li>4493</li><li>595</li><li>84263</li><li>51703</li><li>57761</li><li>84632</li><li>26298</li><li>170261</li><li>113622</li><li>8544</li><li>100008588</li><li>55245</li><li>8507</li><li>5414</li><li>55796</li><li>22979</li><li>4758</li><li>91947</li><li>23568</li><li>90317</li><li>8751</li><li>8506</li><li>6674</li><li>11098</li><li>770</li><li>283554</li><li>7023</li><li>100128338</li><li>135398</li><li>2272</li><li>10553</li><li>221662</li><li>5087</li><li>5027</li><li>10855</li><li>5243</li><li>100288866</li><li>9183</li><li>109864273</li><li>107986178</li><li>90427</li><li>106631781</li><li>1062</li><li>11339</li><li>100507053</li><li>105369634</li><li>6817</li><li>7483</li><li>8534</li><li>6498</li><li>11054</li><li>105372860</li><li>105371441</li><li>105370503</li><li>116931</li><li>9628</li><li>10389</li><li>51083</li><li>105371692</li><li>10788</li><li>81575</li><li>57476</li><li>2022</li><li>9582</li><li>80022</li><li>144455</li><li>222171</li><li>84878</li><li>51702</li><li>728279</li><li>8850</li><li>101928034</li><li>10882</li><li>1591</li><li>55879</li><li>11151</li><li>5698</li><li>102723566</li><li>100272228</li><li>26047</li><li>83786</li><li>2861</li><li>9120</li><li>105372862</li><li>55214</li><li>102724009</li><li>57088</li><li>10580</li><li>80139</li><li>100233156</li><li>1290</li><li>8631</li><li>58480</li><li>105373424</li><li>1303</li><li>374393</li><li>100505385</li><li>29970</li><li>4558</li><li>59</li><li>414149</li><li>4091</li><li>7857</li><li>3382</li><li>735301</li><li>11013</li><li>23401</li><li>5002</li><li>4567</li><li>115111</li><li>79413</li><li>84223</li><li>10333</li><li>109910380</li><li>26018</li><li>1509</li><li>127343</li><li>4900</li><li>8204</li><li>10472</li><li>401320</li><li>4577</li><li>10457</li><li>161176</li><li>100507217</li><li>92249</li><li>54494</li><li>933</li><li>109864280</li><li>7052</li><li>196996</li><li>150967</li><li>6591</li><li>85294</li><li>100874530</li><li>105373886</li><li>79922</li><li>58985</li><li>15</li><li>8321</li><li>55170</li><li>643401</li><li>8744</li><li>3670</li><li>57121</li><li>11178</li><li>100996579</li><li>101928483</li><li>204010</li><li>83988</li><li>84541</li><li>407975</li><li>90024</li><li>107984500</li><li>55061</li><li>10736</li><li>56971</li><li>139818</li><li>400499</li><li>145173</li><li>147645</li><li>84964</li><li>144132</li><li>2872</li><li>105372578</li><li>253264</li><li>108570035</li><li>119395</li><li>8529</li><li>2838</li><li>105373888</li><li>3373</li><li>203259</li><li>400224</li><li>23179</li><li>80312</li><li>170689</li><li>66008</li></ol>\n"
      ],
      "text/latex": [
       "\\begin{enumerate*}\n",
       "\\item 3398\n",
       "\\item 1490\n",
       "\\item 23193\n",
       "\\item 140766\n",
       "\\item 4092\n",
       "\\item 5099\n",
       "\\item 7057\n",
       "\\item 84836\n",
       "\\item 389136\n",
       "\\item 4804\n",
       "\\item 5142\n",
       "\\item 399959\n",
       "\\item 9498\n",
       "\\item 57613\n",
       "\\item 8848\n",
       "\\item 4929\n",
       "\\item 51421\n",
       "\\item 221\n",
       "\\item 3860\n",
       "\\item 7171\n",
       "\\item 9957\n",
       "\\item 22927\n",
       "\\item 760\n",
       "\\item 131583\n",
       "\\item 100287569\n",
       "\\item 631\n",
       "\\item 56993\n",
       "\\item 63967\n",
       "\\item 55789\n",
       "\\item 57552\n",
       "\\item 79991\n",
       "\\item 10769\n",
       "\\item 22836\n",
       "\\item 157570\n",
       "\\item 730755\n",
       "\\item 105375503\n",
       "\\item 27113\n",
       "\\item 374946\n",
       "\\item 106635533\n",
       "\\item 126731\n",
       "\\item 4277\n",
       "\\item 51384\n",
       "\\item 9221\n",
       "\\item 114794\n",
       "\\item 27074\n",
       "\\item 219790\n",
       "\\item 80854\n",
       "\\item 2736\n",
       "\\item 6623\n",
       "\\item 25984\n",
       "\\item 840\n",
       "\\item 26472\n",
       "\\item 7077\n",
       "\\item 285362\n",
       "\\item 286467\n",
       "\\item 6272\n",
       "\\item 221710\n",
       "\\item 9965\n",
       "\\item 4254\n",
       "\\item 100532742\n",
       "\\item 57402\n",
       "\\item 79801\n",
       "\\item 649446\n",
       "\\item 4199\n",
       "\\item 3909\n",
       "\\item 3783\n",
       "\\item 6653\n",
       "\\item 80315\n",
       "\\item 117854\n",
       "\\item 5155\n",
       "\\item 3977\n",
       "\\item 28962\n",
       "\\item 3014\n",
       "\\item 50515\n",
       "\\item 51200\n",
       "\\item 1244\n",
       "\\item 4603\n",
       "\\item 57405\n",
       "\\item 3673\n",
       "\\item 4493\n",
       "\\item 595\n",
       "\\item 84263\n",
       "\\item 51703\n",
       "\\item 57761\n",
       "\\item 84632\n",
       "\\item 26298\n",
       "\\item 170261\n",
       "\\item 113622\n",
       "\\item 8544\n",
       "\\item 100008588\n",
       "\\item 55245\n",
       "\\item 8507\n",
       "\\item 5414\n",
       "\\item 55796\n",
       "\\item 22979\n",
       "\\item 4758\n",
       "\\item 91947\n",
       "\\item 23568\n",
       "\\item 90317\n",
       "\\item 8751\n",
       "\\item 8506\n",
       "\\item 6674\n",
       "\\item 11098\n",
       "\\item 770\n",
       "\\item 283554\n",
       "\\item 7023\n",
       "\\item 100128338\n",
       "\\item 135398\n",
       "\\item 2272\n",
       "\\item 10553\n",
       "\\item 221662\n",
       "\\item 5087\n",
       "\\item 5027\n",
       "\\item 10855\n",
       "\\item 5243\n",
       "\\item 100288866\n",
       "\\item 9183\n",
       "\\item 109864273\n",
       "\\item 107986178\n",
       "\\item 90427\n",
       "\\item 106631781\n",
       "\\item 1062\n",
       "\\item 11339\n",
       "\\item 100507053\n",
       "\\item 105369634\n",
       "\\item 6817\n",
       "\\item 7483\n",
       "\\item 8534\n",
       "\\item 6498\n",
       "\\item 11054\n",
       "\\item 105372860\n",
       "\\item 105371441\n",
       "\\item 105370503\n",
       "\\item 116931\n",
       "\\item 9628\n",
       "\\item 10389\n",
       "\\item 51083\n",
       "\\item 105371692\n",
       "\\item 10788\n",
       "\\item 81575\n",
       "\\item 57476\n",
       "\\item 2022\n",
       "\\item 9582\n",
       "\\item 80022\n",
       "\\item 144455\n",
       "\\item 222171\n",
       "\\item 84878\n",
       "\\item 51702\n",
       "\\item 728279\n",
       "\\item 8850\n",
       "\\item 101928034\n",
       "\\item 10882\n",
       "\\item 1591\n",
       "\\item 55879\n",
       "\\item 11151\n",
       "\\item 5698\n",
       "\\item 102723566\n",
       "\\item 100272228\n",
       "\\item 26047\n",
       "\\item 83786\n",
       "\\item 2861\n",
       "\\item 9120\n",
       "\\item 105372862\n",
       "\\item 55214\n",
       "\\item 102724009\n",
       "\\item 57088\n",
       "\\item 10580\n",
       "\\item 80139\n",
       "\\item 100233156\n",
       "\\item 1290\n",
       "\\item 8631\n",
       "\\item 58480\n",
       "\\item 105373424\n",
       "\\item 1303\n",
       "\\item 374393\n",
       "\\item 100505385\n",
       "\\item 29970\n",
       "\\item 4558\n",
       "\\item 59\n",
       "\\item 414149\n",
       "\\item 4091\n",
       "\\item 7857\n",
       "\\item 3382\n",
       "\\item 735301\n",
       "\\item 11013\n",
       "\\item 23401\n",
       "\\item 5002\n",
       "\\item 4567\n",
       "\\item 115111\n",
       "\\item 79413\n",
       "\\item 84223\n",
       "\\item 10333\n",
       "\\item 109910380\n",
       "\\item 26018\n",
       "\\item 1509\n",
       "\\item 127343\n",
       "\\item 4900\n",
       "\\item 8204\n",
       "\\item 10472\n",
       "\\item 401320\n",
       "\\item 4577\n",
       "\\item 10457\n",
       "\\item 161176\n",
       "\\item 100507217\n",
       "\\item 92249\n",
       "\\item 54494\n",
       "\\item 933\n",
       "\\item 109864280\n",
       "\\item 7052\n",
       "\\item 196996\n",
       "\\item 150967\n",
       "\\item 6591\n",
       "\\item 85294\n",
       "\\item 100874530\n",
       "\\item 105373886\n",
       "\\item 79922\n",
       "\\item 58985\n",
       "\\item 15\n",
       "\\item 8321\n",
       "\\item 55170\n",
       "\\item 643401\n",
       "\\item 8744\n",
       "\\item 3670\n",
       "\\item 57121\n",
       "\\item 11178\n",
       "\\item 100996579\n",
       "\\item 101928483\n",
       "\\item 204010\n",
       "\\item 83988\n",
       "\\item 84541\n",
       "\\item 407975\n",
       "\\item 90024\n",
       "\\item 107984500\n",
       "\\item 55061\n",
       "\\item 10736\n",
       "\\item 56971\n",
       "\\item 139818\n",
       "\\item 400499\n",
       "\\item 145173\n",
       "\\item 147645\n",
       "\\item 84964\n",
       "\\item 144132\n",
       "\\item 2872\n",
       "\\item 105372578\n",
       "\\item 253264\n",
       "\\item 108570035\n",
       "\\item 119395\n",
       "\\item 8529\n",
       "\\item 2838\n",
       "\\item 105373888\n",
       "\\item 3373\n",
       "\\item 203259\n",
       "\\item 400224\n",
       "\\item 23179\n",
       "\\item 80312\n",
       "\\item 170689\n",
       "\\item 66008\n",
       "\\end{enumerate*}\n"
      ],
      "text/markdown": [
       "1. 3398\n",
       "2. 1490\n",
       "3. 23193\n",
       "4. 140766\n",
       "5. 4092\n",
       "6. 5099\n",
       "7. 7057\n",
       "8. 84836\n",
       "9. 389136\n",
       "10. 4804\n",
       "11. 5142\n",
       "12. 399959\n",
       "13. 9498\n",
       "14. 57613\n",
       "15. 8848\n",
       "16. 4929\n",
       "17. 51421\n",
       "18. 221\n",
       "19. 3860\n",
       "20. 7171\n",
       "21. 9957\n",
       "22. 22927\n",
       "23. 760\n",
       "24. 131583\n",
       "25. 100287569\n",
       "26. 631\n",
       "27. 56993\n",
       "28. 63967\n",
       "29. 55789\n",
       "30. 57552\n",
       "31. 79991\n",
       "32. 10769\n",
       "33. 22836\n",
       "34. 157570\n",
       "35. 730755\n",
       "36. 105375503\n",
       "37. 27113\n",
       "38. 374946\n",
       "39. 106635533\n",
       "40. 126731\n",
       "41. 4277\n",
       "42. 51384\n",
       "43. 9221\n",
       "44. 114794\n",
       "45. 27074\n",
       "46. 219790\n",
       "47. 80854\n",
       "48. 2736\n",
       "49. 6623\n",
       "50. 25984\n",
       "51. 840\n",
       "52. 26472\n",
       "53. 7077\n",
       "54. 285362\n",
       "55. 286467\n",
       "56. 6272\n",
       "57. 221710\n",
       "58. 9965\n",
       "59. 4254\n",
       "60. 100532742\n",
       "61. 57402\n",
       "62. 79801\n",
       "63. 649446\n",
       "64. 4199\n",
       "65. 3909\n",
       "66. 3783\n",
       "67. 6653\n",
       "68. 80315\n",
       "69. 117854\n",
       "70. 5155\n",
       "71. 3977\n",
       "72. 28962\n",
       "73. 3014\n",
       "74. 50515\n",
       "75. 51200\n",
       "76. 1244\n",
       "77. 4603\n",
       "78. 57405\n",
       "79. 3673\n",
       "80. 4493\n",
       "81. 595\n",
       "82. 84263\n",
       "83. 51703\n",
       "84. 57761\n",
       "85. 84632\n",
       "86. 26298\n",
       "87. 170261\n",
       "88. 113622\n",
       "89. 8544\n",
       "90. 100008588\n",
       "91. 55245\n",
       "92. 8507\n",
       "93. 5414\n",
       "94. 55796\n",
       "95. 22979\n",
       "96. 4758\n",
       "97. 91947\n",
       "98. 23568\n",
       "99. 90317\n",
       "100. 8751\n",
       "101. 8506\n",
       "102. 6674\n",
       "103. 11098\n",
       "104. 770\n",
       "105. 283554\n",
       "106. 7023\n",
       "107. 100128338\n",
       "108. 135398\n",
       "109. 2272\n",
       "110. 10553\n",
       "111. 221662\n",
       "112. 5087\n",
       "113. 5027\n",
       "114. 10855\n",
       "115. 5243\n",
       "116. 100288866\n",
       "117. 9183\n",
       "118. 109864273\n",
       "119. 107986178\n",
       "120. 90427\n",
       "121. 106631781\n",
       "122. 1062\n",
       "123. 11339\n",
       "124. 100507053\n",
       "125. 105369634\n",
       "126. 6817\n",
       "127. 7483\n",
       "128. 8534\n",
       "129. 6498\n",
       "130. 11054\n",
       "131. 105372860\n",
       "132. 105371441\n",
       "133. 105370503\n",
       "134. 116931\n",
       "135. 9628\n",
       "136. 10389\n",
       "137. 51083\n",
       "138. 105371692\n",
       "139. 10788\n",
       "140. 81575\n",
       "141. 57476\n",
       "142. 2022\n",
       "143. 9582\n",
       "144. 80022\n",
       "145. 144455\n",
       "146. 222171\n",
       "147. 84878\n",
       "148. 51702\n",
       "149. 728279\n",
       "150. 8850\n",
       "151. 101928034\n",
       "152. 10882\n",
       "153. 1591\n",
       "154. 55879\n",
       "155. 11151\n",
       "156. 5698\n",
       "157. 102723566\n",
       "158. 100272228\n",
       "159. 26047\n",
       "160. 83786\n",
       "161. 2861\n",
       "162. 9120\n",
       "163. 105372862\n",
       "164. 55214\n",
       "165. 102724009\n",
       "166. 57088\n",
       "167. 10580\n",
       "168. 80139\n",
       "169. 100233156\n",
       "170. 1290\n",
       "171. 8631\n",
       "172. 58480\n",
       "173. 105373424\n",
       "174. 1303\n",
       "175. 374393\n",
       "176. 100505385\n",
       "177. 29970\n",
       "178. 4558\n",
       "179. 59\n",
       "180. 414149\n",
       "181. 4091\n",
       "182. 7857\n",
       "183. 3382\n",
       "184. 735301\n",
       "185. 11013\n",
       "186. 23401\n",
       "187. 5002\n",
       "188. 4567\n",
       "189. 115111\n",
       "190. 79413\n",
       "191. 84223\n",
       "192. 10333\n",
       "193. 109910380\n",
       "194. 26018\n",
       "195. 1509\n",
       "196. 127343\n",
       "197. 4900\n",
       "198. 8204\n",
       "199. 10472\n",
       "200. 401320\n",
       "201. 4577\n",
       "202. 10457\n",
       "203. 161176\n",
       "204. 100507217\n",
       "205. 92249\n",
       "206. 54494\n",
       "207. 933\n",
       "208. 109864280\n",
       "209. 7052\n",
       "210. 196996\n",
       "211. 150967\n",
       "212. 6591\n",
       "213. 85294\n",
       "214. 100874530\n",
       "215. 105373886\n",
       "216. 79922\n",
       "217. 58985\n",
       "218. 15\n",
       "219. 8321\n",
       "220. 55170\n",
       "221. 643401\n",
       "222. 8744\n",
       "223. 3670\n",
       "224. 57121\n",
       "225. 11178\n",
       "226. 100996579\n",
       "227. 101928483\n",
       "228. 204010\n",
       "229. 83988\n",
       "230. 84541\n",
       "231. 407975\n",
       "232. 90024\n",
       "233. 107984500\n",
       "234. 55061\n",
       "235. 10736\n",
       "236. 56971\n",
       "237. 139818\n",
       "238. 400499\n",
       "239. 145173\n",
       "240. 147645\n",
       "241. 84964\n",
       "242. 144132\n",
       "243. 2872\n",
       "244. 105372578\n",
       "245. 253264\n",
       "246. 108570035\n",
       "247. 119395\n",
       "248. 8529\n",
       "249. 2838\n",
       "250. 105373888\n",
       "251. 3373\n",
       "252. 203259\n",
       "253. 400224\n",
       "254. 23179\n",
       "255. 80312\n",
       "256. 170689\n",
       "257. 66008\n",
       "\n",
       "\n"
      ],
      "text/plain": [
       "  [1]      3398      1490     23193    140766      4092      5099      7057\n",
       "  [8]     84836    389136      4804      5142    399959      9498     57613\n",
       " [15]      8848      4929     51421       221      3860      7171      9957\n",
       " [22]     22927       760    131583 100287569       631     56993     63967\n",
       " [29]     55789     57552     79991     10769     22836    157570    730755\n",
       " [36] 105375503     27113    374946 106635533    126731      4277     51384\n",
       " [43]      9221    114794     27074    219790     80854      2736      6623\n",
       " [50]     25984       840     26472      7077    285362    286467      6272\n",
       " [57]    221710      9965      4254 100532742     57402     79801    649446\n",
       " [64]      4199      3909      3783      6653     80315    117854      5155\n",
       " [71]      3977     28962      3014     50515     51200      1244      4603\n",
       " [78]     57405      3673      4493       595     84263     51703     57761\n",
       " [85]     84632     26298    170261    113622      8544 100008588     55245\n",
       " [92]      8507      5414     55796     22979      4758     91947     23568\n",
       " [99]     90317      8751      8506      6674     11098       770    283554\n",
       "[106]      7023 100128338    135398      2272     10553    221662      5087\n",
       "[113]      5027     10855      5243 100288866      9183 109864273 107986178\n",
       "[120]     90427 106631781      1062     11339 100507053 105369634      6817\n",
       "[127]      7483      8534      6498     11054 105372860 105371441 105370503\n",
       "[134]    116931      9628     10389     51083 105371692     10788     81575\n",
       "[141]     57476      2022      9582     80022    144455    222171     84878\n",
       "[148]     51702    728279      8850 101928034     10882      1591     55879\n",
       "[155]     11151      5698 102723566 100272228     26047     83786      2861\n",
       "[162]      9120 105372862     55214 102724009     57088     10580     80139\n",
       "[169] 100233156      1290      8631     58480 105373424      1303    374393\n",
       "[176] 100505385     29970      4558        59    414149      4091      7857\n",
       "[183]      3382    735301     11013     23401      5002      4567    115111\n",
       "[190]     79413     84223     10333 109910380     26018      1509    127343\n",
       "[197]      4900      8204     10472    401320      4577     10457    161176\n",
       "[204] 100507217     92249     54494       933 109864280      7052    196996\n",
       "[211]    150967      6591     85294 100874530 105373886     79922     58985\n",
       "[218]        15      8321     55170    643401      8744      3670     57121\n",
       "[225]     11178 100996579 101928483    204010     83988     84541    407975\n",
       "[232]     90024 107984500     55061     10736     56971    139818    400499\n",
       "[239]    145173    147645     84964    144132      2872 105372578    253264\n",
       "[246] 108570035    119395      8529      2838 105373888      3373    203259\n",
       "[253]    400224     23179     80312    170689     66008"
      ]
     },
     "metadata": {},
     "output_type": "display_data"
    }
   ],
   "source": [
    "# Leer el archivo CSV\n",
    "data <- read.csv(\"deSeqRes_filtrado_Fusobacterium_Nucleatum.csv\")\n",
    "# Filtrar los genes significativos\n",
    "genes_significativos <- subset(data, padj < 0.05)\n",
    "# Extraer la lista de genes significativos\n",
    "lista_genes <- genes_significativos$gene_name\n",
    "# Verificar si los genes son números (posiblemente IDs de Entrez)\n",
    "if (all(grepl(\"^\\\\d+$\", lista_genes))) {\n",
    "    genes_ids <- lista_genes\n",
    "} else {\n",
    "    # Convertir los nombres de genes a IDs de Entrez si son símbolos\n",
    "    genes_ids <- bitr(lista_genes, fromType = \"SYMBOL\", toType = \"ENTREZID\", OrgDb = org.Hs.eg.db)$ENTREZID\n",
    "}\n",
    "genes_ids"
   ]
  },
  {
   "cell_type": "markdown",
   "metadata": {},
   "source": [
    "BIOGRID"
   ]
  },
  {
   "cell_type": "code",
   "execution_count": null,
   "metadata": {
    "vscode": {
     "languageId": "r"
    }
   },
   "outputs": [],
   "source": [
    "# Ejemplo de consulta a BioGRID\n",
    "library(RCurl)  # Para realizar solicitudes HTTP\n",
    "library(XML)    # Para trabajar con XML/HTML\n",
    "library(httr)\n",
    "library(biomaRt)\n",
    "library(org.Hs.eg.db)"
   ]
  },
  {
   "cell_type": "code",
   "execution_count": 1,
   "metadata": {
    "vscode": {
     "languageId": "r"
    }
   },
   "outputs": [],
   "source": [
    "# Ejemplo de consulta a BioGRID utilizando una API (adaptar según la API específica)\n",
    "base_url <- \"http://webservice.thebiogrid.org\"\n",
    "method <- \"/interactions\""
   ]
  },
  {
   "cell_type": "code",
   "execution_count": 6,
   "metadata": {
    "vscode": {
     "languageId": "r"
    }
   },
   "outputs": [],
   "source": [
    "# Definir la URL de la API BioGRID para obtener las interacciones del gen MDM2\n",
    "# Ejemplo de consulta a BioGRID utilizando una API (adaptar según la API específica)\n",
    "base_url <- \"http://webservice.thebiogrid.org\"\n",
    "method <- \"/interactions\"\n",
    "api_key <- \"2a4e2455be91b4c686b17f26b16cdeb9\"\n",
    "\n",
    "# Construir la URL de consulta con parámetros adecuados para genes\n",
    "query_url <- paste(base_url, method, \"?geneList=\", paste(genes_ids, collapse = \"|\"), \"&searchids=true&includeInteractors=true&accesskey=\", api_key, sep = \"\")\n",
    "\n",
    "# Realizar la solicitud HTTP\n",
    "result <- getURL(query_url)"
   ]
  },
  {
   "cell_type": "markdown",
   "metadata": {},
   "source": [
    "\n",
    "Para analizar las rutas implicadas en las interacciones proteína-proteína, generalmente se ineteresa más las interacciones físicas. Esto se debe a que las interacciones físicas suelen implicar un contacto directo entre las proteínas, formando complejos proteicos que están directamente involucrados en procesos celulares y biológicos específicos. Estas interacciones son fundamentales para comprender cómo las proteínas cooperan entre sí para llevar a cabo funciones biológicas."
   ]
  },
  {
   "cell_type": "code",
   "execution_count": 7,
   "metadata": {
    "vscode": {
     "languageId": "r"
    }
   },
   "outputs": [
    {
     "name": "stderr",
     "output_type": "stream",
     "text": [
      "Warning message in scan(file = file, what = what, sep = sep, quote = quote, dec = dec, :\n",
      "\"EOF within quoted string\"\n",
      "Warning message:\n",
      "\"package 'igraph' was built under R version 4.3.3\"\n",
      "\n",
      "Attaching package: 'igraph'\n",
      "\n",
      "\n",
      "The following object is masked from 'package:IRanges':\n",
      "\n",
      "    union\n",
      "\n",
      "\n",
      "The following object is masked from 'package:S4Vectors':\n",
      "\n",
      "    union\n",
      "\n",
      "\n",
      "The following objects are masked from 'package:BiocGenerics':\n",
      "\n",
      "    normalize, path, union\n",
      "\n",
      "\n",
      "The following objects are masked from 'package:stats':\n",
      "\n",
      "    decompose, spectrum\n",
      "\n",
      "\n",
      "The following object is masked from 'package:base':\n",
      "\n",
      "    union\n",
      "\n",
      "\n"
     ]
    },
    {
     "data": {
      "image/png": "[encoded data removed]",
      "text/plain": [
       "Plot with title \"\""
      ]
     },
     "metadata": {
      "image/png": {
       "height": 420,
       "width": 420
      }
     },
     "output_type": "display_data"
    }
   ],
   "source": [
    "#Intenta leer el archivo TSV con manejo de líneas incompletas\n",
    "interacciones <- read.table(text = result, sep = \"\\t\", header = FALSE, fill = TRUE)\n",
    "\n",
    "# Verificar si se leyeron datos válidos\n",
    "if (length(interacciones) > 0) {\n",
    "  # Asignar nombres de columnas según la estructura de BioGRID\n",
    "  col_names <- c(\"V1\", \"V2\", \"V3\", \"V4\", \"V5\", \"V6\", \"V7\", \"V8\", \"V9\", \"V10\",\n",
    "                 \"V11\", \"V12\", \"V13\", \"V14\", \"V15\", \"V16\", \"V17\", \"V18\", \"V19\", \"V20\",\n",
    "                 \"V21\", \"V22\", \"V23\", \"V24\")\n",
    "  \n",
    "  # Ajustar el vector de nombres si es necesario (puede ser que BioGRID devuelva menos columnas)\n",
    "  col_names <- head(col_names, ncol(interacciones))\n",
    "  \n",
    "  # Asignar nombres de columnas\n",
    "  colnames(interacciones) <- col_names\n",
    "\n",
    "  # Verificar si hay filas duplicadas y eliminarlas si es necesario\n",
    "  interacciones <- unique(interacciones)\n",
    "  \n",
    "  # Filtrar por interacciones físicas con alta calidad y seleccionar las primeras 10\n",
    "  interacciones_fisicas <- interacciones[interacciones$V18 != \"Low Throughput\" & interacciones$V13 == \"physical\", c(\"V8\", \"V9\")]\n",
    "  interacciones_fisicas <- interacciones_fisicas[1:20, ]\n",
    "  \n",
    "  \n",
    "  \n",
    "  # Crear un grafo dirigido usando igraph\n",
    "  library(igraph)\n",
    "  \n",
    "  # Crear un grafo vacío con los nodos de interacciones únicas\n",
    "  grafo <- graph_from_data_frame(d = interacciones_fisicas, directed = TRUE)\n",
    "  \n",
    "  # Ajustar el layout para evitar superposiciones\n",
    "  layout <- layout_with_fr(grafo, weights = E(grafo)$weight)\n",
    "  \n",
    "  # Visualizar el grafo con un layout personalizado\n",
    "  plot(grafo, layout = layout, vertex.label.dist = 0.5, vertex.size = 8, edge.arrow.size = 0.5,\n",
    "       vertex.label.cex = 0.8, edge.curved = 0.2, margin = 0.1)\n",
    "  \n",
    "} else {\n",
    "  # Manejar el caso de que no se hayan leído datos válidos\n",
    "  print(\"No se pudieron leer datos válidos.\")\n",
    "}\n"
   ]
  },
  {
   "cell_type": "code",
   "execution_count": 8,
   "metadata": {
    "vscode": {
     "languageId": "r"
    }
   },
   "outputs": [
    {
     "data": {
      "image/png": "[encoded data removed]",
      "text/plain": [
       "Plot with title \"\""
      ]
     },
     "metadata": {
      "image/png": {
       "height": 420,
       "width": 420
      }
     },
     "output_type": "display_data"
    }
   ],
   "source": [
    "# Convertir el grafo dirigido en no dirigido\n",
    "grafo_no_dirigido <- as.undirected(grafo, mode = \"collapse\")\n",
    "# Detectar comunidades usando el algoritmo de Louvain en el grafo no dirigido\n",
    "comunidades <- cluster_louvain(grafo_no_dirigido)\n",
    "plot(comunidades, grafo_no_dirigido, layout = layout)\n"
   ]
  },
  {
   "cell_type": "code",
   "execution_count": 9,
   "metadata": {
    "vscode": {
     "languageId": "r"
    }
   },
   "outputs": [
    {
     "data": {
      "image/png": "[encoded data removed]",
      "text/plain": [
       "Plot with title \"\""
      ]
     },
     "metadata": {
      "image/png": {
       "height": 420,
       "width": 420
      }
     },
     "output_type": "display_data"
    }
   ],
   "source": [
    "# Detectar comunidades usando el método de propagación de etiquetas en el grafo dirigido\n",
    "comunidades_label_prop <- cluster_label_prop(grafo, weights = NA)\n",
    "plot(comunidades_label_prop, grafo, layout = layout)\n"
   ]
  },
  {
   "cell_type": "code",
   "execution_count": 10,
   "metadata": {
    "vscode": {
     "languageId": "r"
    }
   },
   "outputs": [
    {
     "data": {
      "text/html": [
       "<table class=\"dataframe\">\n",
       "<caption>A data.frame: 20 × 2</caption>\n",
       "<thead>\n",
       "\t<tr><th></th><th scope=col>V8</th><th scope=col>V9</th></tr>\n",
       "\t<tr><th></th><th scope=col>&lt;chr&gt;</th><th scope=col>&lt;chr&gt;</th></tr>\n",
       "</thead>\n",
       "<tbody>\n",
       "\t<tr><th scope=row>23</th><td>SMAD7  </td><td>Wwp2     </td></tr>\n",
       "\t<tr><th scope=row>24</th><td>FHIT   </td><td>FHIT     </td></tr>\n",
       "\t<tr><th scope=row>25</th><td>EFEMP2 </td><td>PLSCR4   </td></tr>\n",
       "\t<tr><th scope=row>26</th><td>SSSCA1 </td><td>MYO15B   </td></tr>\n",
       "\t<tr><th scope=row>27</th><td>SHCBP1 </td><td>ZUFSP    </td></tr>\n",
       "\t<tr><th scope=row>28</th><td>NRIP1  </td><td>LDOC1    </td></tr>\n",
       "\t<tr><th scope=row>29</th><td>MPP1   </td><td>AMOTL2   </td></tr>\n",
       "\t<tr><th scope=row>30</th><td>TUBGCP4</td><td>OBFC1    </td></tr>\n",
       "\t<tr><th scope=row>31</th><td>AMOTL2 </td><td>GCC1     </td></tr>\n",
       "\t<tr><th scope=row>32</th><td>TRIP13 </td><td>PLSCR4   </td></tr>\n",
       "\t<tr><th scope=row>33</th><td>SFN    </td><td>CHST1    </td></tr>\n",
       "\t<tr><th scope=row>34</th><td>NRIP1  </td><td>TEX11    </td></tr>\n",
       "\t<tr><th scope=row>35</th><td>PLSCR1 </td><td>PLSCR4   </td></tr>\n",
       "\t<tr><th scope=row>36</th><td>APPBP2 </td><td>ZCCHC12  </td></tr>\n",
       "\t<tr><th scope=row>37</th><td>RAD54B </td><td>MYO15B   </td></tr>\n",
       "\t<tr><th scope=row>38</th><td>ADAM15 </td><td>TRIP13   </td></tr>\n",
       "\t<tr><th scope=row>39</th><td>NADSYN1</td><td>MYO15B   </td></tr>\n",
       "\t<tr><th scope=row>40</th><td>NCALD  </td><td>DTX2     </td></tr>\n",
       "\t<tr><th scope=row>41</th><td>PLSCR4 </td><td>KRTAP4-12</td></tr>\n",
       "\t<tr><th scope=row>42</th><td>GNG11  </td><td>AMOTL2   </td></tr>\n",
       "</tbody>\n",
       "</table>\n"
      ],
      "text/latex": [
       "A data.frame: 20 × 2\n",
       "\\begin{tabular}{r|ll}\n",
       "  & V8 & V9\\\\\n",
       "  & <chr> & <chr>\\\\\n",
       "\\hline\n",
       "\t23 & SMAD7   & Wwp2     \\\\\n",
       "\t24 & FHIT    & FHIT     \\\\\n",
       "\t25 & EFEMP2  & PLSCR4   \\\\\n",
       "\t26 & SSSCA1  & MYO15B   \\\\\n",
       "\t27 & SHCBP1  & ZUFSP    \\\\\n",
       "\t28 & NRIP1   & LDOC1    \\\\\n",
       "\t29 & MPP1    & AMOTL2   \\\\\n",
       "\t30 & TUBGCP4 & OBFC1    \\\\\n",
       "\t31 & AMOTL2  & GCC1     \\\\\n",
       "\t32 & TRIP13  & PLSCR4   \\\\\n",
       "\t33 & SFN     & CHST1    \\\\\n",
       "\t34 & NRIP1   & TEX11    \\\\\n",
       "\t35 & PLSCR1  & PLSCR4   \\\\\n",
       "\t36 & APPBP2  & ZCCHC12  \\\\\n",
       "\t37 & RAD54B  & MYO15B   \\\\\n",
       "\t38 & ADAM15  & TRIP13   \\\\\n",
       "\t39 & NADSYN1 & MYO15B   \\\\\n",
       "\t40 & NCALD   & DTX2     \\\\\n",
       "\t41 & PLSCR4  & KRTAP4-12\\\\\n",
       "\t42 & GNG11   & AMOTL2   \\\\\n",
       "\\end{tabular}\n"
      ],
      "text/markdown": [
       "\n",
       "A data.frame: 20 × 2\n",
       "\n",
       "| <!--/--> | V8 &lt;chr&gt; | V9 &lt;chr&gt; |\n",
       "|---|---|---|\n",
       "| 23 | SMAD7   | Wwp2      |\n",
       "| 24 | FHIT    | FHIT      |\n",
       "| 25 | EFEMP2  | PLSCR4    |\n",
       "| 26 | SSSCA1  | MYO15B    |\n",
       "| 27 | SHCBP1  | ZUFSP     |\n",
       "| 28 | NRIP1   | LDOC1     |\n",
       "| 29 | MPP1    | AMOTL2    |\n",
       "| 30 | TUBGCP4 | OBFC1     |\n",
       "| 31 | AMOTL2  | GCC1      |\n",
       "| 32 | TRIP13  | PLSCR4    |\n",
       "| 33 | SFN     | CHST1     |\n",
       "| 34 | NRIP1   | TEX11     |\n",
       "| 35 | PLSCR1  | PLSCR4    |\n",
       "| 36 | APPBP2  | ZCCHC12   |\n",
       "| 37 | RAD54B  | MYO15B    |\n",
       "| 38 | ADAM15  | TRIP13    |\n",
       "| 39 | NADSYN1 | MYO15B    |\n",
       "| 40 | NCALD   | DTX2      |\n",
       "| 41 | PLSCR4  | KRTAP4-12 |\n",
       "| 42 | GNG11   | AMOTL2    |\n",
       "\n"
      ],
      "text/plain": [
       "   V8      V9       \n",
       "23 SMAD7   Wwp2     \n",
       "24 FHIT    FHIT     \n",
       "25 EFEMP2  PLSCR4   \n",
       "26 SSSCA1  MYO15B   \n",
       "27 SHCBP1  ZUFSP    \n",
       "28 NRIP1   LDOC1    \n",
       "29 MPP1    AMOTL2   \n",
       "30 TUBGCP4 OBFC1    \n",
       "31 AMOTL2  GCC1     \n",
       "32 TRIP13  PLSCR4   \n",
       "33 SFN     CHST1    \n",
       "34 NRIP1   TEX11    \n",
       "35 PLSCR1  PLSCR4   \n",
       "36 APPBP2  ZCCHC12  \n",
       "37 RAD54B  MYO15B   \n",
       "38 ADAM15  TRIP13   \n",
       "39 NADSYN1 MYO15B   \n",
       "40 NCALD   DTX2     \n",
       "41 PLSCR4  KRTAP4-12\n",
       "42 GNG11   AMOTL2   "
      ]
     },
     "metadata": {},
     "output_type": "display_data"
    }
   ],
   "source": [
    "interacciones_fisicas"
   ]
  },
  {
   "cell_type": "code",
   "execution_count": 11,
   "metadata": {
    "vscode": {
     "languageId": "r"
    }
   },
   "outputs": [
    {
     "name": "stderr",
     "output_type": "stream",
     "text": [
      "Warning message in scan(file = file, what = what, sep = sep, quote = quote, dec = dec, :\n",
      "\"EOF within quoted string\"\n"
     ]
    },
    {
     "name": "stdout",
     "output_type": "stream",
     "text": [
      "'data.frame':\t1925 obs. of  24 variables:\n",
      " $ V1 : int  7670 9315 10266 13594 13627 14788 14789 18357 19516 19517 ...\n",
      " $ V2 : int  7916 8631 4804 22927 10399 2516 2516 10580 9242 3398 ...\n",
      " $ V3 : int  23193 5788 5567 10399 22927 8204 8204 3642 3398 6938 ...\n",
      " $ V4 : int  113646 114184 110870 116587 115671 108792 108792 115831 114669 109624 ...\n",
      " $ V5 : int  116802 111752 111554 115671 116587 113843 113843 109853 109624 112798 ...\n",
      " $ V6 : chr  \"DADB-70P7.5\" \"-\" \"-\" \"RP11-172F4.4\" ...\n",
      " $ V7 : chr  \"-\" \"RP11-553K8.4\" \"RP11-82H13.1\" \"HLC7\" ...\n",
      " $ V8 : chr  \"PRRC2A\" \"SKAP1\" \"NGFR\" \"HABP4\" ...\n",
      " $ V9 : chr  \"GANAB\" \"PTPRC\" \"PRKACB\" \"GNB2L1\" ...\n",
      " $ V10: chr  \"BAT2|D6S51|D6S51E|G2\" \"HEL-S-81p|SCAP1|SKAP55\" \"CD271|Gp80-LNGFR|TNFRSF16|p75(NTR)|p75NTR\" \"IHABP-4|IHABP4|Ki-1/57|SERBP1L\" ...\n",
      " $ V11: chr  \"G2AN|GLUII\" \"B220|CD45|CD45R|GP180|L-CA|LCA|LY5|T200\" \"PKA C-beta|PKACB\" \"Gnb2-rs1|H12.3|HLC-7|PIG21|RACK1\" ...\n",
      " $ V12: chr  \"Two-hybrid\" \"Two-hybrid\" \"Two-hybrid\" \"Two-hybrid\" ...\n",
      " $ V13: chr  \"physical\" \"physical\" \"physical\" \"physical\" ...\n",
      " $ V14: chr  \"Lehner B (2004)\" \"Wu L (2002)\" \"Higuchi H (2003)\" \"Nery FC (2004)\" ...\n",
      " $ V15: int  14667819 11909961 12682012 14699138 14699138 12782406 11459805 12079283 11560778 9242638 ...\n",
      " $ V16: int  9606 9606 9606 9606 9606 9606 9606 9606 9606 9606 ...\n",
      " $ V17: int  9606 9606 9606 9606 9606 9606 9606 9606 9606 9606 ...\n",
      " $ V18: chr  \"Low Throughput\" \"Low Throughput\" \"Low Throughput\" \"Low Throughput\" ...\n",
      " $ V19: chr  \"-\" \"-\" \"-\" \"-\" ...\n",
      " $ V20: chr  \"-\" \"-\" \"-\" \"-\" ...\n",
      " $ V21: chr  \"-\" \"-\" \"-\" \"-\" ...\n",
      " $ V22: chr  \"-\" \"-\" \"-\" \"-\" ...\n",
      " $ V23: chr  \"-\" \"-\" \"-\" \"-\" ...\n",
      " $ V24: chr  \"BIOGRID\" \"BIOGRID\" \"BIOGRID\" \"BIOGRID\" ...\n"
     ]
    }
   ],
   "source": [
    "#Intenta leer el archivo TSV con manejo de líneas incompletas\n",
    "interacciones <- read.table(text = result, sep = \"\\t\", header = FALSE, fill = TRUE)\n",
    "str(interacciones)"
   ]
  },
  {
   "cell_type": "code",
   "execution_count": 12,
   "metadata": {
    "vscode": {
     "languageId": "r"
    }
   },
   "outputs": [
    {
     "name": "stdout",
     "output_type": "stream",
     "text": [
      "'data.frame':\t1925 obs. of  24 variables:\n",
      " $ BioGRID Interaction ID                 : int  7670 9315 10266 13594 13627 14788 14789 18357 19516 19517 ...\n",
      " $ Entrez Gene ID for Interactor A        : int  7916 8631 4804 22927 10399 2516 2516 10580 9242 3398 ...\n",
      " $ Entrez Gene ID for Interactor B        : int  23193 5788 5567 10399 22927 8204 8204 3642 3398 6938 ...\n",
      " $ BioGRID ID for Interactor A            : int  113646 114184 110870 116587 115671 108792 108792 115831 114669 109624 ...\n",
      " $ BioGRID ID for Interactor B            : int  116802 111752 111554 115671 116587 113843 113843 109853 109624 112798 ...\n",
      " $ Systematic name for Interactor A       : chr  \"DADB-70P7.5\" \"-\" \"-\" \"RP11-172F4.4\" ...\n",
      " $ Systematic name for Interactor B       : chr  \"-\" \"RP11-553K8.4\" \"RP11-82H13.1\" \"HLC7\" ...\n",
      " $ Official symbol for Interactor A       : chr  \"PRRC2A\" \"SKAP1\" \"NGFR\" \"HABP4\" ...\n",
      " $ Official symbol for Interactor B       : chr  \"GANAB\" \"PTPRC\" \"PRKACB\" \"GNB2L1\" ...\n",
      " $ Synonyms/Aliases for Interactor A      : chr  \"BAT2|D6S51|D6S51E|G2\" \"HEL-S-81p|SCAP1|SKAP55\" \"CD271|Gp80-LNGFR|TNFRSF16|p75(NTR)|p75NTR\" \"IHABP-4|IHABP4|Ki-1/57|SERBP1L\" ...\n",
      " $ Synonyms/Aliases for Interactor B      : chr  \"G2AN|GLUII\" \"B220|CD45|CD45R|GP180|L-CA|LCA|LY5|T200\" \"PKA C-beta|PKACB\" \"Gnb2-rs1|H12.3|HLC-7|PIG21|RACK1\" ...\n",
      " $ Experimental System Name               : chr  \"Two-hybrid\" \"Two-hybrid\" \"Two-hybrid\" \"Two-hybrid\" ...\n",
      " $ Experimental System Type               : chr  \"physical\" \"physical\" \"physical\" \"physical\" ...\n",
      " $ First author surname of the publication: chr  \"Lehner B (2004)\" \"Wu L (2002)\" \"Higuchi H (2003)\" \"Nery FC (2004)\" ...\n",
      " $ Pubmed ID                              : int  14667819 11909961 12682012 14699138 14699138 12782406 11459805 12079283 11560778 9242638 ...\n",
      " $ Organism ID for Interactor A           : int  9606 9606 9606 9606 9606 9606 9606 9606 9606 9606 ...\n",
      " $ Organism ID for Interactor B           : int  9606 9606 9606 9606 9606 9606 9606 9606 9606 9606 ...\n",
      " $ Interaction Throughput                 : chr  \"Low Throughput\" \"Low Throughput\" \"Low Throughput\" \"Low Throughput\" ...\n",
      " $ Quantitative Score                     : chr  \"-\" \"-\" \"-\" \"-\" ...\n",
      " $ Post Translational Modification        : chr  \"-\" \"-\" \"-\" \"-\" ...\n",
      " $ Phenotypes                             : chr  \"-\" \"-\" \"-\" \"-\" ...\n",
      " $ Qualifications                         : chr  \"-\" \"-\" \"-\" \"-\" ...\n",
      " $ Tags                                   : chr  \"-\" \"-\" \"-\" \"-\" ...\n",
      " $ Source Database                        : chr  \"BIOGRID\" \"BIOGRID\" \"BIOGRID\" \"BIOGRID\" ...\n"
     ]
    }
   ],
   "source": [
    "# Nombres de las columnas deseadas\n",
    "nombres_columnas <- c(\n",
    "  \"BioGRID Interaction ID\", \n",
    "  \"Entrez Gene ID for Interactor A\", \n",
    "  \"Entrez Gene ID for Interactor B\", \n",
    "  \"BioGRID ID for Interactor A\", \n",
    "  \"BioGRID ID for Interactor B\", \n",
    "  \"Systematic name for Interactor A\", \n",
    "  \"Systematic name for Interactor B\", \n",
    "  \"Official symbol for Interactor A\", \n",
    "  \"Official symbol for Interactor B\", \n",
    "  \"Synonyms/Aliases for Interactor A\", \n",
    "  \"Synonyms/Aliases for Interactor B\", \n",
    "  \"Experimental System Name\", \n",
    "  \"Experimental System Type\", \n",
    "  \"First author surname of the publication\", \n",
    "  \"Pubmed ID\", \n",
    "  \"Organism ID for Interactor A\", \n",
    "  \"Organism ID for Interactor B\", \n",
    "  \"Interaction Throughput\", \n",
    "  \"Quantitative Score\", \n",
    "  \"Post Translational Modification\", \n",
    "  \"Phenotypes\", \n",
    "  \"Qualifications\", \n",
    "  \"Tags\", \n",
    "  \"Source Database\"\n",
    ")\n",
    "\n",
    "# Asignar los nuevos nombres de columnas al DataFrame\n",
    "colnames(interacciones) <- nombres_columnas\n",
    "\n",
    "# Verificar la estructura del DataFrame con los nuevos nombres\n",
    "str(interacciones)"
   ]
  },
  {
   "cell_type": "markdown",
   "metadata": {},
   "source": [
    "Hay interacciones con otros organismos además de 9606->Homo Sapiens?"
   ]
  },
  {
   "cell_type": "code",
   "execution_count": 13,
   "metadata": {
    "vscode": {
     "languageId": "r"
    }
   },
   "outputs": [
    {
     "data": {
      "text/html": [
       "<style>\n",
       ".list-inline {list-style: none; margin:0; padding: 0}\n",
       ".list-inline>li {display: inline-block}\n",
       ".list-inline>li:not(:last-child)::after {content: \"\\00b7\"; padding: 0 .5ex}\n",
       "</style>\n",
       "<ol class=list-inline><li>10116</li><li>10090</li><li>9913</li><li>11676</li><li>6239</li><li>&lt;NA&gt;</li></ol>\n"
      ],
      "text/latex": [
       "\\begin{enumerate*}\n",
       "\\item 10116\n",
       "\\item 10090\n",
       "\\item 9913\n",
       "\\item 11676\n",
       "\\item 6239\n",
       "\\item <NA>\n",
       "\\end{enumerate*}\n"
      ],
      "text/markdown": [
       "1. 10116\n",
       "2. 10090\n",
       "3. 9913\n",
       "4. 11676\n",
       "5. 6239\n",
       "6. &lt;NA&gt;\n",
       "\n",
       "\n"
      ],
      "text/plain": [
       "[1] 10116 10090  9913 11676  6239    NA"
      ]
     },
     "metadata": {},
     "output_type": "display_data"
    },
    {
     "data": {
      "text/html": [
       "<style>\n",
       ".list-inline {list-style: none; margin:0; padding: 0}\n",
       ".list-inline>li {display: inline-block}\n",
       ".list-inline>li:not(:last-child)::after {content: \"\\00b7\"; padding: 0 .5ex}\n",
       "</style>\n",
       "<ol class=list-inline><li>10090</li><li>559292</li><li>37296</li><li>11676</li><li>&lt;NA&gt;</li></ol>\n"
      ],
      "text/latex": [
       "\\begin{enumerate*}\n",
       "\\item 10090\n",
       "\\item 559292\n",
       "\\item 37296\n",
       "\\item 11676\n",
       "\\item <NA>\n",
       "\\end{enumerate*}\n"
      ],
      "text/markdown": [
       "1. 10090\n",
       "2. 559292\n",
       "3. 37296\n",
       "4. 11676\n",
       "5. &lt;NA&gt;\n",
       "\n",
       "\n"
      ],
      "text/plain": [
       "[1]  10090 559292  37296  11676     NA"
      ]
     },
     "metadata": {},
     "output_type": "display_data"
    }
   ],
   "source": [
    "# Filtrar los organismos distintos de 9606 en la columna \"Organism ID for Interactor A\"\n",
    "organismos_A_distintos <- unique(interacciones$`Organism ID for Interactor A`[interacciones$`Organism ID for Interactor A` != 9606])\n",
    "\n",
    "# Filtrar los organismos distintos de 9606 en la columna \"Organism ID for Interactor B\"\n",
    "organismos_B_distintos <- unique(interacciones$`Organism ID for Interactor B`[interacciones$`Organism ID for Interactor B` != 9606])\n",
    "\n",
    "# Mostrar los resultados\n",
    "organismos_A_distintos\n",
    "organismos_B_distintos"
   ]
  },
  {
   "cell_type": "markdown",
   "metadata": {},
   "source": [
    "Lista de organismos:\n",
    "https://webservice.thebiogrid.org/organisms/?accesskey=2a4e2455be91b4c686b17f26b16cdeb9"
   ]
  },
  {
   "cell_type": "markdown",
   "metadata": {},
   "source": [
    "Se encontraron interacciones con estos organismos además de Homo sapiens:\n",
    "\n",
    "    10116 -> Rattus norvegicus\n",
    "\n",
    "    10090 -> Mus musculus\n",
    "\n",
    "    9913 -> Bos taurus\n",
    "\n",
    "    11676 -> Human Immunodeficiency Virus 1\n",
    "\n",
    "    6239 -> Caenorhabditis elegans\n",
    "\n",
    "    559292 -> Saccharomyces cerevisiae (S288c)\n",
    "\n",
    "    37296 -> Human Herpesvirus 8\n"
   ]
  },
  {
   "cell_type": "code",
   "execution_count": 16,
   "metadata": {
    "vscode": {
     "languageId": "r"
    }
   },
   "outputs": [
    {
     "data": {
      "text/html": [
       "<style>\n",
       ".list-inline {list-style: none; margin:0; padding: 0}\n",
       ".list-inline>li {display: inline-block}\n",
       ".list-inline>li:not(:last-child)::after {content: \"\\00b7\"; padding: 0 .5ex}\n",
       "</style>\n",
       "<ol class=list-inline><li>'Homo sapiens'</li><li>'Homo sapiens'</li><li>'Homo sapiens'</li><li>'Homo sapiens'</li><li>'Homo sapiens'</li><li>'Homo sapiens'</li></ol>\n"
      ],
      "text/latex": [
       "\\begin{enumerate*}\n",
       "\\item 'Homo sapiens'\n",
       "\\item 'Homo sapiens'\n",
       "\\item 'Homo sapiens'\n",
       "\\item 'Homo sapiens'\n",
       "\\item 'Homo sapiens'\n",
       "\\item 'Homo sapiens'\n",
       "\\end{enumerate*}\n"
      ],
      "text/markdown": [
       "1. 'Homo sapiens'\n",
       "2. 'Homo sapiens'\n",
       "3. 'Homo sapiens'\n",
       "4. 'Homo sapiens'\n",
       "5. 'Homo sapiens'\n",
       "6. 'Homo sapiens'\n",
       "\n",
       "\n"
      ],
      "text/plain": [
       "[1] \"Homo sapiens\" \"Homo sapiens\" \"Homo sapiens\" \"Homo sapiens\" \"Homo sapiens\"\n",
       "[6] \"Homo sapiens\""
      ]
     },
     "metadata": {},
     "output_type": "display_data"
    },
    {
     "data": {
      "text/html": [
       "<style>\n",
       ".list-inline {list-style: none; margin:0; padding: 0}\n",
       ".list-inline>li {display: inline-block}\n",
       ".list-inline>li:not(:last-child)::after {content: \"\\00b7\"; padding: 0 .5ex}\n",
       "</style>\n",
       "<ol class=list-inline><li>'Homo sapiens'</li><li>'Homo sapiens'</li><li>'Homo sapiens'</li><li>'Homo sapiens'</li><li>'Homo sapiens'</li><li>'Homo sapiens'</li></ol>\n"
      ],
      "text/latex": [
       "\\begin{enumerate*}\n",
       "\\item 'Homo sapiens'\n",
       "\\item 'Homo sapiens'\n",
       "\\item 'Homo sapiens'\n",
       "\\item 'Homo sapiens'\n",
       "\\item 'Homo sapiens'\n",
       "\\item 'Homo sapiens'\n",
       "\\end{enumerate*}\n"
      ],
      "text/markdown": [
       "1. 'Homo sapiens'\n",
       "2. 'Homo sapiens'\n",
       "3. 'Homo sapiens'\n",
       "4. 'Homo sapiens'\n",
       "5. 'Homo sapiens'\n",
       "6. 'Homo sapiens'\n",
       "\n",
       "\n"
      ],
      "text/plain": [
       "[1] \"Homo sapiens\" \"Homo sapiens\" \"Homo sapiens\" \"Homo sapiens\" \"Homo sapiens\"\n",
       "[6] \"Homo sapiens\""
      ]
     },
     "metadata": {},
     "output_type": "display_data"
    }
   ],
   "source": [
    "# Crear un diccionario que asocie cada Organism ID con su nombre correspondiente\n",
    "organism_names <- c(\n",
    "  \"9606\" = \"Homo sapiens\",\n",
    "  \"10116\" = \"Rattus norvegicus\",\n",
    "  \"10090\" = \"Mus musculus\",\n",
    "  \"9913\" = \"Bos taurus\",\n",
    "  \"11676\" = \"Human Immunodeficiency Virus 1\",\n",
    "  \"9986\" = \"Oryctolagus cuniculus\",\n",
    "  \"37296\" = \"Human Herpesvirus 8\",\n",
    "  \"559292\" = \"Saccharomyces cerevisiae (S288c)\",\n",
    "  \"333760\" = \"Human papillomavirus (16)\",\n",
    "  \"2697049\" = \"Severe acute respiratory syndrome coronavirus 2\",\n",
    "  \"1335626\" = \"Middle-East Respiratory Syndrome-related Coronavirus\",\n",
    "  \"6239\" = \"Caenorhabditis elegans\",\n",
    "  \"10600\" = \"Human papillomavirus (6b)\",\n",
    "  \"7227\" = \"Drosophila melanogaster\",\n",
    "  \"9823\" = \"Sus scrofa\",\n",
    "  \"9031\" = \"Gallus gallus\"\n",
    ")\n",
    "\n",
    "# Reemplazar los valores numéricos con los nombres en la columna \"Organism ID for Interactor A\"\n",
    "interacciones$`Organism ID for Interactor A` <- organism_names[as.character(interacciones$`Organism ID for Interactor A`)]\n",
    "\n",
    "# Reemplazar los valores numéricos con los nombres en la columna \"Organism ID for Interactor B\"\n",
    "interacciones$`Organism ID for Interactor B` <- organism_names[as.character(interacciones$`Organism ID for Interactor B`)]\n",
    "\n",
    "# Verificar el resultado\n",
    "head(interacciones$`Organism ID for Interactor A`)\n",
    "head(interacciones$`Organism ID for Interactor B`)\n"
   ]
  },
  {
   "cell_type": "code",
   "execution_count": 89,
   "metadata": {
    "vscode": {
     "languageId": "r"
    }
   },
   "outputs": [
    {
     "name": "stdout",
     "output_type": "stream",
     "text": [
      "[1] \"http://webservice.thebiogrid.org/interactions?geneList=3398|1490|23193|140766|4092|5099|7057|84836|389136|4804|5142|399959|9498|57613|8848|4929|51421|221|3860|7171|9957|22927|760|131583|100287569|631|56993|63967|55789|57552|79991|10769|22836|157570|730755|105375503|27113|374946|106635533|126731|4277|51384|9221|114794|27074|219790|80854|2736|6623|25984|840|26472|7077|285362|286467|6272|221710|9965|4254|100532742|57402|79801|649446|4199|3909|3783|6653|80315|117854|5155|3977|28962|3014|50515|51200|1244|4603|57405|3673|4493|595|84263|51703|57761|84632|26298|170261|113622|8544|100008588|55245|8507|5414|55796|22979|4758|91947|23568|90317|8751|8506|6674|11098|770|283554|7023|100128338|135398|2272|10553|221662|5087|5027|10855|5243|100288866|9183|109864273|107986178|90427|106631781|1062|11339|100507053|105369634|6817|7483|8534|6498|11054|105372860|105371441|105370503|116931|9628|10389|51083|105371692|10788|81575|57476|2022|9582|80022|144455|222171|84878|51702|728279|8850|101928034|10882|1591|55879|11151|5698|102723566|100272228|26047|83786|2861|9120|105372862|55214|102724009|57088|10580|80139|100233156|1290|8631|58480|105373424|1303|374393|100505385|29970|4558|59|414149|4091|7857|3382|735301|11013|23401|5002|4567|115111|79413|84223|10333|109910380|26018|1509|127343|4900|8204|10472|401320|4577|10457|161176|100507217|92249|54494|933|109864280|7052|196996|150967|6591|85294|100874530|105373886|79922|58985|15|8321|55170|643401|8744|3670|57121|11178|100996579|101928483|204010|83988|84541|407975|90024|107984500|55061|10736|56971|139818|400499|145173|147645|84964|144132|2872|105372578|253264|108570035|119395|8529|2838|105373888|3373|203259|400224|23179|80312|170689|66008&searchids=true&includeInteractors=true&accesskey=2a4e2455be91b4c686b17f26b16cdeb9\"\n"
     ]
    }
   ],
   "source": [
    "print(query_url)"
   ]
  },
  {
   "cell_type": "code",
   "execution_count": 17,
   "metadata": {
    "vscode": {
     "languageId": "r"
    }
   },
   "outputs": [],
   "source": [
    "# Guardar la lista de proteínas en un archivo CSV\n",
    "write.csv(interacciones, file = \"interacciones_BioGRID_Fusobacterium_Nucleatum.csv\", row.names = FALSE)"
   ]
  }
 ],
 "metadata": {
  "kernelspec": {
   "display_name": "R",
   "language": "R",
   "name": "ir"
  },
  "language_info": {
   "codemirror_mode": "r",
   "file_extension": ".r",
   "mimetype": "text/x-r-source",
   "name": "R",
   "pygments_lexer": "r",
   "version": "4.3.2"
  }
 },
 "nbformat": 4,
 "nbformat_minor": 2
}

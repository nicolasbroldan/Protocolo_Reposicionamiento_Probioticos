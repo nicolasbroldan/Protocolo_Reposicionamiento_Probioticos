{
 "cells": [
  {
   "cell_type": "code",
   "execution_count": null,
   "metadata": {
    "vscode": {
     "languageId": "r"
    }
   },
   "outputs": [],
   "source": [
    "if (!require(\"BiocManager\", quietly = TRUE))\n",
    "  install.packages(\"BiocManager\")\n",
    "BiocManager::install"
   ]
  },
  {
   "cell_type": "code",
   "execution_count": null,
   "metadata": {
    "vscode": {
     "languageId": "r"
    }
   },
   "outputs": [],
   "source": [
    "BiocManager::install(\"biomaRt\")\n",
    "library(biomaRt)"
   ]
  },
  {
   "cell_type": "code",
   "execution_count": null,
   "metadata": {
    "vscode": {
     "languageId": "r"
    }
   },
   "outputs": [],
   "source": [
    "library(BiocManager)\n",
    "BiocManager::install('GOstats')\n",
    "BiocManager::install(\"clusterProfiler\")\n",
    "BiocManager::install(\"org.Hs.eg.db\")\n",
    "BiocManager::install(\"enrichplot\")\n",
    "#BiocManager::install(\"Rtools\")"
   ]
  },
  {
   "cell_type": "code",
   "execution_count": 1,
   "metadata": {
    "vscode": {
     "languageId": "r"
    }
   },
   "outputs": [
    {
     "name": "stderr",
     "output_type": "stream",
     "text": [
      "Loading required package: AnnotationDbi\n",
      "\n",
      "Loading required package: stats4\n",
      "\n",
      "Loading required package: BiocGenerics\n",
      "\n",
      "\n",
      "Attaching package: 'BiocGenerics'\n",
      "\n",
      "\n",
      "The following objects are masked from 'package:stats':\n",
      "\n",
      "    IQR, mad, sd, var, xtabs\n",
      "\n",
      "\n",
      "The following objects are masked from 'package:base':\n",
      "\n",
      "    anyDuplicated, aperm, append, as.data.frame, basename, cbind,\n",
      "    colnames, dirname, do.call, duplicated, eval, evalq, Filter, Find,\n",
      "    get, grep, grepl, intersect, is.unsorted, lapply, Map, mapply,\n",
      "    match, mget, order, paste, pmax, pmax.int, pmin, pmin.int,\n",
      "    Position, rank, rbind, Reduce, rownames, sapply, setdiff, sort,\n",
      "    table, tapply, union, unique, unsplit, which.max, which.min\n",
      "\n",
      "\n",
      "Loading required package: Biobase\n",
      "\n",
      "Welcome to Bioconductor\n",
      "\n",
      "    Vignettes contain introductory material; view with\n",
      "    'browseVignettes()'. To cite Bioconductor, see\n",
      "    'citation(\"Biobase\")', and for packages 'citation(\"pkgname\")'.\n",
      "\n",
      "\n",
      "Loading required package: IRanges\n",
      "\n",
      "Loading required package: S4Vectors\n",
      "\n",
      "\n",
      "Attaching package: 'S4Vectors'\n",
      "\n",
      "\n",
      "The following object is masked from 'package:utils':\n",
      "\n",
      "    findMatches\n",
      "\n",
      "\n",
      "The following objects are masked from 'package:base':\n",
      "\n",
      "    expand.grid, I, unname\n",
      "\n",
      "\n",
      "\n",
      "Attaching package: 'IRanges'\n",
      "\n",
      "\n",
      "The following object is masked from 'package:grDevices':\n",
      "\n",
      "    windows\n",
      "\n",
      "\n",
      "\n",
      "\n",
      "Warning message:\n",
      "\"package 'clusterProfiler' was built under R version 4.3.3\"\n",
      "\n",
      "\n",
      "clusterProfiler v4.10.1  For help: https://yulab-smu.top/biomedical-knowledge-mining-book/\n",
      "\n",
      "If you use clusterProfiler in published research, please cite:\n",
      "T Wu, E Hu, S Xu, M Chen, P Guo, Z Dai, T Feng, L Zhou, W Tang, L Zhan, X Fu, S Liu, X Bo, and G Yu. clusterProfiler 4.0: A universal enrichment tool for interpreting omics data. The Innovation. 2021, 2(3):100141\n",
      "\n",
      "\n",
      "Attaching package: 'clusterProfiler'\n",
      "\n",
      "\n",
      "The following object is masked from 'package:AnnotationDbi':\n",
      "\n",
      "    select\n",
      "\n",
      "\n",
      "The following object is masked from 'package:IRanges':\n",
      "\n",
      "    slice\n",
      "\n",
      "\n",
      "The following object is masked from 'package:S4Vectors':\n",
      "\n",
      "    rename\n",
      "\n",
      "\n",
      "The following object is masked from 'package:biomaRt':\n",
      "\n",
      "    select\n",
      "\n",
      "\n",
      "The following object is masked from 'package:stats':\n",
      "\n",
      "    filter\n",
      "\n",
      "\n",
      "'select()' returned 1:1 mapping between keys and columns\n",
      "\n"
     ]
    },
    {
     "data": {
      "text/html": [
       "<style>\n",
       ".list-inline {list-style: none; margin:0; padding: 0}\n",
       ".list-inline>li {display: inline-block}\n",
       ".list-inline>li:not(:last-child)::after {content: \"\\00b7\"; padding: 0 .5ex}\n",
       "</style>\n",
       "<ol class=list-inline><li>'220'</li><li>'3576'</li><li>'1958'</li><li>'6559'</li></ol>\n"
      ],
      "text/latex": [
       "\\begin{enumerate*}\n",
       "\\item '220'\n",
       "\\item '3576'\n",
       "\\item '1958'\n",
       "\\item '6559'\n",
       "\\end{enumerate*}\n"
      ],
      "text/markdown": [
       "1. '220'\n",
       "2. '3576'\n",
       "3. '1958'\n",
       "4. '6559'\n",
       "\n",
       "\n"
      ],
      "text/plain": [
       "[1] \"220\"  \"3576\" \"1958\" \"6559\""
      ]
     },
     "metadata": {},
     "output_type": "display_data"
    }
   ],
   "source": [
    "library(biomaRt)\n",
    "library(org.Hs.eg.db)\n",
    "library(clusterProfiler)\n",
    "# Leer el archivo CSV\n",
    "data <- read.csv(\"deSeqRes_filtrado_Lactobacillus_acidophilus_KLDS1.0901.csv\")\n",
    "# Filtrar los genes significativos\n",
    "genes_significativos <- subset(data, padj < 0.05)\n",
    "# Extraer la lista de genes significativos\n",
    "lista_genes <- genes_significativos$gene_name\n",
    "# Verificar si los genes son números (posiblemente IDs de Entrez)\n",
    "if (all(grepl(\"^\\\\d+$\", lista_genes))) {\n",
    "    genes_ids <- lista_genes\n",
    "} else {\n",
    "    # Convertir los nombres de genes a IDs de Entrez si son símbolos\n",
    "    genes_ids <- bitr(lista_genes, fromType = \"SYMBOL\", toType = \"ENTREZID\", OrgDb = org.Hs.eg.db)$ENTREZID\n",
    "}\n",
    "genes_ids"
   ]
  },
  {
   "cell_type": "code",
   "execution_count": 2,
   "metadata": {
    "vscode": {
     "languageId": "r"
    }
   },
   "outputs": [],
   "source": [
    "\n",
    "# Convertir los IDs de Entrez a nombres de genes si son IDs de Entrez\n",
    "if (all(grepl(\"^\\\\d+$\", genes_ids))) {\n",
    "    # Crear una conexión a la base de datos de biomart\n",
    "    mart <- useMart(biomart = \"ensembl\", dataset = \"hsapiens_gene_ensembl\")\n",
    "    \n",
    "    # Obtener los nombres de los genes correspondientes a los IDs de Entrez\n",
    "    gene_info <- getBM(attributes = c(\"entrezgene_id\", \"external_gene_name\"), \n",
    "                       filters = \"entrezgene_id\", \n",
    "                       values = genes_ids, \n",
    "                       mart = mart)\n",
    "    \n",
    "    # Reemplazar los IDs de Entrez por los nombres de los genes convertidos\n",
    "    genes_names <- gene_info$external_gene_name\n",
    "}\n",
    "\n"
   ]
  },
  {
   "cell_type": "code",
   "execution_count": 3,
   "metadata": {
    "vscode": {
     "languageId": "r"
    }
   },
   "outputs": [
    {
     "data": {
      "text/html": [
       "<style>\n",
       ".list-inline {list-style: none; margin:0; padding: 0}\n",
       ".list-inline>li {display: inline-block}\n",
       ".list-inline>li:not(:last-child)::after {content: \"\\00b7\"; padding: 0 .5ex}\n",
       "</style>\n",
       "<ol class=list-inline><li>'EGR1'</li><li>'ALDH1A3'</li><li>'CXCL8'</li><li>'SLC12A3'</li></ol>\n"
      ],
      "text/latex": [
       "\\begin{enumerate*}\n",
       "\\item 'EGR1'\n",
       "\\item 'ALDH1A3'\n",
       "\\item 'CXCL8'\n",
       "\\item 'SLC12A3'\n",
       "\\end{enumerate*}\n"
      ],
      "text/markdown": [
       "1. 'EGR1'\n",
       "2. 'ALDH1A3'\n",
       "3. 'CXCL8'\n",
       "4. 'SLC12A3'\n",
       "\n",
       "\n"
      ],
      "text/plain": [
       "[1] \"EGR1\"    \"ALDH1A3\" \"CXCL8\"   \"SLC12A3\""
      ]
     },
     "metadata": {},
     "output_type": "display_data"
    }
   ],
   "source": [
    "genes_names"
   ]
  },
  {
   "cell_type": "code",
   "execution_count": 4,
   "metadata": {
    "vscode": {
     "languageId": "r"
    }
   },
   "outputs": [],
   "source": [
    "# Conectarse a la base de datos UniProt usando el conjunto de datos 'hsapiens_gene_ensembl'\n",
    "ensembl <- useMart(\"ensembl\", dataset = \"hsapiens_gene_ensembl\")"
   ]
  },
  {
   "cell_type": "code",
   "execution_count": 5,
   "metadata": {
    "vscode": {
     "languageId": "r"
    }
   },
   "outputs": [],
   "source": [
    "# Obtener la información de las proteínas correspondientes a los nombres de los genes\n",
    "info_proteinas <- getBM(attributes = c(\"ensembl_gene_id\", \"external_gene_name\", \"uniprotswissprot\", \"description\"),\n",
    "                        filters = \"external_gene_name\",\n",
    "                        values = genes_names,\n",
    "                        mart = mart)"
   ]
  },
  {
   "cell_type": "code",
   "execution_count": 6,
   "metadata": {
    "vscode": {
     "languageId": "r"
    }
   },
   "outputs": [
    {
     "data": {
      "text/html": [
       "<table class=\"dataframe\">\n",
       "<caption>A data.frame: 4 × 4</caption>\n",
       "<thead>\n",
       "\t<tr><th></th><th scope=col>ensembl_gene_id</th><th scope=col>external_gene_name</th><th scope=col>uniprotswissprot</th><th scope=col>description</th></tr>\n",
       "\t<tr><th></th><th scope=col>&lt;chr&gt;</th><th scope=col>&lt;chr&gt;</th><th scope=col>&lt;chr&gt;</th><th scope=col>&lt;chr&gt;</th></tr>\n",
       "</thead>\n",
       "<tbody>\n",
       "\t<tr><th scope=row>2</th><td>ENSG00000184254</td><td>ALDH1A3</td><td>P47895</td><td>aldehyde dehydrogenase 1 family member A3 [Source:HGNC Symbol;Acc:HGNC:409]</td></tr>\n",
       "\t<tr><th scope=row>3</th><td>ENSG00000070915</td><td>SLC12A3</td><td>P55017</td><td>solute carrier family 12 member 3 [Source:HGNC Symbol;Acc:HGNC:10912]      </td></tr>\n",
       "\t<tr><th scope=row>6</th><td>ENSG00000169429</td><td>CXCL8  </td><td>P10145</td><td>C-X-C motif chemokine ligand 8 [Source:HGNC Symbol;Acc:HGNC:6025]          </td></tr>\n",
       "\t<tr><th scope=row>7</th><td>ENSG00000120738</td><td>EGR1   </td><td>P18146</td><td>early growth response 1 [Source:HGNC Symbol;Acc:HGNC:3238]                 </td></tr>\n",
       "</tbody>\n",
       "</table>\n"
      ],
      "text/latex": [
       "A data.frame: 4 × 4\n",
       "\\begin{tabular}{r|llll}\n",
       "  & ensembl\\_gene\\_id & external\\_gene\\_name & uniprotswissprot & description\\\\\n",
       "  & <chr> & <chr> & <chr> & <chr>\\\\\n",
       "\\hline\n",
       "\t2 & ENSG00000184254 & ALDH1A3 & P47895 & aldehyde dehydrogenase 1 family member A3 {[}Source:HGNC Symbol;Acc:HGNC:409{]}\\\\\n",
       "\t3 & ENSG00000070915 & SLC12A3 & P55017 & solute carrier family 12 member 3 {[}Source:HGNC Symbol;Acc:HGNC:10912{]}      \\\\\n",
       "\t6 & ENSG00000169429 & CXCL8   & P10145 & C-X-C motif chemokine ligand 8 {[}Source:HGNC Symbol;Acc:HGNC:6025{]}          \\\\\n",
       "\t7 & ENSG00000120738 & EGR1    & P18146 & early growth response 1 {[}Source:HGNC Symbol;Acc:HGNC:3238{]}                 \\\\\n",
       "\\end{tabular}\n"
      ],
      "text/markdown": [
       "\n",
       "A data.frame: 4 × 4\n",
       "\n",
       "| <!--/--> | ensembl_gene_id &lt;chr&gt; | external_gene_name &lt;chr&gt; | uniprotswissprot &lt;chr&gt; | description &lt;chr&gt; |\n",
       "|---|---|---|---|---|\n",
       "| 2 | ENSG00000184254 | ALDH1A3 | P47895 | aldehyde dehydrogenase 1 family member A3 [Source:HGNC Symbol;Acc:HGNC:409] |\n",
       "| 3 | ENSG00000070915 | SLC12A3 | P55017 | solute carrier family 12 member 3 [Source:HGNC Symbol;Acc:HGNC:10912]       |\n",
       "| 6 | ENSG00000169429 | CXCL8   | P10145 | C-X-C motif chemokine ligand 8 [Source:HGNC Symbol;Acc:HGNC:6025]           |\n",
       "| 7 | ENSG00000120738 | EGR1    | P18146 | early growth response 1 [Source:HGNC Symbol;Acc:HGNC:3238]                  |\n",
       "\n"
      ],
      "text/plain": [
       "  ensembl_gene_id external_gene_name uniprotswissprot\n",
       "2 ENSG00000184254 ALDH1A3            P47895          \n",
       "3 ENSG00000070915 SLC12A3            P55017          \n",
       "6 ENSG00000169429 CXCL8              P10145          \n",
       "7 ENSG00000120738 EGR1               P18146          \n",
       "  description                                                                \n",
       "2 aldehyde dehydrogenase 1 family member A3 [Source:HGNC Symbol;Acc:HGNC:409]\n",
       "3 solute carrier family 12 member 3 [Source:HGNC Symbol;Acc:HGNC:10912]      \n",
       "6 C-X-C motif chemokine ligand 8 [Source:HGNC Symbol;Acc:HGNC:6025]          \n",
       "7 early growth response 1 [Source:HGNC Symbol;Acc:HGNC:3238]                 "
      ]
     },
     "metadata": {},
     "output_type": "display_data"
    }
   ],
   "source": [
    "# Filtrar para obtener solo los genes que codifican proteínas\n",
    "genes_codifican_proteinas <- info_proteinas[info_proteinas$uniprotswissprot != \"\", ]\n",
    "\n",
    "# Mostrar los resultados\n",
    "genes_codifican_proteinas"
   ]
  },
  {
   "cell_type": "code",
   "execution_count": 7,
   "metadata": {
    "vscode": {
     "languageId": "r"
    }
   },
   "outputs": [
    {
     "name": "stdout",
     "output_type": "stream",
     "text": [
      "Genes encontrados:\n"
     ]
    },
    {
     "name": "stdout",
     "output_type": "stream",
     "text": [
      "[1] \"EGR1\"    \"ALDH1A3\" \"CXCL8\"   \"SLC12A3\"\n",
      "Genes no encontrados:\n",
      "character(0)\n"
     ]
    }
   ],
   "source": [
    "# Lista de genes que codifican proteínas\n",
    "genes_codifican_proteinas <- unique(genes_codifican_proteinas$external_gene_name)\n",
    "\n",
    "# Verificar la presencia de cada gen en genes_codifican_proteinas\n",
    "genes_presentes <- genes_names %in% genes_codifican_proteinas\n",
    "\n",
    "# Mostrar los genes que están en genes_codifican_proteinas\n",
    "genes_encontrados <- genes_names[genes_presentes]\n",
    "cat(\"Genes encontrados:\\n\")\n",
    "print(genes_encontrados)\n",
    "\n",
    "# Mostrar los genes que no están en genes_codifican_proteinas\n",
    "genes_no_encontrados <- genes_names[!genes_presentes]\n",
    "cat(\"Genes no encontrados:\\n\")\n",
    "print(genes_no_encontrados)"
   ]
  },
  {
   "cell_type": "code",
   "execution_count": 8,
   "metadata": {
    "vscode": {
     "languageId": "r"
    }
   },
   "outputs": [
    {
     "name": "stdout",
     "output_type": "stream",
     "text": [
      "Nombres de las proteínas correspondientes a los genes encontrados:\n",
      "[1] \"P47895\" \"P55017\" \"P10145\" \"P18146\"\n"
     ]
    }
   ],
   "source": [
    "# Obtener los nombres de las proteínas correspondientes a los genes encontrados\n",
    "proteinas <- getBM(\n",
    "  attributes = c(\"external_gene_name\", \"uniprotswissprot\"),\n",
    "  filters = \"external_gene_name\",\n",
    "  values = genes_encontrados,\n",
    "  mart = ensembl\n",
    ")\n",
    "\n",
    "# Filtrar las filas donde el campo uniprotswissprot no esté vacío\n",
    "proteinas_filtradas <- proteinas[proteinas$uniprotswissprot != \"\", ]\n",
    "\n",
    "# Mostrar los nombres de las proteínas\n",
    "cat(\"Nombres de las proteínas correspondientes a los genes encontrados:\\n\")\n",
    "print(proteinas_filtradas$uniprotswissprot)"
   ]
  },
  {
   "cell_type": "code",
   "execution_count": 19,
   "metadata": {
    "vscode": {
     "languageId": "r"
    }
   },
   "outputs": [
    {
     "data": {
      "text/html": [
       "<style>\n",
       ".list-inline {list-style: none; margin:0; padding: 0}\n",
       ".list-inline>li {display: inline-block}\n",
       ".list-inline>li:not(:last-child)::after {content: \"\\00b7\"; padding: 0 .5ex}\n",
       "</style>\n",
       "<ol class=list-inline><li>'P47895'</li><li>'P55017'</li><li>'P10145'</li><li>'P18146'</li></ol>\n"
      ],
      "text/latex": [
       "\\begin{enumerate*}\n",
       "\\item 'P47895'\n",
       "\\item 'P55017'\n",
       "\\item 'P10145'\n",
       "\\item 'P18146'\n",
       "\\end{enumerate*}\n"
      ],
      "text/markdown": [
       "1. 'P47895'\n",
       "2. 'P55017'\n",
       "3. 'P10145'\n",
       "4. 'P18146'\n",
       "\n",
       "\n"
      ],
      "text/plain": [
       "[1] \"P47895\" \"P55017\" \"P10145\" \"P18146\""
      ]
     },
     "metadata": {},
     "output_type": "display_data"
    }
   ],
   "source": [
    "# Filtrar las filas donde el campo uniprotswissprot no esté vacío\n",
    "proteinas_filtradas <- proteinas[proteinas$uniprotswissprot != \"\", ]\n",
    "\n",
    "# Obtener solo la columna de nombres de proteínas\n",
    "lista_proteinas <- proteinas_filtradas$uniprotswissprot\n",
    "\n",
    "\n",
    "# Guardar la lista de proteínas en una variable\n",
    "lista_proteinas"
   ]
  },
  {
   "cell_type": "code",
   "execution_count": 16,
   "metadata": {
    "vscode": {
     "languageId": "r"
    }
   },
   "outputs": [],
   "source": [
    "# Asegúrate de que lista_proteinas sea un vector\n",
    "lista_proteinas_2 <- as.character(lista_proteinas)\n",
    "\n",
    "# Guardar la lista de proteínas en un archivo CSV sin la columna X y sin comillas\n",
    "writeLines(lista_proteinas_2, \"lista_proteinas_Lactobacillus_acidophilus_KLDS1.0901.csv\")"
   ]
  },
  {
   "cell_type": "code",
   "execution_count": 17,
   "metadata": {
    "vscode": {
     "languageId": "r"
    }
   },
   "outputs": [],
   "source": [
    "# Cargar el archivo CSV de nuevo en R\n",
    "lista_proteinas_cargado <- read.csv(\"lista_proteinas_Lactobacillus_acidophilus_KLDS1.0901.csv\", header = FALSE)\n",
    "\n",
    "# Renombrar la columna si es necesario\n",
    "colnames(lista_proteinas_cargado) <- \"uniprotswissprot\""
   ]
  },
  {
   "cell_type": "code",
   "execution_count": 18,
   "metadata": {
    "vscode": {
     "languageId": "r"
    }
   },
   "outputs": [
    {
     "data": {
      "text/html": [
       "<table class=\"dataframe\">\n",
       "<caption>A data.frame: 4 × 1</caption>\n",
       "<thead>\n",
       "\t<tr><th scope=col>uniprotswissprot</th></tr>\n",
       "\t<tr><th scope=col>&lt;chr&gt;</th></tr>\n",
       "</thead>\n",
       "<tbody>\n",
       "\t<tr><td>P47895</td></tr>\n",
       "\t<tr><td>P55017</td></tr>\n",
       "\t<tr><td>P10145</td></tr>\n",
       "\t<tr><td>P18146</td></tr>\n",
       "</tbody>\n",
       "</table>\n"
      ],
      "text/latex": [
       "A data.frame: 4 × 1\n",
       "\\begin{tabular}{l}\n",
       " uniprotswissprot\\\\\n",
       " <chr>\\\\\n",
       "\\hline\n",
       "\t P47895\\\\\n",
       "\t P55017\\\\\n",
       "\t P10145\\\\\n",
       "\t P18146\\\\\n",
       "\\end{tabular}\n"
      ],
      "text/markdown": [
       "\n",
       "A data.frame: 4 × 1\n",
       "\n",
       "| uniprotswissprot &lt;chr&gt; |\n",
       "|---|\n",
       "| P47895 |\n",
       "| P55017 |\n",
       "| P10145 |\n",
       "| P18146 |\n",
       "\n"
      ],
      "text/plain": [
       "  uniprotswissprot\n",
       "1 P47895          \n",
       "2 P55017          \n",
       "3 P10145          \n",
       "4 P18146          "
      ]
     },
     "metadata": {},
     "output_type": "display_data"
    }
   ],
   "source": [
    "lista_proteinas_cargado"
   ]
  },
  {
   "cell_type": "markdown",
   "metadata": {},
   "source": [
    "BIOGRID"
   ]
  },
  {
   "cell_type": "code",
   "execution_count": 15,
   "metadata": {
    "vscode": {
     "languageId": "r"
    }
   },
   "outputs": [
    {
     "name": "stderr",
     "output_type": "stream",
     "text": [
      "\n",
      "Attaching package: 'httr'\n",
      "\n",
      "\n",
      "The following object is masked from 'package:Biobase':\n",
      "\n",
      "    content\n",
      "\n",
      "\n"
     ]
    }
   ],
   "source": [
    "# Ejemplo de consulta a BioGRID\n",
    "library(RCurl)  # Para realizar solicitudes HTTP\n",
    "library(XML)    # Para trabajar con XML/HTML\n",
    "library(httr)\n",
    "library(biomaRt)\n",
    "library(org.Hs.eg.db)\n"
   ]
  },
  {
   "cell_type": "code",
   "execution_count": 16,
   "metadata": {
    "vscode": {
     "languageId": "r"
    }
   },
   "outputs": [],
   "source": [
    "# Ejemplo de consulta a BioGRID utilizando una API (adaptar según la API específica)\n",
    "base_url <- \"http://webservice.thebiogrid.org\"\n",
    "method <- \"/interactions\""
   ]
  },
  {
   "cell_type": "code",
   "execution_count": 23,
   "metadata": {
    "vscode": {
     "languageId": "r"
    }
   },
   "outputs": [],
   "source": [
    "# Definir la URL de la API BioGRID para obtener las interacciones del gen MDM2\n",
    "# Ejemplo de consulta a BioGRID utilizando una API (adaptar según la API específica)\n",
    "base_url <- \"http://webservice.thebiogrid.org\"\n",
    "method <- \"/interactions\"\n",
    "api_key <- \"2a4e2455be91b4c686b17f26b16cdeb9\"\n",
    "\n",
    "# Construir la URL de consulta con parámetros adecuados para genes\n",
    "query_url <- paste(base_url, method, \"?geneList=\", paste(genes_ids, collapse = \"|\"), \"&searchids=true&includeInteractors=true&accesskey=\", api_key, sep = \"\")\n",
    "\n",
    "# Realizar la solicitud HTTP\n",
    "result <- getURL(query_url)"
   ]
  },
  {
   "cell_type": "code",
   "execution_count": 18,
   "metadata": {
    "vscode": {
     "languageId": "r"
    }
   },
   "outputs": [
    {
     "name": "stderr",
     "output_type": "stream",
     "text": [
      "Warning message in scan(file = file, what = what, sep = sep, quote = quote, dec = dec, :\n",
      "\"EOF within quoted string\"\n",
      "Warning message:\n",
      "\"package 'igraph' was built under R version 4.3.3\"\n",
      "\n",
      "Attaching package: 'igraph'\n",
      "\n",
      "\n",
      "The following object is masked from 'package:clusterProfiler':\n",
      "\n",
      "    simplify\n",
      "\n",
      "\n",
      "The following object is masked from 'package:IRanges':\n",
      "\n",
      "    union\n",
      "\n",
      "\n",
      "The following object is masked from 'package:S4Vectors':\n",
      "\n",
      "    union\n",
      "\n",
      "\n",
      "The following objects are masked from 'package:BiocGenerics':\n",
      "\n",
      "    normalize, path, union\n",
      "\n",
      "\n",
      "The following objects are masked from 'package:stats':\n",
      "\n",
      "    decompose, spectrum\n",
      "\n",
      "\n",
      "The following object is masked from 'package:base':\n",
      "\n",
      "    union\n",
      "\n",
      "\n"
     ]
    },
    {
     "data": {
      "image/png": "[encoded data removed]",
      "text/plain": [
       "Plot with title \"\""
      ]
     },
     "metadata": {
      "image/png": {
       "height": 420,
       "width": 420
      }
     },
     "output_type": "display_data"
    }
   ],
   "source": [
    "# Suponiendo que `result` contiene los datos de interacciones de BioGRID en formato TSV\n",
    "\n",
    "#Intenta leer el archivo TSV con manejo de líneas incompletas\n",
    "interacciones <- read.table(text = result, sep = \"\\t\", header = FALSE, fill = TRUE)\n",
    "\n",
    "# Verificar si se leyeron datos válidos\n",
    "if (length(interacciones) > 0) {\n",
    "  # Asignar nombres de columnas según la estructura de BioGRID\n",
    "  col_names <- c(\"ID1\", \"ID2\", \"Gen1\", \"Gen2\", \"Método\", \"Tipo\", \n",
    "                 \"Autor\", \"ID_Pub\", \"Tax1\", \"Tax2\", \"Calidad\",\n",
    "                 rep(\"-\", times = ncol(interacciones) - 11), \"BaseDatos\")\n",
    "  \n",
    "  # Ajustar el vector de nombres si es necesario (puede ser que BioGRID devuelva menos columnas)\n",
    "  col_names <- head(col_names, ncol(interacciones))\n",
    "  \n",
    "  # Asignar nombres de columnas\n",
    "  colnames(interacciones) <- col_names\n",
    "  \n",
    "  # Seleccionar solo las columnas relevantes (por ejemplo, ID1 e ID2 son los identificadores de proteínas)\n",
    "  interacciones <- interacciones[, c(\"ID1\", \"ID2\")]\n",
    "  \n",
    "  # Verificar si hay filas duplicadas y eliminarlas si es necesario\n",
    "  interacciones <- unique(interacciones)\n",
    "  \n",
    "  \n",
    "  # Crear un grafo dirigido usando igraph\n",
    "  library(igraph)\n",
    "  \n",
    "  # Crear un grafo vacío con los nodos de interacciones únicas\n",
    "  grafo <- graph_from_data_frame(d = interacciones, directed = TRUE)\n",
    "  \n",
    "  # Ajustar el layout para evitar superposiciones\n",
    "  layout <- layout_with_fr(grafo, weights = E(grafo)$weight)\n",
    "  \n",
    "  # Visualizar el grafo con un layout personalizado\n",
    "  plot(grafo, layout = layout, vertex.label.dist = 0.5, vertex.size = 8, edge.arrow.size = 0.5,\n",
    "       vertex.label.cex = 0.8, edge.curved = 0.2, margin = 0.1)\n",
    "  \n",
    "} else {\n",
    "  # Manejar el caso de que no se hayan leído datos válidos\n",
    "  print(\"No se pudieron leer datos válidos.\")\n",
    "}\n"
   ]
  },
  {
   "cell_type": "markdown",
   "metadata": {},
   "source": [
    "Para ver la lista de organismos disponibles, sólo están: 224308\tBacillus subtilis (168)"
   ]
  },
  {
   "cell_type": "markdown",
   "metadata": {},
   "source": [
    "https://webservice.thebiogrid.org/organisms/?accesskey=2a4e2455be91b4c686b17f26b16cdeb9"
   ]
  },
  {
   "cell_type": "code",
   "execution_count": 99,
   "metadata": {
    "vscode": {
     "languageId": "r"
    }
   },
   "outputs": [
    {
     "name": "stdout",
     "output_type": "stream",
     "text": [
      " [1] V1  V2  V3  V4  V5  V6  V7  V8  V9  V10 V11 V12 V13 V14 V15 V16 V17 V18 V19\n",
      "[20] V20 V21 V22 V23 V24\n",
      "<0 rows> (or 0-length row.names)\n"
     ]
    }
   ],
   "source": [
    "# Filtrar interacciones entre Homo sapiens y Fusobacterium\n",
    "interacciones_human_fusobacterium <- interacciones[\n",
    "  (interacciones$Tax1 == \"Homo sapiens\" & grepl(\"Fusobacterium\", interacciones$Tax2)) |\n",
    "  (interacciones$Tax2 == \"Homo sapiens\" & grepl(\"Fusobacterium\", interacciones$Tax1)),\n",
    "]\n",
    "\n",
    "# Mostrar las interacciones encontradas\n",
    "print(interacciones_human_fusobacterium)\n"
   ]
  },
  {
   "cell_type": "markdown",
   "metadata": {},
   "source": [
    "\n",
    "Para analizar las rutas implicadas en las interacciones proteína-proteína, generalmente se ineteresa más las interacciones físicas. Esto se debe a que las interacciones físicas suelen implicar un contacto directo entre las proteínas, formando complejos proteicos que están directamente involucrados en procesos celulares y biológicos específicos. Estas interacciones son fundamentales para comprender cómo las proteínas cooperan entre sí para llevar a cabo funciones biológicas."
   ]
  },
  {
   "cell_type": "code",
   "execution_count": 40,
   "metadata": {
    "vscode": {
     "languageId": "r"
    }
   },
   "outputs": [
    {
     "name": "stderr",
     "output_type": "stream",
     "text": [
      "Warning message in scan(file = file, what = what, sep = sep, quote = quote, dec = dec, :\n",
      "\"EOF within quoted string\"\n"
     ]
    },
    {
     "data": {
      "image/png": "[encoded data removed]",
      "text/plain": [
       "Plot with title \"\""
      ]
     },
     "metadata": {
      "image/png": {
       "height": 420,
       "width": 420
      }
     },
     "output_type": "display_data"
    }
   ],
   "source": [
    "#Intenta leer el archivo TSV con manejo de líneas incompletas\n",
    "interacciones <- read.table(text = result, sep = \"\\t\", header = FALSE, fill = TRUE)\n",
    "\n",
    "# Verificar si se leyeron datos válidos\n",
    "if (length(interacciones) > 0) {\n",
    "  # Asignar nombres de columnas según la estructura de BioGRID\n",
    "  col_names <- c(\"V1\", \"V2\", \"V3\", \"V4\", \"V5\", \"V6\", \"V7\", \"V8\", \"V9\", \"V10\",\n",
    "                 \"V11\", \"V12\", \"V13\", \"V14\", \"V15\", \"V16\", \"V17\", \"V18\", \"V19\", \"V20\",\n",
    "                 \"V21\", \"V22\", \"V23\", \"V24\")\n",
    "  \n",
    "  # Ajustar el vector de nombres si es necesario (puede ser que BioGRID devuelva menos columnas)\n",
    "  col_names <- head(col_names, ncol(interacciones))\n",
    "  \n",
    "  # Asignar nombres de columnas\n",
    "  colnames(interacciones) <- col_names\n",
    "\n",
    "  # Verificar si hay filas duplicadas y eliminarlas si es necesario\n",
    "  interacciones_fisicas <- unique(interacciones)\n",
    "  \n",
    "  # Filtrar por interacciones físicas con alta calidad y seleccionar las primeras 10\n",
    "  interacciones_fisicas <- interacciones[interacciones$V18 != \"Low Throughput\" & interacciones$V13 == \"physical\", c(\"V8\", \"V9\")]\n",
    "  interacciones_fisicas <- interacciones_fisicas[1:19, ]\n",
    "  \n",
    "  \n",
    "  \n",
    "  # Crear un grafo dirigido usando igraph\n",
    "  library(igraph)\n",
    "  \n",
    "  # Crear un grafo vacío con los nodos de interacciones únicas\n",
    "  grafo <- graph_from_data_frame(d = interacciones_fisicas, directed = TRUE)\n",
    "  \n",
    "  # Ajustar el layout para evitar superposiciones\n",
    "  layout <- layout_with_fr(grafo, weights = E(grafo)$weight)\n",
    "  \n",
    "  # Visualizar el grafo con un layout personalizado\n",
    "  plot(grafo, layout = layout, vertex.label.dist = 0.5, vertex.size = 8, edge.arrow.size = 0.5,\n",
    "       vertex.label.cex = 0.8, edge.curved = 0.2, margin = 0.1)\n",
    "  \n",
    "} else {\n",
    "  # Manejar el caso de que no se hayan leído datos válidos\n",
    "  print(\"No se pudieron leer datos válidos.\")\n",
    "}\n"
   ]
  },
  {
   "cell_type": "code",
   "execution_count": 41,
   "metadata": {
    "vscode": {
     "languageId": "r"
    }
   },
   "outputs": [
    {
     "data": {
      "image/png": "[encoded data removed]",
      "text/plain": [
       "Plot with title \"\""
      ]
     },
     "metadata": {
      "image/png": {
       "height": 420,
       "width": 420
      }
     },
     "output_type": "display_data"
    }
   ],
   "source": [
    "# Convertir el grafo dirigido en no dirigido\n",
    "grafo_no_dirigido <- as.undirected(grafo, mode = \"collapse\")\n",
    "# Detectar comunidades usando el algoritmo de Louvain en el grafo no dirigido\n",
    "comunidades <- cluster_louvain(grafo_no_dirigido)\n",
    "plot(comunidades, grafo_no_dirigido, layout = layout)\n"
   ]
  },
  {
   "cell_type": "code",
   "execution_count": 42,
   "metadata": {
    "vscode": {
     "languageId": "r"
    }
   },
   "outputs": [
    {
     "data": {
      "image/png": "[encoded data removed]",
      "text/plain": [
       "Plot with title \"\""
      ]
     },
     "metadata": {
      "image/png": {
       "height": 420,
       "width": 420
      }
     },
     "output_type": "display_data"
    }
   ],
   "source": [
    "# Detectar comunidades usando el método de propagación de etiquetas en el grafo dirigido\n",
    "comunidades_label_prop <- cluster_label_prop(grafo, weights = NA)\n",
    "plot(comunidades_label_prop, grafo, layout = layout)\n"
   ]
  },
  {
   "cell_type": "code",
   "execution_count": 43,
   "metadata": {
    "vscode": {
     "languageId": "r"
    }
   },
   "outputs": [
    {
     "data": {
      "text/html": [
       "<table class=\"dataframe\">\n",
       "<caption>A data.frame: 19 × 2</caption>\n",
       "<thead>\n",
       "\t<tr><th></th><th scope=col>V8</th><th scope=col>V9</th></tr>\n",
       "\t<tr><th></th><th scope=col>&lt;chr&gt;</th><th scope=col>&lt;chr&gt;</th></tr>\n",
       "</thead>\n",
       "<tbody>\n",
       "\t<tr><th scope=row>26</th><td>SREBF2 </td><td>EGR1   </td></tr>\n",
       "\t<tr><th scope=row>45</th><td>ELAVL1 </td><td>ALDH1A3</td></tr>\n",
       "\t<tr><th scope=row>67</th><td>BAG6   </td><td>CXCL8  </td></tr>\n",
       "\t<tr><th scope=row>68</th><td>ARFGAP3</td><td>CXCL8  </td></tr>\n",
       "\t<tr><th scope=row>69</th><td>CXCL8  </td><td>POMGNT1</td></tr>\n",
       "\t<tr><th scope=row>70</th><td>CXCL8  </td><td>SGTA   </td></tr>\n",
       "\t<tr><th scope=row>79</th><td>EGR1   </td><td>FOSL2  </td></tr>\n",
       "\t<tr><th scope=row>80</th><td>EGR1   </td><td>JUNB   </td></tr>\n",
       "\t<tr><th scope=row>81</th><td>EGR1   </td><td>JUND   </td></tr>\n",
       "\t<tr><th scope=row>82</th><td>EGR1   </td><td>MAGEB2 </td></tr>\n",
       "\t<tr><th scope=row>83</th><td>EGR1   </td><td>PSMD2  </td></tr>\n",
       "\t<tr><th scope=row>84</th><td>EGR1   </td><td>MED6   </td></tr>\n",
       "\t<tr><th scope=row>85</th><td>EGR1   </td><td>POP1   </td></tr>\n",
       "\t<tr><th scope=row>86</th><td>EGR1   </td><td>DNAJC8 </td></tr>\n",
       "\t<tr><th scope=row>87</th><td>EGR1   </td><td>PHIP   </td></tr>\n",
       "\t<tr><th scope=row>88</th><td>EGR1   </td><td>ARID2  </td></tr>\n",
       "\t<tr><th scope=row>89</th><td>Bmpr1a </td><td>SLC12A3</td></tr>\n",
       "\t<tr><th scope=row>90</th><td>MCM2   </td><td>ALDH1A3</td></tr>\n",
       "\t<tr><th scope=row>94</th><td>NFATC2 </td><td>EGR1   </td></tr>\n",
       "</tbody>\n",
       "</table>\n"
      ],
      "text/latex": [
       "A data.frame: 19 × 2\n",
       "\\begin{tabular}{r|ll}\n",
       "  & V8 & V9\\\\\n",
       "  & <chr> & <chr>\\\\\n",
       "\\hline\n",
       "\t26 & SREBF2  & EGR1   \\\\\n",
       "\t45 & ELAVL1  & ALDH1A3\\\\\n",
       "\t67 & BAG6    & CXCL8  \\\\\n",
       "\t68 & ARFGAP3 & CXCL8  \\\\\n",
       "\t69 & CXCL8   & POMGNT1\\\\\n",
       "\t70 & CXCL8   & SGTA   \\\\\n",
       "\t79 & EGR1    & FOSL2  \\\\\n",
       "\t80 & EGR1    & JUNB   \\\\\n",
       "\t81 & EGR1    & JUND   \\\\\n",
       "\t82 & EGR1    & MAGEB2 \\\\\n",
       "\t83 & EGR1    & PSMD2  \\\\\n",
       "\t84 & EGR1    & MED6   \\\\\n",
       "\t85 & EGR1    & POP1   \\\\\n",
       "\t86 & EGR1    & DNAJC8 \\\\\n",
       "\t87 & EGR1    & PHIP   \\\\\n",
       "\t88 & EGR1    & ARID2  \\\\\n",
       "\t89 & Bmpr1a  & SLC12A3\\\\\n",
       "\t90 & MCM2    & ALDH1A3\\\\\n",
       "\t94 & NFATC2  & EGR1   \\\\\n",
       "\\end{tabular}\n"
      ],
      "text/markdown": [
       "\n",
       "A data.frame: 19 × 2\n",
       "\n",
       "| <!--/--> | V8 &lt;chr&gt; | V9 &lt;chr&gt; |\n",
       "|---|---|---|\n",
       "| 26 | SREBF2  | EGR1    |\n",
       "| 45 | ELAVL1  | ALDH1A3 |\n",
       "| 67 | BAG6    | CXCL8   |\n",
       "| 68 | ARFGAP3 | CXCL8   |\n",
       "| 69 | CXCL8   | POMGNT1 |\n",
       "| 70 | CXCL8   | SGTA    |\n",
       "| 79 | EGR1    | FOSL2   |\n",
       "| 80 | EGR1    | JUNB    |\n",
       "| 81 | EGR1    | JUND    |\n",
       "| 82 | EGR1    | MAGEB2  |\n",
       "| 83 | EGR1    | PSMD2   |\n",
       "| 84 | EGR1    | MED6    |\n",
       "| 85 | EGR1    | POP1    |\n",
       "| 86 | EGR1    | DNAJC8  |\n",
       "| 87 | EGR1    | PHIP    |\n",
       "| 88 | EGR1    | ARID2   |\n",
       "| 89 | Bmpr1a  | SLC12A3 |\n",
       "| 90 | MCM2    | ALDH1A3 |\n",
       "| 94 | NFATC2  | EGR1    |\n",
       "\n"
      ],
      "text/plain": [
       "   V8      V9     \n",
       "26 SREBF2  EGR1   \n",
       "45 ELAVL1  ALDH1A3\n",
       "67 BAG6    CXCL8  \n",
       "68 ARFGAP3 CXCL8  \n",
       "69 CXCL8   POMGNT1\n",
       "70 CXCL8   SGTA   \n",
       "79 EGR1    FOSL2  \n",
       "80 EGR1    JUNB   \n",
       "81 EGR1    JUND   \n",
       "82 EGR1    MAGEB2 \n",
       "83 EGR1    PSMD2  \n",
       "84 EGR1    MED6   \n",
       "85 EGR1    POP1   \n",
       "86 EGR1    DNAJC8 \n",
       "87 EGR1    PHIP   \n",
       "88 EGR1    ARID2  \n",
       "89 Bmpr1a  SLC12A3\n",
       "90 MCM2    ALDH1A3\n",
       "94 NFATC2  EGR1   "
      ]
     },
     "metadata": {},
     "output_type": "display_data"
    }
   ],
   "source": [
    "interacciones_fisicas"
   ]
  },
  {
   "cell_type": "code",
   "execution_count": 30,
   "metadata": {
    "vscode": {
     "languageId": "r"
    }
   },
   "outputs": [
    {
     "name": "stderr",
     "output_type": "stream",
     "text": [
      "Warning message in scan(file = file, what = what, sep = sep, quote = quote, dec = dec, :\n",
      "\"EOF within quoted string\"\n"
     ]
    },
    {
     "name": "stdout",
     "output_type": "stream",
     "text": [
      "'data.frame':\t94 obs. of  24 variables:\n",
      " $ V1 : int  5262 5271 255330 255331 255764 263015 263016 263017 263018 276384 ...\n",
      " $ V2 : int  2033 1387 1958 1958 3576 1387 2033 2033 1387 1958 ...\n",
      " $ V3 : int  1958 1958 1051 1051 6382 1958 1958 1958 1958 4665 ...\n",
      " $ V4 : int  108347 107777 108278 108278 109790 107777 108347 108347 107777 108278 ...\n",
      " $ V5 : int  108278 108278 107480 107480 112284 108278 108278 108278 108278 110747 ...\n",
      " $ V6 : chr  \"RP1-85F18.1\" \"-\" \"-\" \"-\" ...\n",
      " $ V7 : chr  \"-\" \"-\" \"PP9092\" \"PP9092\" ...\n",
      " $ V8 : chr  \"EP300\" \"CREBBP\" \"EGR1\" \"EGR1\" ...\n",
      " $ V9 : chr  \"EGR1\" \"EGR1\" \"CEBPB\" \"CEBPB\" ...\n",
      " $ V10: chr  \"KAT3B|RSTS2|p300\" \"CBP|KAT3A|RSTS\" \"AT225|G0S30|KROX-24|NGFI-A|TIS8|ZIF-268|ZNF225\" \"AT225|G0S30|KROX-24|NGFI-A|TIS8|ZIF-268|ZNF225\" ...\n",
      " $ V11: chr  \"AT225|G0S30|KROX-24|NGFI-A|TIS8|ZIF-268|ZNF225\" \"AT225|G0S30|KROX-24|NGFI-A|TIS8|ZIF-268|ZNF225\" \"C/EBP-beta|IL6DBP|NF-IL6|TCF5\" \"C/EBP-beta|IL6DBP|NF-IL6|TCF5\" ...\n",
      " $ V12: chr  \"Two-hybrid\" \"Two-hybrid\" \"Two-hybrid\" \"Reconstituted Complex\" ...\n",
      " $ V13: chr  \"physical\" \"physical\" \"physical\" \"physical\" ...\n",
      " $ V14: chr  \"Silverman ES (1998)\" \"Silverman ES (1998)\" \"Zhang F (2003)\" \"Zhang F (2003)\" ...\n",
      " $ V15: int  9806899 9806899 12947119 12947119 12902511 9806899 9806899 9806899 9806899 8668170 ...\n",
      " $ V16: int  9606 9606 9606 9606 9606 9606 9606 9606 9606 9606 ...\n",
      " $ V17: int  9606 9606 9606 9606 9606 9606 9606 9606 9606 9606 ...\n",
      " $ V18: chr  \"Low Throughput\" \"Low Throughput\" \"Low Throughput\" \"Low Throughput\" ...\n",
      " $ V19: chr  \"-\" \"-\" \"-\" \"-\" ...\n",
      " $ V20: chr  \"-\" \"-\" \"-\" \"-\" ...\n",
      " $ V21: chr  \"-\" \"-\" \"-\" \"-\" ...\n",
      " $ V22: chr  \"-\" \"-\" \"-\" \"-\" ...\n",
      " $ V23: chr  \"-\" \"-\" \"-\" \"-\" ...\n",
      " $ V24: chr  \"BIOGRID\" \"BIOGRID\" \"BIOGRID\" \"BIOGRID\" ...\n"
     ]
    }
   ],
   "source": [
    "#Intenta leer el archivo TSV con manejo de líneas incompletas\n",
    "interacciones <- read.table(text = result, sep = \"\\t\", header = FALSE, fill = TRUE)\n",
    "str(interacciones)"
   ]
  },
  {
   "cell_type": "markdown",
   "metadata": {},
   "source": [
    "https://wiki.thebiogrid.org/doku.php/biogrid_tab_version_2.0\n",
    "Header Definitions\n",
    "The first line of a BioGRID Tab 2.0 file is the heading line and starts with a hash (#). This line is purely for informational purposes and gives a brief description of the content contained in each column. If you are scripting the use of this file, you can simply ignore it.\n",
    "\n",
    "Interaction File Column Definitions\n",
    "The column contents of BioGRID Interaction Tab 2.0 files should be as follows:\n",
    "\n",
    "BioGRID Interaction ID. A unique identifier for each interaction within the BioGRID database. Can be used to link to BioGRID interaction pages. For example: http://thebiogrid.org/interaction/616539\n",
    "-Entrez Gene ID for Interactor A. The identifier from the Entrez-Gene database that corresponds to Interactor A. If no Entrez Gene ID is available, this will be a “-”.\n",
    "-Entrez Gene ID for Interactor B. Same structure as column 2.\n",
    "BioGRID ID for Interactor A. The identifier in the BioGRID database that corresponds to Interactor A. These identifiers are best used for creating links to the BioGRID from your own websites or applications. To link to a page within our site, simply append the URL: http://thebiogrid.org/ID/ to each ID. For example, http://thebiogrid.org/31623/.\n",
    "BioGRID ID for Interactor B. Same structure as column 4.\n",
    "Systematic name for Interactor A. A plain text systematic name if known for interactor A. Will be a “-” if no name is available.\n",
    "Systematic name for Interactor B. Same structure as column 6.\n",
    "Official symbol for Interactor A. A common gene name/official symbol for interactor A. Will be a “-” if no name is available.\n",
    "Official symbol for Interactor B. Same structure as column 8.\n",
    "Synonyms/Aliases for Interactor A. A “|” separated list of alternate identifiers for interactor A. Will be “-” if no aliases are available.\n",
    "Synonyms/Aliases for Interactor B. Same stucture as column 10.\n",
    "Experimental System Name. One of the many Experimental Evidence Codes supported by the BioGRID.\n",
    "Experimental System Type. This will be either “physical” or “genetic” as a classification of the Experimental System Name.\n",
    "First author surname of the publication in which the interaction has been shown, optionally followed by additional indicators, e.g. Stephenson A (2005)\n",
    "Pubmed ID of the publication in which the interaction has been shown.\n",
    "Organism ID for Interactor A. This is the NCBI Taxonomy ID for Interactor A.\n",
    "Organism ID for Interactor B. Same structure as 16.\n",
    "Interaction Throughput. This will be either High Throughput, Low Throughput or Both (separated by “|”).\n",
    "Quantitative Score. This will be a positive for negative value recorded by the original publication depicting P-Values, Confidence Score, SGA Score, etc. Will be “-” if no score is reported.\n",
    "Post Translational Modification. For any Biochemical Activity experiments, this field will be filled with the associated post translational modification. Will be “-” if no modification is reported.\n",
    "Phenotypes. If any phenotype info is recorded, it will be provided here separated by “|”. Each phenotype will be of the format <phenotype>[<phenotype qualifier>]:<phenotype type>. Note that the phenotype types and qualifiers are optional and will only be present where recorded. Phenotypes may also have multiple qualifiers in which case unique qualifiers will be separated by carat (^). If no phenotype information is available, this field will contain “-”.\n",
    "Qualifications. If additional plain text information was recorded for an interaction, it will be listed with unique qualifiers separated by “|”. If no qualification is available, this field will contain “-”.\n",
    "Tags. If an interaction has been tagged with additional classifications, they will be provided in this column separated by “|”. If no tag information is available, this field will contain “-”.\n",
    "Source Database. This field will contain the name of the database in which this interaction was provided.\n",
    "All columns are mandatory so columns with no values are filled with “-“"
   ]
  },
  {
   "cell_type": "markdown",
   "metadata": {},
   "source": []
  },
  {
   "cell_type": "code",
   "execution_count": 32,
   "metadata": {
    "vscode": {
     "languageId": "r"
    }
   },
   "outputs": [],
   "source": [
    "# Guardar la lista de proteínas en un archivo CSV\n",
    "write.csv(interacciones, file = \"interacciones.csv\", row.names = FALSE)"
   ]
  },
  {
   "cell_type": "code",
   "execution_count": 31,
   "metadata": {
    "vscode": {
     "languageId": "r"
    }
   },
   "outputs": [
    {
     "name": "stdout",
     "output_type": "stream",
     "text": [
      "[1] \"http://webservice.thebiogrid.org/interactions?geneList=220|3576|1958|6559&searchids=true&includeInteractors=true&accesskey=2a4e2455be91b4c686b17f26b16cdeb9\"\n"
     ]
    }
   ],
   "source": [
    "print(query_url)"
   ]
  },
  {
   "cell_type": "code",
   "execution_count": 35,
   "metadata": {
    "vscode": {
     "languageId": "r"
    }
   },
   "outputs": [
    {
     "name": "stderr",
     "output_type": "stream",
     "text": [
      "Warning message in scan(file = file, what = what, sep = sep, quote = quote, dec = dec, :\n",
      "\"EOF within quoted string\"\n"
     ]
    },
    {
     "name": "stdout",
     "output_type": "stream",
     "text": [
      "'data.frame':\t94 obs. of  24 variables:\n",
      " $ V1 : int  5262 5271 255330 255331 255764 263015 263016 263017 263018 276384 ...\n",
      " $ V2 : int  2033 1387 1958 1958 3576 1387 2033 2033 1387 1958 ...\n",
      " $ V3 : int  1958 1958 1051 1051 6382 1958 1958 1958 1958 4665 ...\n",
      " $ V4 : int  108347 107777 108278 108278 109790 107777 108347 108347 107777 108278 ...\n",
      " $ V5 : int  108278 108278 107480 107480 112284 108278 108278 108278 108278 110747 ...\n",
      " $ V6 : chr  \"RP1-85F18.1\" \"-\" \"-\" \"-\" ...\n",
      " $ V7 : chr  \"-\" \"-\" \"PP9092\" \"PP9092\" ...\n",
      " $ V8 : chr  \"EP300\" \"CREBBP\" \"EGR1\" \"EGR1\" ...\n",
      " $ V9 : chr  \"EGR1\" \"EGR1\" \"CEBPB\" \"CEBPB\" ...\n",
      " $ V10: chr  \"KAT3B|RSTS2|p300\" \"CBP|KAT3A|RSTS\" \"AT225|G0S30|KROX-24|NGFI-A|TIS8|ZIF-268|ZNF225\" \"AT225|G0S30|KROX-24|NGFI-A|TIS8|ZIF-268|ZNF225\" ...\n",
      " $ V11: chr  \"AT225|G0S30|KROX-24|NGFI-A|TIS8|ZIF-268|ZNF225\" \"AT225|G0S30|KROX-24|NGFI-A|TIS8|ZIF-268|ZNF225\" \"C/EBP-beta|IL6DBP|NF-IL6|TCF5\" \"C/EBP-beta|IL6DBP|NF-IL6|TCF5\" ...\n",
      " $ V12: chr  \"Two-hybrid\" \"Two-hybrid\" \"Two-hybrid\" \"Reconstituted Complex\" ...\n",
      " $ V13: chr  \"physical\" \"physical\" \"physical\" \"physical\" ...\n",
      " $ V14: chr  \"Silverman ES (1998)\" \"Silverman ES (1998)\" \"Zhang F (2003)\" \"Zhang F (2003)\" ...\n",
      " $ V15: int  9806899 9806899 12947119 12947119 12902511 9806899 9806899 9806899 9806899 8668170 ...\n",
      " $ V16: int  9606 9606 9606 9606 9606 9606 9606 9606 9606 9606 ...\n",
      " $ V17: int  9606 9606 9606 9606 9606 9606 9606 9606 9606 9606 ...\n",
      " $ V18: chr  \"Low Throughput\" \"Low Throughput\" \"Low Throughput\" \"Low Throughput\" ...\n",
      " $ V19: chr  \"-\" \"-\" \"-\" \"-\" ...\n",
      " $ V20: chr  \"-\" \"-\" \"-\" \"-\" ...\n",
      " $ V21: chr  \"-\" \"-\" \"-\" \"-\" ...\n",
      " $ V22: chr  \"-\" \"-\" \"-\" \"-\" ...\n",
      " $ V23: chr  \"-\" \"-\" \"-\" \"-\" ...\n",
      " $ V24: chr  \"BIOGRID\" \"BIOGRID\" \"BIOGRID\" \"BIOGRID\" ...\n"
     ]
    }
   ],
   "source": [
    "# Especifica la ruta de tu archivo interacciones.txt\n",
    "file_path <- \"interactions.txt\"\n",
    "\n",
    "# Leer el archivo de interacciones\n",
    "interacciones <- read.table(file_path, sep = \"\\t\", header = FALSE, fill = TRUE)\n",
    "str(interacciones)"
   ]
  }
 ],
 "metadata": {
  "kernelspec": {
   "display_name": "R",
   "language": "R",
   "name": "ir"
  },
  "language_info": {
   "codemirror_mode": "r",
   "file_extension": ".r",
   "mimetype": "text/x-r-source",
   "name": "R",
   "pygments_lexer": "r",
   "version": "4.3.2"
  }
 },
 "nbformat": 4,
 "nbformat_minor": 2
}

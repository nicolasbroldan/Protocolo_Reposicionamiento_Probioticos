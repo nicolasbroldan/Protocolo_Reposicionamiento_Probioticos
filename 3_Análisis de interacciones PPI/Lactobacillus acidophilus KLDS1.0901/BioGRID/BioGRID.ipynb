{
 "cells": [
  {
   "cell_type": "code",
   "execution_count": 1,
   "metadata": {
    "vscode": {
     "languageId": "r"
    }
   },
   "outputs": [
    {
     "name": "stderr",
     "output_type": "stream",
     "text": [
      "Loading required package: AnnotationDbi\n",
      "\n",
      "Loading required package: stats4\n",
      "\n",
      "Loading required package: BiocGenerics\n",
      "\n",
      "\n",
      "Attaching package: 'BiocGenerics'\n",
      "\n",
      "\n",
      "The following objects are masked from 'package:stats':\n",
      "\n",
      "    IQR, mad, sd, var, xtabs\n",
      "\n",
      "\n",
      "The following objects are masked from 'package:base':\n",
      "\n",
      "    anyDuplicated, aperm, append, as.data.frame, basename, cbind,\n",
      "    colnames, dirname, do.call, duplicated, eval, evalq, Filter, Find,\n",
      "    get, grep, grepl, intersect, is.unsorted, lapply, Map, mapply,\n",
      "    match, mget, order, paste, pmax, pmax.int, pmin, pmin.int,\n",
      "    Position, rank, rbind, Reduce, rownames, sapply, setdiff, sort,\n",
      "    table, tapply, union, unique, unsplit, which.max, which.min\n",
      "\n",
      "\n",
      "Loading required package: Biobase\n",
      "\n",
      "Welcome to Bioconductor\n",
      "\n",
      "    Vignettes contain introductory material; view with\n",
      "    'browseVignettes()'. To cite Bioconductor, see\n",
      "    'citation(\"Biobase\")', and for packages 'citation(\"pkgname\")'.\n",
      "\n",
      "\n",
      "Loading required package: IRanges\n",
      "\n",
      "Loading required package: S4Vectors\n",
      "\n",
      "\n",
      "Attaching package: 'S4Vectors'\n",
      "\n",
      "\n",
      "The following object is masked from 'package:utils':\n",
      "\n",
      "    findMatches\n",
      "\n",
      "\n",
      "The following objects are masked from 'package:base':\n",
      "\n",
      "    expand.grid, I, unname\n",
      "\n",
      "\n",
      "\n",
      "Attaching package: 'IRanges'\n",
      "\n",
      "\n",
      "The following object is masked from 'package:grDevices':\n",
      "\n",
      "    windows\n",
      "\n",
      "\n",
      "\n",
      "\n",
      "Warning message:\n",
      "\"package 'clusterProfiler' was built under R version 4.3.3\"\n",
      "\n",
      "\n",
      "clusterProfiler v4.10.1  For help: https://yulab-smu.top/biomedical-knowledge-mining-book/\n",
      "\n",
      "If you use clusterProfiler in published research, please cite:\n",
      "T Wu, E Hu, S Xu, M Chen, P Guo, Z Dai, T Feng, L Zhou, W Tang, L Zhan, X Fu, S Liu, X Bo, and G Yu. clusterProfiler 4.0: A universal enrichment tool for interpreting omics data. The Innovation. 2021, 2(3):100141\n",
      "\n",
      "\n",
      "Attaching package: 'clusterProfiler'\n",
      "\n",
      "\n",
      "The following object is masked from 'package:AnnotationDbi':\n",
      "\n",
      "    select\n",
      "\n",
      "\n",
      "The following object is masked from 'package:IRanges':\n",
      "\n",
      "    slice\n",
      "\n",
      "\n",
      "The following object is masked from 'package:S4Vectors':\n",
      "\n",
      "    rename\n",
      "\n",
      "\n",
      "The following object is masked from 'package:biomaRt':\n",
      "\n",
      "    select\n",
      "\n",
      "\n",
      "The following object is masked from 'package:stats':\n",
      "\n",
      "    filter\n",
      "\n",
      "\n",
      "'select()' returned 1:1 mapping between keys and columns\n",
      "\n"
     ]
    },
    {
     "data": {
      "text/html": [
       "<style>\n",
       ".list-inline {list-style: none; margin:0; padding: 0}\n",
       ".list-inline>li {display: inline-block}\n",
       ".list-inline>li:not(:last-child)::after {content: \"\\00b7\"; padding: 0 .5ex}\n",
       "</style>\n",
       "<ol class=list-inline><li>'220'</li><li>'3576'</li><li>'1958'</li><li>'6559'</li></ol>\n"
      ],
      "text/latex": [
       "\\begin{enumerate*}\n",
       "\\item '220'\n",
       "\\item '3576'\n",
       "\\item '1958'\n",
       "\\item '6559'\n",
       "\\end{enumerate*}\n"
      ],
      "text/markdown": [
       "1. '220'\n",
       "2. '3576'\n",
       "3. '1958'\n",
       "4. '6559'\n",
       "\n",
       "\n"
      ],
      "text/plain": [
       "[1] \"220\"  \"3576\" \"1958\" \"6559\""
      ]
     },
     "metadata": {},
     "output_type": "display_data"
    }
   ],
   "source": [
    "library(biomaRt)\n",
    "library(org.Hs.eg.db)\n",
    "library(clusterProfiler)\n",
    "# Leer el archivo CSV\n",
    "data <- read.csv(\"deSeqRes_filtrado_Lactobacillus_acidophilus_KLDS1.0901.csv\")\n",
    "# Filtrar los genes significativos\n",
    "genes_significativos <- subset(data, padj < 0.05)\n",
    "# Extraer la lista de genes significativos\n",
    "lista_genes <- genes_significativos$gene_name\n",
    "# Verificar si los genes son números (posiblemente IDs de Entrez)\n",
    "if (all(grepl(\"^\\\\d+$\", lista_genes))) {\n",
    "    genes_ids <- lista_genes\n",
    "} else {\n",
    "    # Convertir los nombres de genes a IDs de Entrez si son símbolos\n",
    "    genes_ids <- bitr(lista_genes, fromType = \"SYMBOL\", toType = \"ENTREZID\", OrgDb = org.Hs.eg.db)$ENTREZID\n",
    "}\n",
    "genes_ids"
   ]
  },
  {
   "cell_type": "markdown",
   "metadata": {},
   "source": [
    "BIOGRID"
   ]
  },
  {
   "cell_type": "code",
   "execution_count": null,
   "metadata": {
    "vscode": {
     "languageId": "r"
    }
   },
   "outputs": [],
   "source": [
    "# Ejemplo de consulta a BioGRID\n",
    "library(RCurl)  # Para realizar solicitudes HTTP\n",
    "library(XML)    # Para trabajar con XML/HTML\n",
    "library(httr)\n",
    "library(biomaRt)\n",
    "library(org.Hs.eg.db)\n"
   ]
  },
  {
   "cell_type": "code",
   "execution_count": 3,
   "metadata": {
    "vscode": {
     "languageId": "r"
    }
   },
   "outputs": [],
   "source": [
    "# Ejemplo de consulta a BioGRID utilizando una API (adaptar según la API específica)\n",
    "base_url <- \"http://webservice.thebiogrid.org\"\n",
    "method <- \"/interactions\""
   ]
  },
  {
   "cell_type": "code",
   "execution_count": 4,
   "metadata": {
    "vscode": {
     "languageId": "r"
    }
   },
   "outputs": [],
   "source": [
    "# Definir la URL de la API BioGRID para obtener las interacciones del gen MDM2\n",
    "# Ejemplo de consulta a BioGRID utilizando una API (adaptar según la API específica)\n",
    "base_url <- \"http://webservice.thebiogrid.org\"\n",
    "method <- \"/interactions\"\n",
    "api_key <- \"2a4e2455be91b4c686b17f26b16cdeb9\"\n",
    "\n",
    "# Construir la URL de consulta con parámetros adecuados para genes\n",
    "query_url <- paste(base_url, method, \"?geneList=\", paste(genes_ids, collapse = \"|\"), \"&searchids=true&includeInteractors=true&accesskey=\", api_key, sep = \"\")\n",
    "\n",
    "# Realizar la solicitud HTTP\n",
    "result <- getURL(query_url)"
   ]
  },
  {
   "cell_type": "code",
   "execution_count": 5,
   "metadata": {
    "vscode": {
     "languageId": "r"
    }
   },
   "outputs": [
    {
     "name": "stderr",
     "output_type": "stream",
     "text": [
      "Warning message in scan(file = file, what = what, sep = sep, quote = quote, dec = dec, :\n",
      "\"EOF within quoted string\"\n"
     ]
    },
    {
     "name": "stderr",
     "output_type": "stream",
     "text": [
      "Warning message:\n",
      "\"package 'igraph' was built under R version 4.3.3\"\n",
      "\n",
      "Attaching package: 'igraph'\n",
      "\n",
      "\n",
      "The following object is masked from 'package:clusterProfiler':\n",
      "\n",
      "    simplify\n",
      "\n",
      "\n",
      "The following object is masked from 'package:IRanges':\n",
      "\n",
      "    union\n",
      "\n",
      "\n",
      "The following object is masked from 'package:S4Vectors':\n",
      "\n",
      "    union\n",
      "\n",
      "\n",
      "The following objects are masked from 'package:BiocGenerics':\n",
      "\n",
      "    normalize, path, union\n",
      "\n",
      "\n",
      "The following objects are masked from 'package:stats':\n",
      "\n",
      "    decompose, spectrum\n",
      "\n",
      "\n",
      "The following object is masked from 'package:base':\n",
      "\n",
      "    union\n",
      "\n",
      "\n"
     ]
    },
    {
     "data": {
      "image/png": "[encoded data removed]",
      "text/plain": [
       "Plot with title \"\""
      ]
     },
     "metadata": {
      "image/png": {
       "height": 420,
       "width": 420
      }
     },
     "output_type": "display_data"
    }
   ],
   "source": [
    "# Suponiendo que `result` contiene los datos de interacciones de BioGRID en formato TSV\n",
    "\n",
    "#Intenta leer el archivo TSV con manejo de líneas incompletas\n",
    "interacciones <- read.table(text = result, sep = \"\\t\", header = FALSE, fill = TRUE)\n",
    "\n",
    "# Verificar si se leyeron datos válidos\n",
    "if (length(interacciones) > 0) {\n",
    "  # Asignar nombres de columnas según la estructura de BioGRID\n",
    "  col_names <- c(\"ID1\", \"ID2\", \"Gen1\", \"Gen2\", \"Método\", \"Tipo\", \n",
    "                 \"Autor\", \"ID_Pub\", \"Tax1\", \"Tax2\", \"Calidad\",\n",
    "                 rep(\"-\", times = ncol(interacciones) - 11), \"BaseDatos\")\n",
    "  \n",
    "  # Ajustar el vector de nombres si es necesario (puede ser que BioGRID devuelva menos columnas)\n",
    "  col_names <- head(col_names, ncol(interacciones))\n",
    "  \n",
    "  # Asignar nombres de columnas\n",
    "  colnames(interacciones) <- col_names\n",
    "  \n",
    "  # Seleccionar solo las columnas relevantes (por ejemplo, ID1 e ID2 son los identificadores de proteínas)\n",
    "  interacciones <- interacciones[, c(\"ID1\", \"ID2\")]\n",
    "  \n",
    "  # Verificar si hay filas duplicadas y eliminarlas si es necesario\n",
    "  interacciones <- unique(interacciones)\n",
    "  \n",
    "  \n",
    "  # Crear un grafo dirigido usando igraph\n",
    "  library(igraph)\n",
    "  \n",
    "  # Crear un grafo vacío con los nodos de interacciones únicas\n",
    "  grafo <- graph_from_data_frame(d = interacciones, directed = TRUE)\n",
    "  \n",
    "  # Ajustar el layout para evitar superposiciones\n",
    "  layout <- layout_with_fr(grafo, weights = E(grafo)$weight)\n",
    "  \n",
    "  # Visualizar el grafo con un layout personalizado\n",
    "  plot(grafo, layout = layout, vertex.label.dist = 0.5, vertex.size = 8, edge.arrow.size = 0.5,\n",
    "       vertex.label.cex = 0.8, edge.curved = 0.2, margin = 0.1)\n",
    "  \n",
    "} else {\n",
    "  # Manejar el caso de que no se hayan leído datos válidos\n",
    "  print(\"No se pudieron leer datos válidos.\")\n",
    "}\n"
   ]
  },
  {
   "cell_type": "markdown",
   "metadata": {},
   "source": [
    "\n",
    "Para analizar las rutas implicadas en las interacciones proteína-proteína, generalmente se ineteresa más las interacciones físicas. Esto se debe a que las interacciones físicas suelen implicar un contacto directo entre las proteínas, formando complejos proteicos que están directamente involucrados en procesos celulares y biológicos específicos. Estas interacciones son fundamentales para comprender cómo las proteínas cooperan entre sí para llevar a cabo funciones biológicas."
   ]
  },
  {
   "cell_type": "code",
   "execution_count": 6,
   "metadata": {
    "vscode": {
     "languageId": "r"
    }
   },
   "outputs": [
    {
     "name": "stderr",
     "output_type": "stream",
     "text": [
      "Warning message in scan(file = file, what = what, sep = sep, quote = quote, dec = dec, :\n",
      "\"EOF within quoted string\"\n"
     ]
    },
    {
     "data": {
      "image/png": "[encoded data removed]",
      "text/plain": [
       "Plot with title \"\""
      ]
     },
     "metadata": {
      "image/png": {
       "height": 420,
       "width": 420
      }
     },
     "output_type": "display_data"
    }
   ],
   "source": [
    "#Intenta leer el archivo TSV con manejo de líneas incompletas\n",
    "interacciones <- read.table(text = result, sep = \"\\t\", header = FALSE, fill = TRUE)\n",
    "\n",
    "# Verificar si se leyeron datos válidos\n",
    "if (length(interacciones) > 0) {\n",
    "  # Asignar nombres de columnas según la estructura de BioGRID\n",
    "  col_names <- c(\"V1\", \"V2\", \"V3\", \"V4\", \"V5\", \"V6\", \"V7\", \"V8\", \"V9\", \"V10\",\n",
    "                 \"V11\", \"V12\", \"V13\", \"V14\", \"V15\", \"V16\", \"V17\", \"V18\", \"V19\", \"V20\",\n",
    "                 \"V21\", \"V22\", \"V23\", \"V24\")\n",
    "  \n",
    "  # Ajustar el vector de nombres si es necesario (puede ser que BioGRID devuelva menos columnas)\n",
    "  col_names <- head(col_names, ncol(interacciones))\n",
    "  \n",
    "  # Asignar nombres de columnas\n",
    "  colnames(interacciones) <- col_names\n",
    "\n",
    "  # Verificar si hay filas duplicadas y eliminarlas si es necesario\n",
    "  interacciones_fisicas <- unique(interacciones)\n",
    "  \n",
    "  # Filtrar por interacciones físicas con alta calidad y seleccionar las primeras 10\n",
    "  interacciones_fisicas <- interacciones[interacciones$V18 != \"Low Throughput\" & interacciones$V13 == \"physical\", c(\"V8\", \"V9\")]\n",
    "  interacciones_fisicas <- interacciones_fisicas[1:19, ]\n",
    "  \n",
    "  \n",
    "  \n",
    "  # Crear un grafo dirigido usando igraph\n",
    "  library(igraph)\n",
    "  \n",
    "  # Crear un grafo vacío con los nodos de interacciones únicas\n",
    "  grafo <- graph_from_data_frame(d = interacciones_fisicas, directed = TRUE)\n",
    "  \n",
    "  # Ajustar el layout para evitar superposiciones\n",
    "  layout <- layout_with_fr(grafo, weights = E(grafo)$weight)\n",
    "  \n",
    "  # Visualizar el grafo con un layout personalizado\n",
    "  plot(grafo, layout = layout, vertex.label.dist = 0.5, vertex.size = 8, edge.arrow.size = 0.5,\n",
    "       vertex.label.cex = 0.8, edge.curved = 0.2, margin = 0.1)\n",
    "  \n",
    "} else {\n",
    "  # Manejar el caso de que no se hayan leído datos válidos\n",
    "  print(\"No se pudieron leer datos válidos.\")\n",
    "}\n"
   ]
  },
  {
   "cell_type": "code",
   "execution_count": 7,
   "metadata": {
    "vscode": {
     "languageId": "r"
    }
   },
   "outputs": [
    {
     "data": {
      "image/png": "[encoded data removed]",
      "text/plain": [
       "Plot with title \"\""
      ]
     },
     "metadata": {
      "image/png": {
       "height": 420,
       "width": 420
      }
     },
     "output_type": "display_data"
    }
   ],
   "source": [
    "# Convertir el grafo dirigido en no dirigido\n",
    "grafo_no_dirigido <- as.undirected(grafo, mode = \"collapse\")\n",
    "# Detectar comunidades usando el algoritmo de Louvain en el grafo no dirigido\n",
    "comunidades <- cluster_louvain(grafo_no_dirigido)\n",
    "plot(comunidades, grafo_no_dirigido, layout = layout)\n"
   ]
  },
  {
   "cell_type": "code",
   "execution_count": 8,
   "metadata": {
    "vscode": {
     "languageId": "r"
    }
   },
   "outputs": [
    {
     "data": {
      "image/png": "[encoded data removed]",
      "text/plain": [
       "Plot with title \"\""
      ]
     },
     "metadata": {
      "image/png": {
       "height": 420,
       "width": 420
      }
     },
     "output_type": "display_data"
    }
   ],
   "source": [
    "# Detectar comunidades usando el método de propagación de etiquetas en el grafo dirigido\n",
    "comunidades_label_prop <- cluster_label_prop(grafo, weights = NA)\n",
    "plot(comunidades_label_prop, grafo, layout = layout)\n"
   ]
  },
  {
   "cell_type": "code",
   "execution_count": 9,
   "metadata": {
    "vscode": {
     "languageId": "r"
    }
   },
   "outputs": [
    {
     "data": {
      "text/html": [
       "<table class=\"dataframe\">\n",
       "<caption>A data.frame: 19 × 2</caption>\n",
       "<thead>\n",
       "\t<tr><th></th><th scope=col>V8</th><th scope=col>V9</th></tr>\n",
       "\t<tr><th></th><th scope=col>&lt;chr&gt;</th><th scope=col>&lt;chr&gt;</th></tr>\n",
       "</thead>\n",
       "<tbody>\n",
       "\t<tr><th scope=row>26</th><td>SREBF2 </td><td>EGR1   </td></tr>\n",
       "\t<tr><th scope=row>45</th><td>ELAVL1 </td><td>ALDH1A3</td></tr>\n",
       "\t<tr><th scope=row>67</th><td>BAG6   </td><td>CXCL8  </td></tr>\n",
       "\t<tr><th scope=row>68</th><td>ARFGAP3</td><td>CXCL8  </td></tr>\n",
       "\t<tr><th scope=row>69</th><td>CXCL8  </td><td>POMGNT1</td></tr>\n",
       "\t<tr><th scope=row>70</th><td>CXCL8  </td><td>SGTA   </td></tr>\n",
       "\t<tr><th scope=row>79</th><td>EGR1   </td><td>FOSL2  </td></tr>\n",
       "\t<tr><th scope=row>80</th><td>EGR1   </td><td>JUNB   </td></tr>\n",
       "\t<tr><th scope=row>81</th><td>EGR1   </td><td>JUND   </td></tr>\n",
       "\t<tr><th scope=row>82</th><td>EGR1   </td><td>MAGEB2 </td></tr>\n",
       "\t<tr><th scope=row>83</th><td>EGR1   </td><td>PSMD2  </td></tr>\n",
       "\t<tr><th scope=row>84</th><td>EGR1   </td><td>MED6   </td></tr>\n",
       "\t<tr><th scope=row>85</th><td>EGR1   </td><td>POP1   </td></tr>\n",
       "\t<tr><th scope=row>86</th><td>EGR1   </td><td>DNAJC8 </td></tr>\n",
       "\t<tr><th scope=row>87</th><td>EGR1   </td><td>PHIP   </td></tr>\n",
       "\t<tr><th scope=row>88</th><td>EGR1   </td><td>ARID2  </td></tr>\n",
       "\t<tr><th scope=row>89</th><td>Bmpr1a </td><td>SLC12A3</td></tr>\n",
       "\t<tr><th scope=row>90</th><td>MCM2   </td><td>ALDH1A3</td></tr>\n",
       "\t<tr><th scope=row>94</th><td>NFATC2 </td><td>EGR1   </td></tr>\n",
       "</tbody>\n",
       "</table>\n"
      ],
      "text/latex": [
       "A data.frame: 19 × 2\n",
       "\\begin{tabular}{r|ll}\n",
       "  & V8 & V9\\\\\n",
       "  & <chr> & <chr>\\\\\n",
       "\\hline\n",
       "\t26 & SREBF2  & EGR1   \\\\\n",
       "\t45 & ELAVL1  & ALDH1A3\\\\\n",
       "\t67 & BAG6    & CXCL8  \\\\\n",
       "\t68 & ARFGAP3 & CXCL8  \\\\\n",
       "\t69 & CXCL8   & POMGNT1\\\\\n",
       "\t70 & CXCL8   & SGTA   \\\\\n",
       "\t79 & EGR1    & FOSL2  \\\\\n",
       "\t80 & EGR1    & JUNB   \\\\\n",
       "\t81 & EGR1    & JUND   \\\\\n",
       "\t82 & EGR1    & MAGEB2 \\\\\n",
       "\t83 & EGR1    & PSMD2  \\\\\n",
       "\t84 & EGR1    & MED6   \\\\\n",
       "\t85 & EGR1    & POP1   \\\\\n",
       "\t86 & EGR1    & DNAJC8 \\\\\n",
       "\t87 & EGR1    & PHIP   \\\\\n",
       "\t88 & EGR1    & ARID2  \\\\\n",
       "\t89 & Bmpr1a  & SLC12A3\\\\\n",
       "\t90 & MCM2    & ALDH1A3\\\\\n",
       "\t94 & NFATC2  & EGR1   \\\\\n",
       "\\end{tabular}\n"
      ],
      "text/markdown": [
       "\n",
       "A data.frame: 19 × 2\n",
       "\n",
       "| <!--/--> | V8 &lt;chr&gt; | V9 &lt;chr&gt; |\n",
       "|---|---|---|\n",
       "| 26 | SREBF2  | EGR1    |\n",
       "| 45 | ELAVL1  | ALDH1A3 |\n",
       "| 67 | BAG6    | CXCL8   |\n",
       "| 68 | ARFGAP3 | CXCL8   |\n",
       "| 69 | CXCL8   | POMGNT1 |\n",
       "| 70 | CXCL8   | SGTA    |\n",
       "| 79 | EGR1    | FOSL2   |\n",
       "| 80 | EGR1    | JUNB    |\n",
       "| 81 | EGR1    | JUND    |\n",
       "| 82 | EGR1    | MAGEB2  |\n",
       "| 83 | EGR1    | PSMD2   |\n",
       "| 84 | EGR1    | MED6    |\n",
       "| 85 | EGR1    | POP1    |\n",
       "| 86 | EGR1    | DNAJC8  |\n",
       "| 87 | EGR1    | PHIP    |\n",
       "| 88 | EGR1    | ARID2   |\n",
       "| 89 | Bmpr1a  | SLC12A3 |\n",
       "| 90 | MCM2    | ALDH1A3 |\n",
       "| 94 | NFATC2  | EGR1    |\n",
       "\n"
      ],
      "text/plain": [
       "   V8      V9     \n",
       "26 SREBF2  EGR1   \n",
       "45 ELAVL1  ALDH1A3\n",
       "67 BAG6    CXCL8  \n",
       "68 ARFGAP3 CXCL8  \n",
       "69 CXCL8   POMGNT1\n",
       "70 CXCL8   SGTA   \n",
       "79 EGR1    FOSL2  \n",
       "80 EGR1    JUNB   \n",
       "81 EGR1    JUND   \n",
       "82 EGR1    MAGEB2 \n",
       "83 EGR1    PSMD2  \n",
       "84 EGR1    MED6   \n",
       "85 EGR1    POP1   \n",
       "86 EGR1    DNAJC8 \n",
       "87 EGR1    PHIP   \n",
       "88 EGR1    ARID2  \n",
       "89 Bmpr1a  SLC12A3\n",
       "90 MCM2    ALDH1A3\n",
       "94 NFATC2  EGR1   "
      ]
     },
     "metadata": {},
     "output_type": "display_data"
    }
   ],
   "source": [
    "interacciones_fisicas"
   ]
  },
  {
   "cell_type": "code",
   "execution_count": 10,
   "metadata": {
    "vscode": {
     "languageId": "r"
    }
   },
   "outputs": [
    {
     "name": "stderr",
     "output_type": "stream",
     "text": [
      "Warning message in scan(file = file, what = what, sep = sep, quote = quote, dec = dec, :\n",
      "\"EOF within quoted string\"\n"
     ]
    },
    {
     "name": "stdout",
     "output_type": "stream",
     "text": [
      "'data.frame':\t94 obs. of  24 variables:\n",
      " $ V1 : int  5262 5271 255330 255331 255764 263015 263016 263017 263018 276384 ...\n",
      " $ V2 : int  2033 1387 1958 1958 3576 1387 2033 2033 1387 1958 ...\n",
      " $ V3 : int  1958 1958 1051 1051 6382 1958 1958 1958 1958 4665 ...\n",
      " $ V4 : int  108347 107777 108278 108278 109790 107777 108347 108347 107777 108278 ...\n",
      " $ V5 : int  108278 108278 107480 107480 112284 108278 108278 108278 108278 110747 ...\n",
      " $ V6 : chr  \"RP1-85F18.1\" \"-\" \"-\" \"-\" ...\n",
      " $ V7 : chr  \"-\" \"-\" \"PP9092\" \"PP9092\" ...\n",
      " $ V8 : chr  \"EP300\" \"CREBBP\" \"EGR1\" \"EGR1\" ...\n",
      " $ V9 : chr  \"EGR1\" \"EGR1\" \"CEBPB\" \"CEBPB\" ...\n",
      " $ V10: chr  \"KAT3B|RSTS2|p300\" \"CBP|KAT3A|RSTS\" \"AT225|G0S30|KROX-24|NGFI-A|TIS8|ZIF-268|ZNF225\" \"AT225|G0S30|KROX-24|NGFI-A|TIS8|ZIF-268|ZNF225\" ...\n",
      " $ V11: chr  \"AT225|G0S30|KROX-24|NGFI-A|TIS8|ZIF-268|ZNF225\" \"AT225|G0S30|KROX-24|NGFI-A|TIS8|ZIF-268|ZNF225\" \"C/EBP-beta|IL6DBP|NF-IL6|TCF5\" \"C/EBP-beta|IL6DBP|NF-IL6|TCF5\" ...\n",
      " $ V12: chr  \"Two-hybrid\" \"Two-hybrid\" \"Two-hybrid\" \"Reconstituted Complex\" ...\n",
      " $ V13: chr  \"physical\" \"physical\" \"physical\" \"physical\" ...\n",
      " $ V14: chr  \"Silverman ES (1998)\" \"Silverman ES (1998)\" \"Zhang F (2003)\" \"Zhang F (2003)\" ...\n",
      " $ V15: int  9806899 9806899 12947119 12947119 12902511 9806899 9806899 9806899 9806899 8668170 ...\n",
      " $ V16: int  9606 9606 9606 9606 9606 9606 9606 9606 9606 9606 ...\n",
      " $ V17: int  9606 9606 9606 9606 9606 9606 9606 9606 9606 9606 ...\n",
      " $ V18: chr  \"Low Throughput\" \"Low Throughput\" \"Low Throughput\" \"Low Throughput\" ...\n",
      " $ V19: chr  \"-\" \"-\" \"-\" \"-\" ...\n",
      " $ V20: chr  \"-\" \"-\" \"-\" \"-\" ...\n",
      " $ V21: chr  \"-\" \"-\" \"-\" \"-\" ...\n",
      " $ V22: chr  \"-\" \"-\" \"-\" \"-\" ...\n",
      " $ V23: chr  \"-\" \"-\" \"-\" \"-\" ...\n",
      " $ V24: chr  \"BIOGRID\" \"BIOGRID\" \"BIOGRID\" \"BIOGRID\" ...\n"
     ]
    }
   ],
   "source": [
    "#Intenta leer el archivo TSV con manejo de líneas incompletas\n",
    "interacciones <- read.table(text = result, sep = \"\\t\", header = FALSE, fill = TRUE)\n",
    "str(interacciones)"
   ]
  },
  {
   "cell_type": "code",
   "execution_count": 11,
   "metadata": {
    "vscode": {
     "languageId": "r"
    }
   },
   "outputs": [
    {
     "name": "stdout",
     "output_type": "stream",
     "text": [
      "'data.frame':\t94 obs. of  24 variables:\n",
      " $ BioGRID Interaction ID                 : int  5262 5271 255330 255331 255764 263015 263016 263017 263018 276384 ...\n",
      " $ Entrez Gene ID for Interactor A        : int  2033 1387 1958 1958 3576 1387 2033 2033 1387 1958 ...\n",
      " $ Entrez Gene ID for Interactor B        : int  1958 1958 1051 1051 6382 1958 1958 1958 1958 4665 ...\n",
      " $ BioGRID ID for Interactor A            : int  108347 107777 108278 108278 109790 107777 108347 108347 107777 108278 ...\n",
      " $ BioGRID ID for Interactor B            : int  108278 108278 107480 107480 112284 108278 108278 108278 108278 110747 ...\n",
      " $ Systematic name for Interactor A       : chr  \"RP1-85F18.1\" \"-\" \"-\" \"-\" ...\n",
      " $ Systematic name for Interactor B       : chr  \"-\" \"-\" \"PP9092\" \"PP9092\" ...\n",
      " $ Official symbol for Interactor A       : chr  \"EP300\" \"CREBBP\" \"EGR1\" \"EGR1\" ...\n",
      " $ Official symbol for Interactor B       : chr  \"EGR1\" \"EGR1\" \"CEBPB\" \"CEBPB\" ...\n",
      " $ Synonyms/Aliases for Interactor A      : chr  \"KAT3B|RSTS2|p300\" \"CBP|KAT3A|RSTS\" \"AT225|G0S30|KROX-24|NGFI-A|TIS8|ZIF-268|ZNF225\" \"AT225|G0S30|KROX-24|NGFI-A|TIS8|ZIF-268|ZNF225\" ...\n",
      " $ Synonyms/Aliases for Interactor B      : chr  \"AT225|G0S30|KROX-24|NGFI-A|TIS8|ZIF-268|ZNF225\" \"AT225|G0S30|KROX-24|NGFI-A|TIS8|ZIF-268|ZNF225\" \"C/EBP-beta|IL6DBP|NF-IL6|TCF5\" \"C/EBP-beta|IL6DBP|NF-IL6|TCF5\" ...\n",
      " $ Experimental System Name               : chr  \"Two-hybrid\" \"Two-hybrid\" \"Two-hybrid\" \"Reconstituted Complex\" ...\n",
      " $ Experimental System Type               : chr  \"physical\" \"physical\" \"physical\" \"physical\" ...\n",
      " $ First author surname of the publication: chr  \"Silverman ES (1998)\" \"Silverman ES (1998)\" \"Zhang F (2003)\" \"Zhang F (2003)\" ...\n",
      " $ Pubmed ID                              : int  9806899 9806899 12947119 12947119 12902511 9806899 9806899 9806899 9806899 8668170 ...\n",
      " $ Organism ID for Interactor A           : int  9606 9606 9606 9606 9606 9606 9606 9606 9606 9606 ...\n",
      " $ Organism ID for Interactor B           : int  9606 9606 9606 9606 9606 9606 9606 9606 9606 9606 ...\n",
      " $ Interaction Throughput                 : chr  \"Low Throughput\" \"Low Throughput\" \"Low Throughput\" \"Low Throughput\" ...\n",
      " $ Quantitative Score                     : chr  \"-\" \"-\" \"-\" \"-\" ...\n",
      " $ Post Translational Modification        : chr  \"-\" \"-\" \"-\" \"-\" ...\n",
      " $ Phenotypes                             : chr  \"-\" \"-\" \"-\" \"-\" ...\n",
      " $ Qualifications                         : chr  \"-\" \"-\" \"-\" \"-\" ...\n",
      " $ Tags                                   : chr  \"-\" \"-\" \"-\" \"-\" ...\n",
      " $ Source Database                        : chr  \"BIOGRID\" \"BIOGRID\" \"BIOGRID\" \"BIOGRID\" ...\n"
     ]
    }
   ],
   "source": [
    "# Nombres de las columnas deseadas\n",
    "nombres_columnas <- c(\n",
    "  \"BioGRID Interaction ID\", \n",
    "  \"Entrez Gene ID for Interactor A\", \n",
    "  \"Entrez Gene ID for Interactor B\", \n",
    "  \"BioGRID ID for Interactor A\", \n",
    "  \"BioGRID ID for Interactor B\", \n",
    "  \"Systematic name for Interactor A\", \n",
    "  \"Systematic name for Interactor B\", \n",
    "  \"Official symbol for Interactor A\", \n",
    "  \"Official symbol for Interactor B\", \n",
    "  \"Synonyms/Aliases for Interactor A\", \n",
    "  \"Synonyms/Aliases for Interactor B\", \n",
    "  \"Experimental System Name\", \n",
    "  \"Experimental System Type\", \n",
    "  \"First author surname of the publication\", \n",
    "  \"Pubmed ID\", \n",
    "  \"Organism ID for Interactor A\", \n",
    "  \"Organism ID for Interactor B\", \n",
    "  \"Interaction Throughput\", \n",
    "  \"Quantitative Score\", \n",
    "  \"Post Translational Modification\", \n",
    "  \"Phenotypes\", \n",
    "  \"Qualifications\", \n",
    "  \"Tags\", \n",
    "  \"Source Database\"\n",
    ")\n",
    "\n",
    "# Asignar los nuevos nombres de columnas al DataFrame\n",
    "colnames(interacciones) <- nombres_columnas\n",
    "\n",
    "# Verificar la estructura del DataFrame con los nuevos nombres\n",
    "str(interacciones)"
   ]
  },
  {
   "cell_type": "markdown",
   "metadata": {},
   "source": [
    "Hay interacciones con otros organismos además de 9606->Homo Sapiens?"
   ]
  },
  {
   "cell_type": "code",
   "execution_count": 12,
   "metadata": {
    "vscode": {
     "languageId": "r"
    }
   },
   "outputs": [
    {
     "data": {
      "text/html": [
       "<style>\n",
       ".list-inline {list-style: none; margin:0; padding: 0}\n",
       ".list-inline>li {display: inline-block}\n",
       ".list-inline>li:not(:last-child)::after {content: \"\\00b7\"; padding: 0 .5ex}\n",
       "</style>\n",
       "<ol class=list-inline><li>11676</li><li>10090</li></ol>\n"
      ],
      "text/latex": [
       "\\begin{enumerate*}\n",
       "\\item 11676\n",
       "\\item 10090\n",
       "\\end{enumerate*}\n"
      ],
      "text/markdown": [
       "1. 11676\n",
       "2. 10090\n",
       "\n",
       "\n"
      ],
      "text/plain": [
       "[1] 11676 10090"
      ]
     },
     "metadata": {},
     "output_type": "display_data"
    },
    {
     "data": {
      "text/html": [],
      "text/latex": [],
      "text/markdown": [],
      "text/plain": [
       "integer(0)"
      ]
     },
     "metadata": {},
     "output_type": "display_data"
    }
   ],
   "source": [
    "# Filtrar los organismos distintos de 9606 en la columna \"Organism ID for Interactor A\"\n",
    "organismos_A_distintos <- unique(interacciones$`Organism ID for Interactor A`[interacciones$`Organism ID for Interactor A` != 9606])\n",
    "\n",
    "# Filtrar los organismos distintos de 9606 en la columna \"Organism ID for Interactor B\"\n",
    "organismos_B_distintos <- unique(interacciones$`Organism ID for Interactor B`[interacciones$`Organism ID for Interactor B` != 9606])\n",
    "\n",
    "# Mostrar los resultados\n",
    "organismos_A_distintos\n",
    "organismos_B_distintos"
   ]
  },
  {
   "cell_type": "markdown",
   "metadata": {},
   "source": [
    "Se encontraron interacciones con estos organismos además de 9606 -> Homo sapiens:\n",
    "\n",
    "    11676 -> Human Immunodeficiency Virus 1\n",
    "\n",
    "    10090 -> Mus musculus"
   ]
  },
  {
   "cell_type": "code",
   "execution_count": 14,
   "metadata": {
    "vscode": {
     "languageId": "r"
    }
   },
   "outputs": [
    {
     "data": {
      "text/html": [
       "<style>\n",
       ".list-inline {list-style: none; margin:0; padding: 0}\n",
       ".list-inline>li {display: inline-block}\n",
       ".list-inline>li:not(:last-child)::after {content: \"\\00b7\"; padding: 0 .5ex}\n",
       "</style>\n",
       "<ol class=list-inline><li>'Homo sapiens'</li><li>'Homo sapiens'</li><li>'Homo sapiens'</li><li>'Homo sapiens'</li><li>'Homo sapiens'</li><li>'Homo sapiens'</li></ol>\n"
      ],
      "text/latex": [
       "\\begin{enumerate*}\n",
       "\\item 'Homo sapiens'\n",
       "\\item 'Homo sapiens'\n",
       "\\item 'Homo sapiens'\n",
       "\\item 'Homo sapiens'\n",
       "\\item 'Homo sapiens'\n",
       "\\item 'Homo sapiens'\n",
       "\\end{enumerate*}\n"
      ],
      "text/markdown": [
       "1. 'Homo sapiens'\n",
       "2. 'Homo sapiens'\n",
       "3. 'Homo sapiens'\n",
       "4. 'Homo sapiens'\n",
       "5. 'Homo sapiens'\n",
       "6. 'Homo sapiens'\n",
       "\n",
       "\n"
      ],
      "text/plain": [
       "[1] \"Homo sapiens\" \"Homo sapiens\" \"Homo sapiens\" \"Homo sapiens\" \"Homo sapiens\"\n",
       "[6] \"Homo sapiens\""
      ]
     },
     "metadata": {},
     "output_type": "display_data"
    },
    {
     "data": {
      "text/html": [
       "<style>\n",
       ".list-inline {list-style: none; margin:0; padding: 0}\n",
       ".list-inline>li {display: inline-block}\n",
       ".list-inline>li:not(:last-child)::after {content: \"\\00b7\"; padding: 0 .5ex}\n",
       "</style>\n",
       "<ol class=list-inline><li>'Homo sapiens'</li><li>'Homo sapiens'</li><li>'Homo sapiens'</li><li>'Homo sapiens'</li><li>'Homo sapiens'</li><li>'Homo sapiens'</li></ol>\n"
      ],
      "text/latex": [
       "\\begin{enumerate*}\n",
       "\\item 'Homo sapiens'\n",
       "\\item 'Homo sapiens'\n",
       "\\item 'Homo sapiens'\n",
       "\\item 'Homo sapiens'\n",
       "\\item 'Homo sapiens'\n",
       "\\item 'Homo sapiens'\n",
       "\\end{enumerate*}\n"
      ],
      "text/markdown": [
       "1. 'Homo sapiens'\n",
       "2. 'Homo sapiens'\n",
       "3. 'Homo sapiens'\n",
       "4. 'Homo sapiens'\n",
       "5. 'Homo sapiens'\n",
       "6. 'Homo sapiens'\n",
       "\n",
       "\n"
      ],
      "text/plain": [
       "[1] \"Homo sapiens\" \"Homo sapiens\" \"Homo sapiens\" \"Homo sapiens\" \"Homo sapiens\"\n",
       "[6] \"Homo sapiens\""
      ]
     },
     "metadata": {},
     "output_type": "display_data"
    }
   ],
   "source": [
    "# Crear un diccionario que asocie cada Organism ID con su nombre correspondiente\n",
    "organism_names <- c(\n",
    "  \"9606\" = \"Homo sapiens\",\n",
    "  \"10116\" = \"Rattus norvegicus\",\n",
    "  \"10090\" = \"Mus musculus\",\n",
    "  \"9913\" = \"Bos taurus\",\n",
    "  \"11676\" = \"Human Immunodeficiency Virus 1\",\n",
    "  \"9986\" = \"Oryctolagus cuniculus\",\n",
    "  \"37296\" = \"Human Herpesvirus 8\",\n",
    "  \"559292\" = \"Saccharomyces cerevisiae (S288c)\",\n",
    "  \"333760\" = \"Human papillomavirus (16)\",\n",
    "  \"2697049\" = \"Severe acute respiratory syndrome coronavirus 2\",\n",
    "  \"1335626\" = \"Middle-East Respiratory Syndrome-related Coronavirus\",\n",
    "  \"6239\" = \"Caenorhabditis elegans\",\n",
    "  \"10600\" = \"Human papillomavirus (6b)\",\n",
    "  \"7227\" = \"Drosophila melanogaster\",\n",
    "  \"9823\" = \"Sus scrofa\",\n",
    "  \"9031\" = \"Gallus gallus\",\n",
    "  \"11676\" = \"Human Immunodeficiency Virus 1\"\n",
    ")\n",
    "\n",
    "# Reemplazar los valores numéricos con los nombres en la columna \"Organism ID for Interactor A\"\n",
    "interacciones$`Organism ID for Interactor A` <- organism_names[as.character(interacciones$`Organism ID for Interactor A`)]\n",
    "\n",
    "# Reemplazar los valores numéricos con los nombres en la columna \"Organism ID for Interactor B\"\n",
    "interacciones$`Organism ID for Interactor B` <- organism_names[as.character(interacciones$`Organism ID for Interactor B`)]\n",
    "\n",
    "# Verificar el resultado\n",
    "head(interacciones$`Organism ID for Interactor A`)\n",
    "head(interacciones$`Organism ID for Interactor B`)"
   ]
  },
  {
   "cell_type": "code",
   "execution_count": 15,
   "metadata": {
    "vscode": {
     "languageId": "r"
    }
   },
   "outputs": [],
   "source": [
    "# Guardar la lista de proteínas en un archivo CSV\n",
    "write.csv(interacciones, file = \"interacciones_BioGRID_Lactobacillus_acidophilus_KLDS1.0901.csv\", row.names = FALSE)"
   ]
  },
  {
   "cell_type": "markdown",
   "metadata": {},
   "source": [
    "https://wiki.thebiogrid.org/doku.php/biogrid_tab_version_2.0\n",
    "Header Definitions\n",
    "The first line of a BioGRID Tab 2.0 file is the heading line and starts with a hash (#). This line is purely for informational purposes and gives a brief description of the content contained in each column. If you are scripting the use of this file, you can simply ignore it.\n",
    "\n",
    "Interaction File Column Definitions\n",
    "The column contents of BioGRID Interaction Tab 2.0 files should be as follows:\n",
    "\n",
    "BioGRID Interaction ID. A unique identifier for each interaction within the BioGRID database. Can be used to link to BioGRID interaction pages. For example: http://thebiogrid.org/interaction/616539\n",
    "-Entrez Gene ID for Interactor A. The identifier from the Entrez-Gene database that corresponds to Interactor A. If no Entrez Gene ID is available, this will be a “-”.\n",
    "-Entrez Gene ID for Interactor B. Same structure as column 2.\n",
    "BioGRID ID for Interactor A. The identifier in the BioGRID database that corresponds to Interactor A. These identifiers are best used for creating links to the BioGRID from your own websites or applications. To link to a page within our site, simply append the URL: http://thebiogrid.org/ID/ to each ID. For example, http://thebiogrid.org/31623/.\n",
    "BioGRID ID for Interactor B. Same structure as column 4.\n",
    "Systematic name for Interactor A. A plain text systematic name if known for interactor A. Will be a “-” if no name is available.\n",
    "Systematic name for Interactor B. Same structure as column 6.\n",
    "Official symbol for Interactor A. A common gene name/official symbol for interactor A. Will be a “-” if no name is available.\n",
    "Official symbol for Interactor B. Same structure as column 8.\n",
    "Synonyms/Aliases for Interactor A. A “|” separated list of alternate identifiers for interactor A. Will be “-” if no aliases are available.\n",
    "Synonyms/Aliases for Interactor B. Same stucture as column 10.\n",
    "Experimental System Name. One of the many Experimental Evidence Codes supported by the BioGRID.\n",
    "Experimental System Type. This will be either “physical” or “genetic” as a classification of the Experimental System Name.\n",
    "First author surname of the publication in which the interaction has been shown, optionally followed by additional indicators, e.g. Stephenson A (2005)\n",
    "Pubmed ID of the publication in which the interaction has been shown.\n",
    "Organism ID for Interactor A. This is the NCBI Taxonomy ID for Interactor A.\n",
    "Organism ID for Interactor B. Same structure as 16.\n",
    "Interaction Throughput. This will be either High Throughput, Low Throughput or Both (separated by “|”).\n",
    "Quantitative Score. This will be a positive for negative value recorded by the original publication depicting P-Values, Confidence Score, SGA Score, etc. Will be “-” if no score is reported.\n",
    "Post Translational Modification. For any Biochemical Activity experiments, this field will be filled with the associated post translational modification. Will be “-” if no modification is reported.\n",
    "Phenotypes. If any phenotype info is recorded, it will be provided here separated by “|”. Each phenotype will be of the format <phenotype>[<phenotype qualifier>]:<phenotype type>. Note that the phenotype types and qualifiers are optional and will only be present where recorded. Phenotypes may also have multiple qualifiers in which case unique qualifiers will be separated by carat (^). If no phenotype information is available, this field will contain “-”.\n",
    "Qualifications. If additional plain text information was recorded for an interaction, it will be listed with unique qualifiers separated by “|”. If no qualification is available, this field will contain “-”.\n",
    "Tags. If an interaction has been tagged with additional classifications, they will be provided in this column separated by “|”. If no tag information is available, this field will contain “-”.\n",
    "Source Database. This field will contain the name of the database in which this interaction was provided.\n",
    "All columns are mandatory so columns with no values are filled with “-“"
   ]
  },
  {
   "cell_type": "code",
   "execution_count": 31,
   "metadata": {
    "vscode": {
     "languageId": "r"
    }
   },
   "outputs": [
    {
     "name": "stdout",
     "output_type": "stream",
     "text": [
      "[1] \"http://webservice.thebiogrid.org/interactions?geneList=220|3576|1958|6559&searchids=true&includeInteractors=true&accesskey=2a4e2455be91b4c686b17f26b16cdeb9\"\n"
     ]
    }
   ],
   "source": [
    "print(query_url)"
   ]
  }
 ],
 "metadata": {
  "kernelspec": {
   "display_name": "R",
   "language": "R",
   "name": "ir"
  },
  "language_info": {
   "codemirror_mode": "r",
   "file_extension": ".r",
   "mimetype": "text/x-r-source",
   "name": "R",
   "pygments_lexer": "r",
   "version": "4.3.2"
  }
 },
 "nbformat": 4,
 "nbformat_minor": 2
}

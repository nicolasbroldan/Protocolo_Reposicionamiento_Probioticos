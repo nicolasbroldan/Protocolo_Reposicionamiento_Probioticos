{
 "cells": [
  {
   "cell_type": "code",
   "execution_count": 2,
   "metadata": {
    "vscode": {
     "languageId": "r"
    }
   },
   "outputs": [
    {
     "data": {
      "text/html": [
       "<style>\n",
       ".list-inline {list-style: none; margin:0; padding: 0}\n",
       ".list-inline>li {display: inline-block}\n",
       ".list-inline>li:not(:last-child)::after {content: \"\\00b7\"; padding: 0 .5ex}\n",
       "</style>\n",
       "<ol class=list-inline><li>5997</li><li>133</li><li>7124</li><li>2353</li><li>4576</li><li>4572</li><li>10769</li><li>414236</li><li>3659</li><li>4569</li><li>3397</li><li>1435</li><li>4050</li><li>284454</li><li>780851</li><li>1543</li><li>389384</li><li>10808</li><li>27289</li><li>3576</li><li>10370</li><li>3311</li><li>1437</li><li>112268133</li><li>2920</li><li>4792</li><li>6385</li><li>64332</li><li>4556</li><li>3627</li><li>148022</li><li>5328</li><li>79094</li><li>162989</li><li>84981</li><li>1545</li><li>9298</li><li>6376</li><li>6776</li><li>105372652</li><li>112268301</li><li>7128</li><li>105373485</li><li>1827</li><li>283624</li><li>4566</li><li>105377347</li><li>6352</li><li>3139</li><li>2921</li><li>624</li><li>1844</li><li>63943</li><li>105374418</li><li>85389</li><li>330</li><li>8740</li><li>2919</li><li>85390</li><li>100874246</li><li>11080</li><li>4555</li><li>105378604</li><li>101928433</li><li>6351</li><li>107986649</li><li>3310</li><li>780853</li><li>7127</li><li>3553</li><li>83896</li><li>407975</li><li>12</li><li>4568</li><li>107075116</li><li>105376361</li><li>102465879</li><li>3383</li><li>107986119</li><li>8013</li><li>105373836</li><li>693201</li><li>92162</li><li>4565</li><li>6373</li><li>9935</li><li>1440</li><li>158257</li><li>171523</li><li>9001</li><li>6367</li><li>114599</li><li>81788</li><li>83887</li><li>116938</li><li>91370</li><li>100419583</li><li>441307</li><li>79635</li><li>105376360</li><li>10747</li><li>340719</li><li>284185</li><li>3337</li><li>100130476</li><li>100996511</li><li>100616376</li><li>100422943</li><li>25794</li><li>254100</li><li>51561</li><li>135112</li><li>6274</li><li>105372711</li><li>26813</li><li>105378328</li><li>9308</li><li>3303</li><li>107986170</li><li>8351</li><li>4577</li><li>6347</li><li>2824</li><li>441072</li><li>105378744</li><li>22943</li><li>107984421</li><li>26013</li><li>3304</li><li>101927080</li><li>105369161</li><li>8676</li><li>26816</li><li>65997</li><li>2113</li><li>100216546</li><li>101928741</li><li>5724</li><li>105374584</li><li>6648</li><li>107986197</li><li>3626</li><li>629</li><li>692158</li><li>7057</li><li>84688</li><li>339829</li><li>26817</li><li>107987152</li><li>340544</li><li>6374</li><li>105372380</li><li>5021</li><li>107985080</li><li>677806</li><li>101930112</li><li>2302</li><li>105373944</li><li>26330</li><li>100126791</li><li>677812</li><li>105371159</li><li>9299</li><li>100505812</li><li>85450</li><li>101929715</li><li>100287216</li><li>100506178</li><li>3976</li><li>574042</li><li>105375181</li><li>728378</li><li>26770</li><li>6344</li><li>9297</li><li>105370364</li><li>26818</li><li>105371413</li><li>342977</li><li>619569</li><li>677811</li><li>105376714</li><li>54863</li><li>387763</li><li>100507489</li><li>3552</li><li>107985383</li><li>105371058</li><li>105378911</li><li>6364</li><li>677810</li><li>105377290</li><li>4884</li><li>23025</li><li>105371600</li><li>57172</li><li>9953</li><li>594838</li></ol>\n"
      ],
      "text/latex": [
       "\\begin{enumerate*}\n",
       "\\item 5997\n",
       "\\item 133\n",
       "\\item 7124\n",
       "\\item 2353\n",
       "\\item 4576\n",
       "\\item 4572\n",
       "\\item 10769\n",
       "\\item 414236\n",
       "\\item 3659\n",
       "\\item 4569\n",
       "\\item 3397\n",
       "\\item 1435\n",
       "\\item 4050\n",
       "\\item 284454\n",
       "\\item 780851\n",
       "\\item 1543\n",
       "\\item 389384\n",
       "\\item 10808\n",
       "\\item 27289\n",
       "\\item 3576\n",
       "\\item 10370\n",
       "\\item 3311\n",
       "\\item 1437\n",
       "\\item 112268133\n",
       "\\item 2920\n",
       "\\item 4792\n",
       "\\item 6385\n",
       "\\item 64332\n",
       "\\item 4556\n",
       "\\item 3627\n",
       "\\item 148022\n",
       "\\item 5328\n",
       "\\item 79094\n",
       "\\item 162989\n",
       "\\item 84981\n",
       "\\item 1545\n",
       "\\item 9298\n",
       "\\item 6376\n",
       "\\item 6776\n",
       "\\item 105372652\n",
       "\\item 112268301\n",
       "\\item 7128\n",
       "\\item 105373485\n",
       "\\item 1827\n",
       "\\item 283624\n",
       "\\item 4566\n",
       "\\item 105377347\n",
       "\\item 6352\n",
       "\\item 3139\n",
       "\\item 2921\n",
       "\\item 624\n",
       "\\item 1844\n",
       "\\item 63943\n",
       "\\item 105374418\n",
       "\\item 85389\n",
       "\\item 330\n",
       "\\item 8740\n",
       "\\item 2919\n",
       "\\item 85390\n",
       "\\item 100874246\n",
       "\\item 11080\n",
       "\\item 4555\n",
       "\\item 105378604\n",
       "\\item 101928433\n",
       "\\item 6351\n",
       "\\item 107986649\n",
       "\\item 3310\n",
       "\\item 780853\n",
       "\\item 7127\n",
       "\\item 3553\n",
       "\\item 83896\n",
       "\\item 407975\n",
       "\\item 12\n",
       "\\item 4568\n",
       "\\item 107075116\n",
       "\\item 105376361\n",
       "\\item 102465879\n",
       "\\item 3383\n",
       "\\item 107986119\n",
       "\\item 8013\n",
       "\\item 105373836\n",
       "\\item 693201\n",
       "\\item 92162\n",
       "\\item 4565\n",
       "\\item 6373\n",
       "\\item 9935\n",
       "\\item 1440\n",
       "\\item 158257\n",
       "\\item 171523\n",
       "\\item 9001\n",
       "\\item 6367\n",
       "\\item 114599\n",
       "\\item 81788\n",
       "\\item 83887\n",
       "\\item 116938\n",
       "\\item 91370\n",
       "\\item 100419583\n",
       "\\item 441307\n",
       "\\item 79635\n",
       "\\item 105376360\n",
       "\\item 10747\n",
       "\\item 340719\n",
       "\\item 284185\n",
       "\\item 3337\n",
       "\\item 100130476\n",
       "\\item 100996511\n",
       "\\item 100616376\n",
       "\\item 100422943\n",
       "\\item 25794\n",
       "\\item 254100\n",
       "\\item 51561\n",
       "\\item 135112\n",
       "\\item 6274\n",
       "\\item 105372711\n",
       "\\item 26813\n",
       "\\item 105378328\n",
       "\\item 9308\n",
       "\\item 3303\n",
       "\\item 107986170\n",
       "\\item 8351\n",
       "\\item 4577\n",
       "\\item 6347\n",
       "\\item 2824\n",
       "\\item 441072\n",
       "\\item 105378744\n",
       "\\item 22943\n",
       "\\item 107984421\n",
       "\\item 26013\n",
       "\\item 3304\n",
       "\\item 101927080\n",
       "\\item 105369161\n",
       "\\item 8676\n",
       "\\item 26816\n",
       "\\item 65997\n",
       "\\item 2113\n",
       "\\item 100216546\n",
       "\\item 101928741\n",
       "\\item 5724\n",
       "\\item 105374584\n",
       "\\item 6648\n",
       "\\item 107986197\n",
       "\\item 3626\n",
       "\\item 629\n",
       "\\item 692158\n",
       "\\item 7057\n",
       "\\item 84688\n",
       "\\item 339829\n",
       "\\item 26817\n",
       "\\item 107987152\n",
       "\\item 340544\n",
       "\\item 6374\n",
       "\\item 105372380\n",
       "\\item 5021\n",
       "\\item 107985080\n",
       "\\item 677806\n",
       "\\item 101930112\n",
       "\\item 2302\n",
       "\\item 105373944\n",
       "\\item 26330\n",
       "\\item 100126791\n",
       "\\item 677812\n",
       "\\item 105371159\n",
       "\\item 9299\n",
       "\\item 100505812\n",
       "\\item 85450\n",
       "\\item 101929715\n",
       "\\item 100287216\n",
       "\\item 100506178\n",
       "\\item 3976\n",
       "\\item 574042\n",
       "\\item 105375181\n",
       "\\item 728378\n",
       "\\item 26770\n",
       "\\item 6344\n",
       "\\item 9297\n",
       "\\item 105370364\n",
       "\\item 26818\n",
       "\\item 105371413\n",
       "\\item 342977\n",
       "\\item 619569\n",
       "\\item 677811\n",
       "\\item 105376714\n",
       "\\item 54863\n",
       "\\item 387763\n",
       "\\item 100507489\n",
       "\\item 3552\n",
       "\\item 107985383\n",
       "\\item 105371058\n",
       "\\item 105378911\n",
       "\\item 6364\n",
       "\\item 677810\n",
       "\\item 105377290\n",
       "\\item 4884\n",
       "\\item 23025\n",
       "\\item 105371600\n",
       "\\item 57172\n",
       "\\item 9953\n",
       "\\item 594838\n",
       "\\end{enumerate*}\n"
      ],
      "text/markdown": [
       "1. 5997\n",
       "2. 133\n",
       "3. 7124\n",
       "4. 2353\n",
       "5. 4576\n",
       "6. 4572\n",
       "7. 10769\n",
       "8. 414236\n",
       "9. 3659\n",
       "10. 4569\n",
       "11. 3397\n",
       "12. 1435\n",
       "13. 4050\n",
       "14. 284454\n",
       "15. 780851\n",
       "16. 1543\n",
       "17. 389384\n",
       "18. 10808\n",
       "19. 27289\n",
       "20. 3576\n",
       "21. 10370\n",
       "22. 3311\n",
       "23. 1437\n",
       "24. 112268133\n",
       "25. 2920\n",
       "26. 4792\n",
       "27. 6385\n",
       "28. 64332\n",
       "29. 4556\n",
       "30. 3627\n",
       "31. 148022\n",
       "32. 5328\n",
       "33. 79094\n",
       "34. 162989\n",
       "35. 84981\n",
       "36. 1545\n",
       "37. 9298\n",
       "38. 6376\n",
       "39. 6776\n",
       "40. 105372652\n",
       "41. 112268301\n",
       "42. 7128\n",
       "43. 105373485\n",
       "44. 1827\n",
       "45. 283624\n",
       "46. 4566\n",
       "47. 105377347\n",
       "48. 6352\n",
       "49. 3139\n",
       "50. 2921\n",
       "51. 624\n",
       "52. 1844\n",
       "53. 63943\n",
       "54. 105374418\n",
       "55. 85389\n",
       "56. 330\n",
       "57. 8740\n",
       "58. 2919\n",
       "59. 85390\n",
       "60. 100874246\n",
       "61. 11080\n",
       "62. 4555\n",
       "63. 105378604\n",
       "64. 101928433\n",
       "65. 6351\n",
       "66. 107986649\n",
       "67. 3310\n",
       "68. 780853\n",
       "69. 7127\n",
       "70. 3553\n",
       "71. 83896\n",
       "72. 407975\n",
       "73. 12\n",
       "74. 4568\n",
       "75. 107075116\n",
       "76. 105376361\n",
       "77. 102465879\n",
       "78. 3383\n",
       "79. 107986119\n",
       "80. 8013\n",
       "81. 105373836\n",
       "82. 693201\n",
       "83. 92162\n",
       "84. 4565\n",
       "85. 6373\n",
       "86. 9935\n",
       "87. 1440\n",
       "88. 158257\n",
       "89. 171523\n",
       "90. 9001\n",
       "91. 6367\n",
       "92. 114599\n",
       "93. 81788\n",
       "94. 83887\n",
       "95. 116938\n",
       "96. 91370\n",
       "97. 100419583\n",
       "98. 441307\n",
       "99. 79635\n",
       "100. 105376360\n",
       "101. 10747\n",
       "102. 340719\n",
       "103. 284185\n",
       "104. 3337\n",
       "105. 100130476\n",
       "106. 100996511\n",
       "107. 100616376\n",
       "108. 100422943\n",
       "109. 25794\n",
       "110. 254100\n",
       "111. 51561\n",
       "112. 135112\n",
       "113. 6274\n",
       "114. 105372711\n",
       "115. 26813\n",
       "116. 105378328\n",
       "117. 9308\n",
       "118. 3303\n",
       "119. 107986170\n",
       "120. 8351\n",
       "121. 4577\n",
       "122. 6347\n",
       "123. 2824\n",
       "124. 441072\n",
       "125. 105378744\n",
       "126. 22943\n",
       "127. 107984421\n",
       "128. 26013\n",
       "129. 3304\n",
       "130. 101927080\n",
       "131. 105369161\n",
       "132. 8676\n",
       "133. 26816\n",
       "134. 65997\n",
       "135. 2113\n",
       "136. 100216546\n",
       "137. 101928741\n",
       "138. 5724\n",
       "139. 105374584\n",
       "140. 6648\n",
       "141. 107986197\n",
       "142. 3626\n",
       "143. 629\n",
       "144. 692158\n",
       "145. 7057\n",
       "146. 84688\n",
       "147. 339829\n",
       "148. 26817\n",
       "149. 107987152\n",
       "150. 340544\n",
       "151. 6374\n",
       "152. 105372380\n",
       "153. 5021\n",
       "154. 107985080\n",
       "155. 677806\n",
       "156. 101930112\n",
       "157. 2302\n",
       "158. 105373944\n",
       "159. 26330\n",
       "160. 100126791\n",
       "161. 677812\n",
       "162. 105371159\n",
       "163. 9299\n",
       "164. 100505812\n",
       "165. 85450\n",
       "166. 101929715\n",
       "167. 100287216\n",
       "168. 100506178\n",
       "169. 3976\n",
       "170. 574042\n",
       "171. 105375181\n",
       "172. 728378\n",
       "173. 26770\n",
       "174. 6344\n",
       "175. 9297\n",
       "176. 105370364\n",
       "177. 26818\n",
       "178. 105371413\n",
       "179. 342977\n",
       "180. 619569\n",
       "181. 677811\n",
       "182. 105376714\n",
       "183. 54863\n",
       "184. 387763\n",
       "185. 100507489\n",
       "186. 3552\n",
       "187. 107985383\n",
       "188. 105371058\n",
       "189. 105378911\n",
       "190. 6364\n",
       "191. 677810\n",
       "192. 105377290\n",
       "193. 4884\n",
       "194. 23025\n",
       "195. 105371600\n",
       "196. 57172\n",
       "197. 9953\n",
       "198. 594838\n",
       "\n",
       "\n"
      ],
      "text/plain": [
       "  [1]      5997       133      7124      2353      4576      4572     10769\n",
       "  [8]    414236      3659      4569      3397      1435      4050    284454\n",
       " [15]    780851      1543    389384     10808     27289      3576     10370\n",
       " [22]      3311      1437 112268133      2920      4792      6385     64332\n",
       " [29]      4556      3627    148022      5328     79094    162989     84981\n",
       " [36]      1545      9298      6376      6776 105372652 112268301      7128\n",
       " [43] 105373485      1827    283624      4566 105377347      6352      3139\n",
       " [50]      2921       624      1844     63943 105374418     85389       330\n",
       " [57]      8740      2919     85390 100874246     11080      4555 105378604\n",
       " [64] 101928433      6351 107986649      3310    780853      7127      3553\n",
       " [71]     83896    407975        12      4568 107075116 105376361 102465879\n",
       " [78]      3383 107986119      8013 105373836    693201     92162      4565\n",
       " [85]      6373      9935      1440    158257    171523      9001      6367\n",
       " [92]    114599     81788     83887    116938     91370 100419583    441307\n",
       " [99]     79635 105376360     10747    340719    284185      3337 100130476\n",
       "[106] 100996511 100616376 100422943     25794    254100     51561    135112\n",
       "[113]      6274 105372711     26813 105378328      9308      3303 107986170\n",
       "[120]      8351      4577      6347      2824    441072 105378744     22943\n",
       "[127] 107984421     26013      3304 101927080 105369161      8676     26816\n",
       "[134]     65997      2113 100216546 101928741      5724 105374584      6648\n",
       "[141] 107986197      3626       629    692158      7057     84688    339829\n",
       "[148]     26817 107987152    340544      6374 105372380      5021 107985080\n",
       "[155]    677806 101930112      2302 105373944     26330 100126791    677812\n",
       "[162] 105371159      9299 100505812     85450 101929715 100287216 100506178\n",
       "[169]      3976    574042 105375181    728378     26770      6344      9297\n",
       "[176] 105370364     26818 105371413    342977    619569    677811 105376714\n",
       "[183]     54863    387763 100507489      3552 107985383 105371058 105378911\n",
       "[190]      6364    677810 105377290      4884     23025 105371600     57172\n",
       "[197]      9953    594838"
      ]
     },
     "metadata": {},
     "output_type": "display_data"
    }
   ],
   "source": [
    "# Leer el archivo CSV\n",
    "data <- read.csv(\"deSeqRes_filtrado_bacillus_subtilis_CW14.csv\")\n",
    "# Filtrar los genes significativos\n",
    "genes_significativos <- subset(data, padj < 0.05)\n",
    "# Extraer la lista de genes significativos\n",
    "lista_genes <- genes_significativos$gene_name\n",
    "# Verificar si los genes son números (posiblemente IDs de Entrez)\n",
    "if (all(grepl(\"^\\\\d+$\", lista_genes))) {\n",
    "    genes_ids <- lista_genes\n",
    "} else {\n",
    "    # Convertir los nombres de genes a IDs de Entrez si son símbolos\n",
    "    genes_ids <- bitr(lista_genes, fromType = \"SYMBOL\", toType = \"ENTREZID\", OrgDb = org.Hs.eg.db)$ENTREZID\n",
    "}\n",
    "genes_ids"
   ]
  },
  {
   "cell_type": "markdown",
   "metadata": {},
   "source": [
    "BIOGRID"
   ]
  },
  {
   "cell_type": "markdown",
   "metadata": {},
   "source": [
    "Listado de Organismos en BioGrid"
   ]
  },
  {
   "cell_type": "markdown",
   "metadata": {},
   "source": [
    "https://webservice.thebiogrid.org/organisms/?accesskey=2a4e2455be91b4c686b17f26b16cdeb9"
   ]
  },
  {
   "cell_type": "markdown",
   "metadata": {},
   "source": [
    "\n",
    "Para analizar las rutas implicadas en las interacciones proteína-proteína, generalmente se ineteresa más las interacciones físicas. Esto se debe a que las interacciones físicas suelen implicar un contacto directo entre las proteínas, formando complejos proteicos que están directamente involucrados en procesos celulares y biológicos específicos. Estas interacciones son fundamentales para comprender cómo las proteínas cooperan entre sí para llevar a cabo funciones biológicas."
   ]
  },
  {
   "cell_type": "code",
   "execution_count": 7,
   "metadata": {
    "vscode": {
     "languageId": "r"
    }
   },
   "outputs": [
    {
     "name": "stderr",
     "output_type": "stream",
     "text": [
      "Warning message:\n",
      "\"package 'igraph' was built under R version 4.3.3\"\n",
      "\n",
      "Attaching package: 'igraph'\n",
      "\n",
      "\n",
      "The following object is masked from 'package:IRanges':\n",
      "\n",
      "    union\n",
      "\n",
      "\n",
      "The following object is masked from 'package:S4Vectors':\n",
      "\n",
      "    union\n",
      "\n",
      "\n",
      "The following objects are masked from 'package:BiocGenerics':\n",
      "\n",
      "    normalize, path, union\n",
      "\n",
      "\n",
      "The following objects are masked from 'package:stats':\n",
      "\n",
      "    decompose, spectrum\n",
      "\n",
      "\n",
      "The following object is masked from 'package:base':\n",
      "\n",
      "    union\n",
      "\n",
      "\n"
     ]
    },
    {
     "data": {
      "image/png": "[encoded data removed]",
      "text/plain": [
       "Plot with title \"\""
      ]
     },
     "metadata": {
      "image/png": {
       "height": 420,
       "width": 420
      }
     },
     "output_type": "display_data"
    }
   ],
   "source": [
    "# Especifica la ruta de tu archivo interacciones.txt\n",
    "file_path <- \"interactions.txt\"\n",
    "\n",
    "# Leer el archivo de interacciones\n",
    "interacciones <- read.table(file_path, sep = \"\\t\", header = FALSE, fill = TRUE)\n",
    "\n",
    "# Verificar si se leyeron datos válidos\n",
    "if (length(interacciones) > 0) {\n",
    "  # Asignar nombres de columnas según la estructura de BioGRID\n",
    "  col_names <- c(\"V1\", \"V2\", \"V3\", \"V4\", \"V5\", \"V6\", \"V7\", \"V8\", \"V9\", \"V10\",\n",
    "                 \"V11\", \"V12\", \"V13\", \"V14\", \"V15\", \"V16\", \"V17\", \"V18\", \"V19\", \"V20\",\n",
    "                 \"V21\", \"V22\", \"V23\", \"V24\")\n",
    "  \n",
    "  # Ajustar el vector de nombres si es necesario (puede ser que BioGRID devuelva menos columnas)\n",
    "  col_names <- head(col_names, ncol(interacciones))\n",
    "  \n",
    "  # Asignar nombres de columnas\n",
    "  colnames(interacciones) <- col_names\n",
    "\n",
    "  # Verificar si hay filas duplicadas y eliminarlas si es necesario\n",
    "  interacciones_fisicas <- unique(interacciones)\n",
    "  \n",
    "  # Filtrar por interacciones físicas con alta calidad y seleccionar las primeras 10\n",
    "  interacciones_fisicas <- interacciones[interacciones$V18 != \"Low Throughput\" & interacciones$V13 == \"physical\", c(\"V8\", \"V9\")]\n",
    "  interacciones_fisicas <- interacciones_fisicas[1:20, ]\n",
    "  \n",
    "  \n",
    "  \n",
    "  # Crear un grafo dirigido usando igraph\n",
    "  library(igraph)\n",
    "  \n",
    "  # Crear un grafo vacío con los nodos de interacciones únicas\n",
    "  grafo <- graph_from_data_frame(d = interacciones_fisicas, directed = TRUE)\n",
    "  \n",
    "  # Ajustar el layout para evitar superposiciones\n",
    "  layout <- layout_with_fr(grafo, weights = E(grafo)$weight)\n",
    "  \n",
    "  # Visualizar el grafo con un layout personalizado\n",
    "  plot(grafo, layout = layout, vertex.label.dist = 0.5, vertex.size = 8, edge.arrow.size = 0.5,\n",
    "       vertex.label.cex = 0.8, edge.curved = 0.2, margin = 0.1)\n",
    "  \n",
    "} else {\n",
    "  # Manejar el caso de que no se hayan leído datos válidos\n",
    "  print(\"No se pudieron leer datos válidos.\")\n",
    "}\n"
   ]
  },
  {
   "cell_type": "code",
   "execution_count": 8,
   "metadata": {
    "vscode": {
     "languageId": "r"
    }
   },
   "outputs": [
    {
     "data": {
      "image/png": "[encoded data removed]",
      "text/plain": [
       "Plot with title \"\""
      ]
     },
     "metadata": {
      "image/png": {
       "height": 420,
       "width": 420
      }
     },
     "output_type": "display_data"
    }
   ],
   "source": [
    "# Convertir el grafo dirigido en no dirigido\n",
    "grafo_no_dirigido <- as.undirected(grafo, mode = \"collapse\")\n",
    "# Detectar comunidades usando el algoritmo de Louvain en el grafo no dirigido\n",
    "comunidades <- cluster_louvain(grafo_no_dirigido)\n",
    "plot(comunidades, grafo_no_dirigido, layout = layout)\n"
   ]
  },
  {
   "cell_type": "code",
   "execution_count": 9,
   "metadata": {
    "vscode": {
     "languageId": "r"
    }
   },
   "outputs": [
    {
     "data": {
      "image/png": "[encoded data removed]",
      "text/plain": [
       "Plot with title \"\""
      ]
     },
     "metadata": {
      "image/png": {
       "height": 420,
       "width": 420
      }
     },
     "output_type": "display_data"
    }
   ],
   "source": [
    "# Detectar comunidades usando el método de propagación de etiquetas en el grafo dirigido\n",
    "comunidades_label_prop <- cluster_label_prop(grafo, weights = NA)\n",
    "plot(comunidades_label_prop, grafo, layout = layout)\n"
   ]
  },
  {
   "cell_type": "code",
   "execution_count": 10,
   "metadata": {
    "vscode": {
     "languageId": "r"
    }
   },
   "outputs": [
    {
     "data": {
      "text/html": [
       "<table class=\"dataframe\">\n",
       "<caption>A data.frame: 20 × 2</caption>\n",
       "<thead>\n",
       "\t<tr><th></th><th scope=col>V8</th><th scope=col>V9</th></tr>\n",
       "\t<tr><th></th><th scope=col>&lt;chr&gt;</th><th scope=col>&lt;chr&gt;</th></tr>\n",
       "</thead>\n",
       "<tbody>\n",
       "\t<tr><th scope=row>20</th><td>MDFI    </td><td>DKK1   </td></tr>\n",
       "\t<tr><th scope=row>21</th><td>STX11   </td><td>TAF6L  </td></tr>\n",
       "\t<tr><th scope=row>22</th><td>EWSR1   </td><td>RASL11B</td></tr>\n",
       "\t<tr><th scope=row>23</th><td>STX11   </td><td>CCNK   </td></tr>\n",
       "\t<tr><th scope=row>24</th><td>SNAP25  </td><td>STX11  </td></tr>\n",
       "\t<tr><th scope=row>25</th><td>STX11   </td><td>KXD1   </td></tr>\n",
       "\t<tr><th scope=row>26</th><td>MAGEA12 </td><td>STAT5A </td></tr>\n",
       "\t<tr><th scope=row>27</th><td>RGS2    </td><td>NINL   </td></tr>\n",
       "\t<tr><th scope=row>28</th><td>NFKBIA  </td><td>POM121 </td></tr>\n",
       "\t<tr><th scope=row>29</th><td>CHAC1   </td><td>RHOXF2 </td></tr>\n",
       "\t<tr><th scope=row>30</th><td>STAT5A  </td><td>PRTFDC1</td></tr>\n",
       "\t<tr><th scope=row>31</th><td>STX11   </td><td>STX11  </td></tr>\n",
       "\t<tr><th scope=row>32</th><td>STX11   </td><td>SNAP23 </td></tr>\n",
       "\t<tr><th scope=row>33</th><td>STX11   </td><td>SNAP23 </td></tr>\n",
       "\t<tr><th scope=row>34</th><td>CHAC1   </td><td>RHOXF2 </td></tr>\n",
       "\t<tr><th scope=row>45</th><td>DKK1    </td><td>CORO1A </td></tr>\n",
       "\t<tr><th scope=row>46</th><td>SAE1    </td><td>CYP1B1 </td></tr>\n",
       "\t<tr><th scope=row>47</th><td>NTHL1   </td><td>GAPDHS </td></tr>\n",
       "\t<tr><th scope=row>48</th><td>AURKA   </td><td>SOD2   </td></tr>\n",
       "\t<tr><th scope=row>49</th><td>TNFRSF1A</td><td>TNF    </td></tr>\n",
       "</tbody>\n",
       "</table>\n"
      ],
      "text/latex": [
       "A data.frame: 20 × 2\n",
       "\\begin{tabular}{r|ll}\n",
       "  & V8 & V9\\\\\n",
       "  & <chr> & <chr>\\\\\n",
       "\\hline\n",
       "\t20 & MDFI     & DKK1   \\\\\n",
       "\t21 & STX11    & TAF6L  \\\\\n",
       "\t22 & EWSR1    & RASL11B\\\\\n",
       "\t23 & STX11    & CCNK   \\\\\n",
       "\t24 & SNAP25   & STX11  \\\\\n",
       "\t25 & STX11    & KXD1   \\\\\n",
       "\t26 & MAGEA12  & STAT5A \\\\\n",
       "\t27 & RGS2     & NINL   \\\\\n",
       "\t28 & NFKBIA   & POM121 \\\\\n",
       "\t29 & CHAC1    & RHOXF2 \\\\\n",
       "\t30 & STAT5A   & PRTFDC1\\\\\n",
       "\t31 & STX11    & STX11  \\\\\n",
       "\t32 & STX11    & SNAP23 \\\\\n",
       "\t33 & STX11    & SNAP23 \\\\\n",
       "\t34 & CHAC1    & RHOXF2 \\\\\n",
       "\t45 & DKK1     & CORO1A \\\\\n",
       "\t46 & SAE1     & CYP1B1 \\\\\n",
       "\t47 & NTHL1    & GAPDHS \\\\\n",
       "\t48 & AURKA    & SOD2   \\\\\n",
       "\t49 & TNFRSF1A & TNF    \\\\\n",
       "\\end{tabular}\n"
      ],
      "text/markdown": [
       "\n",
       "A data.frame: 20 × 2\n",
       "\n",
       "| <!--/--> | V8 &lt;chr&gt; | V9 &lt;chr&gt; |\n",
       "|---|---|---|\n",
       "| 20 | MDFI     | DKK1    |\n",
       "| 21 | STX11    | TAF6L   |\n",
       "| 22 | EWSR1    | RASL11B |\n",
       "| 23 | STX11    | CCNK    |\n",
       "| 24 | SNAP25   | STX11   |\n",
       "| 25 | STX11    | KXD1    |\n",
       "| 26 | MAGEA12  | STAT5A  |\n",
       "| 27 | RGS2     | NINL    |\n",
       "| 28 | NFKBIA   | POM121  |\n",
       "| 29 | CHAC1    | RHOXF2  |\n",
       "| 30 | STAT5A   | PRTFDC1 |\n",
       "| 31 | STX11    | STX11   |\n",
       "| 32 | STX11    | SNAP23  |\n",
       "| 33 | STX11    | SNAP23  |\n",
       "| 34 | CHAC1    | RHOXF2  |\n",
       "| 45 | DKK1     | CORO1A  |\n",
       "| 46 | SAE1     | CYP1B1  |\n",
       "| 47 | NTHL1    | GAPDHS  |\n",
       "| 48 | AURKA    | SOD2    |\n",
       "| 49 | TNFRSF1A | TNF     |\n",
       "\n"
      ],
      "text/plain": [
       "   V8       V9     \n",
       "20 MDFI     DKK1   \n",
       "21 STX11    TAF6L  \n",
       "22 EWSR1    RASL11B\n",
       "23 STX11    CCNK   \n",
       "24 SNAP25   STX11  \n",
       "25 STX11    KXD1   \n",
       "26 MAGEA12  STAT5A \n",
       "27 RGS2     NINL   \n",
       "28 NFKBIA   POM121 \n",
       "29 CHAC1    RHOXF2 \n",
       "30 STAT5A   PRTFDC1\n",
       "31 STX11    STX11  \n",
       "32 STX11    SNAP23 \n",
       "33 STX11    SNAP23 \n",
       "34 CHAC1    RHOXF2 \n",
       "45 DKK1     CORO1A \n",
       "46 SAE1     CYP1B1 \n",
       "47 NTHL1    GAPDHS \n",
       "48 AURKA    SOD2   \n",
       "49 TNFRSF1A TNF    "
      ]
     },
     "metadata": {},
     "output_type": "display_data"
    }
   ],
   "source": [
    "interacciones_fisicas"
   ]
  },
  {
   "cell_type": "code",
   "execution_count": 11,
   "metadata": {
    "vscode": {
     "languageId": "r"
    }
   },
   "outputs": [
    {
     "name": "stdout",
     "output_type": "stream",
     "text": [
      "'data.frame':\t6435 obs. of  24 variables:\n",
      " $ V1 : int  1156 8011 8799 10618 10836 16245 17403 18916 20912 20917 ...\n",
      " $ V2 : chr  \"10370\" \"9001\" \"3552\" \"5970\" ...\n",
      " $ V3 : int  7020 3064 4692 2353 1616 8887 8573 6776 9001 1639 ...\n",
      " $ V4 : int  115649 114480 109768 111902 108414 112983 109623 109921 110833 114480 ...\n",
      " $ V5 : int  112878 109314 110772 108636 107985 114405 114141 112653 114480 108007 ...\n",
      " $ V6 : chr  \"-\" \"-\" \"-\" \"-\" ...\n",
      " $ V7 : chr  \"RP1-290I10.1\" \"-\" \"-\" \"-\" ...\n",
      " $ V8 : chr  \"CITED2\" \"HAP1\" \"IL1A\" \"RELA\" ...\n",
      " $ V9 : chr  \"TFAP2A\" \"HTT\" \"NDN\" \"FOS\" ...\n",
      " $ V10: chr  \"ASD8|MRG-1|MRG1|P35SRJ|VSD2\" \"HAP2|HIP5|HLP|hHLP1\" \"IL-1A|IL1|IL1-ALPHA|IL1F1\" \"NFKB3|p65\" ...\n",
      " $ V11: chr  \"AP-2|AP-2alpha|AP2TF|BOFS|TFAP2\" \"HD|IT15\" \"HsT16328|PWCR\" \"AP-1|C-FOS|p55\" ...\n",
      " $ V12: chr  \"Two-hybrid\" \"Two-hybrid\" \"Two-hybrid\" \"Two-hybrid\" ...\n",
      " $ V13: chr  \"physical\" \"physical\" \"physical\" \"physical\" ...\n",
      " $ V14: chr  \"Braganca J (2003)\" \"Li XJ (1995)\" \"Hu B (2003)\" \"Yang X (1999)\" ...\n",
      " $ V15: chr  \"12586840\" \"7477378\" \"12913118\" \"10488148\" ...\n",
      " $ V16: chr  \"9606\" \"9606\" \"9606\" \"9606\" ...\n",
      " $ V17: int  9606 9606 9606 9606 9606 9606 9606 9606 9606 9606 ...\n",
      " $ V18: chr  \"Low Throughput\" \"Low Throughput\" \"Low Throughput\" \"Low Throughput\" ...\n",
      " $ V19: chr  \"-\" \"-\" \"-\" \"-\" ...\n",
      " $ V20: chr  \"-\" \"-\" \"-\" \"-\" ...\n",
      " $ V21: chr  \"-\" \"-\" \"-\" \"-\" ...\n",
      " $ V22: chr  \"-\" \"-\" \"-\" \"-\" ...\n",
      " $ V23: chr  \"-\" \"-\" \"-\" \"-\" ...\n",
      " $ V24: chr  \"BIOGRID\" \"BIOGRID\" \"BIOGRID\" \"BIOGRID\" ...\n"
     ]
    }
   ],
   "source": [
    "# Especifica la ruta de tu archivo interacciones.txt\n",
    "file_path <- \"interactions.txt\"\n",
    "\n",
    "# Leer el archivo de interacciones\n",
    "interacciones <- read.table(file_path, sep = \"\\t\", header = FALSE, fill = TRUE)\n",
    "str(interacciones)"
   ]
  },
  {
   "cell_type": "code",
   "execution_count": 13,
   "metadata": {
    "vscode": {
     "languageId": "r"
    }
   },
   "outputs": [
    {
     "name": "stdout",
     "output_type": "stream",
     "text": [
      "'data.frame':\t6435 obs. of  24 variables:\n",
      " $ BioGRID Interaction ID                 : int  1156 8011 8799 10618 10836 16245 17403 18916 20912 20917 ...\n",
      " $ Entrez Gene ID for Interactor A        : chr  \"10370\" \"9001\" \"3552\" \"5970\" ...\n",
      " $ Entrez Gene ID for Interactor B        : int  7020 3064 4692 2353 1616 8887 8573 6776 9001 1639 ...\n",
      " $ BioGRID ID for Interactor A            : int  115649 114480 109768 111902 108414 112983 109623 109921 110833 114480 ...\n",
      " $ BioGRID ID for Interactor B            : int  112878 109314 110772 108636 107985 114405 114141 112653 114480 108007 ...\n",
      " $ Systematic name for Interactor A       : chr  \"-\" \"-\" \"-\" \"-\" ...\n",
      " $ Systematic name for Interactor B       : chr  \"RP1-290I10.1\" \"-\" \"-\" \"-\" ...\n",
      " $ Official symbol for Interactor A       : chr  \"CITED2\" \"HAP1\" \"IL1A\" \"RELA\" ...\n",
      " $ Official symbol for Interactor B       : chr  \"TFAP2A\" \"HTT\" \"NDN\" \"FOS\" ...\n",
      " $ Synonyms/Aliases for Interactor A      : chr  \"ASD8|MRG-1|MRG1|P35SRJ|VSD2\" \"HAP2|HIP5|HLP|hHLP1\" \"IL-1A|IL1|IL1-ALPHA|IL1F1\" \"NFKB3|p65\" ...\n",
      " $ Synonyms/Aliases for Interactor B      : chr  \"AP-2|AP-2alpha|AP2TF|BOFS|TFAP2\" \"HD|IT15\" \"HsT16328|PWCR\" \"AP-1|C-FOS|p55\" ...\n",
      " $ Experimental System Name               : chr  \"Two-hybrid\" \"Two-hybrid\" \"Two-hybrid\" \"Two-hybrid\" ...\n",
      " $ Experimental System Type               : chr  \"physical\" \"physical\" \"physical\" \"physical\" ...\n",
      " $ First author surname of the publication: chr  \"Braganca J (2003)\" \"Li XJ (1995)\" \"Hu B (2003)\" \"Yang X (1999)\" ...\n",
      " $ Pubmed ID                              : chr  \"12586840\" \"7477378\" \"12913118\" \"10488148\" ...\n",
      " $ Organism ID for Interactor A           : chr  \"9606\" \"9606\" \"9606\" \"9606\" ...\n",
      " $ Organism ID for Interactor B           : int  9606 9606 9606 9606 9606 9606 9606 9606 9606 9606 ...\n",
      " $ Interaction Throughput                 : chr  \"Low Throughput\" \"Low Throughput\" \"Low Throughput\" \"Low Throughput\" ...\n",
      " $ Quantitative Score                     : chr  \"-\" \"-\" \"-\" \"-\" ...\n",
      " $ Post Translational Modification        : chr  \"-\" \"-\" \"-\" \"-\" ...\n",
      " $ Phenotypes                             : chr  \"-\" \"-\" \"-\" \"-\" ...\n",
      " $ Qualifications                         : chr  \"-\" \"-\" \"-\" \"-\" ...\n",
      " $ Tags                                   : chr  \"-\" \"-\" \"-\" \"-\" ...\n",
      " $ Source Database                        : chr  \"BIOGRID\" \"BIOGRID\" \"BIOGRID\" \"BIOGRID\" ...\n"
     ]
    }
   ],
   "source": [
    "# Nombres de las columnas deseadas\n",
    "nombres_columnas <- c(\n",
    "  \"BioGRID Interaction ID\", \n",
    "  \"Entrez Gene ID for Interactor A\", \n",
    "  \"Entrez Gene ID for Interactor B\", \n",
    "  \"BioGRID ID for Interactor A\", \n",
    "  \"BioGRID ID for Interactor B\", \n",
    "  \"Systematic name for Interactor A\", \n",
    "  \"Systematic name for Interactor B\", \n",
    "  \"Official symbol for Interactor A\", \n",
    "  \"Official symbol for Interactor B\", \n",
    "  \"Synonyms/Aliases for Interactor A\", \n",
    "  \"Synonyms/Aliases for Interactor B\", \n",
    "  \"Experimental System Name\", \n",
    "  \"Experimental System Type\", \n",
    "  \"First author surname of the publication\", \n",
    "  \"Pubmed ID\", \n",
    "  \"Organism ID for Interactor A\", \n",
    "  \"Organism ID for Interactor B\", \n",
    "  \"Interaction Throughput\", \n",
    "  \"Quantitative Score\", \n",
    "  \"Post Translational Modification\", \n",
    "  \"Phenotypes\", \n",
    "  \"Qualifications\", \n",
    "  \"Tags\", \n",
    "  \"Source Database\"\n",
    ")\n",
    "\n",
    "# Asignar los nuevos nombres de columnas al DataFrame\n",
    "colnames(interacciones) <- nombres_columnas\n",
    "\n",
    "# Verificar la estructura del DataFrame con los nuevos nombres\n",
    "str(interacciones)\n"
   ]
  },
  {
   "cell_type": "markdown",
   "metadata": {},
   "source": [
    "Hay interacciones con otros organismos además de 9606->Homo Sapiens?"
   ]
  },
  {
   "cell_type": "code",
   "execution_count": 14,
   "metadata": {
    "vscode": {
     "languageId": "r"
    }
   },
   "outputs": [
    {
     "data": {
      "text/html": [
       "<style>\n",
       ".list-inline {list-style: none; margin:0; padding: 0}\n",
       ".list-inline>li {display: inline-block}\n",
       ".list-inline>li:not(:last-child)::after {content: \"\\00b7\"; padding: 0 .5ex}\n",
       "</style>\n",
       "<ol class=list-inline><li>'10090'</li><li>'9913'</li><li>'10116'</li><li>'11676'</li><li>'BIOGRID'</li><li>'9986'</li><li>'37296'</li><li>'559292'</li><li>'333760'</li><li>'2697049'</li><li>'1335626'</li><li>'10600'</li><li>'7227'</li><li>'9823'</li></ol>\n"
      ],
      "text/latex": [
       "\\begin{enumerate*}\n",
       "\\item '10090'\n",
       "\\item '9913'\n",
       "\\item '10116'\n",
       "\\item '11676'\n",
       "\\item 'BIOGRID'\n",
       "\\item '9986'\n",
       "\\item '37296'\n",
       "\\item '559292'\n",
       "\\item '333760'\n",
       "\\item '2697049'\n",
       "\\item '1335626'\n",
       "\\item '10600'\n",
       "\\item '7227'\n",
       "\\item '9823'\n",
       "\\end{enumerate*}\n"
      ],
      "text/markdown": [
       "1. '10090'\n",
       "2. '9913'\n",
       "3. '10116'\n",
       "4. '11676'\n",
       "5. 'BIOGRID'\n",
       "6. '9986'\n",
       "7. '37296'\n",
       "8. '559292'\n",
       "9. '333760'\n",
       "10. '2697049'\n",
       "11. '1335626'\n",
       "12. '10600'\n",
       "13. '7227'\n",
       "14. '9823'\n",
       "\n",
       "\n"
      ],
      "text/plain": [
       " [1] \"10090\"   \"9913\"    \"10116\"   \"11676\"   \"BIOGRID\" \"9986\"    \"37296\"  \n",
       " [8] \"559292\"  \"333760\"  \"2697049\" \"1335626\" \"10600\"   \"7227\"    \"9823\"   "
      ]
     },
     "metadata": {},
     "output_type": "display_data"
    },
    {
     "data": {
      "text/html": [
       "<style>\n",
       ".list-inline {list-style: none; margin:0; padding: 0}\n",
       ".list-inline>li {display: inline-block}\n",
       ".list-inline>li:not(:last-child)::after {content: \"\\00b7\"; padding: 0 .5ex}\n",
       "</style>\n",
       "<ol class=list-inline><li>10090</li><li>9913</li><li>10116</li><li>11676</li><li>&lt;NA&gt;</li><li>9031</li></ol>\n"
      ],
      "text/latex": [
       "\\begin{enumerate*}\n",
       "\\item 10090\n",
       "\\item 9913\n",
       "\\item 10116\n",
       "\\item 11676\n",
       "\\item <NA>\n",
       "\\item 9031\n",
       "\\end{enumerate*}\n"
      ],
      "text/markdown": [
       "1. 10090\n",
       "2. 9913\n",
       "3. 10116\n",
       "4. 11676\n",
       "5. &lt;NA&gt;\n",
       "6. 9031\n",
       "\n",
       "\n"
      ],
      "text/plain": [
       "[1] 10090  9913 10116 11676    NA  9031"
      ]
     },
     "metadata": {},
     "output_type": "display_data"
    }
   ],
   "source": [
    "# Filtrar los organismos distintos de 9606 en la columna \"Organism ID for Interactor A\"\n",
    "organismos_A_distintos <- unique(interacciones$`Organism ID for Interactor A`[interacciones$`Organism ID for Interactor A` != 9606])\n",
    "\n",
    "# Filtrar los organismos distintos de 9606 en la columna \"Organism ID for Interactor B\"\n",
    "organismos_B_distintos <- unique(interacciones$`Organism ID for Interactor B`[interacciones$`Organism ID for Interactor B` != 9606])\n",
    "\n",
    "# Mostrar los resultados\n",
    "organismos_A_distintos\n",
    "organismos_B_distintos\n"
   ]
  },
  {
   "cell_type": "markdown",
   "metadata": {},
   "source": [
    "Se encontraron interacciones con estos organismos además de 9606 -> Homo sapiens:\n",
    "\n",
    "    10116 -> Rattus norvegicus\n",
    "\n",
    "    10090 -> Mus musculus\n",
    "\n",
    "    9913 -> Bos taurus\n",
    "\n",
    "    11676 -> Human Immunodeficiency Virus 1\n",
    "\n",
    "    9986 -> Oryctolagus cuniculus\n",
    "\n",
    "    37296 -> Human Herpesvirus 8\n",
    "\n",
    "    559292 -> Saccharomyces cerevisiae (S288c)\n",
    "\n",
    "    333760 -> Human papillomavirus (16)\n",
    "\n",
    "    2697049 -> Severe acute respiratory syndrome coronavirus 2\n",
    "\n",
    "    1335626 -> Middle-East Respiratory Syndrome-related Coronavirus\n",
    "\n",
    "    6239 -> Caenorhabditis elegans\n",
    "\n",
    "    10600 -> Human papillomavirus (6b)\n",
    "\n",
    "    7227 -> Drosophila melanogaster\n",
    "\n",
    "    9823 -> Sus scrofa\n",
    "    \n",
    "    9031 -> Gallus gallus\n",
    "\n",
    "    "
   ]
  },
  {
   "cell_type": "code",
   "execution_count": 17,
   "metadata": {
    "vscode": {
     "languageId": "r"
    }
   },
   "outputs": [
    {
     "data": {
      "text/html": [
       "<style>\n",
       ".list-inline {list-style: none; margin:0; padding: 0}\n",
       ".list-inline>li {display: inline-block}\n",
       ".list-inline>li:not(:last-child)::after {content: \"\\00b7\"; padding: 0 .5ex}\n",
       "</style>\n",
       "<ol class=list-inline><li>'Homo sapiens'</li><li>'Homo sapiens'</li><li>'Homo sapiens'</li><li>'Homo sapiens'</li><li>'Homo sapiens'</li><li>'Homo sapiens'</li></ol>\n"
      ],
      "text/latex": [
       "\\begin{enumerate*}\n",
       "\\item 'Homo sapiens'\n",
       "\\item 'Homo sapiens'\n",
       "\\item 'Homo sapiens'\n",
       "\\item 'Homo sapiens'\n",
       "\\item 'Homo sapiens'\n",
       "\\item 'Homo sapiens'\n",
       "\\end{enumerate*}\n"
      ],
      "text/markdown": [
       "1. 'Homo sapiens'\n",
       "2. 'Homo sapiens'\n",
       "3. 'Homo sapiens'\n",
       "4. 'Homo sapiens'\n",
       "5. 'Homo sapiens'\n",
       "6. 'Homo sapiens'\n",
       "\n",
       "\n"
      ],
      "text/plain": [
       "[1] \"Homo sapiens\" \"Homo sapiens\" \"Homo sapiens\" \"Homo sapiens\" \"Homo sapiens\"\n",
       "[6] \"Homo sapiens\""
      ]
     },
     "metadata": {},
     "output_type": "display_data"
    },
    {
     "data": {
      "text/html": [
       "<style>\n",
       ".list-inline {list-style: none; margin:0; padding: 0}\n",
       ".list-inline>li {display: inline-block}\n",
       ".list-inline>li:not(:last-child)::after {content: \"\\00b7\"; padding: 0 .5ex}\n",
       "</style>\n",
       "<ol class=list-inline><li>'Homo sapiens'</li><li>'Homo sapiens'</li><li>'Homo sapiens'</li><li>'Homo sapiens'</li><li>'Homo sapiens'</li><li>'Homo sapiens'</li></ol>\n"
      ],
      "text/latex": [
       "\\begin{enumerate*}\n",
       "\\item 'Homo sapiens'\n",
       "\\item 'Homo sapiens'\n",
       "\\item 'Homo sapiens'\n",
       "\\item 'Homo sapiens'\n",
       "\\item 'Homo sapiens'\n",
       "\\item 'Homo sapiens'\n",
       "\\end{enumerate*}\n"
      ],
      "text/markdown": [
       "1. 'Homo sapiens'\n",
       "2. 'Homo sapiens'\n",
       "3. 'Homo sapiens'\n",
       "4. 'Homo sapiens'\n",
       "5. 'Homo sapiens'\n",
       "6. 'Homo sapiens'\n",
       "\n",
       "\n"
      ],
      "text/plain": [
       "[1] \"Homo sapiens\" \"Homo sapiens\" \"Homo sapiens\" \"Homo sapiens\" \"Homo sapiens\"\n",
       "[6] \"Homo sapiens\""
      ]
     },
     "metadata": {},
     "output_type": "display_data"
    }
   ],
   "source": [
    "# Crear un diccionario que asocie cada Organism ID con su nombre correspondiente\n",
    "organism_names <- c(\n",
    "  \"9606\" = \"Homo sapiens\",\n",
    "  \"10116\" = \"Rattus norvegicus\",\n",
    "  \"10090\" = \"Mus musculus\",\n",
    "  \"9913\" = \"Bos taurus\",\n",
    "  \"11676\" = \"Human Immunodeficiency Virus 1\",\n",
    "  \"9986\" = \"Oryctolagus cuniculus\",\n",
    "  \"37296\" = \"Human Herpesvirus 8\",\n",
    "  \"559292\" = \"Saccharomyces cerevisiae (S288c)\",\n",
    "  \"333760\" = \"Human papillomavirus (16)\",\n",
    "  \"2697049\" = \"Severe acute respiratory syndrome coronavirus 2\",\n",
    "  \"1335626\" = \"Middle-East Respiratory Syndrome-related Coronavirus\",\n",
    "  \"6239\" = \"Caenorhabditis elegans\",\n",
    "  \"10600\" = \"Human papillomavirus (6b)\",\n",
    "  \"7227\" = \"Drosophila melanogaster\",\n",
    "  \"9823\" = \"Sus scrofa\",\n",
    "  \"9031\" = \"Gallus gallus\"\n",
    ")\n",
    "\n",
    "# Reemplazar los valores numéricos con los nombres en la columna \"Organism ID for Interactor A\"\n",
    "interacciones$`Organism ID for Interactor A` <- organism_names[as.character(interacciones$`Organism ID for Interactor A`)]\n",
    "\n",
    "# Reemplazar los valores numéricos con los nombres en la columna \"Organism ID for Interactor B\"\n",
    "interacciones$`Organism ID for Interactor B` <- organism_names[as.character(interacciones$`Organism ID for Interactor B`)]\n",
    "\n",
    "# Verificar el resultado\n",
    "head(interacciones$`Organism ID for Interactor A`)\n",
    "head(interacciones$`Organism ID for Interactor B`)\n"
   ]
  },
  {
   "cell_type": "markdown",
   "metadata": {},
   "source": [
    "https://wiki.thebiogrid.org/doku.php/biogrid_tab_version_2.0\n",
    "Header Definitions\n",
    "The first line of a BioGRID Tab 2.0 file is the heading line and starts with a hash (#). This line is purely for informational purposes and gives a brief description of the content contained in each column. If you are scripting the use of this file, you can simply ignore it.\n",
    "\n",
    "Interaction File Column Definitions\n",
    "The column contents of BioGRID Interaction Tab 2.0 files should be as follows:\n",
    "\n",
    "BioGRID Interaction ID. A unique identifier for each interaction within the BioGRID database. Can be used to link to BioGRID interaction pages. For example: http://thebiogrid.org/interaction/616539\n",
    "-Entrez Gene ID for Interactor A. The identifier from the Entrez-Gene database that corresponds to Interactor A. If no Entrez Gene ID is available, this will be a “-”.\n",
    "-Entrez Gene ID for Interactor B. Same structure as column 2.\n",
    "BioGRID ID for Interactor A. The identifier in the BioGRID database that corresponds to Interactor A. These identifiers are best used for creating links to the BioGRID from your own websites or applications. To link to a page within our site, simply append the URL: http://thebiogrid.org/ID/ to each ID. For example, http://thebiogrid.org/31623/.\n",
    "BioGRID ID for Interactor B. Same structure as column 4.\n",
    "Systematic name for Interactor A. A plain text systematic name if known for interactor A. Will be a “-” if no name is available.\n",
    "Systematic name for Interactor B. Same structure as column 6.\n",
    "Official symbol for Interactor A. A common gene name/official symbol for interactor A. Will be a “-” if no name is available.\n",
    "Official symbol for Interactor B. Same structure as column 8.\n",
    "Synonyms/Aliases for Interactor A. A “|” separated list of alternate identifiers for interactor A. Will be “-” if no aliases are available.\n",
    "Synonyms/Aliases for Interactor B. Same stucture as column 10.\n",
    "Experimental System Name. One of the many Experimental Evidence Codes supported by the BioGRID.\n",
    "Experimental System Type. This will be either “physical” or “genetic” as a classification of the Experimental System Name.\n",
    "First author surname of the publication in which the interaction has been shown, optionally followed by additional indicators, e.g. Stephenson A (2005)\n",
    "Pubmed ID of the publication in which the interaction has been shown.\n",
    "Organism ID for Interactor A. This is the NCBI Taxonomy ID for Interactor A.\n",
    "Organism ID for Interactor B. Same structure as 16.\n",
    "Interaction Throughput. This will be either High Throughput, Low Throughput or Both (separated by “|”).\n",
    "Quantitative Score. This will be a positive for negative value recorded by the original publication depicting P-Values, Confidence Score, SGA Score, etc. Will be “-” if no score is reported.\n",
    "Post Translational Modification. For any Biochemical Activity experiments, this field will be filled with the associated post translational modification. Will be “-” if no modification is reported.\n",
    "Phenotypes. If any phenotype info is recorded, it will be provided here separated by “|”. Each phenotype will be of the format <phenotype>[<phenotype qualifier>]:<phenotype type>. Note that the phenotype types and qualifiers are optional and will only be present where recorded. Phenotypes may also have multiple qualifiers in which case unique qualifiers will be separated by carat (^). If no phenotype information is available, this field will contain “-”.\n",
    "Qualifications. If additional plain text information was recorded for an interaction, it will be listed with unique qualifiers separated by “|”. If no qualification is available, this field will contain “-”.\n",
    "Tags. If an interaction has been tagged with additional classifications, they will be provided in this column separated by “|”. If no tag information is available, this field will contain “-”.\n",
    "Source Database. This field will contain the name of the database in which this interaction was provided.\n",
    "All columns are mandatory so columns with no values are filled with “-“"
   ]
  },
  {
   "cell_type": "markdown",
   "metadata": {},
   "source": [
    "Esta fue el query que se uso:"
   ]
  },
  {
   "cell_type": "code",
   "execution_count": 12,
   "metadata": {
    "vscode": {
     "languageId": "r"
    }
   },
   "outputs": [
    {
     "name": "stdout",
     "output_type": "stream",
     "text": [
      "[1] \"http://webservice.thebiogrid.org/interactions?geneList=5997|133|7124|2353|4576|4572|10769|414236|3659|4569|3397|1435|4050|284454|780851|1543|389384|10808|27289|3576|10370|3311|1437|112268133|2920|4792|6385|64332|4556|3627|148022|5328|79094|162989|84981|1545|9298|6376|6776|105372652|112268301|7128|105373485|1827|283624|4566|105377347|6352|3139|2921|624|1844|63943|105374418|85389|330|8740|2919|85390|100874246|11080|4555|105378604|101928433|6351|107986649|3310|780853|7127|3553|83896|407975|12|4568|107075116|105376361|102465879|3383|107986119|8013|105373836|693201|92162|4565|6373|9935|1440|158257|171523|9001|6367|114599|81788|83887|116938|91370|100419583|441307|79635|105376360|10747|340719|284185|3337|100130476|100996511|100616376|100422943|25794|254100|51561|135112|6274|105372711|26813|105378328|9308|3303|107986170|8351|4577|6347|2824|441072|105378744|22943|107984421|26013|3304|101927080|105369161|8676|26816|65997|2113|100216546|101928741|5724|105374584|6648|107986197|3626|629|692158|7057|84688|339829|26817|107987152|340544|6374|105372380|5021|107985080|677806|101930112|2302|105373944|26330|100126791|677812|105371159|9299|100505812|85450|101929715|100287216|100506178|3976|574042|105375181|728378|26770|6344|9297|105370364|26818|105371413|342977|619569|677811|105376714|54863|387763|100507489|3552|107985383|105371058|105378911|6364|677810|105377290|4884|23025|105371600|57172|9953|594838&searchids=true&includeInteractors=true&accesskey=2a4e2455be91b4c686b17f26b16cdeb9\"\n"
     ]
    }
   ],
   "source": [
    "print(query_url)"
   ]
  },
  {
   "cell_type": "code",
   "execution_count": 18,
   "metadata": {
    "vscode": {
     "languageId": "r"
    }
   },
   "outputs": [],
   "source": [
    "# Guardar la lista de proteínas en un archivo CSV\n",
    "write.csv(interacciones, file = \"interacciones_BioGRID_Bacillus_Subtilis.csv\", row.names = FALSE)"
   ]
  }
 ],
 "metadata": {
  "kernelspec": {
   "display_name": "R",
   "language": "R",
   "name": "ir"
  },
  "language_info": {
   "codemirror_mode": "r",
   "file_extension": ".r",
   "mimetype": "text/x-r-source",
   "name": "R",
   "pygments_lexer": "r",
   "version": "4.3.2"
  }
 },
 "nbformat": 4,
 "nbformat_minor": 2
}

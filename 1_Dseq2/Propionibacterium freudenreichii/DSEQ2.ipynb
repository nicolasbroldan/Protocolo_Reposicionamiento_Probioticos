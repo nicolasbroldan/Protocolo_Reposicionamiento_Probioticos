{
 "cells": [
  {
   "cell_type": "code",
   "execution_count": null,
   "metadata": {
    "vscode": {
     "languageId": "r"
    }
   },
   "outputs": [],
   "source": [
    "if (!require(\"BiocManager\", quietly = TRUE))\n",
    "  install.packages(\"BiocManager\")\n",
    "BiocManager::install"
   ]
  },
  {
   "cell_type": "code",
   "execution_count": null,
   "metadata": {
    "vscode": {
     "languageId": "r"
    }
   },
   "outputs": [],
   "source": [
    "library(BiocManager)\n",
    "BiocManager::install('umap')"
   ]
  },
  {
   "cell_type": "code",
   "execution_count": 1,
   "metadata": {
    "vscode": {
     "languageId": "r"
    }
   },
   "outputs": [
    {
     "name": "stderr",
     "output_type": "stream",
     "text": [
      "Loading required package: S4Vectors\n",
      "\n",
      "Loading required package: stats4\n",
      "\n",
      "Loading required package: BiocGenerics\n",
      "\n",
      "\n",
      "Attaching package: 'BiocGenerics'\n",
      "\n",
      "\n",
      "The following objects are masked from 'package:stats':\n",
      "\n",
      "    IQR, mad, sd, var, xtabs\n",
      "\n",
      "\n",
      "The following objects are masked from 'package:base':\n",
      "\n",
      "    anyDuplicated, append, as.data.frame, basename, cbind, colnames,\n",
      "    dirname, do.call, duplicated, eval, evalq, Filter, Find, get, grep,\n",
      "    grepl, intersect, is.unsorted, lapply, Map, mapply, match, mget,\n",
      "    order, paste, pmax, pmax.int, pmin, pmin.int, Position, rank,\n",
      "    rbind, Reduce, rownames, sapply, setdiff, sort, table, tapply,\n",
      "    union, unique, unsplit, which.max, which.min\n",
      "\n",
      "\n",
      "\n",
      "Attaching package: 'S4Vectors'\n",
      "\n",
      "\n",
      "The following objects are masked from 'package:base':\n",
      "\n",
      "    expand.grid, I, unname\n",
      "\n",
      "\n",
      "Loading required package: IRanges\n",
      "\n",
      "\n",
      "Attaching package: 'IRanges'\n",
      "\n",
      "\n",
      "The following object is masked from 'package:grDevices':\n",
      "\n",
      "    windows\n",
      "\n",
      "\n",
      "Loading required package: GenomicRanges\n",
      "\n",
      "Loading required package: GenomeInfoDb\n",
      "\n",
      "Loading required package: SummarizedExperiment\n",
      "\n",
      "Loading required package: MatrixGenerics\n",
      "\n",
      "Loading required package: matrixStats\n",
      "\n",
      "\n",
      "Attaching package: 'MatrixGenerics'\n",
      "\n",
      "\n",
      "The following objects are masked from 'package:matrixStats':\n",
      "\n",
      "    colAlls, colAnyNAs, colAnys, colAvgsPerRowSet, colCollapse,\n",
      "    colCounts, colCummaxs, colCummins, colCumprods, colCumsums,\n",
      "    colDiffs, colIQRDiffs, colIQRs, colLogSumExps, colMadDiffs,\n",
      "    colMads, colMaxs, colMeans2, colMedians, colMins, colOrderStats,\n",
      "    colProds, colQuantiles, colRanges, colRanks, colSdDiffs, colSds,\n",
      "    colSums2, colTabulates, colVarDiffs, colVars, colWeightedMads,\n",
      "    colWeightedMeans, colWeightedMedians, colWeightedSds,\n",
      "    colWeightedVars, rowAlls, rowAnyNAs, rowAnys, rowAvgsPerColSet,\n",
      "    rowCollapse, rowCounts, rowCummaxs, rowCummins, rowCumprods,\n",
      "    rowCumsums, rowDiffs, rowIQRDiffs, rowIQRs, rowLogSumExps,\n",
      "    rowMadDiffs, rowMads, rowMaxs, rowMeans2, rowMedians, rowMins,\n",
      "    rowOrderStats, rowProds, rowQuantiles, rowRanges, rowRanks,\n",
      "    rowSdDiffs, rowSds, rowSums2, rowTabulates, rowVarDiffs, rowVars,\n",
      "    rowWeightedMads, rowWeightedMeans, rowWeightedMedians,\n",
      "    rowWeightedSds, rowWeightedVars\n",
      "\n",
      "\n",
      "Loading required package: Biobase\n",
      "\n",
      "Welcome to Bioconductor\n",
      "\n",
      "    Vignettes contain introductory material; view with\n",
      "    'browseVignettes()'. To cite Bioconductor, see\n",
      "    'citation(\"Biobase\")', and for packages 'citation(\"pkgname\")'.\n",
      "\n",
      "\n",
      "\n",
      "Attaching package: 'Biobase'\n",
      "\n",
      "\n",
      "The following object is masked from 'package:MatrixGenerics':\n",
      "\n",
      "    rowMedians\n",
      "\n",
      "\n",
      "The following objects are masked from 'package:matrixStats':\n",
      "\n",
      "    anyMissing, rowMedians\n",
      "\n",
      "\n",
      "-- \u001b[1mAttaching packages\u001b[22m --------------------------------------- tidyverse 1.3.2 --\n",
      "\u001b[32mv\u001b[39m \u001b[34mggplot2\u001b[39m 3.4.2     \u001b[32mv\u001b[39m \u001b[34mpurrr  \u001b[39m 1.0.2\n",
      "\u001b[32mv\u001b[39m \u001b[34mtibble \u001b[39m 3.2.1     \u001b[32mv\u001b[39m \u001b[34mdplyr  \u001b[39m 1.1.4\n",
      "\u001b[32mv\u001b[39m \u001b[34mtidyr  \u001b[39m 1.3.1     \u001b[32mv\u001b[39m \u001b[34mstringr\u001b[39m 1.5.0\n",
      "\u001b[32mv\u001b[39m \u001b[34mreadr  \u001b[39m 2.1.5     \u001b[32mv\u001b[39m \u001b[34mforcats\u001b[39m 1.0.0\n",
      "-- \u001b[1mConflicts\u001b[22m ------------------------------------------ tidyverse_conflicts() --\n",
      "\u001b[31mx\u001b[39m \u001b[34mdplyr\u001b[39m::\u001b[32mcollapse()\u001b[39m   masks \u001b[34mIRanges\u001b[39m::collapse()\n",
      "\u001b[31mx\u001b[39m \u001b[34mdplyr\u001b[39m::\u001b[32mcombine()\u001b[39m    masks \u001b[34mBiobase\u001b[39m::combine(), \u001b[34mBiocGenerics\u001b[39m::combine()\n",
      "\u001b[31mx\u001b[39m \u001b[34mdplyr\u001b[39m::\u001b[32mcount()\u001b[39m      masks \u001b[34mmatrixStats\u001b[39m::count()\n",
      "\u001b[31mx\u001b[39m \u001b[34mdplyr\u001b[39m::\u001b[32mdesc()\u001b[39m       masks \u001b[34mIRanges\u001b[39m::desc()\n",
      "\u001b[31mx\u001b[39m \u001b[34mtidyr\u001b[39m::\u001b[32mexpand()\u001b[39m     masks \u001b[34mS4Vectors\u001b[39m::expand()\n",
      "\u001b[31mx\u001b[39m \u001b[34mdplyr\u001b[39m::\u001b[32mfilter()\u001b[39m     masks \u001b[34mstats\u001b[39m::filter()\n",
      "\u001b[31mx\u001b[39m \u001b[34mdplyr\u001b[39m::\u001b[32mfirst()\u001b[39m      masks \u001b[34mS4Vectors\u001b[39m::first()\n",
      "\u001b[31mx\u001b[39m \u001b[34mdplyr\u001b[39m::\u001b[32mlag()\u001b[39m        masks \u001b[34mstats\u001b[39m::lag()\n",
      "\u001b[31mx\u001b[39m \u001b[34mggplot2\u001b[39m::\u001b[32mPosition()\u001b[39m masks \u001b[34mBiocGenerics\u001b[39m::Position(), \u001b[34mbase\u001b[39m::Position()\n",
      "\u001b[31mx\u001b[39m \u001b[34mpurrr\u001b[39m::\u001b[32mreduce()\u001b[39m     masks \u001b[34mGenomicRanges\u001b[39m::reduce(), \u001b[34mIRanges\u001b[39m::reduce()\n",
      "\u001b[31mx\u001b[39m \u001b[34mdplyr\u001b[39m::\u001b[32mrename()\u001b[39m     masks \u001b[34mS4Vectors\u001b[39m::rename()\n",
      "\u001b[31mx\u001b[39m \u001b[34mdplyr\u001b[39m::\u001b[32mslice()\u001b[39m      masks \u001b[34mIRanges\u001b[39m::slice()\n"
     ]
    }
   ],
   "source": [
    "# load libraries\n",
    "library(DESeq2)\n",
    "library(tidyverse)\n",
    "library(airway)\n",
    "library(ggplot2)\n",
    "library(pheatmap)\n"
   ]
  },
  {
   "cell_type": "code",
   "execution_count": 6,
   "metadata": {
    "vscode": {
     "languageId": "r"
    }
   },
   "outputs": [],
   "source": [
    "#   Differential expression analysis with limma\n",
    "library(GEOquery)\n",
    "library(limma)\n",
    "library(umap)"
   ]
  },
  {
   "cell_type": "code",
   "execution_count": 12,
   "metadata": {
    "vscode": {
     "languageId": "r"
    }
   },
   "outputs": [
    {
     "name": "stderr",
     "output_type": "stream",
     "text": [
      "Found 1 file(s)\n",
      "\n",
      "GSE67033_series_matrix.txt.gz\n",
      "\n",
      "Using locally cached version of GPL16699 found here:\n",
      "C:\\Users\\3060\\AppData\\Local\\Temp\\RtmpyiPurZ/GPL16699.soft.gz \n",
      "\n"
     ]
    }
   ],
   "source": [
    "# load series and platform data from GEO\n",
    "\n",
    "gset <- getGEO(\"GSE67033\", GSEMatrix =TRUE, AnnotGPL=FALSE)\n",
    "if (length(gset) > 1) idx <- grep(\"GPL16699\", attr(gset, \"names\")) else idx <- 1\n",
    "gset <- gset[[idx]]\n",
    "\n",
    "# make proper column names to match toptable \n",
    "fvarLabels(gset) <- make.names(fvarLabels(gset))\n",
    "\n",
    "# group membership for all samples\n",
    "gsms <- \"0000XXXX1111XXXXXXXXXXXX\"\n",
    "sml <- strsplit(gsms, split=\"\")[[1]]\n",
    "\n",
    "# filter out excluded samples (marked as \"X\")\n",
    "sel <- which(sml != \"X\")\n",
    "sml <- sml[sel]\n",
    "gset <- gset[ ,sel]\n"
   ]
  },
  {
   "cell_type": "code",
   "execution_count": 13,
   "metadata": {
    "vscode": {
     "languageId": "r"
    }
   },
   "outputs": [
    {
     "data": {
      "text/plain": [
       "ExpressionSet (storageMode: lockedEnvironment)\n",
       "assayData: 58717 features, 8 samples \n",
       "  element names: exprs \n",
       "protocolData: none\n",
       "phenoData\n",
       "  sampleNames: GSM1636497 GSM1636498 ... GSM1636508 (8 total)\n",
       "  varLabels: title geo_accession ... tissue:ch1 (38 total)\n",
       "  varMetadata: labelDescription\n",
       "featureData\n",
       "  featureNames: 4 5 ... 62972 (58717 total)\n",
       "  fvarLabels: ID COL ... SEQUENCE (19 total)\n",
       "  fvarMetadata: Column Description labelDescription\n",
       "experimentData: use 'experimentData(object)'\n",
       "  pubMedIds: 26771233 \n",
       "Annotation: GPL16699 "
      ]
     },
     "metadata": {},
     "output_type": "display_data"
    }
   ],
   "source": [
    "gset"
   ]
  },
  {
   "cell_type": "code",
   "execution_count": 27,
   "metadata": {
    "vscode": {
     "languageId": "r"
    }
   },
   "outputs": [
    {
     "data": {
      "text/html": [
       "<table class=\"dataframe\">\n",
       "<caption>A data.frame: 6 × 19</caption>\n",
       "<thead>\n",
       "\t<tr><th></th><th scope=col>ID</th><th scope=col>COL</th><th scope=col>ROW</th><th scope=col>NAME</th><th scope=col>SPOT_ID</th><th scope=col>CONTROL_TYPE</th><th scope=col>REFSEQ</th><th scope=col>GB_ACC</th><th scope=col>LOCUSLINK_ID</th><th scope=col>GENE_SYMBOL</th><th scope=col>GENE_NAME</th><th scope=col>UNIGENE_ID</th><th scope=col>ENSEMBL_ID</th><th scope=col>ACCESSION_STRING</th><th scope=col>CHROMOSOMAL_LOCATION</th><th scope=col>CYTOBAND</th><th scope=col>DESCRIPTION</th><th scope=col>GO_ID</th><th scope=col>SEQUENCE</th></tr>\n",
       "\t<tr><th></th><th scope=col>&lt;int&gt;</th><th scope=col>&lt;int&gt;</th><th scope=col>&lt;int&gt;</th><th scope=col>&lt;chr&gt;</th><th scope=col>&lt;chr&gt;</th><th scope=col>&lt;chr&gt;</th><th scope=col>&lt;chr&gt;</th><th scope=col>&lt;chr&gt;</th><th scope=col>&lt;int&gt;</th><th scope=col>&lt;chr&gt;</th><th scope=col>&lt;chr&gt;</th><th scope=col>&lt;chr&gt;</th><th scope=col>&lt;chr&gt;</th><th scope=col>&lt;chr&gt;</th><th scope=col>&lt;chr&gt;</th><th scope=col>&lt;chr&gt;</th><th scope=col>&lt;chr&gt;</th><th scope=col>&lt;chr&gt;</th><th scope=col>&lt;chr&gt;</th></tr>\n",
       "</thead>\n",
       "<tbody>\n",
       "\t<tr><th scope=row>4</th><td>4</td><td>192</td><td>322</td><td>A_23_P117082 </td><td>A_23_P117082 </td><td>FALSE</td><td>NM_015987   </td><td>NM_015987   </td><td>    50865</td><td>HEBP1       </td><td>heme binding protein 1                                       </td><td>Hs.642618</td><td>ENST00000014930</td><td>ref|NM_015987|ens|ENST00000014930|gb|AF117615|gb|BC016277                </td><td>chr12:13127906-13127847 </td><td>hs|12p13.1 </td><td>Homo sapiens heme binding protein 1 (HEBP1), mRNA [NM_015987]                                       </td><td>GO:0005488(binding)|GO:0005576(extracellular region)|GO:0005737(cytoplasm)|GO:0005739(mitochondrion)|GO:0005829(cytosol)|GO:0007623(circadian rhythm)|GO:0020037(heme binding)                                                                            </td><td>AAGGGGGAAAATGTGATTTGTGCCTGATCTTTCATCTGTGATTCTTATAAGAGCTTTGTC</td></tr>\n",
       "\t<tr><th scope=row>5</th><td>5</td><td>192</td><td>320</td><td>A_33_P3246448</td><td>A_33_P3246448</td><td>FALSE</td><td>NM_080671   </td><td>NM_080671   </td><td>    23704</td><td>KCNE4       </td><td>potassium voltage-gated channel, Isk-related family, member 4</td><td>Hs.348522</td><td>ENST00000281830</td><td>ref|NM_080671|ens|ENST00000281830|tc|THC2655788                          </td><td>chr2:223920197-223920256</td><td>hs|2q36.1  </td><td>Homo sapiens potassium voltage-gated channel, Isk-related family, member 4 (KCNE4), mRNA [NM_080671]</td><td>GO:0005244(voltage-gated ion channel activity)|GO:0005249(voltage-gated potassium channel activity)|GO:0006811(ion transport)|GO:0006813(potassium ion transport)|GO:0016020(membrane)|GO:0016021(integral to membrane)|GO:0016324(apical plasma membrane)</td><td>GCAAGTCTCTCTGCACCTATTAAAAAGTGATGTATATACTTCCTTCTTATTCTGTTGAGT</td></tr>\n",
       "\t<tr><th scope=row>6</th><td>6</td><td>192</td><td>318</td><td>A_33_P3318220</td><td>A_33_P3318220</td><td>FALSE</td><td>NM_178466   </td><td>NM_178466   </td><td>   128861</td><td>BPIFA3      </td><td>BPI fold containing family A, member 3                       </td><td>Hs.360989</td><td>ENST00000375454</td><td>ref|NM_178466|ens|ENST00000375454|ens|ENST00000471233|tc|THC2478474      </td><td>chr20:31812208-31812267 </td><td>hs|20q11.21</td><td>Homo sapiens BPI fold containing family A, member 3 (BPIFA3), transcript variant 1, mRNA [NM_178466]</td><td>GO:0005576(extracellular region)|GO:0008289(lipid binding)                                                                                                                                                                                                </td><td>CATTCCATAAGGAGTGGTTCTCGGCAAATATCTCACTTGAATTTGACCTTGAATTGAGAC</td></tr>\n",
       "\t<tr><th scope=row>7</th><td>7</td><td>192</td><td>316</td><td>A_33_P3236322</td><td>A_33_P3236322</td><td>FALSE</td><td>            </td><td>AK128005    </td><td>100129869</td><td>LOC100129869</td><td>uncharacterized LOC100129869                                 </td><td>         </td><td>               </td><td>gb|AK128005|tc|THC2484382                                                </td><td>chr20:56533874-56533815 </td><td>hs|20q13.32</td><td>Homo sapiens cDNA FLJ46124 fis, clone TESTI2040372. [AK128005]                                      </td><td>                                                                                                                                                                                                                                                          </td><td>ATTTATTTTCACAAGTGCATAGCGGCCAACACCACCAGCACTAACCAGAGTGGATTCTTG</td></tr>\n",
       "\t<tr><th scope=row>8</th><td>8</td><td>192</td><td>314</td><td>A_33_P3319925</td><td>A_33_P3319925</td><td>FALSE</td><td>XM_001133269</td><td>XM_001133269</td><td>   730249</td><td>IRG1        </td><td>immunoresponsive 1 homolog (mouse)                           </td><td>Hs.160789</td><td>ENST00000449753</td><td>ens|ENST00000449753|ens|ENST00000377462|ref|XM_001133269|ref|XM_003403661</td><td>chr13:77532009-77532068 </td><td>hs|13q22.3 </td><td>immunoresponsive 1 homolog (mouse) [Source:HGNC Symbol;Acc:33904] [ENST00000449753]                 </td><td>GO:0019543(propionate catabolic process)|GO:0032496(response to lipopolysaccharide)|GO:0047547(2-methylcitrate dehydratase activity)                                                                                                                      </td><td>AGAAGACCTAGAAGACTGTTCTGTGTTAACTACACTTCTCAAAGGACCCTCTCCACCAGA</td></tr>\n",
       "\t<tr><th scope=row>9</th><td>9</td><td>192</td><td>312</td><td>A_21_P0000509</td><td>A_21_P0000509</td><td>FALSE</td><td>NR_024244   </td><td>NR_024244   </td><td>       NA</td><td>SNAR-G2     </td><td>small ILF3/NF90-associated RNA G2                            </td><td>Hs.717308</td><td>               </td><td>ref|NR_024244                                                            </td><td>chr19:49534993-49534934 </td><td>hs|19q13.33</td><td>Homo sapiens small ILF3/NF90-associated RNA G2 (SNAR-G2), small nuclear RNA [NR_024244]             </td><td>                                                                                                                                                                                                                                                          </td><td>AGGGGAGGGTTCGAGGGTACGAGTTCGAGGCCAACCGGGTCCACATTGGTTGAGAAAAAA</td></tr>\n",
       "</tbody>\n",
       "</table>\n"
      ],
      "text/latex": [
       "A data.frame: 6 × 19\n",
       "\\begin{tabular}{r|lllllllllllllllllll}\n",
       "  & ID & COL & ROW & NAME & SPOT\\_ID & CONTROL\\_TYPE & REFSEQ & GB\\_ACC & LOCUSLINK\\_ID & GENE\\_SYMBOL & GENE\\_NAME & UNIGENE\\_ID & ENSEMBL\\_ID & ACCESSION\\_STRING & CHROMOSOMAL\\_LOCATION & CYTOBAND & DESCRIPTION & GO\\_ID & SEQUENCE\\\\\n",
       "  & <int> & <int> & <int> & <chr> & <chr> & <chr> & <chr> & <chr> & <int> & <chr> & <chr> & <chr> & <chr> & <chr> & <chr> & <chr> & <chr> & <chr> & <chr>\\\\\n",
       "\\hline\n",
       "\t4 & 4 & 192 & 322 & A\\_23\\_P117082  & A\\_23\\_P117082  & FALSE & NM\\_015987    & NM\\_015987    &     50865 & HEBP1        & heme binding protein 1                                        & Hs.642618 & ENST00000014930 & ref\\textbar{}NM\\_015987\\textbar{}ens\\textbar{}ENST00000014930\\textbar{}gb\\textbar{}AF117615\\textbar{}gb\\textbar{}BC016277                 & chr12:13127906-13127847  & hs\\textbar{}12p13.1  & Homo sapiens heme binding protein 1 (HEBP1), mRNA {[}NM\\_015987{]}                                        & GO:0005488(binding)\\textbar{}GO:0005576(extracellular region)\\textbar{}GO:0005737(cytoplasm)\\textbar{}GO:0005739(mitochondrion)\\textbar{}GO:0005829(cytosol)\\textbar{}GO:0007623(circadian rhythm)\\textbar{}GO:0020037(heme binding)                                                                             & AAGGGGGAAAATGTGATTTGTGCCTGATCTTTCATCTGTGATTCTTATAAGAGCTTTGTC\\\\\n",
       "\t5 & 5 & 192 & 320 & A\\_33\\_P3246448 & A\\_33\\_P3246448 & FALSE & NM\\_080671    & NM\\_080671    &     23704 & KCNE4        & potassium voltage-gated channel, Isk-related family, member 4 & Hs.348522 & ENST00000281830 & ref\\textbar{}NM\\_080671\\textbar{}ens\\textbar{}ENST00000281830\\textbar{}tc\\textbar{}THC2655788                           & chr2:223920197-223920256 & hs\\textbar{}2q36.1   & Homo sapiens potassium voltage-gated channel, Isk-related family, member 4 (KCNE4), mRNA {[}NM\\_080671{]} & GO:0005244(voltage-gated ion channel activity)\\textbar{}GO:0005249(voltage-gated potassium channel activity)\\textbar{}GO:0006811(ion transport)\\textbar{}GO:0006813(potassium ion transport)\\textbar{}GO:0016020(membrane)\\textbar{}GO:0016021(integral to membrane)\\textbar{}GO:0016324(apical plasma membrane) & GCAAGTCTCTCTGCACCTATTAAAAAGTGATGTATATACTTCCTTCTTATTCTGTTGAGT\\\\\n",
       "\t6 & 6 & 192 & 318 & A\\_33\\_P3318220 & A\\_33\\_P3318220 & FALSE & NM\\_178466    & NM\\_178466    &    128861 & BPIFA3       & BPI fold containing family A, member 3                        & Hs.360989 & ENST00000375454 & ref\\textbar{}NM\\_178466\\textbar{}ens\\textbar{}ENST00000375454\\textbar{}ens\\textbar{}ENST00000471233\\textbar{}tc\\textbar{}THC2478474       & chr20:31812208-31812267  & hs\\textbar{}20q11.21 & Homo sapiens BPI fold containing family A, member 3 (BPIFA3), transcript variant 1, mRNA {[}NM\\_178466{]} & GO:0005576(extracellular region)\\textbar{}GO:0008289(lipid binding)                                                                                                                                                                                                 & CATTCCATAAGGAGTGGTTCTCGGCAAATATCTCACTTGAATTTGACCTTGAATTGAGAC\\\\\n",
       "\t7 & 7 & 192 & 316 & A\\_33\\_P3236322 & A\\_33\\_P3236322 & FALSE &              & AK128005     & 100129869 & LOC100129869 & uncharacterized LOC100129869                                  &           &                 & gb\\textbar{}AK128005\\textbar{}tc\\textbar{}THC2484382                                                 & chr20:56533874-56533815  & hs\\textbar{}20q13.32 & Homo sapiens cDNA FLJ46124 fis, clone TESTI2040372. {[}AK128005{]}                                       &                                                                                                                                                                                                                                                            & ATTTATTTTCACAAGTGCATAGCGGCCAACACCACCAGCACTAACCAGAGTGGATTCTTG\\\\\n",
       "\t8 & 8 & 192 & 314 & A\\_33\\_P3319925 & A\\_33\\_P3319925 & FALSE & XM\\_001133269 & XM\\_001133269 &    730249 & IRG1         & immunoresponsive 1 homolog (mouse)                            & Hs.160789 & ENST00000449753 & ens\\textbar{}ENST00000449753\\textbar{}ens\\textbar{}ENST00000377462\\textbar{}ref\\textbar{}XM\\_001133269\\textbar{}ref\\textbar{}XM\\_003403661 & chr13:77532009-77532068  & hs\\textbar{}13q22.3  & immunoresponsive 1 homolog (mouse) {[}Source:HGNC Symbol;Acc:33904{]} {[}ENST00000449753{]}                  & GO:0019543(propionate catabolic process)\\textbar{}GO:0032496(response to lipopolysaccharide)\\textbar{}GO:0047547(2-methylcitrate dehydratase activity)                                                                                                                       & AGAAGACCTAGAAGACTGTTCTGTGTTAACTACACTTCTCAAAGGACCCTCTCCACCAGA\\\\\n",
       "\t9 & 9 & 192 & 312 & A\\_21\\_P0000509 & A\\_21\\_P0000509 & FALSE & NR\\_024244    & NR\\_024244    &        NA & SNAR-G2      & small ILF3/NF90-associated RNA G2                             & Hs.717308 &                 & ref\\textbar{}NR\\_024244                                                             & chr19:49534993-49534934  & hs\\textbar{}19q13.33 & Homo sapiens small ILF3/NF90-associated RNA G2 (SNAR-G2), small nuclear RNA {[}NR\\_024244{]}              &                                                                                                                                                                                                                                                            & AGGGGAGGGTTCGAGGGTACGAGTTCGAGGCCAACCGGGTCCACATTGGTTGAGAAAAAA\\\\\n",
       "\\end{tabular}\n"
      ],
      "text/markdown": [
       "\n",
       "A data.frame: 6 × 19\n",
       "\n",
       "| <!--/--> | ID &lt;int&gt; | COL &lt;int&gt; | ROW &lt;int&gt; | NAME &lt;chr&gt; | SPOT_ID &lt;chr&gt; | CONTROL_TYPE &lt;chr&gt; | REFSEQ &lt;chr&gt; | GB_ACC &lt;chr&gt; | LOCUSLINK_ID &lt;int&gt; | GENE_SYMBOL &lt;chr&gt; | GENE_NAME &lt;chr&gt; | UNIGENE_ID &lt;chr&gt; | ENSEMBL_ID &lt;chr&gt; | ACCESSION_STRING &lt;chr&gt; | CHROMOSOMAL_LOCATION &lt;chr&gt; | CYTOBAND &lt;chr&gt; | DESCRIPTION &lt;chr&gt; | GO_ID &lt;chr&gt; | SEQUENCE &lt;chr&gt; |\n",
       "|---|---|---|---|---|---|---|---|---|---|---|---|---|---|---|---|---|---|---|---|\n",
       "| 4 | 4 | 192 | 322 | A_23_P117082  | A_23_P117082  | FALSE | NM_015987    | NM_015987    |     50865 | HEBP1        | heme binding protein 1                                        | Hs.642618 | ENST00000014930 | ref|NM_015987|ens|ENST00000014930|gb|AF117615|gb|BC016277                 | chr12:13127906-13127847  | hs|12p13.1  | Homo sapiens heme binding protein 1 (HEBP1), mRNA [NM_015987]                                        | GO:0005488(binding)|GO:0005576(extracellular region)|GO:0005737(cytoplasm)|GO:0005739(mitochondrion)|GO:0005829(cytosol)|GO:0007623(circadian rhythm)|GO:0020037(heme binding)                                                                             | AAGGGGGAAAATGTGATTTGTGCCTGATCTTTCATCTGTGATTCTTATAAGAGCTTTGTC |\n",
       "| 5 | 5 | 192 | 320 | A_33_P3246448 | A_33_P3246448 | FALSE | NM_080671    | NM_080671    |     23704 | KCNE4        | potassium voltage-gated channel, Isk-related family, member 4 | Hs.348522 | ENST00000281830 | ref|NM_080671|ens|ENST00000281830|tc|THC2655788                           | chr2:223920197-223920256 | hs|2q36.1   | Homo sapiens potassium voltage-gated channel, Isk-related family, member 4 (KCNE4), mRNA [NM_080671] | GO:0005244(voltage-gated ion channel activity)|GO:0005249(voltage-gated potassium channel activity)|GO:0006811(ion transport)|GO:0006813(potassium ion transport)|GO:0016020(membrane)|GO:0016021(integral to membrane)|GO:0016324(apical plasma membrane) | GCAAGTCTCTCTGCACCTATTAAAAAGTGATGTATATACTTCCTTCTTATTCTGTTGAGT |\n",
       "| 6 | 6 | 192 | 318 | A_33_P3318220 | A_33_P3318220 | FALSE | NM_178466    | NM_178466    |    128861 | BPIFA3       | BPI fold containing family A, member 3                        | Hs.360989 | ENST00000375454 | ref|NM_178466|ens|ENST00000375454|ens|ENST00000471233|tc|THC2478474       | chr20:31812208-31812267  | hs|20q11.21 | Homo sapiens BPI fold containing family A, member 3 (BPIFA3), transcript variant 1, mRNA [NM_178466] | GO:0005576(extracellular region)|GO:0008289(lipid binding)                                                                                                                                                                                                 | CATTCCATAAGGAGTGGTTCTCGGCAAATATCTCACTTGAATTTGACCTTGAATTGAGAC |\n",
       "| 7 | 7 | 192 | 316 | A_33_P3236322 | A_33_P3236322 | FALSE | <!----> | AK128005     | 100129869 | LOC100129869 | uncharacterized LOC100129869                                  | <!----> | <!----> | gb|AK128005|tc|THC2484382                                                 | chr20:56533874-56533815  | hs|20q13.32 | Homo sapiens cDNA FLJ46124 fis, clone TESTI2040372. [AK128005]                                       | <!----> | ATTTATTTTCACAAGTGCATAGCGGCCAACACCACCAGCACTAACCAGAGTGGATTCTTG |\n",
       "| 8 | 8 | 192 | 314 | A_33_P3319925 | A_33_P3319925 | FALSE | XM_001133269 | XM_001133269 |    730249 | IRG1         | immunoresponsive 1 homolog (mouse)                            | Hs.160789 | ENST00000449753 | ens|ENST00000449753|ens|ENST00000377462|ref|XM_001133269|ref|XM_003403661 | chr13:77532009-77532068  | hs|13q22.3  | immunoresponsive 1 homolog (mouse) [Source:HGNC Symbol;Acc:33904] [ENST00000449753]                  | GO:0019543(propionate catabolic process)|GO:0032496(response to lipopolysaccharide)|GO:0047547(2-methylcitrate dehydratase activity)                                                                                                                       | AGAAGACCTAGAAGACTGTTCTGTGTTAACTACACTTCTCAAAGGACCCTCTCCACCAGA |\n",
       "| 9 | 9 | 192 | 312 | A_21_P0000509 | A_21_P0000509 | FALSE | NR_024244    | NR_024244    |        NA | SNAR-G2      | small ILF3/NF90-associated RNA G2                             | Hs.717308 | <!----> | ref|NR_024244                                                             | chr19:49534993-49534934  | hs|19q13.33 | Homo sapiens small ILF3/NF90-associated RNA G2 (SNAR-G2), small nuclear RNA [NR_024244]              | <!----> | AGGGGAGGGTTCGAGGGTACGAGTTCGAGGCCAACCGGGTCCACATTGGTTGAGAAAAAA |\n",
       "\n"
      ],
      "text/plain": [
       "  ID COL ROW NAME          SPOT_ID       CONTROL_TYPE REFSEQ       GB_ACC      \n",
       "4 4  192 322 A_23_P117082  A_23_P117082  FALSE        NM_015987    NM_015987   \n",
       "5 5  192 320 A_33_P3246448 A_33_P3246448 FALSE        NM_080671    NM_080671   \n",
       "6 6  192 318 A_33_P3318220 A_33_P3318220 FALSE        NM_178466    NM_178466   \n",
       "7 7  192 316 A_33_P3236322 A_33_P3236322 FALSE                     AK128005    \n",
       "8 8  192 314 A_33_P3319925 A_33_P3319925 FALSE        XM_001133269 XM_001133269\n",
       "9 9  192 312 A_21_P0000509 A_21_P0000509 FALSE        NR_024244    NR_024244   \n",
       "  LOCUSLINK_ID GENE_SYMBOL \n",
       "4     50865    HEBP1       \n",
       "5     23704    KCNE4       \n",
       "6    128861    BPIFA3      \n",
       "7 100129869    LOC100129869\n",
       "8    730249    IRG1        \n",
       "9        NA    SNAR-G2     \n",
       "  GENE_NAME                                                     UNIGENE_ID\n",
       "4 heme binding protein 1                                        Hs.642618 \n",
       "5 potassium voltage-gated channel, Isk-related family, member 4 Hs.348522 \n",
       "6 BPI fold containing family A, member 3                        Hs.360989 \n",
       "7 uncharacterized LOC100129869                                            \n",
       "8 immunoresponsive 1 homolog (mouse)                            Hs.160789 \n",
       "9 small ILF3/NF90-associated RNA G2                             Hs.717308 \n",
       "  ENSEMBL_ID     \n",
       "4 ENST00000014930\n",
       "5 ENST00000281830\n",
       "6 ENST00000375454\n",
       "7                \n",
       "8 ENST00000449753\n",
       "9                \n",
       "  ACCESSION_STRING                                                         \n",
       "4 ref|NM_015987|ens|ENST00000014930|gb|AF117615|gb|BC016277                \n",
       "5 ref|NM_080671|ens|ENST00000281830|tc|THC2655788                          \n",
       "6 ref|NM_178466|ens|ENST00000375454|ens|ENST00000471233|tc|THC2478474      \n",
       "7 gb|AK128005|tc|THC2484382                                                \n",
       "8 ens|ENST00000449753|ens|ENST00000377462|ref|XM_001133269|ref|XM_003403661\n",
       "9 ref|NR_024244                                                            \n",
       "  CHROMOSOMAL_LOCATION     CYTOBAND   \n",
       "4 chr12:13127906-13127847  hs|12p13.1 \n",
       "5 chr2:223920197-223920256 hs|2q36.1  \n",
       "6 chr20:31812208-31812267  hs|20q11.21\n",
       "7 chr20:56533874-56533815  hs|20q13.32\n",
       "8 chr13:77532009-77532068  hs|13q22.3 \n",
       "9 chr19:49534993-49534934  hs|19q13.33\n",
       "  DESCRIPTION                                                                                         \n",
       "4 Homo sapiens heme binding protein 1 (HEBP1), mRNA [NM_015987]                                       \n",
       "5 Homo sapiens potassium voltage-gated channel, Isk-related family, member 4 (KCNE4), mRNA [NM_080671]\n",
       "6 Homo sapiens BPI fold containing family A, member 3 (BPIFA3), transcript variant 1, mRNA [NM_178466]\n",
       "7 Homo sapiens cDNA FLJ46124 fis, clone TESTI2040372. [AK128005]                                      \n",
       "8 immunoresponsive 1 homolog (mouse) [Source:HGNC Symbol;Acc:33904] [ENST00000449753]                 \n",
       "9 Homo sapiens small ILF3/NF90-associated RNA G2 (SNAR-G2), small nuclear RNA [NR_024244]             \n",
       "  GO_ID                                                                                                                                                                                                                                                     \n",
       "4 GO:0005488(binding)|GO:0005576(extracellular region)|GO:0005737(cytoplasm)|GO:0005739(mitochondrion)|GO:0005829(cytosol)|GO:0007623(circadian rhythm)|GO:0020037(heme binding)                                                                            \n",
       "5 GO:0005244(voltage-gated ion channel activity)|GO:0005249(voltage-gated potassium channel activity)|GO:0006811(ion transport)|GO:0006813(potassium ion transport)|GO:0016020(membrane)|GO:0016021(integral to membrane)|GO:0016324(apical plasma membrane)\n",
       "6 GO:0005576(extracellular region)|GO:0008289(lipid binding)                                                                                                                                                                                                \n",
       "7                                                                                                                                                                                                                                                           \n",
       "8 GO:0019543(propionate catabolic process)|GO:0032496(response to lipopolysaccharide)|GO:0047547(2-methylcitrate dehydratase activity)                                                                                                                      \n",
       "9                                                                                                                                                                                                                                                           \n",
       "  SEQUENCE                                                    \n",
       "4 AAGGGGGAAAATGTGATTTGTGCCTGATCTTTCATCTGTGATTCTTATAAGAGCTTTGTC\n",
       "5 GCAAGTCTCTCTGCACCTATTAAAAAGTGATGTATATACTTCCTTCTTATTCTGTTGAGT\n",
       "6 CATTCCATAAGGAGTGGTTCTCGGCAAATATCTCACTTGAATTTGACCTTGAATTGAGAC\n",
       "7 ATTTATTTTCACAAGTGCATAGCGGCCAACACCACCAGCACTAACCAGAGTGGATTCTTG\n",
       "8 AGAAGACCTAGAAGACTGTTCTGTGTTAACTACACTTCTCAAAGGACCCTCTCCACCAGA\n",
       "9 AGGGGAGGGTTCGAGGGTACGAGTTCGAGGCCAACCGGGTCCACATTGGTTGAGAAAAAA"
      ]
     },
     "metadata": {},
     "output_type": "display_data"
    }
   ],
   "source": [
    "# Mostrar las primeras filas de fData para verificar las columnas disponibles\n",
    "head(fData(gset))"
   ]
  },
  {
   "cell_type": "code",
   "execution_count": 66,
   "metadata": {
    "vscode": {
     "languageId": "r"
    }
   },
   "outputs": [
    {
     "data": {
      "text/html": [
       "<table class=\"dataframe\">\n",
       "<caption>A data.frame: 6 × 9</caption>\n",
       "<thead>\n",
       "\t<tr><th></th><th scope=col>Gene</th><th scope=col>GSM1636497</th><th scope=col>GSM1636498</th><th scope=col>GSM1636499</th><th scope=col>GSM1636500</th><th scope=col>GSM1636505</th><th scope=col>GSM1636506</th><th scope=col>GSM1636507</th><th scope=col>GSM1636508</th></tr>\n",
       "\t<tr><th></th><th scope=col>&lt;chr&gt;</th><th scope=col>&lt;int&gt;</th><th scope=col>&lt;int&gt;</th><th scope=col>&lt;int&gt;</th><th scope=col>&lt;int&gt;</th><th scope=col>&lt;int&gt;</th><th scope=col>&lt;int&gt;</th><th scope=col>&lt;int&gt;</th><th scope=col>&lt;int&gt;</th></tr>\n",
       "</thead>\n",
       "<tbody>\n",
       "\t<tr><th scope=row>4</th><td>HEBP1       </td><td>  72</td><td>  71</td><td>  62</td><td>  55</td><td>181</td><td> 192</td><td>177</td><td>141</td></tr>\n",
       "\t<tr><th scope=row>5</th><td>KCNE4       </td><td>   0</td><td>   0</td><td>   0</td><td>   0</td><td>  0</td><td>   0</td><td>  0</td><td>  0</td></tr>\n",
       "\t<tr><th scope=row>6</th><td>BPIFA3      </td><td>   0</td><td>   0</td><td>   0</td><td>   0</td><td>  0</td><td>   0</td><td>  0</td><td>  0</td></tr>\n",
       "\t<tr><th scope=row>7</th><td>LOC100129869</td><td>   0</td><td>   0</td><td>   0</td><td>   0</td><td>  0</td><td>   0</td><td>  0</td><td>  0</td></tr>\n",
       "\t<tr><th scope=row>8</th><td>IRG1        </td><td>   0</td><td>   1</td><td>   0</td><td>   0</td><td>  0</td><td>   0</td><td>  0</td><td>  0</td></tr>\n",
       "\t<tr><th scope=row>9</th><td>SNAR-G2     </td><td>2362</td><td>2409</td><td>2183</td><td>1776</td><td>912</td><td>1096</td><td>829</td><td>659</td></tr>\n",
       "</tbody>\n",
       "</table>\n"
      ],
      "text/latex": [
       "A data.frame: 6 × 9\n",
       "\\begin{tabular}{r|lllllllll}\n",
       "  & Gene & GSM1636497 & GSM1636498 & GSM1636499 & GSM1636500 & GSM1636505 & GSM1636506 & GSM1636507 & GSM1636508\\\\\n",
       "  & <chr> & <int> & <int> & <int> & <int> & <int> & <int> & <int> & <int>\\\\\n",
       "\\hline\n",
       "\t4 & HEBP1        &   72 &   71 &   62 &   55 & 181 &  192 & 177 & 141\\\\\n",
       "\t5 & KCNE4        &    0 &    0 &    0 &    0 &   0 &    0 &   0 &   0\\\\\n",
       "\t6 & BPIFA3       &    0 &    0 &    0 &    0 &   0 &    0 &   0 &   0\\\\\n",
       "\t7 & LOC100129869 &    0 &    0 &    0 &    0 &   0 &    0 &   0 &   0\\\\\n",
       "\t8 & IRG1         &    0 &    1 &    0 &    0 &   0 &    0 &   0 &   0\\\\\n",
       "\t9 & SNAR-G2      & 2362 & 2409 & 2183 & 1776 & 912 & 1096 & 829 & 659\\\\\n",
       "\\end{tabular}\n"
      ],
      "text/markdown": [
       "\n",
       "A data.frame: 6 × 9\n",
       "\n",
       "| <!--/--> | Gene &lt;chr&gt; | GSM1636497 &lt;int&gt; | GSM1636498 &lt;int&gt; | GSM1636499 &lt;int&gt; | GSM1636500 &lt;int&gt; | GSM1636505 &lt;int&gt; | GSM1636506 &lt;int&gt; | GSM1636507 &lt;int&gt; | GSM1636508 &lt;int&gt; |\n",
       "|---|---|---|---|---|---|---|---|---|---|\n",
       "| 4 | HEBP1        |   72 |   71 |   62 |   55 | 181 |  192 | 177 | 141 |\n",
       "| 5 | KCNE4        |    0 |    0 |    0 |    0 |   0 |    0 |   0 |   0 |\n",
       "| 6 | BPIFA3       |    0 |    0 |    0 |    0 |   0 |    0 |   0 |   0 |\n",
       "| 7 | LOC100129869 |    0 |    0 |    0 |    0 |   0 |    0 |   0 |   0 |\n",
       "| 8 | IRG1         |    0 |    1 |    0 |    0 |   0 |    0 |   0 |   0 |\n",
       "| 9 | SNAR-G2      | 2362 | 2409 | 2183 | 1776 | 912 | 1096 | 829 | 659 |\n",
       "\n"
      ],
      "text/plain": [
       "  Gene         GSM1636497 GSM1636498 GSM1636499 GSM1636500 GSM1636505\n",
       "4 HEBP1          72         71         62         55       181       \n",
       "5 KCNE4           0          0          0          0         0       \n",
       "6 BPIFA3          0          0          0          0         0       \n",
       "7 LOC100129869    0          0          0          0         0       \n",
       "8 IRG1            0          1          0          0         0       \n",
       "9 SNAR-G2      2362       2409       2183       1776       912       \n",
       "  GSM1636506 GSM1636507 GSM1636508\n",
       "4  192       177        141       \n",
       "5    0         0          0       \n",
       "6    0         0          0       \n",
       "7    0         0          0       \n",
       "8    0         0          0       \n",
       "9 1096       829        659       "
      ]
     },
     "metadata": {},
     "output_type": "display_data"
    }
   ],
   "source": [
    "# Reemplaza \"Gene.symbol\" con el nombre correcto de la columna que contiene los nombres de los genes\n",
    "gene_names <- fData(gset)$GENE_SYMBOL  # Asegúrate de que esta columna existe y contiene los nombres de los genes\n",
    "# Extraer la matriz de expresión (conteos de RNA-seq)\n",
    "count_matrix <- exprs(gset)\n",
    "\n",
    "# Eliminar filas con nombres de genes NA (opcional)\n",
    "valid_rows <- !is.na(gene_names)\n",
    "count_matrix <- count_matrix[valid_rows, ]\n",
    "gene_names <- gene_names[valid_rows]\n",
    "\n",
    "# Combinar los nombres de los genes con la matriz de conteos\n",
    "count_matrix <- data.frame(Gene = gene_names, count_matrix)\n",
    "\n",
    "# Redondear los conteos y convertirlos a enteros\n",
    "count_matrix[, -1] <- round(count_matrix[, -1])\n",
    "count_matrix[, -1] <- lapply(count_matrix[, -1], as.integer)\n",
    "\n",
    "# Guardar la matriz de conteos en un archivo CSV\n",
    "write.csv(count_matrix, file = \"count_matrix.csv\")\n",
    "\n",
    "# Ver las primeras filas de la matriz de conteos con los nombres de los genes\n",
    "head(count_matrix)\n"
   ]
  },
  {
   "cell_type": "code",
   "execution_count": 58,
   "metadata": {
    "vscode": {
     "languageId": "r"
    }
   },
   "outputs": [
    {
     "data": {
      "text/html": [
       "<style>\n",
       ".list-inline {list-style: none; margin:0; padding: 0}\n",
       ".list-inline>li {display: inline-block}\n",
       ".list-inline>li:not(:last-child)::after {content: \"\\00b7\"; padding: 0 .5ex}\n",
       "</style>\n",
       "<ol class=list-inline><li>'Gene'</li><li>'GSM1636497'</li><li>'GSM1636498'</li><li>'GSM1636499'</li><li>'GSM1636500'</li><li>'GSM1636505'</li><li>'GSM1636506'</li><li>'GSM1636507'</li><li>'GSM1636508'</li></ol>\n"
      ],
      "text/latex": [
       "\\begin{enumerate*}\n",
       "\\item 'Gene'\n",
       "\\item 'GSM1636497'\n",
       "\\item 'GSM1636498'\n",
       "\\item 'GSM1636499'\n",
       "\\item 'GSM1636500'\n",
       "\\item 'GSM1636505'\n",
       "\\item 'GSM1636506'\n",
       "\\item 'GSM1636507'\n",
       "\\item 'GSM1636508'\n",
       "\\end{enumerate*}\n"
      ],
      "text/markdown": [
       "1. 'Gene'\n",
       "2. 'GSM1636497'\n",
       "3. 'GSM1636498'\n",
       "4. 'GSM1636499'\n",
       "5. 'GSM1636500'\n",
       "6. 'GSM1636505'\n",
       "7. 'GSM1636506'\n",
       "8. 'GSM1636507'\n",
       "9. 'GSM1636508'\n",
       "\n",
       "\n"
      ],
      "text/plain": [
       "[1] \"Gene\"       \"GSM1636497\" \"GSM1636498\" \"GSM1636499\" \"GSM1636500\"\n",
       "[6] \"GSM1636505\" \"GSM1636506\" \"GSM1636507\" \"GSM1636508\""
      ]
     },
     "metadata": {},
     "output_type": "display_data"
    }
   ],
   "source": [
    "colnames(count_matrix)"
   ]
  },
  {
   "cell_type": "code",
   "execution_count": 77,
   "metadata": {
    "vscode": {
     "languageId": "r"
    }
   },
   "outputs": [
    {
     "data": {
      "text/html": [
       "<table class=\"dataframe\">\n",
       "<caption>A data.frame: 6 × 9</caption>\n",
       "<thead>\n",
       "\t<tr><th></th><th scope=col>Gene</th><th scope=col>GSM1636497</th><th scope=col>GSM1636498</th><th scope=col>GSM1636499</th><th scope=col>GSM1636500</th><th scope=col>GSM1636505</th><th scope=col>GSM1636506</th><th scope=col>GSM1636507</th><th scope=col>GSM1636508</th></tr>\n",
       "\t<tr><th></th><th scope=col>&lt;chr&gt;</th><th scope=col>&lt;int&gt;</th><th scope=col>&lt;int&gt;</th><th scope=col>&lt;int&gt;</th><th scope=col>&lt;int&gt;</th><th scope=col>&lt;int&gt;</th><th scope=col>&lt;int&gt;</th><th scope=col>&lt;int&gt;</th><th scope=col>&lt;int&gt;</th></tr>\n",
       "</thead>\n",
       "<tbody>\n",
       "\t<tr><th scope=row>1</th><td>HEBP1       </td><td>  72</td><td>  71</td><td>  62</td><td>  55</td><td>181</td><td> 192</td><td>177</td><td>141</td></tr>\n",
       "\t<tr><th scope=row>2</th><td>KCNE4       </td><td>   0</td><td>   0</td><td>   0</td><td>   0</td><td>  0</td><td>   0</td><td>  0</td><td>  0</td></tr>\n",
       "\t<tr><th scope=row>3</th><td>BPIFA3      </td><td>   0</td><td>   0</td><td>   0</td><td>   0</td><td>  0</td><td>   0</td><td>  0</td><td>  0</td></tr>\n",
       "\t<tr><th scope=row>4</th><td>LOC100129869</td><td>   0</td><td>   0</td><td>   0</td><td>   0</td><td>  0</td><td>   0</td><td>  0</td><td>  0</td></tr>\n",
       "\t<tr><th scope=row>5</th><td>IRG1        </td><td>   0</td><td>   1</td><td>   0</td><td>   0</td><td>  0</td><td>   0</td><td>  0</td><td>  0</td></tr>\n",
       "\t<tr><th scope=row>6</th><td>SNAR-G2     </td><td>2362</td><td>2409</td><td>2183</td><td>1776</td><td>912</td><td>1096</td><td>829</td><td>659</td></tr>\n",
       "</tbody>\n",
       "</table>\n"
      ],
      "text/latex": [
       "A data.frame: 6 × 9\n",
       "\\begin{tabular}{r|lllllllll}\n",
       "  & Gene & GSM1636497 & GSM1636498 & GSM1636499 & GSM1636500 & GSM1636505 & GSM1636506 & GSM1636507 & GSM1636508\\\\\n",
       "  & <chr> & <int> & <int> & <int> & <int> & <int> & <int> & <int> & <int>\\\\\n",
       "\\hline\n",
       "\t1 & HEBP1        &   72 &   71 &   62 &   55 & 181 &  192 & 177 & 141\\\\\n",
       "\t2 & KCNE4        &    0 &    0 &    0 &    0 &   0 &    0 &   0 &   0\\\\\n",
       "\t3 & BPIFA3       &    0 &    0 &    0 &    0 &   0 &    0 &   0 &   0\\\\\n",
       "\t4 & LOC100129869 &    0 &    0 &    0 &    0 &   0 &    0 &   0 &   0\\\\\n",
       "\t5 & IRG1         &    0 &    1 &    0 &    0 &   0 &    0 &   0 &   0\\\\\n",
       "\t6 & SNAR-G2      & 2362 & 2409 & 2183 & 1776 & 912 & 1096 & 829 & 659\\\\\n",
       "\\end{tabular}\n"
      ],
      "text/markdown": [
       "\n",
       "A data.frame: 6 × 9\n",
       "\n",
       "| <!--/--> | Gene &lt;chr&gt; | GSM1636497 &lt;int&gt; | GSM1636498 &lt;int&gt; | GSM1636499 &lt;int&gt; | GSM1636500 &lt;int&gt; | GSM1636505 &lt;int&gt; | GSM1636506 &lt;int&gt; | GSM1636507 &lt;int&gt; | GSM1636508 &lt;int&gt; |\n",
       "|---|---|---|---|---|---|---|---|---|---|\n",
       "| 1 | HEBP1        |   72 |   71 |   62 |   55 | 181 |  192 | 177 | 141 |\n",
       "| 2 | KCNE4        |    0 |    0 |    0 |    0 |   0 |    0 |   0 |   0 |\n",
       "| 3 | BPIFA3       |    0 |    0 |    0 |    0 |   0 |    0 |   0 |   0 |\n",
       "| 4 | LOC100129869 |    0 |    0 |    0 |    0 |   0 |    0 |   0 |   0 |\n",
       "| 5 | IRG1         |    0 |    1 |    0 |    0 |   0 |    0 |   0 |   0 |\n",
       "| 6 | SNAR-G2      | 2362 | 2409 | 2183 | 1776 | 912 | 1096 | 829 | 659 |\n",
       "\n"
      ],
      "text/plain": [
       "  Gene         GSM1636497 GSM1636498 GSM1636499 GSM1636500 GSM1636505\n",
       "1 HEBP1          72         71         62         55       181       \n",
       "2 KCNE4           0          0          0          0         0       \n",
       "3 BPIFA3          0          0          0          0         0       \n",
       "4 LOC100129869    0          0          0          0         0       \n",
       "5 IRG1            0          1          0          0         0       \n",
       "6 SNAR-G2      2362       2409       2183       1776       912       \n",
       "  GSM1636506 GSM1636507 GSM1636508\n",
       "1  192       177        141       \n",
       "2    0         0          0       \n",
       "3    0         0          0       \n",
       "4    0         0          0       \n",
       "5    0         0          0       \n",
       "6 1096       829        659       "
      ]
     },
     "metadata": {},
     "output_type": "display_data"
    }
   ],
   "source": [
    "tbl <- read.csv(\"count_matrix.csv\")\n",
    "tbl <- subset(tbl, select = -c(X))\n",
    "head(tbl)"
   ]
  },
  {
   "cell_type": "code",
   "execution_count": 86,
   "metadata": {
    "vscode": {
     "languageId": "r"
    }
   },
   "outputs": [],
   "source": [
    "# Crear un vector con los nuevos nombres de columna\n",
    "new_colnames <- c(\"Gene\",\"HT-29 cells control sample-1\",\n",
    "                  \"HT-29 cells control sample-2\", \n",
    "                  \"HT-29 cells control sample-3\",\n",
    "                  \"HT-29 cells control sample-4\",\n",
    "                  \"HT-29 cells treatment sample-1\",\n",
    "                  \"HT-29 cells treatment sample-2\",\n",
    "                  \"HT-29 cells treatment sample-3\",\n",
    "                  \"HT-29 cells treatment sample-4\")\n",
    "\n",
    "# Cambiar los nombres de columna de la tabla\n",
    "colnames(tbl) <- new_colnames\n",
    "\n",
    "\n",
    "# Seleccionar las columnas deseadas\n",
    "tbl_subset <- tbl[, c(\"Gene\", \n",
    "                      \"HT-29 cells control sample-1\", \n",
    "                      \"HT-29 cells control sample-2\", \n",
    "                      \"HT-29 cells control sample-3\", \n",
    "                      \"HT-29 cells control sample-4\", \n",
    "                      \"HT-29 cells treatment sample-1\", \n",
    "                      \"HT-29 cells treatment sample-2\", \n",
    "                      \"HT-29 cells treatment sample-3\", \n",
    "                      \"HT-29 cells treatment sample-4\")]\n",
    "\n",
    "# Guardar el DataFrame modificado en un archivo CSV sin índice\n",
    "write.csv(tbl_subset, file = \"counts_data.csv\", row.names = FALSE)"
   ]
  },
  {
   "cell_type": "code",
   "execution_count": 92,
   "metadata": {
    "vscode": {
     "languageId": "r"
    }
   },
   "outputs": [
    {
     "data": {
      "text/html": [
       "<table class=\"dataframe\">\n",
       "<caption>A data.frame: 58717 × 9</caption>\n",
       "<thead>\n",
       "\t<tr><th></th><th scope=col>Gene</th><th scope=col>HT-29 cells control sample-1</th><th scope=col>HT-29 cells control sample-2</th><th scope=col>HT-29 cells control sample-3</th><th scope=col>HT-29 cells control sample-4</th><th scope=col>HT-29 cells treatment sample-1</th><th scope=col>HT-29 cells treatment sample-2</th><th scope=col>HT-29 cells treatment sample-3</th><th scope=col>HT-29 cells treatment sample-4</th></tr>\n",
       "\t<tr><th></th><th scope=col>&lt;chr&gt;</th><th scope=col>&lt;int&gt;</th><th scope=col>&lt;int&gt;</th><th scope=col>&lt;int&gt;</th><th scope=col>&lt;int&gt;</th><th scope=col>&lt;int&gt;</th><th scope=col>&lt;int&gt;</th><th scope=col>&lt;int&gt;</th><th scope=col>&lt;int&gt;</th></tr>\n",
       "</thead>\n",
       "<tbody>\n",
       "\t<tr><th scope=row>1</th><td>HEBP1         </td><td>  72</td><td>  71</td><td>  62</td><td>  55</td><td>181</td><td> 192</td><td>177</td><td>141</td></tr>\n",
       "\t<tr><th scope=row>2</th><td>KCNE4         </td><td>   0</td><td>   0</td><td>   0</td><td>   0</td><td>  0</td><td>   0</td><td>  0</td><td>  0</td></tr>\n",
       "\t<tr><th scope=row>3</th><td>BPIFA3        </td><td>   0</td><td>   0</td><td>   0</td><td>   0</td><td>  0</td><td>   0</td><td>  0</td><td>  0</td></tr>\n",
       "\t<tr><th scope=row>4</th><td>LOC100129869  </td><td>   0</td><td>   0</td><td>   0</td><td>   0</td><td>  0</td><td>   0</td><td>  0</td><td>  0</td></tr>\n",
       "\t<tr><th scope=row>5</th><td>IRG1          </td><td>   0</td><td>   1</td><td>   0</td><td>   0</td><td>  0</td><td>   0</td><td>  0</td><td>  0</td></tr>\n",
       "\t<tr><th scope=row>6</th><td>SNAR-G2       </td><td>2362</td><td>2409</td><td>2183</td><td>1776</td><td>912</td><td>1096</td><td>829</td><td>659</td></tr>\n",
       "\t<tr><th scope=row>7</th><td>LOC100506844  </td><td>   2</td><td>   2</td><td>   2</td><td>   2</td><td>  2</td><td>   3</td><td>  3</td><td>  3</td></tr>\n",
       "\t<tr><th scope=row>8</th><td>CKLF          </td><td>   1</td><td>   5</td><td>   5</td><td>   4</td><td>  0</td><td>   0</td><td>  0</td><td>  0</td></tr>\n",
       "\t<tr><th scope=row>9</th><td>MGST2         </td><td> 219</td><td> 241</td><td> 290</td><td> 247</td><td>120</td><td> 133</td><td>138</td><td>120</td></tr>\n",
       "\t<tr><th scope=row>10</th><td>CLK1          </td><td>   8</td><td>  11</td><td>   9</td><td>   9</td><td>  8</td><td>   7</td><td> 10</td><td>  9</td></tr>\n",
       "\t<tr><th scope=row>11</th><td>OCLM          </td><td>   0</td><td>   0</td><td>   0</td><td>   0</td><td>  0</td><td>   0</td><td>  0</td><td>  0</td></tr>\n",
       "\t<tr><th scope=row>12</th><td>CASC2         </td><td>   0</td><td>   0</td><td>   0</td><td>   0</td><td>  0</td><td>   0</td><td>  0</td><td>  0</td></tr>\n",
       "\t<tr><th scope=row>13</th><td>PWRN1         </td><td>   0</td><td>   0</td><td>   0</td><td>   0</td><td>  0</td><td>   0</td><td>  0</td><td>  0</td></tr>\n",
       "\t<tr><th scope=row>14</th><td>MBNL3         </td><td>  18</td><td>  17</td><td>  17</td><td>  17</td><td> 18</td><td>  19</td><td> 21</td><td> 19</td></tr>\n",
       "\t<tr><th scope=row>15</th><td>CYB5R4        </td><td>  10</td><td>  10</td><td>  11</td><td>  11</td><td> 10</td><td>  10</td><td> 13</td><td> 10</td></tr>\n",
       "\t<tr><th scope=row>16</th><td>HOXC4         </td><td>  80</td><td>  88</td><td>  89</td><td>  71</td><td> 29</td><td>  31</td><td> 34</td><td> 28</td></tr>\n",
       "\t<tr><th scope=row>17</th><td>AK3           </td><td> 164</td><td> 159</td><td> 190</td><td> 158</td><td>111</td><td> 116</td><td>116</td><td>103</td></tr>\n",
       "\t<tr><th scope=row>18</th><td>              </td><td>   0</td><td>   0</td><td>   0</td><td>   0</td><td>  0</td><td>   0</td><td>  0</td><td>  0</td></tr>\n",
       "\t<tr><th scope=row>19</th><td>FAR1          </td><td>  37</td><td>  38</td><td>  42</td><td>  30</td><td> 24</td><td>  29</td><td> 28</td><td> 29</td></tr>\n",
       "\t<tr><th scope=row>20</th><td>XLOC_l2_013153</td><td>   0</td><td>   0</td><td>   0</td><td>   0</td><td>  0</td><td>   0</td><td>  0</td><td>  0</td></tr>\n",
       "\t<tr><th scope=row>21</th><td>LOC100129203  </td><td>   1</td><td>   1</td><td>   1</td><td>   1</td><td>  1</td><td>   1</td><td>  1</td><td>  1</td></tr>\n",
       "\t<tr><th scope=row>22</th><td>MAPK8         </td><td>   4</td><td>   5</td><td>   5</td><td>   4</td><td>  5</td><td>   6</td><td>  5</td><td>  5</td></tr>\n",
       "\t<tr><th scope=row>23</th><td>THAP3         </td><td>  38</td><td>  37</td><td>  40</td><td>  38</td><td> 52</td><td>  56</td><td> 65</td><td> 53</td></tr>\n",
       "\t<tr><th scope=row>24</th><td>XLOC_005939   </td><td>   0</td><td>   0</td><td>   0</td><td>   0</td><td>  0</td><td>   0</td><td>  0</td><td>  0</td></tr>\n",
       "\t<tr><th scope=row>25</th><td>TMEM14B       </td><td> 127</td><td> 132</td><td> 158</td><td> 141</td><td> 79</td><td>  84</td><td> 84</td><td> 76</td></tr>\n",
       "\t<tr><th scope=row>26</th><td>XLOC_005179   </td><td>   0</td><td>   0</td><td>   0</td><td>   0</td><td>  0</td><td>   0</td><td>  0</td><td>  0</td></tr>\n",
       "\t<tr><th scope=row>27</th><td>PHLPP1        </td><td>   3</td><td>   3</td><td>   4</td><td>   4</td><td>  4</td><td>   4</td><td>  5</td><td>  5</td></tr>\n",
       "\t<tr><th scope=row>28</th><td>KRT1          </td><td>   0</td><td>   0</td><td>   0</td><td>   0</td><td>  0</td><td>   0</td><td>  0</td><td>  0</td></tr>\n",
       "\t<tr><th scope=row>29</th><td>SDC4          </td><td> 129</td><td> 128</td><td> 153</td><td> 149</td><td>516</td><td> 593</td><td>496</td><td>409</td></tr>\n",
       "\t<tr><th scope=row>30</th><td>XLOC_l2_015038</td><td>   0</td><td>   0</td><td>   0</td><td>   0</td><td>  0</td><td>   0</td><td>  0</td><td>  0</td></tr>\n",
       "\t<tr><th scope=row>...</th><td>...</td><td>...</td><td>...</td><td>...</td><td>...</td><td>...</td><td>...</td><td>...</td><td>...</td></tr>\n",
       "\t<tr><th scope=row>58688</th><td>XLOC_006701   </td><td>   2</td><td>   2</td><td>   2</td><td>   2</td><td>   2</td><td>   2</td><td>   2</td><td>   2</td></tr>\n",
       "\t<tr><th scope=row>58689</th><td>COG8          </td><td> 143</td><td> 137</td><td> 170</td><td> 152</td><td>  86</td><td> 105</td><td> 122</td><td> 103</td></tr>\n",
       "\t<tr><th scope=row>58690</th><td>ACTB          </td><td> 404</td><td> 397</td><td> 438</td><td> 425</td><td> 275</td><td> 348</td><td> 322</td><td> 319</td></tr>\n",
       "\t<tr><th scope=row>58691</th><td>XLOC_008826   </td><td>   1</td><td>   0</td><td>   0</td><td>   0</td><td>   0</td><td>   0</td><td>   0</td><td>   0</td></tr>\n",
       "\t<tr><th scope=row>58692</th><td>GREB1         </td><td>   0</td><td>   0</td><td>   0</td><td>   0</td><td>   0</td><td>   0</td><td>   0</td><td>   0</td></tr>\n",
       "\t<tr><th scope=row>58693</th><td>ANKRD11       </td><td>  69</td><td>  89</td><td>  98</td><td>  79</td><td>  42</td><td>  41</td><td>  44</td><td>  42</td></tr>\n",
       "\t<tr><th scope=row>58694</th><td>IMPACT        </td><td>   5</td><td>   6</td><td>   6</td><td>   5</td><td>   1</td><td>   2</td><td>   1</td><td>   1</td></tr>\n",
       "\t<tr><th scope=row>58695</th><td>XLOC_008895   </td><td>   0</td><td>   0</td><td>   0</td><td>   0</td><td>   0</td><td>   0</td><td>   0</td><td>   0</td></tr>\n",
       "\t<tr><th scope=row>58696</th><td>XLOC_012115   </td><td>   0</td><td>   0</td><td>   0</td><td>   0</td><td>   0</td><td>   0</td><td>   0</td><td>   0</td></tr>\n",
       "\t<tr><th scope=row>58697</th><td>GRIK1         </td><td>   0</td><td>   0</td><td>   0</td><td>   0</td><td>   0</td><td>   0</td><td>   0</td><td>   0</td></tr>\n",
       "\t<tr><th scope=row>58698</th><td>XLOC_l2_010097</td><td>   2</td><td>   2</td><td>   1</td><td>   2</td><td>   4</td><td>   3</td><td>   3</td><td>   4</td></tr>\n",
       "\t<tr><th scope=row>58699</th><td>ROBO1         </td><td>   0</td><td>   0</td><td>   0</td><td>   0</td><td>   0</td><td>   0</td><td>   0</td><td>   0</td></tr>\n",
       "\t<tr><th scope=row>58700</th><td>MLL4          </td><td>   3</td><td>   3</td><td>   3</td><td>   3</td><td>   3</td><td>   3</td><td>   3</td><td>   3</td></tr>\n",
       "\t<tr><th scope=row>58701</th><td>LINC00472     </td><td>   0</td><td>   0</td><td>   0</td><td>   0</td><td>   0</td><td>   0</td><td>   0</td><td>   0</td></tr>\n",
       "\t<tr><th scope=row>58702</th><td>CHRNA4        </td><td>   0</td><td>   0</td><td>   0</td><td>   0</td><td>   0</td><td>   0</td><td>   0</td><td>   0</td></tr>\n",
       "\t<tr><th scope=row>58703</th><td>HYDIN2        </td><td>   0</td><td>   0</td><td>   1</td><td>   1</td><td>   1</td><td>   0</td><td>   0</td><td>   0</td></tr>\n",
       "\t<tr><th scope=row>58704</th><td>NUP35         </td><td>  81</td><td>  78</td><td>  83</td><td>  68</td><td>  21</td><td>  21</td><td>  32</td><td>  24</td></tr>\n",
       "\t<tr><th scope=row>58705</th><td>OR2J3         </td><td>   0</td><td>   0</td><td>   0</td><td>   0</td><td>   0</td><td>   0</td><td>   0</td><td>   0</td></tr>\n",
       "\t<tr><th scope=row>58706</th><td>XLOC_009404   </td><td>   0</td><td>   0</td><td>   0</td><td>   0</td><td>   0</td><td>   0</td><td>   0</td><td>   0</td></tr>\n",
       "\t<tr><th scope=row>58707</th><td>SIK1          </td><td>   6</td><td>   6</td><td>   6</td><td>   6</td><td>  12</td><td>  12</td><td>  13</td><td>  11</td></tr>\n",
       "\t<tr><th scope=row>58708</th><td>LINC00338     </td><td>  24</td><td>  28</td><td>  27</td><td>  24</td><td>  12</td><td>  10</td><td>  10</td><td>   9</td></tr>\n",
       "\t<tr><th scope=row>58709</th><td>HMGXB4        </td><td>  24</td><td>  25</td><td>  31</td><td>  24</td><td>  12</td><td>  14</td><td>  18</td><td>  15</td></tr>\n",
       "\t<tr><th scope=row>58710</th><td>WDR63         </td><td>   0</td><td>   0</td><td>   0</td><td>   0</td><td>   0</td><td>   0</td><td>   0</td><td>   0</td></tr>\n",
       "\t<tr><th scope=row>58711</th><td>CCDC130       </td><td> 100</td><td> 109</td><td> 118</td><td> 108</td><td> 177</td><td> 191</td><td> 218</td><td> 180</td></tr>\n",
       "\t<tr><th scope=row>58712</th><td>ZNF667        </td><td>   0</td><td>   0</td><td>   0</td><td>   0</td><td>   0</td><td>   0</td><td>   0</td><td>   0</td></tr>\n",
       "\t<tr><th scope=row>58713</th><td>              </td><td>   5</td><td>   6</td><td>   5</td><td>   5</td><td>   3</td><td>   3</td><td>   3</td><td>   3</td></tr>\n",
       "\t<tr><th scope=row>58714</th><td>ATPIF1        </td><td>1809</td><td>1764</td><td>2028</td><td>1782</td><td>1788</td><td>1851</td><td>1811</td><td>1536</td></tr>\n",
       "\t<tr><th scope=row>58715</th><td>              </td><td>   0</td><td>   0</td><td>   0</td><td>   0</td><td>   0</td><td>   0</td><td>   0</td><td>   0</td></tr>\n",
       "\t<tr><th scope=row>58716</th><td>EGFR          </td><td>  20</td><td>  27</td><td>  28</td><td>  23</td><td>  28</td><td>  31</td><td>  31</td><td>  27</td></tr>\n",
       "\t<tr><th scope=row>58717</th><td>XLOC_007557   </td><td>   0</td><td>   0</td><td>   0</td><td>   0</td><td>   0</td><td>   0</td><td>   0</td><td>   0</td></tr>\n",
       "</tbody>\n",
       "</table>\n"
      ],
      "text/latex": [
       "A data.frame: 58717 × 9\n",
       "\\begin{tabular}{r|lllllllll}\n",
       "  & Gene & HT-29 cells control sample-1 & HT-29 cells control sample-2 & HT-29 cells control sample-3 & HT-29 cells control sample-4 & HT-29 cells treatment sample-1 & HT-29 cells treatment sample-2 & HT-29 cells treatment sample-3 & HT-29 cells treatment sample-4\\\\\n",
       "  & <chr> & <int> & <int> & <int> & <int> & <int> & <int> & <int> & <int>\\\\\n",
       "\\hline\n",
       "\t1 & HEBP1          &   72 &   71 &   62 &   55 & 181 &  192 & 177 & 141\\\\\n",
       "\t2 & KCNE4          &    0 &    0 &    0 &    0 &   0 &    0 &   0 &   0\\\\\n",
       "\t3 & BPIFA3         &    0 &    0 &    0 &    0 &   0 &    0 &   0 &   0\\\\\n",
       "\t4 & LOC100129869   &    0 &    0 &    0 &    0 &   0 &    0 &   0 &   0\\\\\n",
       "\t5 & IRG1           &    0 &    1 &    0 &    0 &   0 &    0 &   0 &   0\\\\\n",
       "\t6 & SNAR-G2        & 2362 & 2409 & 2183 & 1776 & 912 & 1096 & 829 & 659\\\\\n",
       "\t7 & LOC100506844   &    2 &    2 &    2 &    2 &   2 &    3 &   3 &   3\\\\\n",
       "\t8 & CKLF           &    1 &    5 &    5 &    4 &   0 &    0 &   0 &   0\\\\\n",
       "\t9 & MGST2          &  219 &  241 &  290 &  247 & 120 &  133 & 138 & 120\\\\\n",
       "\t10 & CLK1           &    8 &   11 &    9 &    9 &   8 &    7 &  10 &   9\\\\\n",
       "\t11 & OCLM           &    0 &    0 &    0 &    0 &   0 &    0 &   0 &   0\\\\\n",
       "\t12 & CASC2          &    0 &    0 &    0 &    0 &   0 &    0 &   0 &   0\\\\\n",
       "\t13 & PWRN1          &    0 &    0 &    0 &    0 &   0 &    0 &   0 &   0\\\\\n",
       "\t14 & MBNL3          &   18 &   17 &   17 &   17 &  18 &   19 &  21 &  19\\\\\n",
       "\t15 & CYB5R4         &   10 &   10 &   11 &   11 &  10 &   10 &  13 &  10\\\\\n",
       "\t16 & HOXC4          &   80 &   88 &   89 &   71 &  29 &   31 &  34 &  28\\\\\n",
       "\t17 & AK3            &  164 &  159 &  190 &  158 & 111 &  116 & 116 & 103\\\\\n",
       "\t18 &                &    0 &    0 &    0 &    0 &   0 &    0 &   0 &   0\\\\\n",
       "\t19 & FAR1           &   37 &   38 &   42 &   30 &  24 &   29 &  28 &  29\\\\\n",
       "\t20 & XLOC\\_l2\\_013153 &    0 &    0 &    0 &    0 &   0 &    0 &   0 &   0\\\\\n",
       "\t21 & LOC100129203   &    1 &    1 &    1 &    1 &   1 &    1 &   1 &   1\\\\\n",
       "\t22 & MAPK8          &    4 &    5 &    5 &    4 &   5 &    6 &   5 &   5\\\\\n",
       "\t23 & THAP3          &   38 &   37 &   40 &   38 &  52 &   56 &  65 &  53\\\\\n",
       "\t24 & XLOC\\_005939    &    0 &    0 &    0 &    0 &   0 &    0 &   0 &   0\\\\\n",
       "\t25 & TMEM14B        &  127 &  132 &  158 &  141 &  79 &   84 &  84 &  76\\\\\n",
       "\t26 & XLOC\\_005179    &    0 &    0 &    0 &    0 &   0 &    0 &   0 &   0\\\\\n",
       "\t27 & PHLPP1         &    3 &    3 &    4 &    4 &   4 &    4 &   5 &   5\\\\\n",
       "\t28 & KRT1           &    0 &    0 &    0 &    0 &   0 &    0 &   0 &   0\\\\\n",
       "\t29 & SDC4           &  129 &  128 &  153 &  149 & 516 &  593 & 496 & 409\\\\\n",
       "\t30 & XLOC\\_l2\\_015038 &    0 &    0 &    0 &    0 &   0 &    0 &   0 &   0\\\\\n",
       "\t... & ... & ... & ... & ... & ... & ... & ... & ... & ...\\\\\n",
       "\t58688 & XLOC\\_006701    &    2 &    2 &    2 &    2 &    2 &    2 &    2 &    2\\\\\n",
       "\t58689 & COG8           &  143 &  137 &  170 &  152 &   86 &  105 &  122 &  103\\\\\n",
       "\t58690 & ACTB           &  404 &  397 &  438 &  425 &  275 &  348 &  322 &  319\\\\\n",
       "\t58691 & XLOC\\_008826    &    1 &    0 &    0 &    0 &    0 &    0 &    0 &    0\\\\\n",
       "\t58692 & GREB1          &    0 &    0 &    0 &    0 &    0 &    0 &    0 &    0\\\\\n",
       "\t58693 & ANKRD11        &   69 &   89 &   98 &   79 &   42 &   41 &   44 &   42\\\\\n",
       "\t58694 & IMPACT         &    5 &    6 &    6 &    5 &    1 &    2 &    1 &    1\\\\\n",
       "\t58695 & XLOC\\_008895    &    0 &    0 &    0 &    0 &    0 &    0 &    0 &    0\\\\\n",
       "\t58696 & XLOC\\_012115    &    0 &    0 &    0 &    0 &    0 &    0 &    0 &    0\\\\\n",
       "\t58697 & GRIK1          &    0 &    0 &    0 &    0 &    0 &    0 &    0 &    0\\\\\n",
       "\t58698 & XLOC\\_l2\\_010097 &    2 &    2 &    1 &    2 &    4 &    3 &    3 &    4\\\\\n",
       "\t58699 & ROBO1          &    0 &    0 &    0 &    0 &    0 &    0 &    0 &    0\\\\\n",
       "\t58700 & MLL4           &    3 &    3 &    3 &    3 &    3 &    3 &    3 &    3\\\\\n",
       "\t58701 & LINC00472      &    0 &    0 &    0 &    0 &    0 &    0 &    0 &    0\\\\\n",
       "\t58702 & CHRNA4         &    0 &    0 &    0 &    0 &    0 &    0 &    0 &    0\\\\\n",
       "\t58703 & HYDIN2         &    0 &    0 &    1 &    1 &    1 &    0 &    0 &    0\\\\\n",
       "\t58704 & NUP35          &   81 &   78 &   83 &   68 &   21 &   21 &   32 &   24\\\\\n",
       "\t58705 & OR2J3          &    0 &    0 &    0 &    0 &    0 &    0 &    0 &    0\\\\\n",
       "\t58706 & XLOC\\_009404    &    0 &    0 &    0 &    0 &    0 &    0 &    0 &    0\\\\\n",
       "\t58707 & SIK1           &    6 &    6 &    6 &    6 &   12 &   12 &   13 &   11\\\\\n",
       "\t58708 & LINC00338      &   24 &   28 &   27 &   24 &   12 &   10 &   10 &    9\\\\\n",
       "\t58709 & HMGXB4         &   24 &   25 &   31 &   24 &   12 &   14 &   18 &   15\\\\\n",
       "\t58710 & WDR63          &    0 &    0 &    0 &    0 &    0 &    0 &    0 &    0\\\\\n",
       "\t58711 & CCDC130        &  100 &  109 &  118 &  108 &  177 &  191 &  218 &  180\\\\\n",
       "\t58712 & ZNF667         &    0 &    0 &    0 &    0 &    0 &    0 &    0 &    0\\\\\n",
       "\t58713 &                &    5 &    6 &    5 &    5 &    3 &    3 &    3 &    3\\\\\n",
       "\t58714 & ATPIF1         & 1809 & 1764 & 2028 & 1782 & 1788 & 1851 & 1811 & 1536\\\\\n",
       "\t58715 &                &    0 &    0 &    0 &    0 &    0 &    0 &    0 &    0\\\\\n",
       "\t58716 & EGFR           &   20 &   27 &   28 &   23 &   28 &   31 &   31 &   27\\\\\n",
       "\t58717 & XLOC\\_007557    &    0 &    0 &    0 &    0 &    0 &    0 &    0 &    0\\\\\n",
       "\\end{tabular}\n"
      ],
      "text/markdown": [
       "\n",
       "A data.frame: 58717 × 9\n",
       "\n",
       "| <!--/--> | Gene &lt;chr&gt; | HT-29 cells control sample-1 &lt;int&gt; | HT-29 cells control sample-2 &lt;int&gt; | HT-29 cells control sample-3 &lt;int&gt; | HT-29 cells control sample-4 &lt;int&gt; | HT-29 cells treatment sample-1 &lt;int&gt; | HT-29 cells treatment sample-2 &lt;int&gt; | HT-29 cells treatment sample-3 &lt;int&gt; | HT-29 cells treatment sample-4 &lt;int&gt; |\n",
       "|---|---|---|---|---|---|---|---|---|---|\n",
       "| 1 | HEBP1          |   72 |   71 |   62 |   55 | 181 |  192 | 177 | 141 |\n",
       "| 2 | KCNE4          |    0 |    0 |    0 |    0 |   0 |    0 |   0 |   0 |\n",
       "| 3 | BPIFA3         |    0 |    0 |    0 |    0 |   0 |    0 |   0 |   0 |\n",
       "| 4 | LOC100129869   |    0 |    0 |    0 |    0 |   0 |    0 |   0 |   0 |\n",
       "| 5 | IRG1           |    0 |    1 |    0 |    0 |   0 |    0 |   0 |   0 |\n",
       "| 6 | SNAR-G2        | 2362 | 2409 | 2183 | 1776 | 912 | 1096 | 829 | 659 |\n",
       "| 7 | LOC100506844   |    2 |    2 |    2 |    2 |   2 |    3 |   3 |   3 |\n",
       "| 8 | CKLF           |    1 |    5 |    5 |    4 |   0 |    0 |   0 |   0 |\n",
       "| 9 | MGST2          |  219 |  241 |  290 |  247 | 120 |  133 | 138 | 120 |\n",
       "| 10 | CLK1           |    8 |   11 |    9 |    9 |   8 |    7 |  10 |   9 |\n",
       "| 11 | OCLM           |    0 |    0 |    0 |    0 |   0 |    0 |   0 |   0 |\n",
       "| 12 | CASC2          |    0 |    0 |    0 |    0 |   0 |    0 |   0 |   0 |\n",
       "| 13 | PWRN1          |    0 |    0 |    0 |    0 |   0 |    0 |   0 |   0 |\n",
       "| 14 | MBNL3          |   18 |   17 |   17 |   17 |  18 |   19 |  21 |  19 |\n",
       "| 15 | CYB5R4         |   10 |   10 |   11 |   11 |  10 |   10 |  13 |  10 |\n",
       "| 16 | HOXC4          |   80 |   88 |   89 |   71 |  29 |   31 |  34 |  28 |\n",
       "| 17 | AK3            |  164 |  159 |  190 |  158 | 111 |  116 | 116 | 103 |\n",
       "| 18 | <!----> |    0 |    0 |    0 |    0 |   0 |    0 |   0 |   0 |\n",
       "| 19 | FAR1           |   37 |   38 |   42 |   30 |  24 |   29 |  28 |  29 |\n",
       "| 20 | XLOC_l2_013153 |    0 |    0 |    0 |    0 |   0 |    0 |   0 |   0 |\n",
       "| 21 | LOC100129203   |    1 |    1 |    1 |    1 |   1 |    1 |   1 |   1 |\n",
       "| 22 | MAPK8          |    4 |    5 |    5 |    4 |   5 |    6 |   5 |   5 |\n",
       "| 23 | THAP3          |   38 |   37 |   40 |   38 |  52 |   56 |  65 |  53 |\n",
       "| 24 | XLOC_005939    |    0 |    0 |    0 |    0 |   0 |    0 |   0 |   0 |\n",
       "| 25 | TMEM14B        |  127 |  132 |  158 |  141 |  79 |   84 |  84 |  76 |\n",
       "| 26 | XLOC_005179    |    0 |    0 |    0 |    0 |   0 |    0 |   0 |   0 |\n",
       "| 27 | PHLPP1         |    3 |    3 |    4 |    4 |   4 |    4 |   5 |   5 |\n",
       "| 28 | KRT1           |    0 |    0 |    0 |    0 |   0 |    0 |   0 |   0 |\n",
       "| 29 | SDC4           |  129 |  128 |  153 |  149 | 516 |  593 | 496 | 409 |\n",
       "| 30 | XLOC_l2_015038 |    0 |    0 |    0 |    0 |   0 |    0 |   0 |   0 |\n",
       "| ... | ... | ... | ... | ... | ... | ... | ... | ... | ... |\n",
       "| 58688 | XLOC_006701    |    2 |    2 |    2 |    2 |    2 |    2 |    2 |    2 |\n",
       "| 58689 | COG8           |  143 |  137 |  170 |  152 |   86 |  105 |  122 |  103 |\n",
       "| 58690 | ACTB           |  404 |  397 |  438 |  425 |  275 |  348 |  322 |  319 |\n",
       "| 58691 | XLOC_008826    |    1 |    0 |    0 |    0 |    0 |    0 |    0 |    0 |\n",
       "| 58692 | GREB1          |    0 |    0 |    0 |    0 |    0 |    0 |    0 |    0 |\n",
       "| 58693 | ANKRD11        |   69 |   89 |   98 |   79 |   42 |   41 |   44 |   42 |\n",
       "| 58694 | IMPACT         |    5 |    6 |    6 |    5 |    1 |    2 |    1 |    1 |\n",
       "| 58695 | XLOC_008895    |    0 |    0 |    0 |    0 |    0 |    0 |    0 |    0 |\n",
       "| 58696 | XLOC_012115    |    0 |    0 |    0 |    0 |    0 |    0 |    0 |    0 |\n",
       "| 58697 | GRIK1          |    0 |    0 |    0 |    0 |    0 |    0 |    0 |    0 |\n",
       "| 58698 | XLOC_l2_010097 |    2 |    2 |    1 |    2 |    4 |    3 |    3 |    4 |\n",
       "| 58699 | ROBO1          |    0 |    0 |    0 |    0 |    0 |    0 |    0 |    0 |\n",
       "| 58700 | MLL4           |    3 |    3 |    3 |    3 |    3 |    3 |    3 |    3 |\n",
       "| 58701 | LINC00472      |    0 |    0 |    0 |    0 |    0 |    0 |    0 |    0 |\n",
       "| 58702 | CHRNA4         |    0 |    0 |    0 |    0 |    0 |    0 |    0 |    0 |\n",
       "| 58703 | HYDIN2         |    0 |    0 |    1 |    1 |    1 |    0 |    0 |    0 |\n",
       "| 58704 | NUP35          |   81 |   78 |   83 |   68 |   21 |   21 |   32 |   24 |\n",
       "| 58705 | OR2J3          |    0 |    0 |    0 |    0 |    0 |    0 |    0 |    0 |\n",
       "| 58706 | XLOC_009404    |    0 |    0 |    0 |    0 |    0 |    0 |    0 |    0 |\n",
       "| 58707 | SIK1           |    6 |    6 |    6 |    6 |   12 |   12 |   13 |   11 |\n",
       "| 58708 | LINC00338      |   24 |   28 |   27 |   24 |   12 |   10 |   10 |    9 |\n",
       "| 58709 | HMGXB4         |   24 |   25 |   31 |   24 |   12 |   14 |   18 |   15 |\n",
       "| 58710 | WDR63          |    0 |    0 |    0 |    0 |    0 |    0 |    0 |    0 |\n",
       "| 58711 | CCDC130        |  100 |  109 |  118 |  108 |  177 |  191 |  218 |  180 |\n",
       "| 58712 | ZNF667         |    0 |    0 |    0 |    0 |    0 |    0 |    0 |    0 |\n",
       "| 58713 | <!----> |    5 |    6 |    5 |    5 |    3 |    3 |    3 |    3 |\n",
       "| 58714 | ATPIF1         | 1809 | 1764 | 2028 | 1782 | 1788 | 1851 | 1811 | 1536 |\n",
       "| 58715 | <!----> |    0 |    0 |    0 |    0 |    0 |    0 |    0 |    0 |\n",
       "| 58716 | EGFR           |   20 |   27 |   28 |   23 |   28 |   31 |   31 |   27 |\n",
       "| 58717 | XLOC_007557    |    0 |    0 |    0 |    0 |    0 |    0 |    0 |    0 |\n",
       "\n"
      ],
      "text/plain": [
       "      Gene           HT-29 cells control sample-1 HT-29 cells control sample-2\n",
       "1     HEBP1            72                           71                        \n",
       "2     KCNE4             0                            0                        \n",
       "3     BPIFA3            0                            0                        \n",
       "4     LOC100129869      0                            0                        \n",
       "5     IRG1              0                            1                        \n",
       "6     SNAR-G2        2362                         2409                        \n",
       "7     LOC100506844      2                            2                        \n",
       "8     CKLF              1                            5                        \n",
       "9     MGST2           219                          241                        \n",
       "10    CLK1              8                           11                        \n",
       "11    OCLM              0                            0                        \n",
       "12    CASC2             0                            0                        \n",
       "13    PWRN1             0                            0                        \n",
       "14    MBNL3            18                           17                        \n",
       "15    CYB5R4           10                           10                        \n",
       "16    HOXC4            80                           88                        \n",
       "17    AK3             164                          159                        \n",
       "18                      0                            0                        \n",
       "19    FAR1             37                           38                        \n",
       "20    XLOC_l2_013153    0                            0                        \n",
       "21    LOC100129203      1                            1                        \n",
       "22    MAPK8             4                            5                        \n",
       "23    THAP3            38                           37                        \n",
       "24    XLOC_005939       0                            0                        \n",
       "25    TMEM14B         127                          132                        \n",
       "26    XLOC_005179       0                            0                        \n",
       "27    PHLPP1            3                            3                        \n",
       "28    KRT1              0                            0                        \n",
       "29    SDC4            129                          128                        \n",
       "30    XLOC_l2_015038    0                            0                        \n",
       "...   ...            ...                          ...                         \n",
       "58688 XLOC_006701       2                            2                        \n",
       "58689 COG8            143                          137                        \n",
       "58690 ACTB            404                          397                        \n",
       "58691 XLOC_008826       1                            0                        \n",
       "58692 GREB1             0                            0                        \n",
       "58693 ANKRD11          69                           89                        \n",
       "58694 IMPACT            5                            6                        \n",
       "58695 XLOC_008895       0                            0                        \n",
       "58696 XLOC_012115       0                            0                        \n",
       "58697 GRIK1             0                            0                        \n",
       "58698 XLOC_l2_010097    2                            2                        \n",
       "58699 ROBO1             0                            0                        \n",
       "58700 MLL4              3                            3                        \n",
       "58701 LINC00472         0                            0                        \n",
       "58702 CHRNA4            0                            0                        \n",
       "58703 HYDIN2            0                            0                        \n",
       "58704 NUP35            81                           78                        \n",
       "58705 OR2J3             0                            0                        \n",
       "58706 XLOC_009404       0                            0                        \n",
       "58707 SIK1              6                            6                        \n",
       "58708 LINC00338        24                           28                        \n",
       "58709 HMGXB4           24                           25                        \n",
       "58710 WDR63             0                            0                        \n",
       "58711 CCDC130         100                          109                        \n",
       "58712 ZNF667            0                            0                        \n",
       "58713                   5                            6                        \n",
       "58714 ATPIF1         1809                         1764                        \n",
       "58715                   0                            0                        \n",
       "58716 EGFR             20                           27                        \n",
       "58717 XLOC_007557       0                            0                        \n",
       "      HT-29 cells control sample-3 HT-29 cells control sample-4\n",
       "1       62                           55                        \n",
       "2        0                            0                        \n",
       "3        0                            0                        \n",
       "4        0                            0                        \n",
       "5        0                            0                        \n",
       "6     2183                         1776                        \n",
       "7        2                            2                        \n",
       "8        5                            4                        \n",
       "9      290                          247                        \n",
       "10       9                            9                        \n",
       "11       0                            0                        \n",
       "12       0                            0                        \n",
       "13       0                            0                        \n",
       "14      17                           17                        \n",
       "15      11                           11                        \n",
       "16      89                           71                        \n",
       "17     190                          158                        \n",
       "18       0                            0                        \n",
       "19      42                           30                        \n",
       "20       0                            0                        \n",
       "21       1                            1                        \n",
       "22       5                            4                        \n",
       "23      40                           38                        \n",
       "24       0                            0                        \n",
       "25     158                          141                        \n",
       "26       0                            0                        \n",
       "27       4                            4                        \n",
       "28       0                            0                        \n",
       "29     153                          149                        \n",
       "30       0                            0                        \n",
       "...   ...                          ...                         \n",
       "58688    2                            2                        \n",
       "58689  170                          152                        \n",
       "58690  438                          425                        \n",
       "58691    0                            0                        \n",
       "58692    0                            0                        \n",
       "58693   98                           79                        \n",
       "58694    6                            5                        \n",
       "58695    0                            0                        \n",
       "58696    0                            0                        \n",
       "58697    0                            0                        \n",
       "58698    1                            2                        \n",
       "58699    0                            0                        \n",
       "58700    3                            3                        \n",
       "58701    0                            0                        \n",
       "58702    0                            0                        \n",
       "58703    1                            1                        \n",
       "58704   83                           68                        \n",
       "58705    0                            0                        \n",
       "58706    0                            0                        \n",
       "58707    6                            6                        \n",
       "58708   27                           24                        \n",
       "58709   31                           24                        \n",
       "58710    0                            0                        \n",
       "58711  118                          108                        \n",
       "58712    0                            0                        \n",
       "58713    5                            5                        \n",
       "58714 2028                         1782                        \n",
       "58715    0                            0                        \n",
       "58716   28                           23                        \n",
       "58717    0                            0                        \n",
       "      HT-29 cells treatment sample-1 HT-29 cells treatment sample-2\n",
       "1     181                             192                          \n",
       "2       0                               0                          \n",
       "3       0                               0                          \n",
       "4       0                               0                          \n",
       "5       0                               0                          \n",
       "6     912                            1096                          \n",
       "7       2                               3                          \n",
       "8       0                               0                          \n",
       "9     120                             133                          \n",
       "10      8                               7                          \n",
       "11      0                               0                          \n",
       "12      0                               0                          \n",
       "13      0                               0                          \n",
       "14     18                              19                          \n",
       "15     10                              10                          \n",
       "16     29                              31                          \n",
       "17    111                             116                          \n",
       "18      0                               0                          \n",
       "19     24                              29                          \n",
       "20      0                               0                          \n",
       "21      1                               1                          \n",
       "22      5                               6                          \n",
       "23     52                              56                          \n",
       "24      0                               0                          \n",
       "25     79                              84                          \n",
       "26      0                               0                          \n",
       "27      4                               4                          \n",
       "28      0                               0                          \n",
       "29    516                             593                          \n",
       "30      0                               0                          \n",
       "...   ...                            ...                           \n",
       "58688    2                              2                          \n",
       "58689   86                            105                          \n",
       "58690  275                            348                          \n",
       "58691    0                              0                          \n",
       "58692    0                              0                          \n",
       "58693   42                             41                          \n",
       "58694    1                              2                          \n",
       "58695    0                              0                          \n",
       "58696    0                              0                          \n",
       "58697    0                              0                          \n",
       "58698    4                              3                          \n",
       "58699    0                              0                          \n",
       "58700    3                              3                          \n",
       "58701    0                              0                          \n",
       "58702    0                              0                          \n",
       "58703    1                              0                          \n",
       "58704   21                             21                          \n",
       "58705    0                              0                          \n",
       "58706    0                              0                          \n",
       "58707   12                             12                          \n",
       "58708   12                             10                          \n",
       "58709   12                             14                          \n",
       "58710    0                              0                          \n",
       "58711  177                            191                          \n",
       "58712    0                              0                          \n",
       "58713    3                              3                          \n",
       "58714 1788                           1851                          \n",
       "58715    0                              0                          \n",
       "58716   28                             31                          \n",
       "58717    0                              0                          \n",
       "      HT-29 cells treatment sample-3 HT-29 cells treatment sample-4\n",
       "1     177                            141                           \n",
       "2       0                              0                           \n",
       "3       0                              0                           \n",
       "4       0                              0                           \n",
       "5       0                              0                           \n",
       "6     829                            659                           \n",
       "7       3                              3                           \n",
       "8       0                              0                           \n",
       "9     138                            120                           \n",
       "10     10                              9                           \n",
       "11      0                              0                           \n",
       "12      0                              0                           \n",
       "13      0                              0                           \n",
       "14     21                             19                           \n",
       "15     13                             10                           \n",
       "16     34                             28                           \n",
       "17    116                            103                           \n",
       "18      0                              0                           \n",
       "19     28                             29                           \n",
       "20      0                              0                           \n",
       "21      1                              1                           \n",
       "22      5                              5                           \n",
       "23     65                             53                           \n",
       "24      0                              0                           \n",
       "25     84                             76                           \n",
       "26      0                              0                           \n",
       "27      5                              5                           \n",
       "28      0                              0                           \n",
       "29    496                            409                           \n",
       "30      0                              0                           \n",
       "...   ...                            ...                           \n",
       "58688    2                              2                          \n",
       "58689  122                            103                          \n",
       "58690  322                            319                          \n",
       "58691    0                              0                          \n",
       "58692    0                              0                          \n",
       "58693   44                             42                          \n",
       "58694    1                              1                          \n",
       "58695    0                              0                          \n",
       "58696    0                              0                          \n",
       "58697    0                              0                          \n",
       "58698    3                              4                          \n",
       "58699    0                              0                          \n",
       "58700    3                              3                          \n",
       "58701    0                              0                          \n",
       "58702    0                              0                          \n",
       "58703    0                              0                          \n",
       "58704   32                             24                          \n",
       "58705    0                              0                          \n",
       "58706    0                              0                          \n",
       "58707   13                             11                          \n",
       "58708   10                              9                          \n",
       "58709   18                             15                          \n",
       "58710    0                              0                          \n",
       "58711  218                            180                          \n",
       "58712    0                              0                          \n",
       "58713    3                              3                          \n",
       "58714 1811                           1536                          \n",
       "58715    0                              0                          \n",
       "58716   31                             27                          \n",
       "58717    0                              0                          "
      ]
     },
     "metadata": {},
     "output_type": "display_data"
    }
   ],
   "source": [
    "tbl"
   ]
  },
  {
   "cell_type": "code",
   "execution_count": 101,
   "metadata": {
    "vscode": {
     "languageId": "r"
    }
   },
   "outputs": [
    {
     "data": {
      "text/html": [
       "<table class=\"dataframe\">\n",
       "<caption>A data.frame: 6 × 8</caption>\n",
       "<thead>\n",
       "\t<tr><th></th><th scope=col>HT-29 cells control sample-1</th><th scope=col>HT-29 cells control sample-2</th><th scope=col>HT-29 cells control sample-3</th><th scope=col>HT-29 cells control sample-4</th><th scope=col>HT-29 cells treatment sample-1</th><th scope=col>HT-29 cells treatment sample-2</th><th scope=col>HT-29 cells treatment sample-3</th><th scope=col>HT-29 cells treatment sample-4</th></tr>\n",
       "\t<tr><th></th><th scope=col>&lt;int&gt;</th><th scope=col>&lt;int&gt;</th><th scope=col>&lt;int&gt;</th><th scope=col>&lt;int&gt;</th><th scope=col>&lt;int&gt;</th><th scope=col>&lt;int&gt;</th><th scope=col>&lt;int&gt;</th><th scope=col>&lt;int&gt;</th></tr>\n",
       "</thead>\n",
       "<tbody>\n",
       "\t<tr><th scope=row>HEBP1</th><td>  72</td><td>  71</td><td>  62</td><td>  55</td><td>181</td><td> 192</td><td>177</td><td>141</td></tr>\n",
       "\t<tr><th scope=row>KCNE4</th><td>   0</td><td>   0</td><td>   0</td><td>   0</td><td>  0</td><td>   0</td><td>  0</td><td>  0</td></tr>\n",
       "\t<tr><th scope=row>BPIFA3</th><td>   0</td><td>   0</td><td>   0</td><td>   0</td><td>  0</td><td>   0</td><td>  0</td><td>  0</td></tr>\n",
       "\t<tr><th scope=row>LOC100129869</th><td>   0</td><td>   0</td><td>   0</td><td>   0</td><td>  0</td><td>   0</td><td>  0</td><td>  0</td></tr>\n",
       "\t<tr><th scope=row>IRG1</th><td>   0</td><td>   1</td><td>   0</td><td>   0</td><td>  0</td><td>   0</td><td>  0</td><td>  0</td></tr>\n",
       "\t<tr><th scope=row>SNAR-G2</th><td>2362</td><td>2409</td><td>2183</td><td>1776</td><td>912</td><td>1096</td><td>829</td><td>659</td></tr>\n",
       "</tbody>\n",
       "</table>\n"
      ],
      "text/latex": [
       "A data.frame: 6 × 8\n",
       "\\begin{tabular}{r|llllllll}\n",
       "  & HT-29 cells control sample-1 & HT-29 cells control sample-2 & HT-29 cells control sample-3 & HT-29 cells control sample-4 & HT-29 cells treatment sample-1 & HT-29 cells treatment sample-2 & HT-29 cells treatment sample-3 & HT-29 cells treatment sample-4\\\\\n",
       "  & <int> & <int> & <int> & <int> & <int> & <int> & <int> & <int>\\\\\n",
       "\\hline\n",
       "\tHEBP1 &   72 &   71 &   62 &   55 & 181 &  192 & 177 & 141\\\\\n",
       "\tKCNE4 &    0 &    0 &    0 &    0 &   0 &    0 &   0 &   0\\\\\n",
       "\tBPIFA3 &    0 &    0 &    0 &    0 &   0 &    0 &   0 &   0\\\\\n",
       "\tLOC100129869 &    0 &    0 &    0 &    0 &   0 &    0 &   0 &   0\\\\\n",
       "\tIRG1 &    0 &    1 &    0 &    0 &   0 &    0 &   0 &   0\\\\\n",
       "\tSNAR-G2 & 2362 & 2409 & 2183 & 1776 & 912 & 1096 & 829 & 659\\\\\n",
       "\\end{tabular}\n"
      ],
      "text/markdown": [
       "\n",
       "A data.frame: 6 × 8\n",
       "\n",
       "| <!--/--> | HT-29 cells control sample-1 &lt;int&gt; | HT-29 cells control sample-2 &lt;int&gt; | HT-29 cells control sample-3 &lt;int&gt; | HT-29 cells control sample-4 &lt;int&gt; | HT-29 cells treatment sample-1 &lt;int&gt; | HT-29 cells treatment sample-2 &lt;int&gt; | HT-29 cells treatment sample-3 &lt;int&gt; | HT-29 cells treatment sample-4 &lt;int&gt; |\n",
       "|---|---|---|---|---|---|---|---|---|\n",
       "| HEBP1 |   72 |   71 |   62 |   55 | 181 |  192 | 177 | 141 |\n",
       "| KCNE4 |    0 |    0 |    0 |    0 |   0 |    0 |   0 |   0 |\n",
       "| BPIFA3 |    0 |    0 |    0 |    0 |   0 |    0 |   0 |   0 |\n",
       "| LOC100129869 |    0 |    0 |    0 |    0 |   0 |    0 |   0 |   0 |\n",
       "| IRG1 |    0 |    1 |    0 |    0 |   0 |    0 |   0 |   0 |\n",
       "| SNAR-G2 | 2362 | 2409 | 2183 | 1776 | 912 | 1096 | 829 | 659 |\n",
       "\n"
      ],
      "text/plain": [
       "             HT-29 cells control sample-1 HT-29 cells control sample-2\n",
       "HEBP1          72                           71                        \n",
       "KCNE4           0                            0                        \n",
       "BPIFA3          0                            0                        \n",
       "LOC100129869    0                            0                        \n",
       "IRG1            0                            1                        \n",
       "SNAR-G2      2362                         2409                        \n",
       "             HT-29 cells control sample-3 HT-29 cells control sample-4\n",
       "HEBP1          62                           55                        \n",
       "KCNE4           0                            0                        \n",
       "BPIFA3          0                            0                        \n",
       "LOC100129869    0                            0                        \n",
       "IRG1            0                            0                        \n",
       "SNAR-G2      2183                         1776                        \n",
       "             HT-29 cells treatment sample-1 HT-29 cells treatment sample-2\n",
       "HEBP1        181                             192                          \n",
       "KCNE4          0                               0                          \n",
       "BPIFA3         0                               0                          \n",
       "LOC100129869   0                               0                          \n",
       "IRG1           0                               0                          \n",
       "SNAR-G2      912                            1096                          \n",
       "             HT-29 cells treatment sample-3 HT-29 cells treatment sample-4\n",
       "HEBP1        177                            141                           \n",
       "KCNE4          0                              0                           \n",
       "BPIFA3         0                              0                           \n",
       "LOC100129869   0                              0                           \n",
       "IRG1           0                              0                           \n",
       "SNAR-G2      829                            659                           "
      ]
     },
     "metadata": {},
     "output_type": "display_data"
    },
    {
     "data": {
      "text/html": [
       "<table class=\"dataframe\">\n",
       "<caption>A data.frame: 8 × 2</caption>\n",
       "<thead>\n",
       "\t<tr><th scope=col>sample</th><th scope=col>condition</th></tr>\n",
       "\t<tr><th scope=col>&lt;chr&gt;</th><th scope=col>&lt;chr&gt;</th></tr>\n",
       "</thead>\n",
       "<tbody>\n",
       "\t<tr><td>HT-29 cells control sample-1  </td><td>control  </td></tr>\n",
       "\t<tr><td>HT-29 cells control sample-2  </td><td>control  </td></tr>\n",
       "\t<tr><td>HT-29 cells control sample-3  </td><td>control  </td></tr>\n",
       "\t<tr><td>HT-29 cells control sample-4  </td><td>control  </td></tr>\n",
       "\t<tr><td>HT-29 cells treatment sample-1</td><td>treatment</td></tr>\n",
       "\t<tr><td>HT-29 cells treatment sample-2</td><td>treatment</td></tr>\n",
       "\t<tr><td>HT-29 cells treatment sample-3</td><td>treatment</td></tr>\n",
       "\t<tr><td>HT-29 cells treatment sample-4</td><td>treatment</td></tr>\n",
       "</tbody>\n",
       "</table>\n"
      ],
      "text/latex": [
       "A data.frame: 8 × 2\n",
       "\\begin{tabular}{ll}\n",
       " sample & condition\\\\\n",
       " <chr> & <chr>\\\\\n",
       "\\hline\n",
       "\t HT-29 cells control sample-1   & control  \\\\\n",
       "\t HT-29 cells control sample-2   & control  \\\\\n",
       "\t HT-29 cells control sample-3   & control  \\\\\n",
       "\t HT-29 cells control sample-4   & control  \\\\\n",
       "\t HT-29 cells treatment sample-1 & treatment\\\\\n",
       "\t HT-29 cells treatment sample-2 & treatment\\\\\n",
       "\t HT-29 cells treatment sample-3 & treatment\\\\\n",
       "\t HT-29 cells treatment sample-4 & treatment\\\\\n",
       "\\end{tabular}\n"
      ],
      "text/markdown": [
       "\n",
       "A data.frame: 8 × 2\n",
       "\n",
       "| sample &lt;chr&gt; | condition &lt;chr&gt; |\n",
       "|---|---|\n",
       "| HT-29 cells control sample-1   | control   |\n",
       "| HT-29 cells control sample-2   | control   |\n",
       "| HT-29 cells control sample-3   | control   |\n",
       "| HT-29 cells control sample-4   | control   |\n",
       "| HT-29 cells treatment sample-1 | treatment |\n",
       "| HT-29 cells treatment sample-2 | treatment |\n",
       "| HT-29 cells treatment sample-3 | treatment |\n",
       "| HT-29 cells treatment sample-4 | treatment |\n",
       "\n"
      ],
      "text/plain": [
       "  sample                         condition\n",
       "1 HT-29 cells control sample-1   control  \n",
       "2 HT-29 cells control sample-2   control  \n",
       "3 HT-29 cells control sample-3   control  \n",
       "4 HT-29 cells control sample-4   control  \n",
       "5 HT-29 cells treatment sample-1 treatment\n",
       "6 HT-29 cells treatment sample-2 treatment\n",
       "7 HT-29 cells treatment sample-3 treatment\n",
       "8 HT-29 cells treatment sample-4 treatment"
      ]
     },
     "metadata": {},
     "output_type": "display_data"
    }
   ],
   "source": [
    "# Step 1: preparing count data ----------------\n",
    "\n",
    "# read in counts data\n",
    "# Cargar el archivo CSV\n",
    "counts_data <- read.csv('counts_data.csv', check.names = FALSE)\n",
    "\n",
    "# Eliminar filas duplicadas basadas en la columna \"Gene\"\n",
    "counts_data <- counts_data[!duplicated(counts_data$Gene), ]\n",
    "\n",
    "# Establecer la columna \"Gene\" como índice\n",
    "rownames(counts_data) <- counts_data$Gene\n",
    "counts_data$Gene <- NULL  # Eliminar la columna \"Gene\"\n",
    "\n",
    "# Guardar la tabla modificada en un archivo CSV\n",
    "write.csv(counts_data, file = \"counts_data_clean.csv\", row.names = TRUE)\n",
    "\n",
    "\n",
    "# Suponiendo que tu data frame se llama df\n",
    "#counts_data <- subset(counts_data, select = -c(X))\n",
    "\n",
    "head(counts_data)\n",
    "\n",
    "\n",
    "# read in sample info\n",
    "# Cargar el archivo \"sample_info.csv\"\n",
    "colData <- read.csv(\"sample_info.csv\")\n",
    "colData"
   ]
  },
  {
   "cell_type": "code",
   "execution_count": 102,
   "metadata": {
    "vscode": {
     "languageId": "r"
    }
   },
   "outputs": [
    {
     "name": "stderr",
     "output_type": "stream",
     "text": [
      "Warning message in DESeqDataSet(se, design = design, ignoreRank):\n",
      "\"some variables in design formula are characters, converting to factors\"\n"
     ]
    },
    {
     "data": {
      "text/plain": [
       "class: DESeqDataSet \n",
       "dim: 32081 8 \n",
       "metadata(1): version\n",
       "assays(1): counts\n",
       "rownames(32081): HEBP1 KCNE4 ... WDR63 XLOC_007557\n",
       "rowData names(0):\n",
       "colnames(8): HT-29 cells control sample-1 HT-29 cells control sample-2\n",
       "  ... HT-29 cells treatment sample-3 HT-29 cells treatment sample-4\n",
       "colData names(2): sample condition"
      ]
     },
     "metadata": {},
     "output_type": "display_data"
    }
   ],
   "source": [
    "# Step 2: construct a DESeqDataSet object ----------\n",
    "\n",
    "dds <- DESeqDataSetFromMatrix(countData = counts_data,\n",
    "                       colData = colData,\n",
    "                       design = ~ condition)\n",
    "\n",
    "dds"
   ]
  },
  {
   "cell_type": "code",
   "execution_count": 103,
   "metadata": {
    "vscode": {
     "languageId": "r"
    }
   },
   "outputs": [
    {
     "data": {
      "text/plain": [
       "class: DESeqDataSet \n",
       "dim: 14547 8 \n",
       "metadata(1): version\n",
       "assays(1): counts\n",
       "rownames(14547): HEBP1 SNAR-G2 ... SIK1 HMGXB4\n",
       "rowData names(0):\n",
       "colnames(8): HT-29 cells control sample-1 HT-29 cells control sample-2\n",
       "  ... HT-29 cells treatment sample-3 HT-29 cells treatment sample-4\n",
       "colData names(2): sample condition"
      ]
     },
     "metadata": {},
     "output_type": "display_data"
    }
   ],
   "source": [
    "# pre-filtering: removing rows with low gene counts\n",
    "# keeping rows that have at least 10 reads total\n",
    "keep <- rowSums(counts(dds)) >= 10\n",
    "dds <- dds[keep,]\n",
    "\n",
    "dds"
   ]
  },
  {
   "cell_type": "code",
   "execution_count": 104,
   "metadata": {
    "vscode": {
     "languageId": "r"
    }
   },
   "outputs": [
    {
     "data": {
      "text/html": [
       "<style>\n",
       ".list-inline {list-style: none; margin:0; padding: 0}\n",
       ".list-inline>li {display: inline-block}\n",
       ".list-inline>li:not(:last-child)::after {content: \"\\00b7\"; padding: 0 .5ex}\n",
       "</style>\n",
       "<ol class=list-inline><li>control</li><li>control</li><li>control</li><li>control</li><li>treatment</li><li>treatment</li><li>treatment</li><li>treatment</li></ol>\n",
       "\n",
       "<details>\n",
       "\t<summary style=display:list-item;cursor:pointer>\n",
       "\t\t<strong>Levels</strong>:\n",
       "\t</summary>\n",
       "\t<style>\n",
       "\t.list-inline {list-style: none; margin:0; padding: 0}\n",
       "\t.list-inline>li {display: inline-block}\n",
       "\t.list-inline>li:not(:last-child)::after {content: \"\\00b7\"; padding: 0 .5ex}\n",
       "\t</style>\n",
       "\t<ol class=list-inline><li>'control'</li><li>'treatment'</li></ol>\n",
       "</details>"
      ],
      "text/latex": [
       "\\begin{enumerate*}\n",
       "\\item control\n",
       "\\item control\n",
       "\\item control\n",
       "\\item control\n",
       "\\item treatment\n",
       "\\item treatment\n",
       "\\item treatment\n",
       "\\item treatment\n",
       "\\end{enumerate*}\n",
       "\n",
       "\\emph{Levels}: \\begin{enumerate*}\n",
       "\\item 'control'\n",
       "\\item 'treatment'\n",
       "\\end{enumerate*}\n"
      ],
      "text/markdown": [
       "1. control\n",
       "2. control\n",
       "3. control\n",
       "4. control\n",
       "5. treatment\n",
       "6. treatment\n",
       "7. treatment\n",
       "8. treatment\n",
       "\n",
       "\n",
       "\n",
       "**Levels**: 1. 'control'\n",
       "2. 'treatment'\n",
       "\n",
       "\n"
      ],
      "text/plain": [
       "[1] control   control   control   control   treatment treatment treatment\n",
       "[8] treatment\n",
       "Levels: control treatment"
      ]
     },
     "metadata": {},
     "output_type": "display_data"
    }
   ],
   "source": [
    "# set the factor level\n",
    "dds$condition <- relevel(dds$condition, ref = \"control\")\n",
    "dds$condition"
   ]
  },
  {
   "cell_type": "code",
   "execution_count": 105,
   "metadata": {
    "vscode": {
     "languageId": "r"
    }
   },
   "outputs": [
    {
     "name": "stderr",
     "output_type": "stream",
     "text": [
      "estimating size factors\n",
      "\n",
      "estimating dispersions\n",
      "\n",
      "gene-wise dispersion estimates\n",
      "\n",
      "mean-dispersion relationship\n",
      "\n",
      "final dispersion estimates\n",
      "\n",
      "fitting model and testing\n",
      "\n"
     ]
    },
    {
     "data": {
      "text/plain": [
       "log2 fold change (MLE): condition treatment vs control \n",
       "Wald test p-value: condition treatment vs control \n",
       "DataFrame with 14547 rows and 6 columns\n",
       "               baseMean log2FoldChange     lfcSE      stat      pvalue\n",
       "              <numeric>      <numeric> <numeric> <numeric>   <numeric>\n",
       "HEBP1         121.03506       1.522102  0.158881  9.580135 9.69182e-22\n",
       "SNAR-G2      1503.47853      -1.210261  0.134215 -9.017333 1.92725e-19\n",
       "LOC100506844    2.39121       0.573129  0.894740  0.640554 5.21813e-01\n",
       "CKLF            1.78095      -4.221021  1.433886 -2.943764 3.24248e-03\n",
       "MGST2         185.80343      -0.847404  0.115214 -7.355053 1.90851e-13\n",
       "...                 ...            ...       ...       ...         ...\n",
       "LARS2          30.97365      -0.244628  0.252389 -0.969248   0.3324213\n",
       "XLOC_006701     2.00404       0.115288  0.962146  0.119823   0.9046231\n",
       "IMPACT          3.28595      -2.022470  0.889194 -2.274498   0.0229361\n",
       "SIK1            9.12481       1.114042  0.477194  2.334567   0.0195661\n",
       "HMGXB4         20.10932      -0.701581  0.321797 -2.180196   0.0292429\n",
       "                    padj\n",
       "               <numeric>\n",
       "HEBP1        2.62148e-20\n",
       "SNAR-G2      4.53613e-18\n",
       "LOC100506844 6.69533e-01\n",
       "CKLF                  NA\n",
       "MGST2        2.73846e-12\n",
       "...                  ...\n",
       "LARS2          0.4853373\n",
       "XLOC_006701    0.9453799\n",
       "IMPACT         0.0566165\n",
       "SIK1           0.0492677\n",
       "HMGXB4         0.0694993"
      ]
     },
     "metadata": {},
     "output_type": "display_data"
    }
   ],
   "source": [
    "# NOTE: collapse technical replicates\n",
    "\n",
    "# Step 3: Run DESeq ----------------------\n",
    "dds <- DESeq(dds)\n",
    "res <- results(dds)\n",
    "\n",
    "res"
   ]
  },
  {
   "cell_type": "code",
   "execution_count": 106,
   "metadata": {
    "vscode": {
     "languageId": "r"
    }
   },
   "outputs": [
    {
     "name": "stdout",
     "output_type": "stream",
     "text": [
      "\n",
      "out of 14547 with nonzero total read count\n",
      "adjusted p-value < 0.1\n",
      "LFC > 0 (up)       : 3290, 23%\n",
      "LFC < 0 (down)     : 2802, 19%\n",
      "outliers [1]       : 2, 0.014%\n",
      "low counts [2]     : 1129, 7.8%\n",
      "(mean count < 2)\n",
      "[1] see 'cooksCutoff' argument of ?results\n",
      "[2] see 'independentFiltering' argument of ?results\n",
      "\n"
     ]
    }
   ],
   "source": [
    "# Explore Results ----------------\n",
    "\n",
    "summary(res)"
   ]
  },
  {
   "cell_type": "code",
   "execution_count": 108,
   "metadata": {
    "vscode": {
     "languageId": "r"
    }
   },
   "outputs": [],
   "source": [
    "#export normalized read counts\n",
    "normCounts <- counts(dds, normalized = T)\n",
    "write.csv(normCounts, \"normal_propionibacterium_freudenreichii.csv\")\n"
   ]
  },
  {
   "cell_type": "code",
   "execution_count": 109,
   "metadata": {
    "vscode": {
     "languageId": "r"
    }
   },
   "outputs": [
    {
     "name": "stdout",
     "output_type": "stream",
     "text": [
      "\n",
      "out of 14547 with nonzero total read count\n",
      "adjusted p-value < 0.05\n",
      "LFC > 0 (up)       : 2926, 20%\n",
      "LFC < 0 (down)     : 2418, 17%\n",
      "outliers [1]       : 2, 0.014%\n",
      "low counts [2]     : 1129, 7.8%\n",
      "(mean count < 2)\n",
      "[1] see 'cooksCutoff' argument of ?results\n",
      "[2] see 'independentFiltering' argument of ?results\n",
      "\n"
     ]
    }
   ],
   "source": [
    "res <- results(dds, alpha = 0.05)\n",
    "summary(res)"
   ]
  },
  {
   "cell_type": "code",
   "execution_count": 110,
   "metadata": {
    "vscode": {
     "languageId": "r"
    }
   },
   "outputs": [
    {
     "data": {
      "text/html": [
       "<style>\n",
       ".list-inline {list-style: none; margin:0; padding: 0}\n",
       ".list-inline>li {display: inline-block}\n",
       ".list-inline>li:not(:last-child)::after {content: \"\\00b7\"; padding: 0 .5ex}\n",
       "</style>\n",
       "<ol class=list-inline><li>'Intercept'</li><li>'condition_treatment_vs_control'</li></ol>\n"
      ],
      "text/latex": [
       "\\begin{enumerate*}\n",
       "\\item 'Intercept'\n",
       "\\item 'condition\\_treatment\\_vs\\_control'\n",
       "\\end{enumerate*}\n"
      ],
      "text/markdown": [
       "1. 'Intercept'\n",
       "2. 'condition_treatment_vs_control'\n",
       "\n",
       "\n"
      ],
      "text/plain": [
       "[1] \"Intercept\"                      \"condition_treatment_vs_control\""
      ]
     },
     "metadata": {},
     "output_type": "display_data"
    }
   ],
   "source": [
    "# contrasts\n",
    "resultsNames(dds)\n"
   ]
  },
  {
   "cell_type": "code",
   "execution_count": 111,
   "metadata": {
    "vscode": {
     "languageId": "r"
    }
   },
   "outputs": [],
   "source": [
    "#output DESeq results\n",
    "resOrdered <- res[order(res$padj),]\n",
    "write.csv(resOrdered, \"deseq_propionibacterium_freudenreichii.csv\")"
   ]
  },
  {
   "cell_type": "code",
   "execution_count": 115,
   "metadata": {
    "vscode": {
     "languageId": "r"
    }
   },
   "outputs": [
    {
     "data": {
      "image/png": "[encoded data removed]",
      "text/plain": [
       "Plot with title \"baseMean\""
      ]
     },
     "metadata": {
      "image/png": {
       "height": 420,
       "width": 420
      }
     },
     "output_type": "display_data"
    }
   ],
   "source": [
    "# MA plot\n",
    "plotMA(res)"
   ]
  },
  {
   "cell_type": "code",
   "execution_count": 113,
   "metadata": {
    "vscode": {
     "languageId": "r"
    }
   },
   "outputs": [
    {
     "data": {
      "text/html": [
       "<table class=\"dataframe\">\n",
       "<caption>A data.frame: 13416 × 7</caption>\n",
       "<thead>\n",
       "\t<tr><th></th><th scope=col>baseMean</th><th scope=col>log2FoldChange</th><th scope=col>lfcSE</th><th scope=col>stat</th><th scope=col>pvalue</th><th scope=col>padj</th><th scope=col>sig</th></tr>\n",
       "\t<tr><th></th><th scope=col>&lt;dbl&gt;</th><th scope=col>&lt;dbl&gt;</th><th scope=col>&lt;dbl&gt;</th><th scope=col>&lt;dbl&gt;</th><th scope=col>&lt;dbl&gt;</th><th scope=col>&lt;dbl&gt;</th><th scope=col>&lt;chr&gt;</th></tr>\n",
       "</thead>\n",
       "<tbody>\n",
       "\t<tr><th scope=row>TPRN</th><td>1564.5107</td><td>1.805560</td><td>0.05790590</td><td>31.18093</td><td>1.932370e-213</td><td>2.592468e-209</td><td>yes</td></tr>\n",
       "\t<tr><th scope=row>TUFT1</th><td> 784.2995</td><td>2.596450</td><td>0.08959903</td><td>28.97855</td><td>1.226214e-184</td><td>8.225441e-181</td><td>yes</td></tr>\n",
       "\t<tr><th scope=row>CHKA</th><td> 631.8799</td><td>2.632206</td><td>0.09683661</td><td>27.18193</td><td>1.062331e-162</td><td>4.750746e-159</td><td>yes</td></tr>\n",
       "\t<tr><th scope=row>NEU1</th><td> 633.6624</td><td>2.247056</td><td>0.08631485</td><td>26.03325</td><td>2.082071e-149</td><td>6.983266e-146</td><td>yes</td></tr>\n",
       "\t<tr><th scope=row>AREG</th><td> 489.6559</td><td>2.460116</td><td>0.09685572</td><td>25.39980</td><td>2.534707e-142</td><td>6.801125e-139</td><td>yes</td></tr>\n",
       "\t<tr><th scope=row>AGPAT2</th><td>1823.5832</td><td>1.295068</td><td>0.05255765</td><td>24.64091</td><td>4.606256e-134</td><td>1.029959e-130</td><td>yes</td></tr>\n",
       "\t<tr><th scope=row>METRNL</th><td> 613.9863</td><td>1.922115</td><td>0.07887515</td><td>24.36908</td><td>3.639324e-131</td><td>6.975024e-128</td><td>yes</td></tr>\n",
       "\t<tr><th scope=row>EHD1</th><td> 700.9916</td><td>1.805535</td><td>0.07450874</td><td>24.23253</td><td>1.010641e-129</td><td>1.694845e-126</td><td>yes</td></tr>\n",
       "\t<tr><th scope=row>LMTK3</th><td> 270.9993</td><td>2.947580</td><td>0.12313967</td><td>23.93689</td><td>1.265578e-126</td><td>1.886555e-123</td><td>yes</td></tr>\n",
       "\t<tr><th scope=row>SLC9A3R1</th><td>1033.9795</td><td>1.384398</td><td>0.05877492</td><td>23.55424</td><td>1.135974e-122</td><td>1.524023e-119</td><td>yes</td></tr>\n",
       "\t<tr><th scope=row>HES4</th><td> 819.6808</td><td>3.079350</td><td>0.13172577</td><td>23.37697</td><td>7.330431e-121</td><td>8.940461e-118</td><td>yes</td></tr>\n",
       "\t<tr><th scope=row>CAPN5</th><td> 488.3543</td><td>2.301845</td><td>0.09859239</td><td>23.34708</td><td>1.475545e-120</td><td>1.649660e-117</td><td>yes</td></tr>\n",
       "\t<tr><th scope=row>ABTB2</th><td> 317.2014</td><td>2.421704</td><td>0.10519405</td><td>23.02130</td><td>2.852454e-117</td><td>2.943732e-114</td><td>yes</td></tr>\n",
       "\t<tr><th scope=row>IER5</th><td> 451.0780</td><td>2.087613</td><td>0.09072316</td><td>23.01081</td><td>3.633412e-117</td><td>3.481847e-114</td><td>yes</td></tr>\n",
       "\t<tr><th scope=row>CEBPB</th><td> 573.2900</td><td>1.917000</td><td>0.08338220</td><td>22.99052</td><td>5.799580e-117</td><td>5.187144e-114</td><td>yes</td></tr>\n",
       "\t<tr><th scope=row>MAP2K3</th><td> 991.6405</td><td>1.485815</td><td>0.06471222</td><td>22.96035</td><td>1.161431e-116</td><td>9.738598e-114</td><td>yes</td></tr>\n",
       "\t<tr><th scope=row>RPUSD1</th><td> 651.1759</td><td>1.522681</td><td>0.06667443</td><td>22.83756</td><td>1.942663e-115</td><td>1.533104e-112</td><td>yes</td></tr>\n",
       "\t<tr><th scope=row>MICA</th><td> 643.7005</td><td>1.830880</td><td>0.08115531</td><td>22.56020</td><td>1.066364e-112</td><td>7.947965e-110</td><td>yes</td></tr>\n",
       "\t<tr><th scope=row>PLA2G15</th><td> 413.8288</td><td>1.975544</td><td>0.09017446</td><td>21.90802</td><td>2.178454e-106</td><td>1.538218e-103</td><td>yes</td></tr>\n",
       "\t<tr><th scope=row>C2CD2L</th><td> 282.3784</td><td>2.301480</td><td>0.10729629</td><td>21.44976</td><td>4.589663e-102</td><td> 3.078746e-99</td><td>yes</td></tr>\n",
       "\t<tr><th scope=row>XLOC_006513</th><td> 981.0720</td><td>1.685660</td><td>0.07945461</td><td>21.21538</td><td>6.886657e-100</td><td> 4.399590e-97</td><td>yes</td></tr>\n",
       "\t<tr><th scope=row>PRSS8</th><td>1327.8607</td><td>1.534428</td><td>0.07278914</td><td>21.08046</td><td> 1.202165e-98</td><td> 7.331018e-96</td><td>yes</td></tr>\n",
       "\t<tr><th scope=row>FAM102A</th><td> 608.8631</td><td>1.584322</td><td>0.07530958</td><td>21.03746</td><td> 2.979404e-98</td><td> 1.737899e-95</td><td>yes</td></tr>\n",
       "\t<tr><th scope=row>LGALS1</th><td> 163.9519</td><td>4.231843</td><td>0.20343390</td><td>20.80205</td><td> 4.146621e-96</td><td> 2.317961e-93</td><td>yes</td></tr>\n",
       "\t<tr><th scope=row>TNFRSF21</th><td> 956.0425</td><td>1.320389</td><td>0.06358561</td><td>20.76554</td><td> 8.873022e-96</td><td> 4.761618e-93</td><td>yes</td></tr>\n",
       "\t<tr><th scope=row>DAPK3</th><td> 382.4562</td><td>1.823497</td><td>0.08868949</td><td>20.56047</td><td> 6.203075e-94</td><td> 3.200787e-91</td><td>yes</td></tr>\n",
       "\t<tr><th scope=row>ATG2A</th><td> 515.6073</td><td>1.848111</td><td>0.09037131</td><td>20.45020</td><td> 5.983365e-93</td><td> 2.973068e-90</td><td>yes</td></tr>\n",
       "\t<tr><th scope=row>BBC3</th><td> 268.6056</td><td>2.364311</td><td>0.11635014</td><td>20.32066</td><td> 8.443564e-92</td><td> 4.045674e-89</td><td>yes</td></tr>\n",
       "\t<tr><th scope=row>LIPE</th><td> 433.6540</td><td>1.638006</td><td>0.08116794</td><td>20.18046</td><td> 1.453993e-90</td><td> 6.726474e-88</td><td>yes</td></tr>\n",
       "\t<tr><th scope=row>TMEM184B</th><td> 824.4346</td><td>1.266528</td><td>0.06284861</td><td>20.15205</td><td> 2.582098e-90</td><td> 1.154714e-87</td><td>yes</td></tr>\n",
       "\t<tr><th scope=row>...</th><td>...</td><td>...</td><td>...</td><td>...</td><td>...</td><td>...</td><td>...</td></tr>\n",
       "\t<tr><th scope=row>LOC100506098</th><td> 3.131435</td><td>-2.403285e-03</td><td>0.7778096</td><td>-0.0030898117</td><td>0.9975347</td><td>0.9985767</td><td>no</td></tr>\n",
       "\t<tr><th scope=row>SIX4</th><td> 3.118605</td><td> 3.084610e-03</td><td>0.7765931</td><td> 0.0039719773</td><td>0.9968308</td><td>0.9985767</td><td>no</td></tr>\n",
       "\t<tr><th scope=row>RASL10B</th><td> 3.118605</td><td> 3.084610e-03</td><td>0.7765931</td><td> 0.0039719773</td><td>0.9968308</td><td>0.9985767</td><td>no</td></tr>\n",
       "\t<tr><th scope=row>PDAP1</th><td> 5.997813</td><td>-2.582789e-03</td><td>0.5644536</td><td>-0.0045757339</td><td>0.9963491</td><td>0.9985767</td><td>no</td></tr>\n",
       "\t<tr><th scope=row>ZNF197</th><td> 3.118605</td><td> 3.084610e-03</td><td>0.7765931</td><td> 0.0039719773</td><td>0.9968308</td><td>0.9985767</td><td>no</td></tr>\n",
       "\t<tr><th scope=row>XLOC_008993</th><td> 3.131435</td><td>-2.403285e-03</td><td>0.7778096</td><td>-0.0030898117</td><td>0.9975347</td><td>0.9985767</td><td>no</td></tr>\n",
       "\t<tr><th scope=row>FLJ44385</th><td> 3.131435</td><td>-2.403285e-03</td><td>0.7778096</td><td>-0.0030898117</td><td>0.9975347</td><td>0.9985767</td><td>no</td></tr>\n",
       "\t<tr><th scope=row>LOC729305</th><td> 3.131435</td><td>-2.403285e-03</td><td>0.7778096</td><td>-0.0030898117</td><td>0.9975347</td><td>0.9985767</td><td>no</td></tr>\n",
       "\t<tr><th scope=row>LTBP4</th><td> 6.259980</td><td>-1.834626e-03</td><td>0.5536435</td><td>-0.0033137309</td><td>0.9973560</td><td>0.9985767</td><td>no</td></tr>\n",
       "\t<tr><th scope=row>RAP1GDS1</th><td>21.837752</td><td> 1.417926e-03</td><td>0.2982075</td><td> 0.0047548300</td><td>0.9962062</td><td>0.9985767</td><td>no</td></tr>\n",
       "\t<tr><th scope=row>KIF26B</th><td> 3.131435</td><td>-2.403285e-03</td><td>0.7778096</td><td>-0.0030898117</td><td>0.9975347</td><td>0.9985767</td><td>no</td></tr>\n",
       "\t<tr><th scope=row>KRTAP2-1</th><td> 3.131435</td><td>-2.403285e-03</td><td>0.7778096</td><td>-0.0030898117</td><td>0.9975347</td><td>0.9985767</td><td>no</td></tr>\n",
       "\t<tr><th scope=row>PTH2</th><td> 3.377317</td><td> 2.750852e-03</td><td>0.7516457</td><td> 0.0036597724</td><td>0.9970799</td><td>0.9985767</td><td>no</td></tr>\n",
       "\t<tr><th scope=row>Q8WY88</th><td>18.443584</td><td> 1.534473e-03</td><td>0.3286924</td><td> 0.0046684149</td><td>0.9962752</td><td>0.9985767</td><td>no</td></tr>\n",
       "\t<tr><th scope=row>EAF1</th><td> 9.337105</td><td> 1.927163e-03</td><td>0.4578540</td><td> 0.0042091208</td><td>0.9966416</td><td>0.9985767</td><td>no</td></tr>\n",
       "\t<tr><th scope=row>DUSP16</th><td> 3.118605</td><td> 3.084610e-03</td><td>0.7765931</td><td> 0.0039719773</td><td>0.9968308</td><td>0.9985767</td><td>no</td></tr>\n",
       "\t<tr><th scope=row>ZNF17</th><td>12.471591</td><td> 1.132520e-03</td><td>0.3965747</td><td> 0.0028557532</td><td>0.9977214</td><td>0.9986892</td><td>no</td></tr>\n",
       "\t<tr><th scope=row>TUBA8</th><td> 6.245252</td><td> 1.353896e-03</td><td>0.5522691</td><td> 0.0024515144</td><td>0.9980440</td><td>0.9989375</td><td>no</td></tr>\n",
       "\t<tr><th scope=row>KRT85</th><td> 3.128545</td><td>-1.217418e-03</td><td>0.7775487</td><td>-0.0015657128</td><td>0.9987507</td><td>0.9991045</td><td>no</td></tr>\n",
       "\t<tr><th scope=row>DUX4</th><td> 3.128545</td><td>-1.217418e-03</td><td>0.7775487</td><td>-0.0015657128</td><td>0.9987507</td><td>0.9991045</td><td>no</td></tr>\n",
       "\t<tr><th scope=row>GIGYF1</th><td> 6.255192</td><td>-8.274296e-04</td><td>0.5532103</td><td>-0.0014956871</td><td>0.9988066</td><td>0.9991045</td><td>no</td></tr>\n",
       "\t<tr><th scope=row>C5orf4</th><td>22.134326</td><td>-4.888654e-04</td><td>0.3117225</td><td>-0.0015682710</td><td>0.9987487</td><td>0.9991045</td><td>no</td></tr>\n",
       "\t<tr><th scope=row>ZNF227</th><td> 5.988035</td><td> 1.097610e-03</td><td>0.5707785</td><td> 0.0019230057</td><td>0.9984657</td><td>0.9991045</td><td>no</td></tr>\n",
       "\t<tr><th scope=row>SDF4</th><td>63.704653</td><td>-3.404160e-04</td><td>0.1869250</td><td>-0.0018211374</td><td>0.9985469</td><td>0.9991045</td><td>no</td></tr>\n",
       "\t<tr><th scope=row>LOC100652802</th><td> 3.128545</td><td>-1.217418e-03</td><td>0.7775487</td><td>-0.0015657128</td><td>0.9987507</td><td>0.9991045</td><td>no</td></tr>\n",
       "\t<tr><th scope=row>FRK</th><td> 3.108139</td><td>-1.219224e-03</td><td>0.7829084</td><td>-0.0015573014</td><td>0.9987575</td><td>0.9991045</td><td>no</td></tr>\n",
       "\t<tr><th scope=row>CDCA4</th><td> 9.353794</td><td> 6.000473e-04</td><td>0.4530201</td><td> 0.0013245490</td><td>0.9989432</td><td>0.9991666</td><td>no</td></tr>\n",
       "\t<tr><th scope=row>STS</th><td> 3.126646</td><td>-4.225979e-04</td><td>0.7773732</td><td>-0.0005436229</td><td>0.9995663</td><td>0.9996108</td><td>no</td></tr>\n",
       "\t<tr><th scope=row>LOC391322</th><td> 3.126646</td><td>-4.225979e-04</td><td>0.7773732</td><td>-0.0005436229</td><td>0.9995663</td><td>0.9996108</td><td>no</td></tr>\n",
       "\t<tr><th scope=row>MPI</th><td>74.666159</td><td> 7.970358e-05</td><td>0.1633896</td><td> 0.0004878129</td><td>0.9996108</td><td>0.9996108</td><td>no</td></tr>\n",
       "</tbody>\n",
       "</table>\n"
      ],
      "text/latex": [
       "A data.frame: 13416 × 7\n",
       "\\begin{tabular}{r|lllllll}\n",
       "  & baseMean & log2FoldChange & lfcSE & stat & pvalue & padj & sig\\\\\n",
       "  & <dbl> & <dbl> & <dbl> & <dbl> & <dbl> & <dbl> & <chr>\\\\\n",
       "\\hline\n",
       "\tTPRN & 1564.5107 & 1.805560 & 0.05790590 & 31.18093 & 1.932370e-213 & 2.592468e-209 & yes\\\\\n",
       "\tTUFT1 &  784.2995 & 2.596450 & 0.08959903 & 28.97855 & 1.226214e-184 & 8.225441e-181 & yes\\\\\n",
       "\tCHKA &  631.8799 & 2.632206 & 0.09683661 & 27.18193 & 1.062331e-162 & 4.750746e-159 & yes\\\\\n",
       "\tNEU1 &  633.6624 & 2.247056 & 0.08631485 & 26.03325 & 2.082071e-149 & 6.983266e-146 & yes\\\\\n",
       "\tAREG &  489.6559 & 2.460116 & 0.09685572 & 25.39980 & 2.534707e-142 & 6.801125e-139 & yes\\\\\n",
       "\tAGPAT2 & 1823.5832 & 1.295068 & 0.05255765 & 24.64091 & 4.606256e-134 & 1.029959e-130 & yes\\\\\n",
       "\tMETRNL &  613.9863 & 1.922115 & 0.07887515 & 24.36908 & 3.639324e-131 & 6.975024e-128 & yes\\\\\n",
       "\tEHD1 &  700.9916 & 1.805535 & 0.07450874 & 24.23253 & 1.010641e-129 & 1.694845e-126 & yes\\\\\n",
       "\tLMTK3 &  270.9993 & 2.947580 & 0.12313967 & 23.93689 & 1.265578e-126 & 1.886555e-123 & yes\\\\\n",
       "\tSLC9A3R1 & 1033.9795 & 1.384398 & 0.05877492 & 23.55424 & 1.135974e-122 & 1.524023e-119 & yes\\\\\n",
       "\tHES4 &  819.6808 & 3.079350 & 0.13172577 & 23.37697 & 7.330431e-121 & 8.940461e-118 & yes\\\\\n",
       "\tCAPN5 &  488.3543 & 2.301845 & 0.09859239 & 23.34708 & 1.475545e-120 & 1.649660e-117 & yes\\\\\n",
       "\tABTB2 &  317.2014 & 2.421704 & 0.10519405 & 23.02130 & 2.852454e-117 & 2.943732e-114 & yes\\\\\n",
       "\tIER5 &  451.0780 & 2.087613 & 0.09072316 & 23.01081 & 3.633412e-117 & 3.481847e-114 & yes\\\\\n",
       "\tCEBPB &  573.2900 & 1.917000 & 0.08338220 & 22.99052 & 5.799580e-117 & 5.187144e-114 & yes\\\\\n",
       "\tMAP2K3 &  991.6405 & 1.485815 & 0.06471222 & 22.96035 & 1.161431e-116 & 9.738598e-114 & yes\\\\\n",
       "\tRPUSD1 &  651.1759 & 1.522681 & 0.06667443 & 22.83756 & 1.942663e-115 & 1.533104e-112 & yes\\\\\n",
       "\tMICA &  643.7005 & 1.830880 & 0.08115531 & 22.56020 & 1.066364e-112 & 7.947965e-110 & yes\\\\\n",
       "\tPLA2G15 &  413.8288 & 1.975544 & 0.09017446 & 21.90802 & 2.178454e-106 & 1.538218e-103 & yes\\\\\n",
       "\tC2CD2L &  282.3784 & 2.301480 & 0.10729629 & 21.44976 & 4.589663e-102 &  3.078746e-99 & yes\\\\\n",
       "\tXLOC\\_006513 &  981.0720 & 1.685660 & 0.07945461 & 21.21538 & 6.886657e-100 &  4.399590e-97 & yes\\\\\n",
       "\tPRSS8 & 1327.8607 & 1.534428 & 0.07278914 & 21.08046 &  1.202165e-98 &  7.331018e-96 & yes\\\\\n",
       "\tFAM102A &  608.8631 & 1.584322 & 0.07530958 & 21.03746 &  2.979404e-98 &  1.737899e-95 & yes\\\\\n",
       "\tLGALS1 &  163.9519 & 4.231843 & 0.20343390 & 20.80205 &  4.146621e-96 &  2.317961e-93 & yes\\\\\n",
       "\tTNFRSF21 &  956.0425 & 1.320389 & 0.06358561 & 20.76554 &  8.873022e-96 &  4.761618e-93 & yes\\\\\n",
       "\tDAPK3 &  382.4562 & 1.823497 & 0.08868949 & 20.56047 &  6.203075e-94 &  3.200787e-91 & yes\\\\\n",
       "\tATG2A &  515.6073 & 1.848111 & 0.09037131 & 20.45020 &  5.983365e-93 &  2.973068e-90 & yes\\\\\n",
       "\tBBC3 &  268.6056 & 2.364311 & 0.11635014 & 20.32066 &  8.443564e-92 &  4.045674e-89 & yes\\\\\n",
       "\tLIPE &  433.6540 & 1.638006 & 0.08116794 & 20.18046 &  1.453993e-90 &  6.726474e-88 & yes\\\\\n",
       "\tTMEM184B &  824.4346 & 1.266528 & 0.06284861 & 20.15205 &  2.582098e-90 &  1.154714e-87 & yes\\\\\n",
       "\t... & ... & ... & ... & ... & ... & ... & ...\\\\\n",
       "\tLOC100506098 &  3.131435 & -2.403285e-03 & 0.7778096 & -0.0030898117 & 0.9975347 & 0.9985767 & no\\\\\n",
       "\tSIX4 &  3.118605 &  3.084610e-03 & 0.7765931 &  0.0039719773 & 0.9968308 & 0.9985767 & no\\\\\n",
       "\tRASL10B &  3.118605 &  3.084610e-03 & 0.7765931 &  0.0039719773 & 0.9968308 & 0.9985767 & no\\\\\n",
       "\tPDAP1 &  5.997813 & -2.582789e-03 & 0.5644536 & -0.0045757339 & 0.9963491 & 0.9985767 & no\\\\\n",
       "\tZNF197 &  3.118605 &  3.084610e-03 & 0.7765931 &  0.0039719773 & 0.9968308 & 0.9985767 & no\\\\\n",
       "\tXLOC\\_008993 &  3.131435 & -2.403285e-03 & 0.7778096 & -0.0030898117 & 0.9975347 & 0.9985767 & no\\\\\n",
       "\tFLJ44385 &  3.131435 & -2.403285e-03 & 0.7778096 & -0.0030898117 & 0.9975347 & 0.9985767 & no\\\\\n",
       "\tLOC729305 &  3.131435 & -2.403285e-03 & 0.7778096 & -0.0030898117 & 0.9975347 & 0.9985767 & no\\\\\n",
       "\tLTBP4 &  6.259980 & -1.834626e-03 & 0.5536435 & -0.0033137309 & 0.9973560 & 0.9985767 & no\\\\\n",
       "\tRAP1GDS1 & 21.837752 &  1.417926e-03 & 0.2982075 &  0.0047548300 & 0.9962062 & 0.9985767 & no\\\\\n",
       "\tKIF26B &  3.131435 & -2.403285e-03 & 0.7778096 & -0.0030898117 & 0.9975347 & 0.9985767 & no\\\\\n",
       "\tKRTAP2-1 &  3.131435 & -2.403285e-03 & 0.7778096 & -0.0030898117 & 0.9975347 & 0.9985767 & no\\\\\n",
       "\tPTH2 &  3.377317 &  2.750852e-03 & 0.7516457 &  0.0036597724 & 0.9970799 & 0.9985767 & no\\\\\n",
       "\tQ8WY88 & 18.443584 &  1.534473e-03 & 0.3286924 &  0.0046684149 & 0.9962752 & 0.9985767 & no\\\\\n",
       "\tEAF1 &  9.337105 &  1.927163e-03 & 0.4578540 &  0.0042091208 & 0.9966416 & 0.9985767 & no\\\\\n",
       "\tDUSP16 &  3.118605 &  3.084610e-03 & 0.7765931 &  0.0039719773 & 0.9968308 & 0.9985767 & no\\\\\n",
       "\tZNF17 & 12.471591 &  1.132520e-03 & 0.3965747 &  0.0028557532 & 0.9977214 & 0.9986892 & no\\\\\n",
       "\tTUBA8 &  6.245252 &  1.353896e-03 & 0.5522691 &  0.0024515144 & 0.9980440 & 0.9989375 & no\\\\\n",
       "\tKRT85 &  3.128545 & -1.217418e-03 & 0.7775487 & -0.0015657128 & 0.9987507 & 0.9991045 & no\\\\\n",
       "\tDUX4 &  3.128545 & -1.217418e-03 & 0.7775487 & -0.0015657128 & 0.9987507 & 0.9991045 & no\\\\\n",
       "\tGIGYF1 &  6.255192 & -8.274296e-04 & 0.5532103 & -0.0014956871 & 0.9988066 & 0.9991045 & no\\\\\n",
       "\tC5orf4 & 22.134326 & -4.888654e-04 & 0.3117225 & -0.0015682710 & 0.9987487 & 0.9991045 & no\\\\\n",
       "\tZNF227 &  5.988035 &  1.097610e-03 & 0.5707785 &  0.0019230057 & 0.9984657 & 0.9991045 & no\\\\\n",
       "\tSDF4 & 63.704653 & -3.404160e-04 & 0.1869250 & -0.0018211374 & 0.9985469 & 0.9991045 & no\\\\\n",
       "\tLOC100652802 &  3.128545 & -1.217418e-03 & 0.7775487 & -0.0015657128 & 0.9987507 & 0.9991045 & no\\\\\n",
       "\tFRK &  3.108139 & -1.219224e-03 & 0.7829084 & -0.0015573014 & 0.9987575 & 0.9991045 & no\\\\\n",
       "\tCDCA4 &  9.353794 &  6.000473e-04 & 0.4530201 &  0.0013245490 & 0.9989432 & 0.9991666 & no\\\\\n",
       "\tSTS &  3.126646 & -4.225979e-04 & 0.7773732 & -0.0005436229 & 0.9995663 & 0.9996108 & no\\\\\n",
       "\tLOC391322 &  3.126646 & -4.225979e-04 & 0.7773732 & -0.0005436229 & 0.9995663 & 0.9996108 & no\\\\\n",
       "\tMPI & 74.666159 &  7.970358e-05 & 0.1633896 &  0.0004878129 & 0.9996108 & 0.9996108 & no\\\\\n",
       "\\end{tabular}\n"
      ],
      "text/markdown": [
       "\n",
       "A data.frame: 13416 × 7\n",
       "\n",
       "| <!--/--> | baseMean &lt;dbl&gt; | log2FoldChange &lt;dbl&gt; | lfcSE &lt;dbl&gt; | stat &lt;dbl&gt; | pvalue &lt;dbl&gt; | padj &lt;dbl&gt; | sig &lt;chr&gt; |\n",
       "|---|---|---|---|---|---|---|---|\n",
       "| TPRN | 1564.5107 | 1.805560 | 0.05790590 | 31.18093 | 1.932370e-213 | 2.592468e-209 | yes |\n",
       "| TUFT1 |  784.2995 | 2.596450 | 0.08959903 | 28.97855 | 1.226214e-184 | 8.225441e-181 | yes |\n",
       "| CHKA |  631.8799 | 2.632206 | 0.09683661 | 27.18193 | 1.062331e-162 | 4.750746e-159 | yes |\n",
       "| NEU1 |  633.6624 | 2.247056 | 0.08631485 | 26.03325 | 2.082071e-149 | 6.983266e-146 | yes |\n",
       "| AREG |  489.6559 | 2.460116 | 0.09685572 | 25.39980 | 2.534707e-142 | 6.801125e-139 | yes |\n",
       "| AGPAT2 | 1823.5832 | 1.295068 | 0.05255765 | 24.64091 | 4.606256e-134 | 1.029959e-130 | yes |\n",
       "| METRNL |  613.9863 | 1.922115 | 0.07887515 | 24.36908 | 3.639324e-131 | 6.975024e-128 | yes |\n",
       "| EHD1 |  700.9916 | 1.805535 | 0.07450874 | 24.23253 | 1.010641e-129 | 1.694845e-126 | yes |\n",
       "| LMTK3 |  270.9993 | 2.947580 | 0.12313967 | 23.93689 | 1.265578e-126 | 1.886555e-123 | yes |\n",
       "| SLC9A3R1 | 1033.9795 | 1.384398 | 0.05877492 | 23.55424 | 1.135974e-122 | 1.524023e-119 | yes |\n",
       "| HES4 |  819.6808 | 3.079350 | 0.13172577 | 23.37697 | 7.330431e-121 | 8.940461e-118 | yes |\n",
       "| CAPN5 |  488.3543 | 2.301845 | 0.09859239 | 23.34708 | 1.475545e-120 | 1.649660e-117 | yes |\n",
       "| ABTB2 |  317.2014 | 2.421704 | 0.10519405 | 23.02130 | 2.852454e-117 | 2.943732e-114 | yes |\n",
       "| IER5 |  451.0780 | 2.087613 | 0.09072316 | 23.01081 | 3.633412e-117 | 3.481847e-114 | yes |\n",
       "| CEBPB |  573.2900 | 1.917000 | 0.08338220 | 22.99052 | 5.799580e-117 | 5.187144e-114 | yes |\n",
       "| MAP2K3 |  991.6405 | 1.485815 | 0.06471222 | 22.96035 | 1.161431e-116 | 9.738598e-114 | yes |\n",
       "| RPUSD1 |  651.1759 | 1.522681 | 0.06667443 | 22.83756 | 1.942663e-115 | 1.533104e-112 | yes |\n",
       "| MICA |  643.7005 | 1.830880 | 0.08115531 | 22.56020 | 1.066364e-112 | 7.947965e-110 | yes |\n",
       "| PLA2G15 |  413.8288 | 1.975544 | 0.09017446 | 21.90802 | 2.178454e-106 | 1.538218e-103 | yes |\n",
       "| C2CD2L |  282.3784 | 2.301480 | 0.10729629 | 21.44976 | 4.589663e-102 |  3.078746e-99 | yes |\n",
       "| XLOC_006513 |  981.0720 | 1.685660 | 0.07945461 | 21.21538 | 6.886657e-100 |  4.399590e-97 | yes |\n",
       "| PRSS8 | 1327.8607 | 1.534428 | 0.07278914 | 21.08046 |  1.202165e-98 |  7.331018e-96 | yes |\n",
       "| FAM102A |  608.8631 | 1.584322 | 0.07530958 | 21.03746 |  2.979404e-98 |  1.737899e-95 | yes |\n",
       "| LGALS1 |  163.9519 | 4.231843 | 0.20343390 | 20.80205 |  4.146621e-96 |  2.317961e-93 | yes |\n",
       "| TNFRSF21 |  956.0425 | 1.320389 | 0.06358561 | 20.76554 |  8.873022e-96 |  4.761618e-93 | yes |\n",
       "| DAPK3 |  382.4562 | 1.823497 | 0.08868949 | 20.56047 |  6.203075e-94 |  3.200787e-91 | yes |\n",
       "| ATG2A |  515.6073 | 1.848111 | 0.09037131 | 20.45020 |  5.983365e-93 |  2.973068e-90 | yes |\n",
       "| BBC3 |  268.6056 | 2.364311 | 0.11635014 | 20.32066 |  8.443564e-92 |  4.045674e-89 | yes |\n",
       "| LIPE |  433.6540 | 1.638006 | 0.08116794 | 20.18046 |  1.453993e-90 |  6.726474e-88 | yes |\n",
       "| TMEM184B |  824.4346 | 1.266528 | 0.06284861 | 20.15205 |  2.582098e-90 |  1.154714e-87 | yes |\n",
       "| ... | ... | ... | ... | ... | ... | ... | ... |\n",
       "| LOC100506098 |  3.131435 | -2.403285e-03 | 0.7778096 | -0.0030898117 | 0.9975347 | 0.9985767 | no |\n",
       "| SIX4 |  3.118605 |  3.084610e-03 | 0.7765931 |  0.0039719773 | 0.9968308 | 0.9985767 | no |\n",
       "| RASL10B |  3.118605 |  3.084610e-03 | 0.7765931 |  0.0039719773 | 0.9968308 | 0.9985767 | no |\n",
       "| PDAP1 |  5.997813 | -2.582789e-03 | 0.5644536 | -0.0045757339 | 0.9963491 | 0.9985767 | no |\n",
       "| ZNF197 |  3.118605 |  3.084610e-03 | 0.7765931 |  0.0039719773 | 0.9968308 | 0.9985767 | no |\n",
       "| XLOC_008993 |  3.131435 | -2.403285e-03 | 0.7778096 | -0.0030898117 | 0.9975347 | 0.9985767 | no |\n",
       "| FLJ44385 |  3.131435 | -2.403285e-03 | 0.7778096 | -0.0030898117 | 0.9975347 | 0.9985767 | no |\n",
       "| LOC729305 |  3.131435 | -2.403285e-03 | 0.7778096 | -0.0030898117 | 0.9975347 | 0.9985767 | no |\n",
       "| LTBP4 |  6.259980 | -1.834626e-03 | 0.5536435 | -0.0033137309 | 0.9973560 | 0.9985767 | no |\n",
       "| RAP1GDS1 | 21.837752 |  1.417926e-03 | 0.2982075 |  0.0047548300 | 0.9962062 | 0.9985767 | no |\n",
       "| KIF26B |  3.131435 | -2.403285e-03 | 0.7778096 | -0.0030898117 | 0.9975347 | 0.9985767 | no |\n",
       "| KRTAP2-1 |  3.131435 | -2.403285e-03 | 0.7778096 | -0.0030898117 | 0.9975347 | 0.9985767 | no |\n",
       "| PTH2 |  3.377317 |  2.750852e-03 | 0.7516457 |  0.0036597724 | 0.9970799 | 0.9985767 | no |\n",
       "| Q8WY88 | 18.443584 |  1.534473e-03 | 0.3286924 |  0.0046684149 | 0.9962752 | 0.9985767 | no |\n",
       "| EAF1 |  9.337105 |  1.927163e-03 | 0.4578540 |  0.0042091208 | 0.9966416 | 0.9985767 | no |\n",
       "| DUSP16 |  3.118605 |  3.084610e-03 | 0.7765931 |  0.0039719773 | 0.9968308 | 0.9985767 | no |\n",
       "| ZNF17 | 12.471591 |  1.132520e-03 | 0.3965747 |  0.0028557532 | 0.9977214 | 0.9986892 | no |\n",
       "| TUBA8 |  6.245252 |  1.353896e-03 | 0.5522691 |  0.0024515144 | 0.9980440 | 0.9989375 | no |\n",
       "| KRT85 |  3.128545 | -1.217418e-03 | 0.7775487 | -0.0015657128 | 0.9987507 | 0.9991045 | no |\n",
       "| DUX4 |  3.128545 | -1.217418e-03 | 0.7775487 | -0.0015657128 | 0.9987507 | 0.9991045 | no |\n",
       "| GIGYF1 |  6.255192 | -8.274296e-04 | 0.5532103 | -0.0014956871 | 0.9988066 | 0.9991045 | no |\n",
       "| C5orf4 | 22.134326 | -4.888654e-04 | 0.3117225 | -0.0015682710 | 0.9987487 | 0.9991045 | no |\n",
       "| ZNF227 |  5.988035 |  1.097610e-03 | 0.5707785 |  0.0019230057 | 0.9984657 | 0.9991045 | no |\n",
       "| SDF4 | 63.704653 | -3.404160e-04 | 0.1869250 | -0.0018211374 | 0.9985469 | 0.9991045 | no |\n",
       "| LOC100652802 |  3.128545 | -1.217418e-03 | 0.7775487 | -0.0015657128 | 0.9987507 | 0.9991045 | no |\n",
       "| FRK |  3.108139 | -1.219224e-03 | 0.7829084 | -0.0015573014 | 0.9987575 | 0.9991045 | no |\n",
       "| CDCA4 |  9.353794 |  6.000473e-04 | 0.4530201 |  0.0013245490 | 0.9989432 | 0.9991666 | no |\n",
       "| STS |  3.126646 | -4.225979e-04 | 0.7773732 | -0.0005436229 | 0.9995663 | 0.9996108 | no |\n",
       "| LOC391322 |  3.126646 | -4.225979e-04 | 0.7773732 | -0.0005436229 | 0.9995663 | 0.9996108 | no |\n",
       "| MPI | 74.666159 |  7.970358e-05 | 0.1633896 |  0.0004878129 | 0.9996108 | 0.9996108 | no |\n",
       "\n"
      ],
      "text/plain": [
       "             baseMean  log2FoldChange lfcSE      stat          pvalue       \n",
       "TPRN         1564.5107 1.805560       0.05790590 31.18093      1.932370e-213\n",
       "TUFT1         784.2995 2.596450       0.08959903 28.97855      1.226214e-184\n",
       "CHKA          631.8799 2.632206       0.09683661 27.18193      1.062331e-162\n",
       "NEU1          633.6624 2.247056       0.08631485 26.03325      2.082071e-149\n",
       "AREG          489.6559 2.460116       0.09685572 25.39980      2.534707e-142\n",
       "AGPAT2       1823.5832 1.295068       0.05255765 24.64091      4.606256e-134\n",
       "METRNL        613.9863 1.922115       0.07887515 24.36908      3.639324e-131\n",
       "EHD1          700.9916 1.805535       0.07450874 24.23253      1.010641e-129\n",
       "LMTK3         270.9993 2.947580       0.12313967 23.93689      1.265578e-126\n",
       "SLC9A3R1     1033.9795 1.384398       0.05877492 23.55424      1.135974e-122\n",
       "HES4          819.6808 3.079350       0.13172577 23.37697      7.330431e-121\n",
       "CAPN5         488.3543 2.301845       0.09859239 23.34708      1.475545e-120\n",
       "ABTB2         317.2014 2.421704       0.10519405 23.02130      2.852454e-117\n",
       "IER5          451.0780 2.087613       0.09072316 23.01081      3.633412e-117\n",
       "CEBPB         573.2900 1.917000       0.08338220 22.99052      5.799580e-117\n",
       "MAP2K3        991.6405 1.485815       0.06471222 22.96035      1.161431e-116\n",
       "RPUSD1        651.1759 1.522681       0.06667443 22.83756      1.942663e-115\n",
       "MICA          643.7005 1.830880       0.08115531 22.56020      1.066364e-112\n",
       "PLA2G15       413.8288 1.975544       0.09017446 21.90802      2.178454e-106\n",
       "C2CD2L        282.3784 2.301480       0.10729629 21.44976      4.589663e-102\n",
       "XLOC_006513   981.0720 1.685660       0.07945461 21.21538      6.886657e-100\n",
       "PRSS8        1327.8607 1.534428       0.07278914 21.08046       1.202165e-98\n",
       "FAM102A       608.8631 1.584322       0.07530958 21.03746       2.979404e-98\n",
       "LGALS1        163.9519 4.231843       0.20343390 20.80205       4.146621e-96\n",
       "TNFRSF21      956.0425 1.320389       0.06358561 20.76554       8.873022e-96\n",
       "DAPK3         382.4562 1.823497       0.08868949 20.56047       6.203075e-94\n",
       "ATG2A         515.6073 1.848111       0.09037131 20.45020       5.983365e-93\n",
       "BBC3          268.6056 2.364311       0.11635014 20.32066       8.443564e-92\n",
       "LIPE          433.6540 1.638006       0.08116794 20.18046       1.453993e-90\n",
       "TMEM184B      824.4346 1.266528       0.06284861 20.15205       2.582098e-90\n",
       "...          ...       ...            ...        ...           ...          \n",
       "LOC100506098  3.131435 -2.403285e-03  0.7778096  -0.0030898117 0.9975347    \n",
       "SIX4          3.118605  3.084610e-03  0.7765931   0.0039719773 0.9968308    \n",
       "RASL10B       3.118605  3.084610e-03  0.7765931   0.0039719773 0.9968308    \n",
       "PDAP1         5.997813 -2.582789e-03  0.5644536  -0.0045757339 0.9963491    \n",
       "ZNF197        3.118605  3.084610e-03  0.7765931   0.0039719773 0.9968308    \n",
       "XLOC_008993   3.131435 -2.403285e-03  0.7778096  -0.0030898117 0.9975347    \n",
       "FLJ44385      3.131435 -2.403285e-03  0.7778096  -0.0030898117 0.9975347    \n",
       "LOC729305     3.131435 -2.403285e-03  0.7778096  -0.0030898117 0.9975347    \n",
       "LTBP4         6.259980 -1.834626e-03  0.5536435  -0.0033137309 0.9973560    \n",
       "RAP1GDS1     21.837752  1.417926e-03  0.2982075   0.0047548300 0.9962062    \n",
       "KIF26B        3.131435 -2.403285e-03  0.7778096  -0.0030898117 0.9975347    \n",
       "KRTAP2-1      3.131435 -2.403285e-03  0.7778096  -0.0030898117 0.9975347    \n",
       "PTH2          3.377317  2.750852e-03  0.7516457   0.0036597724 0.9970799    \n",
       "Q8WY88       18.443584  1.534473e-03  0.3286924   0.0046684149 0.9962752    \n",
       "EAF1          9.337105  1.927163e-03  0.4578540   0.0042091208 0.9966416    \n",
       "DUSP16        3.118605  3.084610e-03  0.7765931   0.0039719773 0.9968308    \n",
       "ZNF17        12.471591  1.132520e-03  0.3965747   0.0028557532 0.9977214    \n",
       "TUBA8         6.245252  1.353896e-03  0.5522691   0.0024515144 0.9980440    \n",
       "KRT85         3.128545 -1.217418e-03  0.7775487  -0.0015657128 0.9987507    \n",
       "DUX4          3.128545 -1.217418e-03  0.7775487  -0.0015657128 0.9987507    \n",
       "GIGYF1        6.255192 -8.274296e-04  0.5532103  -0.0014956871 0.9988066    \n",
       "C5orf4       22.134326 -4.888654e-04  0.3117225  -0.0015682710 0.9987487    \n",
       "ZNF227        5.988035  1.097610e-03  0.5707785   0.0019230057 0.9984657    \n",
       "SDF4         63.704653 -3.404160e-04  0.1869250  -0.0018211374 0.9985469    \n",
       "LOC100652802  3.128545 -1.217418e-03  0.7775487  -0.0015657128 0.9987507    \n",
       "FRK           3.108139 -1.219224e-03  0.7829084  -0.0015573014 0.9987575    \n",
       "CDCA4         9.353794  6.000473e-04  0.4530201   0.0013245490 0.9989432    \n",
       "STS           3.126646 -4.225979e-04  0.7773732  -0.0005436229 0.9995663    \n",
       "LOC391322     3.126646 -4.225979e-04  0.7773732  -0.0005436229 0.9995663    \n",
       "MPI          74.666159  7.970358e-05  0.1633896   0.0004878129 0.9996108    \n",
       "             padj          sig\n",
       "TPRN         2.592468e-209 yes\n",
       "TUFT1        8.225441e-181 yes\n",
       "CHKA         4.750746e-159 yes\n",
       "NEU1         6.983266e-146 yes\n",
       "AREG         6.801125e-139 yes\n",
       "AGPAT2       1.029959e-130 yes\n",
       "METRNL       6.975024e-128 yes\n",
       "EHD1         1.694845e-126 yes\n",
       "LMTK3        1.886555e-123 yes\n",
       "SLC9A3R1     1.524023e-119 yes\n",
       "HES4         8.940461e-118 yes\n",
       "CAPN5        1.649660e-117 yes\n",
       "ABTB2        2.943732e-114 yes\n",
       "IER5         3.481847e-114 yes\n",
       "CEBPB        5.187144e-114 yes\n",
       "MAP2K3       9.738598e-114 yes\n",
       "RPUSD1       1.533104e-112 yes\n",
       "MICA         7.947965e-110 yes\n",
       "PLA2G15      1.538218e-103 yes\n",
       "C2CD2L        3.078746e-99 yes\n",
       "XLOC_006513   4.399590e-97 yes\n",
       "PRSS8         7.331018e-96 yes\n",
       "FAM102A       1.737899e-95 yes\n",
       "LGALS1        2.317961e-93 yes\n",
       "TNFRSF21      4.761618e-93 yes\n",
       "DAPK3         3.200787e-91 yes\n",
       "ATG2A         2.973068e-90 yes\n",
       "BBC3          4.045674e-89 yes\n",
       "LIPE          6.726474e-88 yes\n",
       "TMEM184B      1.154714e-87 yes\n",
       "...          ...           ...\n",
       "LOC100506098 0.9985767     no \n",
       "SIX4         0.9985767     no \n",
       "RASL10B      0.9985767     no \n",
       "PDAP1        0.9985767     no \n",
       "ZNF197       0.9985767     no \n",
       "XLOC_008993  0.9985767     no \n",
       "FLJ44385     0.9985767     no \n",
       "LOC729305    0.9985767     no \n",
       "LTBP4        0.9985767     no \n",
       "RAP1GDS1     0.9985767     no \n",
       "KIF26B       0.9985767     no \n",
       "KRTAP2-1     0.9985767     no \n",
       "PTH2         0.9985767     no \n",
       "Q8WY88       0.9985767     no \n",
       "EAF1         0.9985767     no \n",
       "DUSP16       0.9985767     no \n",
       "ZNF17        0.9986892     no \n",
       "TUBA8        0.9989375     no \n",
       "KRT85        0.9991045     no \n",
       "DUX4         0.9991045     no \n",
       "GIGYF1       0.9991045     no \n",
       "C5orf4       0.9991045     no \n",
       "ZNF227       0.9991045     no \n",
       "SDF4         0.9991045     no \n",
       "LOC100652802 0.9991045     no \n",
       "FRK          0.9991045     no \n",
       "CDCA4        0.9991666     no \n",
       "STS          0.9996108     no \n",
       "LOC391322    0.9996108     no \n",
       "MPI          0.9996108     no "
      ]
     },
     "metadata": {},
     "output_type": "display_data"
    }
   ],
   "source": [
    "normCount <- read.csv(\"normal_propionibacterium_freudenreichii.csv\", row.names = 1)\n",
    "deSeqRes <- read.csv(\"deseq_propionibacterium_freudenreichii.csv\", row.names = 1)\n",
    "deSeqRes$sig <- ifelse(deSeqRes$padj <= 0.05, \"yes\", \"no\")\n",
    "deSeqRes <- na.omit(deSeqRes)\n",
    "deSeqRes"
   ]
  },
  {
   "cell_type": "markdown",
   "metadata": {},
   "source": [
    "Gráfico de dispersión de log2FoldChange vs. log1O(baseMean):\n",
    "\n",
    "Este gráfico te permite visualizar la relación entre la expresión media de los genes (log1O(baseMean)) y la diferencia de expresión entre condiciones (log2FoldChange). Los genes con una mayor diferencia de expresión y una mayor expresión media son más probables de ser importantes."
   ]
  },
  {
   "cell_type": "code",
   "execution_count": 114,
   "metadata": {
    "vscode": {
     "languageId": "r"
    }
   },
   "outputs": [
    {
     "data": {
      "image/png": "[encoded data removed]",
      "text/plain": [
       "plot without title"
      ]
     },
     "metadata": {
      "image/png": {
       "height": 420,
       "width": 420
      }
     },
     "output_type": "display_data"
    }
   ],
   "source": [
    "#Gráfico PlotMa\n",
    "ggplot(deSeqRes, aes(x = log10(baseMean), y = log2FoldChange, color = sig)) + geom_point()"
   ]
  },
  {
   "cell_type": "markdown",
   "metadata": {},
   "source": [
    "Gráfico de dispersión de log2FoldChange vs. p-value:\n",
    "\n",
    "Este gráfico te permite visualizar la relación entre la diferencia de expresión y el nivel de significación (p-value). Los genes con una mayor diferencia de expresión y un p-value más bajo son más probables de ser importantes."
   ]
  },
  {
   "cell_type": "code",
   "execution_count": 116,
   "metadata": {
    "vscode": {
     "languageId": "r"
    }
   },
   "outputs": [
    {
     "data": {
      "image/png": "[encoded data removed]",
      "text/plain": [
       "plot without title"
      ]
     },
     "metadata": {
      "image/png": {
       "height": 420,
       "width": 420
      }
     },
     "output_type": "display_data"
    }
   ],
   "source": [
    "#volcano plot\n",
    "ggplot(deSeqRes, aes(x = log2FoldChange, y = -log10(padj), color = sig)) + geom_point()"
   ]
  },
  {
   "cell_type": "code",
   "execution_count": 117,
   "metadata": {
    "vscode": {
     "languageId": "r"
    }
   },
   "outputs": [
    {
     "data": {
      "image/png": "[encoded data removed]",
      "text/plain": [
       "plot without title"
      ]
     },
     "metadata": {
      "image/png": {
       "height": 420,
       "width": 420
      }
     },
     "output_type": "display_data"
    }
   ],
   "source": [
    "# Crea el gráfico de volcán con etiquetas de genes\n",
    "\n",
    "ggplot(deSeqRes, aes(x = log2FoldChange, y = -log10(padj), color = sig)) +\n",
    "  geom_point() +\n",
    "  geom_text(aes(label = rownames(deSeqRes)), nudge_x = 0.4, nudge_y = 0.4) +  # Agrega las etiquetas\n",
    "  labs(x = \"log2 Fold Change\", y = \"-log10(padj)\", title = \"Volcano Plot: Genes Diferencialmente Expresados\") +\n",
    "  theme_minimal()"
   ]
  },
  {
   "cell_type": "code",
   "execution_count": 121,
   "metadata": {
    "vscode": {
     "languageId": "r"
    }
   },
   "outputs": [
    {
     "data": {
      "image/png": "[encoded data removed]",
      "text/plain": [
       "plot without title"
      ]
     },
     "metadata": {
      "image/png": {
       "height": 420,
       "width": 420
      }
     },
     "output_type": "display_data"
    }
   ],
   "source": [
    "# Filtra los datos para incluir solo los genes significativos\n",
    "umbral_pvalor <- 0.05\n",
    "umbral_foldchange <- 2  # Por ejemplo, considera genes con un cambio de plegamiento mayor a 2\n",
    "\n",
    "# Agrega una columna con los nombres de los genes\n",
    "deSeqRes$gene_name <- row.names(deSeqRes)\n",
    "deSeqRes_filtrado <- deSeqRes %>%\n",
    "  filter(padj <= umbral_pvalor, abs(log2FoldChange) >= log2(umbral_foldchange))\n",
    "\n",
    "# Crea el gráfico de volcán con los datos filtrados\n",
    "library(ggplot2)\n",
    "ggplot(deSeqRes_filtrado, aes(x = log2FoldChange, y = -log10(padj), color = sig)) +\n",
    "  geom_point() +\n",
    "  geom_text(aes(label = gene_name), nudge_x = 0.3, nudge_y = 0.4) +\n",
    "  labs(x = \"log2 Fold Change\", y = \"-log10(padj)\", title = \"Volcano Plot: Genes Diferencialmente Expresados (Filtrados)\") +\n",
    "  theme_minimal()\n",
    "write.csv(deSeqRes_filtrado, \"deSeqRes_filtrado_Propionibacterium freudenreichii.csv\")"
   ]
  },
  {
   "cell_type": "markdown",
   "metadata": {},
   "source": [
    "El gráfico de PCA permite visualizar la estructura de los datos y observar cómo se agrupan las muestras en función de su expresión génica. Las muestras con perfiles de expresión similares se agruparán cerca unas de otras en el gráfico. Esto es útil para:\n",
    "\n",
    "Identificar patrones de agrupamiento: Ver si las muestras se agrupan de acuerdo con las condiciones experimentales, lo cual puede sugerir diferencias biológicas entre grupos.\n",
    "Detectar muestras atípicas: Identificar muestras que no se agrupan con otras de su condición, lo cual podría indicar problemas técnicos o biológicos.\n",
    "Explorar la variabilidad en los datos: Entender qué proporción de la variación total es explicada por los primeros componentes principales."
   ]
  },
  {
   "cell_type": "code",
   "execution_count": 119,
   "metadata": {
    "vscode": {
     "languageId": "r"
    }
   },
   "outputs": [
    {
     "data": {
      "text/html": [
       "<table class=\"dataframe\">\n",
       "<caption>A matrix: 6 × 8 of type dbl</caption>\n",
       "<thead>\n",
       "\t<tr><th></th><th scope=col>HT-29 cells control sample-1</th><th scope=col>HT-29 cells control sample-2</th><th scope=col>HT-29 cells control sample-3</th><th scope=col>HT-29 cells control sample-4</th><th scope=col>HT-29 cells treatment sample-1</th><th scope=col>HT-29 cells treatment sample-2</th><th scope=col>HT-29 cells treatment sample-3</th><th scope=col>HT-29 cells treatment sample-4</th></tr>\n",
       "</thead>\n",
       "<tbody>\n",
       "\t<tr><th scope=row>HEBP1</th><td> 6.3699221</td><td> 6.3200433</td><td> 6.1362820</td><td> 6.114368</td><td>7.3786065</td><td> 7.3863287</td><td>7.2666509</td><td>7.1293934</td></tr>\n",
       "\t<tr><th scope=row>SNAR-G2</th><td>11.1569880</td><td>11.1311463</td><td>10.9052461</td><td>10.741069</td><td>9.9691623</td><td>10.1415621</td><td>9.7348307</td><td>9.5714849</td></tr>\n",
       "\t<tr><th scope=row>LOC100506844</th><td> 1.2398809</td><td> 1.2373133</td><td> 1.2328479</td><td> 1.238340</td><td>1.2442761</td><td> 1.2718394</td><td>1.2694716</td><td>1.2784914</td></tr>\n",
       "\t<tr><th scope=row>CKLF</th><td> 0.7795632</td><td> 0.8980024</td><td> 0.8901138</td><td> 0.870792</td><td>0.7477176</td><td> 0.7467047</td><td>0.7461914</td><td>0.7481469</td></tr>\n",
       "\t<tr><th scope=row>MGST2</th><td> 7.7165858</td><td> 7.7826751</td><td> 7.9192774</td><td> 7.829162</td><td>7.1246975</td><td> 7.1751737</td><td>7.1844553</td><td>7.1490722</td></tr>\n",
       "\t<tr><th scope=row>CLK1</th><td> 3.1236361</td><td> 3.1931808</td><td> 3.1252412</td><td> 3.145326</td><td>3.1386506</td><td> 3.0981549</td><td>3.1735376</td><td>3.1724424</td></tr>\n",
       "</tbody>\n",
       "</table>\n"
      ],
      "text/latex": [
       "A matrix: 6 × 8 of type dbl\n",
       "\\begin{tabular}{r|llllllll}\n",
       "  & HT-29 cells control sample-1 & HT-29 cells control sample-2 & HT-29 cells control sample-3 & HT-29 cells control sample-4 & HT-29 cells treatment sample-1 & HT-29 cells treatment sample-2 & HT-29 cells treatment sample-3 & HT-29 cells treatment sample-4\\\\\n",
       "\\hline\n",
       "\tHEBP1 &  6.3699221 &  6.3200433 &  6.1362820 &  6.114368 & 7.3786065 &  7.3863287 & 7.2666509 & 7.1293934\\\\\n",
       "\tSNAR-G2 & 11.1569880 & 11.1311463 & 10.9052461 & 10.741069 & 9.9691623 & 10.1415621 & 9.7348307 & 9.5714849\\\\\n",
       "\tLOC100506844 &  1.2398809 &  1.2373133 &  1.2328479 &  1.238340 & 1.2442761 &  1.2718394 & 1.2694716 & 1.2784914\\\\\n",
       "\tCKLF &  0.7795632 &  0.8980024 &  0.8901138 &  0.870792 & 0.7477176 &  0.7467047 & 0.7461914 & 0.7481469\\\\\n",
       "\tMGST2 &  7.7165858 &  7.7826751 &  7.9192774 &  7.829162 & 7.1246975 &  7.1751737 & 7.1844553 & 7.1490722\\\\\n",
       "\tCLK1 &  3.1236361 &  3.1931808 &  3.1252412 &  3.145326 & 3.1386506 &  3.0981549 & 3.1735376 & 3.1724424\\\\\n",
       "\\end{tabular}\n"
      ],
      "text/markdown": [
       "\n",
       "A matrix: 6 × 8 of type dbl\n",
       "\n",
       "| <!--/--> | HT-29 cells control sample-1 | HT-29 cells control sample-2 | HT-29 cells control sample-3 | HT-29 cells control sample-4 | HT-29 cells treatment sample-1 | HT-29 cells treatment sample-2 | HT-29 cells treatment sample-3 | HT-29 cells treatment sample-4 |\n",
       "|---|---|---|---|---|---|---|---|---|\n",
       "| HEBP1 |  6.3699221 |  6.3200433 |  6.1362820 |  6.114368 | 7.3786065 |  7.3863287 | 7.2666509 | 7.1293934 |\n",
       "| SNAR-G2 | 11.1569880 | 11.1311463 | 10.9052461 | 10.741069 | 9.9691623 | 10.1415621 | 9.7348307 | 9.5714849 |\n",
       "| LOC100506844 |  1.2398809 |  1.2373133 |  1.2328479 |  1.238340 | 1.2442761 |  1.2718394 | 1.2694716 | 1.2784914 |\n",
       "| CKLF |  0.7795632 |  0.8980024 |  0.8901138 |  0.870792 | 0.7477176 |  0.7467047 | 0.7461914 | 0.7481469 |\n",
       "| MGST2 |  7.7165858 |  7.7826751 |  7.9192774 |  7.829162 | 7.1246975 |  7.1751737 | 7.1844553 | 7.1490722 |\n",
       "| CLK1 |  3.1236361 |  3.1931808 |  3.1252412 |  3.145326 | 3.1386506 |  3.0981549 | 3.1735376 | 3.1724424 |\n",
       "\n"
      ],
      "text/plain": [
       "             HT-29 cells control sample-1 HT-29 cells control sample-2\n",
       "HEBP1         6.3699221                    6.3200433                  \n",
       "SNAR-G2      11.1569880                   11.1311463                  \n",
       "LOC100506844  1.2398809                    1.2373133                  \n",
       "CKLF          0.7795632                    0.8980024                  \n",
       "MGST2         7.7165858                    7.7826751                  \n",
       "CLK1          3.1236361                    3.1931808                  \n",
       "             HT-29 cells control sample-3 HT-29 cells control sample-4\n",
       "HEBP1         6.1362820                    6.114368                   \n",
       "SNAR-G2      10.9052461                   10.741069                   \n",
       "LOC100506844  1.2328479                    1.238340                   \n",
       "CKLF          0.8901138                    0.870792                   \n",
       "MGST2         7.9192774                    7.829162                   \n",
       "CLK1          3.1252412                    3.145326                   \n",
       "             HT-29 cells treatment sample-1 HT-29 cells treatment sample-2\n",
       "HEBP1        7.3786065                       7.3863287                    \n",
       "SNAR-G2      9.9691623                      10.1415621                    \n",
       "LOC100506844 1.2442761                       1.2718394                    \n",
       "CKLF         0.7477176                       0.7467047                    \n",
       "MGST2        7.1246975                       7.1751737                    \n",
       "CLK1         3.1386506                       3.0981549                    \n",
       "             HT-29 cells treatment sample-3 HT-29 cells treatment sample-4\n",
       "HEBP1        7.2666509                      7.1293934                     \n",
       "SNAR-G2      9.7348307                      9.5714849                     \n",
       "LOC100506844 1.2694716                      1.2784914                     \n",
       "CKLF         0.7461914                      0.7481469                     \n",
       "MGST2        7.1844553                      7.1490722                     \n",
       "CLK1         3.1735376                      3.1724424                     "
      ]
     },
     "metadata": {},
     "output_type": "display_data"
    },
    {
     "data": {
      "image/png": "[encoded data removed]",
      "text/plain": [
       "Plot with title \"Histogram of assay(rld)\""
      ]
     },
     "metadata": {
      "image/png": {
       "height": 420,
       "width": 420
      }
     },
     "output_type": "display_data"
    },
    {
     "data": {
      "image/png": "[encoded data removed]",
      "text/plain": [
       "plot without title"
      ]
     },
     "metadata": {
      "image/png": {
       "height": 420,
       "width": 420
      }
     },
     "output_type": "display_data"
    }
   ],
   "source": [
    "rld <- rlogTransformation(dds, blind = FALSE)\n",
    "head(assay(rld))\n",
    "hist(assay(rld))\n",
    "PCAA <- plotPCA(rld, intgroup='condition')\n",
    "PCAA + geom_text(aes(label = name),size = 2.5)+ggtitle('PCA Plot')"
   ]
  },
  {
   "cell_type": "markdown",
   "metadata": {},
   "source": [
    "Este heatmap ayuda a visualizar y explorar los patrones de expresión de los genes significativamente diferenciados, permitiendo identificar grupos de genes que pueden estar coexpresados o que presentan patrones de expresión similares bajo diferentes condiciones experimentales. Es una herramienta útil para detectar patrones globales y potencialmente identificar genes o conjuntos de genes que podrían estar relacionados funcionalmente."
   ]
  },
  {
   "cell_type": "code",
   "execution_count": 120,
   "metadata": {
    "vscode": {
     "languageId": "r"
    }
   },
   "outputs": [
    {
     "data": {
      "image/png": "[encoded data removed]",
      "text/plain": [
       "plot without title"
      ]
     },
     "metadata": {
      "image/png": {
       "height": 420,
       "width": 420
      }
     },
     "output_type": "display_data"
    }
   ],
   "source": [
    "#pheatmap\n",
    "signi <- subset(deSeqRes, padj <= 0.05)\n",
    "allSig <- merge(normCount, signi, by = 0)\n",
    "sigCounts <- allSig[,2:7]\n",
    "row.names(sigCounts) <- allSig$Row.names\n",
    "pheatmap(log2(sigCounts + 1), scale = 'row', show_rownames = F, treeheight_row = 0, treeheight_col = 0)\n",
    "\n"
   ]
  }
 ],
 "metadata": {
  "kernelspec": {
   "display_name": "R",
   "language": "R",
   "name": "ir"
  },
  "language_info": {
   "codemirror_mode": "r",
   "file_extension": ".r",
   "mimetype": "text/x-r-source",
   "name": "R",
   "pygments_lexer": "r",
   "version": "4.1.3"
  }
 },
 "nbformat": 4,
 "nbformat_minor": 2
}
